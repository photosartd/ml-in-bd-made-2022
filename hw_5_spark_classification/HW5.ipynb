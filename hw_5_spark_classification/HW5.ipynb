{
 "cells": [
  {
   "cell_type": "code",
   "execution_count": 1,
   "id": "416446e8",
   "metadata": {},
   "outputs": [],
   "source": [
    "import numpy as np\n",
    "import pandas as pd\n",
    "from tqdm import tqdm"
   ]
  },
  {
   "cell_type": "code",
   "execution_count": 2,
   "id": "79657225",
   "metadata": {},
   "outputs": [],
   "source": [
    "from pyspark.sql import SparkSession\n",
    "import pyspark.sql.functions as F\n",
    "from pyspark.sql.types import *"
   ]
  },
  {
   "cell_type": "markdown",
   "id": "17dead95",
   "metadata": {},
   "source": [
    "# 1. Setting PySpark up"
   ]
  },
  {
   "cell_type": "code",
   "execution_count": 3,
   "id": "42ea6318",
   "metadata": {},
   "outputs": [
    {
     "name": "stderr",
     "output_type": "stream",
     "text": [
      "Setting default log level to \"WARN\".\n",
      "To adjust logging level use sc.setLogLevel(newLevel). For SparkR, use setLogLevel(newLevel).\n"
     ]
    },
    {
     "name": "stdout",
     "output_type": "stream",
     "text": [
      "22/12/06 23:35:35 WARN NativeCodeLoader: Unable to load native-hadoop library for your platform... using builtin-java classes where applicable\n"
     ]
    }
   ],
   "source": [
    "spark = SparkSession\\\n",
    "            .builder\\\n",
    "            .appName(\"HW5\")\\\n",
    "            .getOrCreate()"
   ]
  },
  {
   "cell_type": "markdown",
   "id": "94a10741",
   "metadata": {},
   "source": [
    "# 2. Load data"
   ]
  },
  {
   "cell_type": "markdown",
   "id": "3e615114",
   "metadata": {},
   "source": [
    "(Пришлось пошаманить, потому что спарк не хотел нормально открывать .csv с тройными кавычками, pandas такое легко открывает)"
   ]
  },
  {
   "cell_type": "code",
   "execution_count": 4,
   "id": "8202d952",
   "metadata": {},
   "outputs": [],
   "source": [
    "fp = \"./train.csv\"\n",
    "\n",
    "schema = StructType(\n",
    "    [\n",
    "        StructField(\"id\", StringType()),\n",
    "        StructField(\"comment_text\", StringType()),\n",
    "        StructField(\"toxic\", ByteType()),\n",
    "        StructField(\"severe_toxic\", ByteType()),\n",
    "        StructField(\"obscene\", ByteType()),\n",
    "        StructField(\"threat\", ByteType()),\n",
    "        StructField(\"insult\", ByteType()),\n",
    "        StructField(\"identity_hate\", ByteType())\n",
    "    ]\n",
    ")\n",
    "\n",
    "df_train = spark.read.csv(fp, sep=\",\", header=True, quote=\"\\\"\", escape=\"\\\"\",\n",
    "                         schema=schema)"
   ]
  },
  {
   "cell_type": "code",
   "execution_count": 5,
   "id": "df1472a7",
   "metadata": {},
   "outputs": [
    {
     "name": "stdout",
     "output_type": "stream",
     "text": [
      "root\n",
      " |-- id: string (nullable = true)\n",
      " |-- comment_text: string (nullable = true)\n",
      " |-- toxic: byte (nullable = true)\n",
      " |-- severe_toxic: byte (nullable = true)\n",
      " |-- obscene: byte (nullable = true)\n",
      " |-- threat: byte (nullable = true)\n",
      " |-- insult: byte (nullable = true)\n",
      " |-- identity_hate: byte (nullable = true)\n",
      "\n"
     ]
    }
   ],
   "source": [
    "df_train.printSchema()"
   ]
  },
  {
   "cell_type": "code",
   "execution_count": 6,
   "id": "35a0168b",
   "metadata": {},
   "outputs": [
    {
     "name": "stdout",
     "output_type": "stream",
     "text": [
      "+----------------+--------------------+-----+------------+-------+------+------+-------------+\n",
      "|              id|        comment_text|toxic|severe_toxic|obscene|threat|insult|identity_hate|\n",
      "+----------------+--------------------+-----+------------+-------+------+------+-------------+\n",
      "|0000997932d777bf|Explanation Why t...|    0|           0|      0|     0|     0|            0|\n",
      "|000103f0d9cfb60f|D'aww! He matches...|    0|           0|      0|     0|     0|            0|\n",
      "|000113f07ec002fd|Hey man, I'm real...|    0|           0|      0|     0|     0|            0|\n",
      "|0001b41b1c6bb37e|More I can't make...|    0|           0|      0|     0|     0|            0|\n",
      "|0001d958c54c6e35|You, sir, are my ...|    0|           0|      0|     0|     0|            0|\n",
      "|00025465d4725e87|Congratulations f...|    0|           0|      0|     0|     0|            0|\n",
      "|0002bcb3da6cb337|COCKSUCKER BEFORE...|    1|           1|      1|     0|     1|            0|\n",
      "|00031b1e95af7921|Your vandalism to...|    0|           0|      0|     0|     0|            0|\n",
      "|00037261f536c51d|Sorry if the word...|    0|           0|      0|     0|     0|            0|\n",
      "|00040093b2687caa|alignment on this...|    0|           0|      0|     0|     0|            0|\n",
      "+----------------+--------------------+-----+------------+-------+------+------+-------------+\n",
      "only showing top 10 rows\n",
      "\n"
     ]
    }
   ],
   "source": [
    "df_train.show(10)"
   ]
  },
  {
   "cell_type": "code",
   "execution_count": 7,
   "id": "7e4a2097",
   "metadata": {
    "scrolled": true
   },
   "outputs": [
    {
     "data": {
      "text/plain": [
       "159571"
      ]
     },
     "execution_count": 7,
     "metadata": {},
     "output_type": "execute_result"
    }
   ],
   "source": [
    "df_train.count()"
   ]
  },
  {
   "cell_type": "markdown",
   "id": "19299d23",
   "metadata": {},
   "source": [
    "# 3. TF-IDF"
   ]
  },
  {
   "cell_type": "markdown",
   "id": "55a763c2",
   "metadata": {},
   "source": [
    "Подготовим следующий пайплайн:\n",
    "- Tokenizer\n",
    "- StopWordsRemover\n",
    "- HashingTF\n",
    "- IDF"
   ]
  },
  {
   "cell_type": "code",
   "execution_count": 8,
   "id": "659a49f1",
   "metadata": {},
   "outputs": [],
   "source": [
    "df_train = df_train.withColumn(\"comment_text\", F.lower(F.col(\"comment_text\")))\\\n",
    "                    .na.drop()"
   ]
  },
  {
   "cell_type": "code",
   "execution_count": 9,
   "id": "a54d8131",
   "metadata": {},
   "outputs": [
    {
     "name": "stdout",
     "output_type": "stream",
     "text": [
      "root\n",
      " |-- id: string (nullable = true)\n",
      " |-- comment_text: string (nullable = true)\n",
      " |-- toxic: byte (nullable = true)\n",
      " |-- severe_toxic: byte (nullable = true)\n",
      " |-- obscene: byte (nullable = true)\n",
      " |-- threat: byte (nullable = true)\n",
      " |-- insult: byte (nullable = true)\n",
      " |-- identity_hate: byte (nullable = true)\n",
      "\n"
     ]
    }
   ],
   "source": [
    "df_train.printSchema()"
   ]
  },
  {
   "cell_type": "code",
   "execution_count": 10,
   "id": "f8be427f",
   "metadata": {},
   "outputs": [],
   "source": [
    "from pyspark.ml.feature import Tokenizer, StopWordsRemover\n",
    "from pyspark.ml.feature import HashingTF, IDF\n",
    "from pyspark.ml.feature import Word2Vec\n",
    "from pyspark.ml.classification import LogisticRegression\n",
    "from pyspark.ml.evaluation import BinaryClassificationEvaluator\n",
    "from pyspark.ml.tuning import CrossValidator, ParamGridBuilder, CrossValidatorModel\n",
    "from pyspark.ml.pipeline import Pipeline"
   ]
  },
  {
   "cell_type": "code",
   "execution_count": 11,
   "id": "e7c84ab5",
   "metadata": {},
   "outputs": [],
   "source": [
    "def create_pipe(labelCol=\"toxic\"):\n",
    "    tokenizer = Tokenizer(inputCol=\"comment_text\", outputCol=\"tokenized\")\n",
    "    stopwords = StopWordsRemover.loadDefaultStopWords(\"english\")\n",
    "    remover = StopWordsRemover(stopWords=stopwords).setInputCol(\"tokenized\").setOutputCol(\"tok_rem\")\n",
    "    hashing_tf = HashingTF(inputCol=\"tok_rem\", outputCol=\"hashed\")\n",
    "    idf = IDF(inputCol=\"hashed\", outputCol=\"idf\")\n",
    "    lr = LogisticRegression(featuresCol=\"idf\", labelCol=labelCol)\n",
    "    pipe = Pipeline(stages=[tokenizer, remover, hashing_tf, idf, lr])\n",
    "    grid = ParamGridBuilder().addGrid(lr.maxIter, [100])\\\n",
    "                            .addGrid(lr.regParam, [0.01, 0.1, 1.0])\\\n",
    "                            .addGrid(lr.elasticNetParam, [0, 0.1, 1.0])\\\n",
    "                            .addGrid(hashing_tf.numFeatures, [1000, 30000, 100000]).build()\n",
    "    evaluator = BinaryClassificationEvaluator(labelCol=labelCol)\n",
    "    cv = CrossValidator(estimator=pipe, estimatorParamMaps=grid, evaluator=evaluator, parallelism=4)\n",
    "    cvModel = cv.fit(df_train)\n",
    "    return evaluator, pipe, cvModel"
   ]
  },
  {
   "cell_type": "markdown",
   "id": "0c07e7ea",
   "metadata": {},
   "source": [
    "## 3.1. Toxic"
   ]
  },
  {
   "cell_type": "code",
   "execution_count": 14,
   "id": "9cb55e60",
   "metadata": {},
   "outputs": [
    {
     "name": "stdout",
     "output_type": "stream",
     "text": [
      "22/12/06 20:46:48 WARN StopWordsRemover: Default locale set was [en_RU]; however, it was not found in available locales in JVM, falling back to en_US locale. Set param `locale` in order to respect another locale.\n",
      "22/12/06 20:46:48 WARN StopWordsRemover: Default locale set was [en_RU]; however, it was not found in available locales in JVM, falling back to en_US locale. Set param `locale` in order to respect another locale.\n",
      "22/12/06 20:46:48 WARN StopWordsRemover: Default locale set was [en_RU]; however, it was not found in available locales in JVM, falling back to en_US locale. Set param `locale` in order to respect another locale.\n",
      "22/12/06 20:46:48 WARN StopWordsRemover: Default locale set was [en_RU]; however, it was not found in available locales in JVM, falling back to en_US locale. Set param `locale` in order to respect another locale.\n",
      "22/12/06 20:46:48 WARN StopWordsRemover: Default locale set was [en_RU]; however, it was not found in available locales in JVM, falling back to en_US locale. Set param `locale` in order to respect another locale.\n",
      "22/12/06 20:46:48 WARN StopWordsRemover: Default locale set was [en_RU]; however, it was not found in available locales in JVM, falling back to en_US locale. Set param `locale` in order to respect another locale.\n"
     ]
    },
    {
     "name": "stderr",
     "output_type": "stream",
     "text": [
      "                                                                                \r"
     ]
    },
    {
     "name": "stdout",
     "output_type": "stream",
     "text": [
      "22/12/06 20:46:57 WARN DAGScheduler: Broadcasting large task binary with size 3.9 MiB\n"
     ]
    },
    {
     "name": "stderr",
     "output_type": "stream",
     "text": [
      "                                                                                \r"
     ]
    },
    {
     "name": "stdout",
     "output_type": "stream",
     "text": [
      "22/12/06 20:46:58 WARN InstanceBuilder$JavaBLAS: Failed to load implementation from:dev.ludovic.netlib.blas.VectorBLAS\n"
     ]
    },
    {
     "name": "stderr",
     "output_type": "stream",
     "text": [
      "                                                                                \r"
     ]
    },
    {
     "name": "stdout",
     "output_type": "stream",
     "text": [
      "22/12/06 20:47:01 WARN DAGScheduler: Broadcasting large task binary with size 3.9 MiB\n"
     ]
    },
    {
     "name": "stderr",
     "output_type": "stream",
     "text": [
      "[Stage 19:==> (1 + 1) / 2][Stage 20:=>  (2 + 6) / 8][Stage 22:>   (0 + 2) / 8]\r"
     ]
    },
    {
     "name": "stdout",
     "output_type": "stream",
     "text": [
      "22/12/06 20:47:02 WARN InstanceBuilder$NativeBLAS: Failed to load implementation from:dev.ludovic.netlib.blas.JNIBLAS\n",
      "22/12/06 20:47:02 WARN InstanceBuilder$NativeBLAS: Failed to load implementation from:dev.ludovic.netlib.blas.ForeignLinkerBLAS\n"
     ]
    },
    {
     "name": "stderr",
     "output_type": "stream",
     "text": [
      "\r",
      "                                                                                \r"
     ]
    },
    {
     "name": "stdout",
     "output_type": "stream",
     "text": [
      "22/12/06 20:47:02 WARN DAGScheduler: Broadcasting large task binary with size 3.9 MiB\n"
     ]
    },
    {
     "name": "stderr",
     "output_type": "stream",
     "text": [
      "                                                                                \r"
     ]
    },
    {
     "name": "stdout",
     "output_type": "stream",
     "text": [
      "22/12/06 20:47:03 WARN BLAS: Failed to load implementation from: com.github.fommil.netlib.NativeSystemBLAS\n",
      "22/12/06 20:47:03 WARN BLAS: Failed to load implementation from: com.github.fommil.netlib.NativeRefBLAS\n"
     ]
    },
    {
     "name": "stderr",
     "output_type": "stream",
     "text": [
      "                                                                                \r"
     ]
    },
    {
     "name": "stdout",
     "output_type": "stream",
     "text": [
      "22/12/06 20:47:07 WARN DAGScheduler: Broadcasting large task binary with size 3.9 MiB\n",
      "22/12/06 20:47:07 WARN DAGScheduler: Broadcasting large task binary with size 3.9 MiB\n",
      "22/12/06 20:47:07 WARN DAGScheduler: Broadcasting large task binary with size 3.9 MiB\n",
      "22/12/06 20:47:07 WARN DAGScheduler: Broadcasting large task binary with size 3.9 MiB\n",
      "22/12/06 20:47:07 WARN DAGScheduler: Broadcasting large task binary with size 3.9 MiB\n",
      "22/12/06 20:47:07 WARN DAGScheduler: Broadcasting large task binary with size 3.9 MiB\n",
      "22/12/06 20:47:07 WARN DAGScheduler: Broadcasting large task binary with size 3.9 MiB\n",
      "22/12/06 20:47:08 WARN DAGScheduler: Broadcasting large task binary with size 3.9 MiB\n",
      "22/12/06 20:47:08 WARN DAGScheduler: Broadcasting large task binary with size 3.9 MiB\n",
      "22/12/06 20:47:08 WARN DAGScheduler: Broadcasting large task binary with size 3.9 MiB\n",
      "22/12/06 20:47:08 WARN DAGScheduler: Broadcasting large task binary with size 3.9 MiB\n",
      "22/12/06 20:47:08 WARN DAGScheduler: Broadcasting large task binary with size 3.9 MiB\n",
      "22/12/06 20:47:08 WARN DAGScheduler: Broadcasting large task binary with size 3.9 MiB\n",
      "22/12/06 20:47:08 WARN DAGScheduler: Broadcasting large task binary with size 3.9 MiB\n",
      "22/12/06 20:47:08 WARN DAGScheduler: Broadcasting large task binary with size 3.9 MiB\n",
      "22/12/06 20:47:08 WARN DAGScheduler: Broadcasting large task binary with size 3.9 MiB\n",
      "22/12/06 20:47:08 WARN DAGScheduler: Broadcasting large task binary with size 3.9 MiB\n",
      "22/12/06 20:47:08 WARN DAGScheduler: Broadcasting large task binary with size 3.9 MiB\n",
      "22/12/06 20:47:08 WARN DAGScheduler: Broadcasting large task binary with size 3.9 MiB\n",
      "22/12/06 20:47:09 WARN DAGScheduler: Broadcasting large task binary with size 3.9 MiB\n",
      "22/12/06 20:47:09 WARN DAGScheduler: Broadcasting large task binary with size 3.9 MiB\n",
      "22/12/06 20:47:09 WARN DAGScheduler: Broadcasting large task binary with size 3.9 MiB\n",
      "22/12/06 20:47:09 WARN DAGScheduler: Broadcasting large task binary with size 3.9 MiB\n",
      "22/12/06 20:47:09 WARN DAGScheduler: Broadcasting large task binary with size 3.9 MiB\n",
      "22/12/06 20:47:09 WARN DAGScheduler: Broadcasting large task binary with size 3.9 MiB\n",
      "22/12/06 20:47:09 WARN DAGScheduler: Broadcasting large task binary with size 3.9 MiB\n",
      "22/12/06 20:47:09 WARN DAGScheduler: Broadcasting large task binary with size 3.9 MiB\n",
      "22/12/06 20:47:09 WARN DAGScheduler: Broadcasting large task binary with size 3.9 MiB\n",
      "22/12/06 20:47:09 WARN DAGScheduler: Broadcasting large task binary with size 3.9 MiB\n",
      "22/12/06 20:47:09 WARN DAGScheduler: Broadcasting large task binary with size 3.9 MiB\n",
      "22/12/06 20:47:10 WARN DAGScheduler: Broadcasting large task binary with size 3.9 MiB\n",
      "22/12/06 20:47:10 WARN DAGScheduler: Broadcasting large task binary with size 3.9 MiB\n",
      "22/12/06 20:47:10 WARN DAGScheduler: Broadcasting large task binary with size 3.9 MiB\n",
      "22/12/06 20:47:10 WARN DAGScheduler: Broadcasting large task binary with size 3.9 MiB\n",
      "22/12/06 20:47:10 WARN DAGScheduler: Broadcasting large task binary with size 3.9 MiB\n",
      "22/12/06 20:47:10 WARN DAGScheduler: Broadcasting large task binary with size 3.9 MiB\n",
      "22/12/06 20:47:10 WARN DAGScheduler: Broadcasting large task binary with size 3.9 MiB\n",
      "22/12/06 20:47:10 WARN DAGScheduler: Broadcasting large task binary with size 3.9 MiB\n",
      "22/12/06 20:47:10 WARN DAGScheduler: Broadcasting large task binary with size 3.9 MiB\n",
      "22/12/06 20:47:10 WARN DAGScheduler: Broadcasting large task binary with size 3.9 MiB\n",
      "22/12/06 20:47:10 WARN DAGScheduler: Broadcasting large task binary with size 3.9 MiB\n",
      "22/12/06 20:47:10 WARN DAGScheduler: Broadcasting large task binary with size 3.9 MiB\n",
      "22/12/06 20:47:10 WARN DAGScheduler: Broadcasting large task binary with size 3.9 MiB\n",
      "22/12/06 20:47:11 WARN DAGScheduler: Broadcasting large task binary with size 3.9 MiB\n",
      "22/12/06 20:47:11 WARN DAGScheduler: Broadcasting large task binary with size 3.9 MiB\n",
      "22/12/06 20:47:11 WARN DAGScheduler: Broadcasting large task binary with size 3.9 MiB\n",
      "22/12/06 20:47:11 WARN DAGScheduler: Broadcasting large task binary with size 3.9 MiB\n",
      "22/12/06 20:47:11 WARN StopWordsRemover: Default locale set was [en_RU]; however, it was not found in available locales in JVM, falling back to en_US locale. Set param `locale` in order to respect another locale.\n",
      "22/12/06 20:47:11 WARN DAGScheduler: Broadcasting large task binary with size 3.9 MiB\n",
      "22/12/06 20:47:11 WARN DAGScheduler: Broadcasting large task binary with size 3.9 MiB\n",
      "22/12/06 20:47:11 WARN DAGScheduler: Broadcasting large task binary with size 3.9 MiB\n",
      "22/12/06 20:47:11 WARN DAGScheduler: Broadcasting large task binary with size 3.9 MiB\n",
      "22/12/06 20:47:11 WARN StopWordsRemover: Default locale set was [en_RU]; however, it was not found in available locales in JVM, falling back to en_US locale. Set param `locale` in order to respect another locale.\n",
      "22/12/06 20:47:11 WARN DAGScheduler: Broadcasting large task binary with size 3.9 MiB\n",
      "22/12/06 20:47:11 WARN DAGScheduler: Broadcasting large task binary with size 3.9 MiB\n",
      "22/12/06 20:47:11 WARN DAGScheduler: Broadcasting large task binary with size 3.9 MiB\n"
     ]
    },
    {
     "name": "stderr",
     "output_type": "stream",
     "text": [
      "                                                                                \r"
     ]
    },
    {
     "name": "stdout",
     "output_type": "stream",
     "text": [
      "22/12/06 20:47:13 WARN DAGScheduler: Broadcasting large task binary with size 3.9 MiB\n",
      "22/12/06 20:47:13 WARN DAGScheduler: Broadcasting large task binary with size 3.9 MiB\n",
      "22/12/06 20:47:13 WARN DAGScheduler: Broadcasting large task binary with size 3.9 MiB\n",
      "22/12/06 20:47:14 WARN DAGScheduler: Broadcasting large task binary with size 3.9 MiB\n",
      "22/12/06 20:47:14 WARN DAGScheduler: Broadcasting large task binary with size 3.9 MiB\n",
      "22/12/06 20:47:14 WARN DAGScheduler: Broadcasting large task binary with size 3.9 MiB\n",
      "22/12/06 20:47:14 WARN StopWordsRemover: Default locale set was [en_RU]; however, it was not found in available locales in JVM, falling back to en_US locale. Set param `locale` in order to respect another locale.\n",
      "22/12/06 20:47:14 WARN DAGScheduler: Broadcasting large task binary with size 3.9 MiB\n",
      "22/12/06 20:47:14 WARN DAGScheduler: Broadcasting large task binary with size 3.9 MiB\n",
      "22/12/06 20:47:14 WARN StopWordsRemover: Default locale set was [en_RU]; however, it was not found in available locales in JVM, falling back to en_US locale. Set param `locale` in order to respect another locale.\n",
      "22/12/06 20:47:14 WARN DAGScheduler: Broadcasting large task binary with size 3.9 MiB\n",
      "22/12/06 20:47:14 WARN DAGScheduler: Broadcasting large task binary with size 3.9 MiB\n",
      "22/12/06 20:47:14 WARN DAGScheduler: Broadcasting large task binary with size 3.9 MiB\n",
      "22/12/06 20:47:14 WARN DAGScheduler: Broadcasting large task binary with size 3.9 MiB\n"
     ]
    },
    {
     "name": "stderr",
     "output_type": "stream",
     "text": [
      "                                                                                \r"
     ]
    },
    {
     "name": "stdout",
     "output_type": "stream",
     "text": [
      "22/12/06 20:47:17 WARN DAGScheduler: Broadcasting large task binary with size 3.9 MiB\n",
      "22/12/06 20:47:17 WARN DAGScheduler: Broadcasting large task binary with size 3.9 MiB\n"
     ]
    },
    {
     "name": "stderr",
     "output_type": "stream",
     "text": [
      "                                                                                \r"
     ]
    },
    {
     "name": "stdout",
     "output_type": "stream",
     "text": [
      "22/12/06 20:47:18 WARN DAGScheduler: Broadcasting large task binary with size 3.9 MiB\n",
      "22/12/06 20:47:18 WARN DAGScheduler: Broadcasting large task binary with size 3.9 MiB\n",
      "22/12/06 20:47:18 WARN DAGScheduler: Broadcasting large task binary with size 3.9 MiB\n"
     ]
    },
    {
     "name": "stderr",
     "output_type": "stream",
     "text": [
      "                                                                                \r"
     ]
    },
    {
     "name": "stdout",
     "output_type": "stream",
     "text": [
      "22/12/06 20:47:20 WARN DAGScheduler: Broadcasting large task binary with size 3.9 MiB\n",
      "22/12/06 20:47:20 WARN DAGScheduler: Broadcasting large task binary with size 3.9 MiB\n",
      "22/12/06 20:47:20 WARN DAGScheduler: Broadcasting large task binary with size 3.9 MiB\n"
     ]
    },
    {
     "name": "stderr",
     "output_type": "stream",
     "text": [
      "                                                                                \r"
     ]
    },
    {
     "name": "stdout",
     "output_type": "stream",
     "text": [
      "22/12/06 20:47:21 WARN DAGScheduler: Broadcasting large task binary with size 3.9 MiB\n",
      "22/12/06 20:47:22 WARN DAGScheduler: Broadcasting large task binary with size 3.9 MiB\n",
      "22/12/06 20:47:22 WARN DAGScheduler: Broadcasting large task binary with size 3.9 MiB\n"
     ]
    },
    {
     "name": "stderr",
     "output_type": "stream",
     "text": [
      "                                                                                \r"
     ]
    },
    {
     "name": "stdout",
     "output_type": "stream",
     "text": [
      "22/12/06 20:47:23 WARN DAGScheduler: Broadcasting large task binary with size 3.9 MiB\n",
      "22/12/06 20:47:23 WARN DAGScheduler: Broadcasting large task binary with size 3.9 MiB\n",
      "22/12/06 20:47:23 WARN DAGScheduler: Broadcasting large task binary with size 3.9 MiB\n",
      "22/12/06 20:47:23 WARN DAGScheduler: Broadcasting large task binary with size 3.9 MiB\n",
      "22/12/06 20:47:23 WARN DAGScheduler: Broadcasting large task binary with size 3.9 MiB\n",
      "22/12/06 20:47:23 WARN DAGScheduler: Broadcasting large task binary with size 3.9 MiB\n",
      "22/12/06 20:47:23 WARN DAGScheduler: Broadcasting large task binary with size 3.9 MiB\n",
      "22/12/06 20:47:24 WARN DAGScheduler: Broadcasting large task binary with size 3.9 MiB\n",
      "22/12/06 20:47:24 WARN DAGScheduler: Broadcasting large task binary with size 3.9 MiB\n",
      "22/12/06 20:47:24 WARN DAGScheduler: Broadcasting large task binary with size 3.9 MiB\n",
      "22/12/06 20:47:24 WARN DAGScheduler: Broadcasting large task binary with size 3.9 MiB\n",
      "22/12/06 20:47:24 WARN DAGScheduler: Broadcasting large task binary with size 3.9 MiB\n",
      "22/12/06 20:47:24 WARN DAGScheduler: Broadcasting large task binary with size 3.9 MiB\n",
      "22/12/06 20:47:24 WARN DAGScheduler: Broadcasting large task binary with size 3.9 MiB\n",
      "22/12/06 20:47:24 WARN DAGScheduler: Broadcasting large task binary with size 3.9 MiB\n",
      "22/12/06 20:47:24 WARN DAGScheduler: Broadcasting large task binary with size 3.9 MiB\n",
      "22/12/06 20:47:24 WARN DAGScheduler: Broadcasting large task binary with size 3.9 MiB\n",
      "22/12/06 20:47:24 WARN DAGScheduler: Broadcasting large task binary with size 3.9 MiB\n",
      "22/12/06 20:47:24 WARN DAGScheduler: Broadcasting large task binary with size 3.9 MiB\n",
      "22/12/06 20:47:24 WARN DAGScheduler: Broadcasting large task binary with size 3.9 MiB\n",
      "22/12/06 20:47:24 WARN DAGScheduler: Broadcasting large task binary with size 3.9 MiB\n",
      "22/12/06 20:47:24 WARN DAGScheduler: Broadcasting large task binary with size 3.9 MiB\n",
      "22/12/06 20:47:24 WARN DAGScheduler: Broadcasting large task binary with size 3.9 MiB\n",
      "22/12/06 20:47:25 WARN DAGScheduler: Broadcasting large task binary with size 3.9 MiB\n",
      "22/12/06 20:47:25 WARN DAGScheduler: Broadcasting large task binary with size 3.9 MiB\n",
      "22/12/06 20:47:25 WARN DAGScheduler: Broadcasting large task binary with size 3.9 MiB\n",
      "22/12/06 20:47:25 WARN DAGScheduler: Broadcasting large task binary with size 3.9 MiB\n",
      "22/12/06 20:47:25 WARN DAGScheduler: Broadcasting large task binary with size 3.9 MiB\n",
      "22/12/06 20:47:25 WARN DAGScheduler: Broadcasting large task binary with size 3.9 MiB\n",
      "22/12/06 20:47:25 WARN DAGScheduler: Broadcasting large task binary with size 3.9 MiB\n",
      "22/12/06 20:47:25 WARN DAGScheduler: Broadcasting large task binary with size 3.9 MiB\n",
      "22/12/06 20:47:25 WARN DAGScheduler: Broadcasting large task binary with size 3.9 MiB\n",
      "22/12/06 20:47:25 WARN StopWordsRemover: Default locale set was [en_RU]; however, it was not found in available locales in JVM, falling back to en_US locale. Set param `locale` in order to respect another locale.\n",
      "22/12/06 20:47:25 WARN DAGScheduler: Broadcasting large task binary with size 3.9 MiB\n",
      "22/12/06 20:47:25 WARN DAGScheduler: Broadcasting large task binary with size 3.9 MiB\n",
      "22/12/06 20:47:25 WARN DAGScheduler: Broadcasting large task binary with size 3.9 MiB\n",
      "22/12/06 20:47:25 WARN DAGScheduler: Broadcasting large task binary with size 3.9 MiB\n",
      "22/12/06 20:47:25 WARN DAGScheduler: Broadcasting large task binary with size 3.9 MiB\n",
      "22/12/06 20:47:25 WARN DAGScheduler: Broadcasting large task binary with size 3.9 MiB\n",
      "22/12/06 20:47:26 WARN DAGScheduler: Broadcasting large task binary with size 3.9 MiB\n"
     ]
    },
    {
     "name": "stderr",
     "output_type": "stream",
     "text": [
      "\r",
      "[Stage 562:>                                                        (0 + 8) / 8]\r",
      "\r",
      "                                                                                \r"
     ]
    },
    {
     "name": "stdout",
     "output_type": "stream",
     "text": [
      "22/12/06 20:47:26 WARN DAGScheduler: Broadcasting large task binary with size 3.9 MiB\n",
      "22/12/06 20:47:26 WARN DAGScheduler: Broadcasting large task binary with size 3.9 MiB\n",
      "22/12/06 20:47:26 WARN DAGScheduler: Broadcasting large task binary with size 3.9 MiB\n",
      "22/12/06 20:47:26 WARN DAGScheduler: Broadcasting large task binary with size 3.9 MiB\n",
      "22/12/06 20:47:26 WARN DAGScheduler: Broadcasting large task binary with size 3.9 MiB\n",
      "22/12/06 20:47:27 WARN DAGScheduler: Broadcasting large task binary with size 3.9 MiB\n",
      "22/12/06 20:47:27 WARN StopWordsRemover: Default locale set was [en_RU]; however, it was not found in available locales in JVM, falling back to en_US locale. Set param `locale` in order to respect another locale.\n",
      "22/12/06 20:47:27 WARN DAGScheduler: Broadcasting large task binary with size 3.9 MiB\n",
      "22/12/06 20:47:27 WARN DAGScheduler: Broadcasting large task binary with size 3.9 MiB\n",
      "22/12/06 20:47:27 WARN DAGScheduler: Broadcasting large task binary with size 3.9 MiB\n",
      "22/12/06 20:47:27 WARN DAGScheduler: Broadcasting large task binary with size 3.9 MiB\n",
      "22/12/06 20:47:27 WARN DAGScheduler: Broadcasting large task binary with size 3.9 MiB\n"
     ]
    },
    {
     "name": "stderr",
     "output_type": "stream",
     "text": [
      "\r",
      "[Stage 593:>  (0 + 8) / 8][Stage 595:>  (0 + 0) / 8][Stage 597:>  (0 + 0) / 8]\r",
      "\r",
      "[Stage 593:>  (1 + 7) / 8][Stage 595:>  (1 + 1) / 8][Stage 597:>  (0 + 0) / 8]\r"
     ]
    },
    {
     "name": "stdout",
     "output_type": "stream",
     "text": [
      "22/12/06 20:47:28 WARN DAGScheduler: Broadcasting large task binary with size 3.9 MiB\n"
     ]
    },
    {
     "name": "stderr",
     "output_type": "stream",
     "text": [
      "\r",
      "[Stage 593:>  (1 + 7) / 8][Stage 597:>  (0 + 1) / 8][Stage 599:>  (0 + 0) / 8]\r",
      "\r",
      "                                                                                \r"
     ]
    },
    {
     "name": "stdout",
     "output_type": "stream",
     "text": [
      "22/12/06 20:47:28 WARN DAGScheduler: Broadcasting large task binary with size 3.9 MiB\n",
      "22/12/06 20:47:28 WARN DAGScheduler: Broadcasting large task binary with size 3.9 MiB\n",
      "22/12/06 20:47:28 WARN DAGScheduler: Broadcasting large task binary with size 3.9 MiB\n",
      "22/12/06 20:47:28 WARN DAGScheduler: Broadcasting large task binary with size 3.9 MiB\n"
     ]
    },
    {
     "name": "stderr",
     "output_type": "stream",
     "text": [
      "                                                                                \r"
     ]
    },
    {
     "name": "stdout",
     "output_type": "stream",
     "text": [
      "22/12/06 20:47:29 WARN DAGScheduler: Broadcasting large task binary with size 3.9 MiB\n",
      "22/12/06 20:47:29 WARN DAGScheduler: Broadcasting large task binary with size 3.9 MiB\n",
      "22/12/06 20:47:30 WARN DAGScheduler: Broadcasting large task binary with size 3.9 MiB\n",
      "22/12/06 20:47:30 WARN DAGScheduler: Broadcasting large task binary with size 3.9 MiB\n",
      "22/12/06 20:47:30 WARN DAGScheduler: Broadcasting large task binary with size 3.9 MiB\n",
      "22/12/06 20:47:30 WARN DAGScheduler: Broadcasting large task binary with size 3.9 MiB\n",
      "22/12/06 20:47:30 WARN DAGScheduler: Broadcasting large task binary with size 3.9 MiB\n",
      "22/12/06 20:47:30 WARN DAGScheduler: Broadcasting large task binary with size 3.9 MiB\n",
      "22/12/06 20:47:30 WARN DAGScheduler: Broadcasting large task binary with size 3.9 MiB\n",
      "22/12/06 20:47:30 WARN DAGScheduler: Broadcasting large task binary with size 3.9 MiB\n"
     ]
    },
    {
     "name": "stderr",
     "output_type": "stream",
     "text": [
      "                                                                                \r"
     ]
    },
    {
     "name": "stdout",
     "output_type": "stream",
     "text": [
      "22/12/06 20:47:31 WARN DAGScheduler: Broadcasting large task binary with size 3.9 MiB\n",
      "22/12/06 20:47:31 WARN DAGScheduler: Broadcasting large task binary with size 3.9 MiB\n",
      "22/12/06 20:47:31 WARN DAGScheduler: Broadcasting large task binary with size 3.9 MiB\n",
      "22/12/06 20:47:32 WARN DAGScheduler: Broadcasting large task binary with size 3.9 MiB\n",
      "22/12/06 20:47:32 WARN DAGScheduler: Broadcasting large task binary with size 3.9 MiB\n",
      "22/12/06 20:47:32 WARN DAGScheduler: Broadcasting large task binary with size 3.9 MiB\n",
      "22/12/06 20:47:32 WARN DAGScheduler: Broadcasting large task binary with size 3.9 MiB\n",
      "22/12/06 20:47:32 WARN DAGScheduler: Broadcasting large task binary with size 3.9 MiB\n",
      "22/12/06 20:47:32 WARN DAGScheduler: Broadcasting large task binary with size 3.9 MiB\n",
      "22/12/06 20:47:32 WARN DAGScheduler: Broadcasting large task binary with size 3.9 MiB\n",
      "22/12/06 20:47:32 WARN DAGScheduler: Broadcasting large task binary with size 3.9 MiB\n",
      "22/12/06 20:47:32 WARN DAGScheduler: Broadcasting large task binary with size 3.9 MiB\n",
      "22/12/06 20:47:32 WARN DAGScheduler: Broadcasting large task binary with size 3.9 MiB\n",
      "22/12/06 20:47:32 WARN DAGScheduler: Broadcasting large task binary with size 3.9 MiB\n",
      "22/12/06 20:47:32 WARN DAGScheduler: Broadcasting large task binary with size 3.9 MiB\n",
      "22/12/06 20:47:32 WARN DAGScheduler: Broadcasting large task binary with size 3.9 MiB\n",
      "22/12/06 20:47:32 WARN DAGScheduler: Broadcasting large task binary with size 3.9 MiB\n",
      "22/12/06 20:47:32 WARN DAGScheduler: Broadcasting large task binary with size 3.9 MiB\n",
      "22/12/06 20:47:33 WARN DAGScheduler: Broadcasting large task binary with size 3.9 MiB\n",
      "22/12/06 20:47:33 WARN DAGScheduler: Broadcasting large task binary with size 3.9 MiB\n",
      "22/12/06 20:47:33 WARN DAGScheduler: Broadcasting large task binary with size 3.9 MiB\n",
      "22/12/06 20:47:33 WARN DAGScheduler: Broadcasting large task binary with size 3.9 MiB\n",
      "22/12/06 20:47:33 WARN DAGScheduler: Broadcasting large task binary with size 3.9 MiB\n",
      "22/12/06 20:47:33 WARN DAGScheduler: Broadcasting large task binary with size 3.9 MiB\n",
      "22/12/06 20:47:33 WARN DAGScheduler: Broadcasting large task binary with size 3.9 MiB\n",
      "22/12/06 20:47:33 WARN DAGScheduler: Broadcasting large task binary with size 3.9 MiB\n",
      "22/12/06 20:47:33 WARN DAGScheduler: Broadcasting large task binary with size 3.9 MiB\n",
      "22/12/06 20:47:33 WARN DAGScheduler: Broadcasting large task binary with size 3.9 MiB\n",
      "22/12/06 20:47:33 WARN DAGScheduler: Broadcasting large task binary with size 3.9 MiB\n",
      "22/12/06 20:47:33 WARN DAGScheduler: Broadcasting large task binary with size 3.9 MiB\n",
      "22/12/06 20:47:33 WARN DAGScheduler: Broadcasting large task binary with size 3.9 MiB\n",
      "22/12/06 20:47:33 WARN DAGScheduler: Broadcasting large task binary with size 3.9 MiB\n",
      "22/12/06 20:47:33 WARN DAGScheduler: Broadcasting large task binary with size 3.9 MiB\n",
      "22/12/06 20:47:33 WARN DAGScheduler: Broadcasting large task binary with size 3.9 MiB\n",
      "22/12/06 20:47:34 WARN DAGScheduler: Broadcasting large task binary with size 3.9 MiB\n",
      "22/12/06 20:47:34 WARN DAGScheduler: Broadcasting large task binary with size 3.9 MiB\n",
      "22/12/06 20:47:34 WARN DAGScheduler: Broadcasting large task binary with size 3.9 MiB\n",
      "22/12/06 20:47:34 WARN DAGScheduler: Broadcasting large task binary with size 3.9 MiB\n",
      "22/12/06 20:47:34 WARN DAGScheduler: Broadcasting large task binary with size 3.9 MiB\n",
      "22/12/06 20:47:34 WARN DAGScheduler: Broadcasting large task binary with size 3.9 MiB\n",
      "22/12/06 20:47:34 WARN DAGScheduler: Broadcasting large task binary with size 3.9 MiB\n",
      "22/12/06 20:47:34 WARN DAGScheduler: Broadcasting large task binary with size 3.9 MiB\n",
      "22/12/06 20:47:34 WARN DAGScheduler: Broadcasting large task binary with size 3.9 MiB\n",
      "22/12/06 20:47:34 WARN StopWordsRemover: Default locale set was [en_RU]; however, it was not found in available locales in JVM, falling back to en_US locale. Set param `locale` in order to respect another locale.\n",
      "22/12/06 20:47:34 WARN DAGScheduler: Broadcasting large task binary with size 3.9 MiB\n",
      "22/12/06 20:47:34 WARN DAGScheduler: Broadcasting large task binary with size 3.9 MiB\n",
      "22/12/06 20:47:34 WARN DAGScheduler: Broadcasting large task binary with size 3.9 MiB\n",
      "22/12/06 20:47:34 WARN DAGScheduler: Broadcasting large task binary with size 3.9 MiB\n",
      "22/12/06 20:47:34 WARN DAGScheduler: Broadcasting large task binary with size 3.9 MiB\n",
      "22/12/06 20:47:34 WARN DAGScheduler: Broadcasting large task binary with size 3.9 MiB\n",
      "22/12/06 20:47:34 WARN DAGScheduler: Broadcasting large task binary with size 3.9 MiB\n",
      "22/12/06 20:47:34 WARN DAGScheduler: Broadcasting large task binary with size 3.9 MiB\n",
      "22/12/06 20:47:35 WARN DAGScheduler: Broadcasting large task binary with size 3.9 MiB\n",
      "22/12/06 20:47:35 WARN DAGScheduler: Broadcasting large task binary with size 3.9 MiB\n",
      "22/12/06 20:47:35 WARN DAGScheduler: Broadcasting large task binary with size 3.9 MiB\n",
      "22/12/06 20:47:35 WARN DAGScheduler: Broadcasting large task binary with size 3.9 MiB\n",
      "22/12/06 20:47:35 WARN DAGScheduler: Broadcasting large task binary with size 3.9 MiB\n",
      "22/12/06 20:47:35 WARN DAGScheduler: Broadcasting large task binary with size 3.9 MiB\n",
      "22/12/06 20:47:35 WARN StopWordsRemover: Default locale set was [en_RU]; however, it was not found in available locales in JVM, falling back to en_US locale. Set param `locale` in order to respect another locale.\n",
      "22/12/06 20:47:36 WARN DAGScheduler: Broadcasting large task binary with size 3.9 MiB\n",
      "22/12/06 20:47:36 WARN DAGScheduler: Broadcasting large task binary with size 3.9 MiB\n",
      "22/12/06 20:47:36 WARN DAGScheduler: Broadcasting large task binary with size 3.9 MiB\n",
      "22/12/06 20:47:36 WARN DAGScheduler: Broadcasting large task binary with size 3.9 MiB\n",
      "22/12/06 20:47:36 WARN StopWordsRemover: Default locale set was [en_RU]; however, it was not found in available locales in JVM, falling back to en_US locale. Set param `locale` in order to respect another locale.\n",
      "22/12/06 20:47:36 WARN DAGScheduler: Broadcasting large task binary with size 3.9 MiB\n",
      "22/12/06 20:47:36 WARN DAGScheduler: Broadcasting large task binary with size 3.9 MiB\n",
      "22/12/06 20:47:36 WARN DAGScheduler: Broadcasting large task binary with size 3.9 MiB\n",
      "22/12/06 20:47:37 WARN DAGScheduler: Broadcasting large task binary with size 3.9 MiB\n"
     ]
    },
    {
     "name": "stderr",
     "output_type": "stream",
     "text": [
      "\r",
      "[Stage 812:>                (0 + 8) / 8][Stage 814:>                (0 + 0) / 8]\r",
      "\r",
      "[Stage 812:>  (1 + 7) / 8][Stage 814:>  (1 + 1) / 8][Stage 816:>  (0 + 0) / 8]\r"
     ]
    },
    {
     "name": "stdout",
     "output_type": "stream",
     "text": [
      "22/12/06 20:47:37 WARN DAGScheduler: Broadcasting large task binary with size 3.9 MiB\n"
     ]
    },
    {
     "name": "stderr",
     "output_type": "stream",
     "text": [
      "                                                                                \r"
     ]
    },
    {
     "name": "stdout",
     "output_type": "stream",
     "text": [
      "22/12/06 20:47:37 WARN DAGScheduler: Broadcasting large task binary with size 3.9 MiB\n",
      "22/12/06 20:47:38 WARN DAGScheduler: Broadcasting large task binary with size 3.9 MiB\n",
      "22/12/06 20:47:38 WARN DAGScheduler: Broadcasting large task binary with size 3.9 MiB\n",
      "22/12/06 20:47:38 WARN DAGScheduler: Broadcasting large task binary with size 3.9 MiB\n",
      "22/12/06 20:47:39 WARN DAGScheduler: Broadcasting large task binary with size 3.9 MiB\n"
     ]
    },
    {
     "name": "stderr",
     "output_type": "stream",
     "text": [
      "                                                                                \r"
     ]
    },
    {
     "name": "stdout",
     "output_type": "stream",
     "text": [
      "22/12/06 20:47:39 WARN DAGScheduler: Broadcasting large task binary with size 3.9 MiB\n",
      "22/12/06 20:47:40 WARN DAGScheduler: Broadcasting large task binary with size 3.9 MiB\n",
      "22/12/06 20:47:40 WARN DAGScheduler: Broadcasting large task binary with size 3.9 MiB\n",
      "22/12/06 20:47:40 WARN DAGScheduler: Broadcasting large task binary with size 3.9 MiB\n",
      "22/12/06 20:47:40 WARN DAGScheduler: Broadcasting large task binary with size 3.9 MiB\n",
      "22/12/06 20:47:40 WARN DAGScheduler: Broadcasting large task binary with size 3.9 MiB\n"
     ]
    },
    {
     "name": "stderr",
     "output_type": "stream",
     "text": [
      "\r",
      "[Stage 836:>  (0 + 8) / 8][Stage 838:>  (0 + 0) / 8][Stage 842:>  (0 + 0) / 8]\r",
      "\r",
      "[Stage 836:>  (1 + 7) / 8][Stage 838:=> (5 + 1) / 8][Stage 842:>  (0 + 0) / 8]\r"
     ]
    },
    {
     "name": "stdout",
     "output_type": "stream",
     "text": [
      "22/12/06 20:47:41 WARN DAGScheduler: Broadcasting large task binary with size 3.9 MiB\n",
      "22/12/06 20:47:41 WARN DAGScheduler: Broadcasting large task binary with size 3.9 MiB\n"
     ]
    },
    {
     "name": "stderr",
     "output_type": "stream",
     "text": [
      "\r",
      "                                                                                \r"
     ]
    },
    {
     "name": "stdout",
     "output_type": "stream",
     "text": [
      "22/12/06 20:47:41 WARN StopWordsRemover: Default locale set was [en_RU]; however, it was not found in available locales in JVM, falling back to en_US locale. Set param `locale` in order to respect another locale.\n",
      "22/12/06 20:47:41 WARN DAGScheduler: Broadcasting large task binary with size 3.9 MiB\n",
      "22/12/06 20:47:41 WARN DAGScheduler: Broadcasting large task binary with size 3.9 MiB\n",
      "22/12/06 20:47:42 WARN DAGScheduler: Broadcasting large task binary with size 3.9 MiB\n",
      "22/12/06 20:47:42 WARN DAGScheduler: Broadcasting large task binary with size 3.9 MiB\n"
     ]
    },
    {
     "name": "stderr",
     "output_type": "stream",
     "text": [
      "                                                                                \r"
     ]
    },
    {
     "name": "stdout",
     "output_type": "stream",
     "text": [
      "22/12/06 20:47:43 WARN DAGScheduler: Broadcasting large task binary with size 3.9 MiB\n",
      "22/12/06 20:47:43 WARN DAGScheduler: Broadcasting large task binary with size 3.9 MiB\n",
      "22/12/06 20:47:43 WARN DAGScheduler: Broadcasting large task binary with size 3.9 MiB\n",
      "22/12/06 20:47:43 WARN DAGScheduler: Broadcasting large task binary with size 3.9 MiB\n",
      "22/12/06 20:47:43 WARN DAGScheduler: Broadcasting large task binary with size 3.9 MiB\n",
      "22/12/06 20:47:43 WARN DAGScheduler: Broadcasting large task binary with size 3.9 MiB\n",
      "22/12/06 20:47:43 WARN DAGScheduler: Broadcasting large task binary with size 3.9 MiB\n",
      "22/12/06 20:47:43 WARN DAGScheduler: Broadcasting large task binary with size 3.9 MiB\n",
      "22/12/06 20:47:44 WARN DAGScheduler: Broadcasting large task binary with size 3.9 MiB\n"
     ]
    },
    {
     "name": "stderr",
     "output_type": "stream",
     "text": [
      "                                                                                \r"
     ]
    },
    {
     "name": "stdout",
     "output_type": "stream",
     "text": [
      "22/12/06 20:47:45 WARN DAGScheduler: Broadcasting large task binary with size 3.9 MiB\n",
      "22/12/06 20:47:45 WARN DAGScheduler: Broadcasting large task binary with size 3.9 MiB\n",
      "22/12/06 20:47:45 WARN DAGScheduler: Broadcasting large task binary with size 3.9 MiB\n",
      "22/12/06 20:47:45 WARN DAGScheduler: Broadcasting large task binary with size 3.9 MiB\n",
      "22/12/06 20:47:45 WARN DAGScheduler: Broadcasting large task binary with size 3.9 MiB\n",
      "22/12/06 20:47:45 WARN DAGScheduler: Broadcasting large task binary with size 3.9 MiB\n",
      "22/12/06 20:47:45 WARN DAGScheduler: Broadcasting large task binary with size 3.9 MiB\n",
      "22/12/06 20:47:45 WARN DAGScheduler: Broadcasting large task binary with size 3.9 MiB\n",
      "22/12/06 20:47:45 WARN DAGScheduler: Broadcasting large task binary with size 3.9 MiB\n",
      "22/12/06 20:47:45 WARN DAGScheduler: Broadcasting large task binary with size 3.9 MiB\n"
     ]
    },
    {
     "name": "stderr",
     "output_type": "stream",
     "text": [
      "[Stage 883:>  (1 + 7) / 8][Stage 885:>  (1 + 1) / 8][Stage 887:>  (0 + 0) / 8]\r"
     ]
    },
    {
     "name": "stdout",
     "output_type": "stream",
     "text": [
      "22/12/06 20:47:46 WARN DAGScheduler: Broadcasting large task binary with size 3.9 MiB\n",
      "22/12/06 20:47:46 WARN DAGScheduler: Broadcasting large task binary with size 3.9 MiB\n"
     ]
    },
    {
     "name": "stderr",
     "output_type": "stream",
     "text": [
      "\r",
      "[Stage 883:>  (1 + 7) / 8][Stage 887:>  (1 + 0) / 8][Stage 889:>  (0 + 0) / 8]\r",
      "\r",
      "                                                                                \r"
     ]
    },
    {
     "name": "stdout",
     "output_type": "stream",
     "text": [
      "22/12/06 20:47:47 WARN DAGScheduler: Broadcasting large task binary with size 3.9 MiB\n",
      "22/12/06 20:47:47 WARN DAGScheduler: Broadcasting large task binary with size 3.9 MiB\n",
      "22/12/06 20:47:47 WARN DAGScheduler: Broadcasting large task binary with size 3.9 MiB\n",
      "22/12/06 20:47:47 WARN DAGScheduler: Broadcasting large task binary with size 3.9 MiB\n",
      "22/12/06 20:47:47 WARN DAGScheduler: Broadcasting large task binary with size 3.9 MiB\n",
      "22/12/06 20:47:47 WARN DAGScheduler: Broadcasting large task binary with size 3.9 MiB\n",
      "22/12/06 20:47:47 WARN DAGScheduler: Broadcasting large task binary with size 3.9 MiB\n",
      "22/12/06 20:47:47 WARN DAGScheduler: Broadcasting large task binary with size 3.9 MiB\n",
      "22/12/06 20:47:47 WARN DAGScheduler: Broadcasting large task binary with size 3.9 MiB\n",
      "22/12/06 20:47:47 WARN DAGScheduler: Broadcasting large task binary with size 3.9 MiB\n",
      "22/12/06 20:47:47 WARN DAGScheduler: Broadcasting large task binary with size 3.9 MiB\n",
      "22/12/06 20:47:47 WARN DAGScheduler: Broadcasting large task binary with size 3.9 MiB\n",
      "22/12/06 20:47:47 WARN DAGScheduler: Broadcasting large task binary with size 3.9 MiB\n",
      "22/12/06 20:47:47 WARN DAGScheduler: Broadcasting large task binary with size 3.9 MiB\n",
      "22/12/06 20:47:47 WARN DAGScheduler: Broadcasting large task binary with size 3.9 MiB\n",
      "22/12/06 20:47:47 WARN DAGScheduler: Broadcasting large task binary with size 3.9 MiB\n",
      "22/12/06 20:47:48 WARN DAGScheduler: Broadcasting large task binary with size 3.9 MiB\n",
      "22/12/06 20:47:48 WARN DAGScheduler: Broadcasting large task binary with size 3.9 MiB\n",
      "22/12/06 20:47:48 WARN DAGScheduler: Broadcasting large task binary with size 3.9 MiB\n",
      "22/12/06 20:47:48 WARN DAGScheduler: Broadcasting large task binary with size 3.9 MiB\n",
      "22/12/06 20:47:48 WARN DAGScheduler: Broadcasting large task binary with size 3.9 MiB\n",
      "22/12/06 20:47:48 WARN DAGScheduler: Broadcasting large task binary with size 3.9 MiB\n",
      "22/12/06 20:47:48 WARN DAGScheduler: Broadcasting large task binary with size 3.9 MiB\n",
      "22/12/06 20:47:48 WARN DAGScheduler: Broadcasting large task binary with size 3.9 MiB\n",
      "22/12/06 20:47:48 WARN DAGScheduler: Broadcasting large task binary with size 3.9 MiB\n",
      "22/12/06 20:47:48 WARN DAGScheduler: Broadcasting large task binary with size 3.9 MiB\n",
      "22/12/06 20:47:48 WARN DAGScheduler: Broadcasting large task binary with size 3.9 MiB\n",
      "22/12/06 20:47:48 WARN DAGScheduler: Broadcasting large task binary with size 3.9 MiB\n",
      "22/12/06 20:47:48 WARN DAGScheduler: Broadcasting large task binary with size 3.9 MiB\n",
      "22/12/06 20:47:48 WARN DAGScheduler: Broadcasting large task binary with size 3.9 MiB\n",
      "22/12/06 20:47:48 WARN DAGScheduler: Broadcasting large task binary with size 3.9 MiB\n",
      "22/12/06 20:47:48 WARN DAGScheduler: Broadcasting large task binary with size 3.9 MiB\n",
      "22/12/06 20:47:48 WARN DAGScheduler: Broadcasting large task binary with size 3.9 MiB\n",
      "22/12/06 20:47:48 WARN DAGScheduler: Broadcasting large task binary with size 3.9 MiB\n",
      "22/12/06 20:47:48 WARN DAGScheduler: Broadcasting large task binary with size 3.9 MiB\n",
      "22/12/06 20:47:48 WARN DAGScheduler: Broadcasting large task binary with size 3.9 MiB\n",
      "22/12/06 20:47:48 WARN DAGScheduler: Broadcasting large task binary with size 3.9 MiB\n",
      "22/12/06 20:47:48 WARN DAGScheduler: Broadcasting large task binary with size 3.9 MiB\n",
      "22/12/06 20:47:48 WARN DAGScheduler: Broadcasting large task binary with size 3.9 MiB\n",
      "22/12/06 20:47:49 WARN DAGScheduler: Broadcasting large task binary with size 3.9 MiB\n",
      "22/12/06 20:47:49 WARN DAGScheduler: Broadcasting large task binary with size 3.9 MiB\n",
      "22/12/06 20:47:49 WARN DAGScheduler: Broadcasting large task binary with size 3.9 MiB\n",
      "22/12/06 20:47:49 WARN DAGScheduler: Broadcasting large task binary with size 3.9 MiB\n",
      "22/12/06 20:47:49 WARN DAGScheduler: Broadcasting large task binary with size 3.9 MiB\n",
      "22/12/06 20:47:49 WARN DAGScheduler: Broadcasting large task binary with size 3.9 MiB\n",
      "22/12/06 20:47:49 WARN DAGScheduler: Broadcasting large task binary with size 3.9 MiB\n",
      "22/12/06 20:47:49 WARN DAGScheduler: Broadcasting large task binary with size 3.9 MiB\n",
      "22/12/06 20:47:49 WARN DAGScheduler: Broadcasting large task binary with size 3.9 MiB\n",
      "22/12/06 20:47:49 WARN DAGScheduler: Broadcasting large task binary with size 3.9 MiB\n",
      "22/12/06 20:47:49 WARN DAGScheduler: Broadcasting large task binary with size 3.9 MiB\n",
      "22/12/06 20:47:49 WARN DAGScheduler: Broadcasting large task binary with size 3.9 MiB\n",
      "22/12/06 20:47:49 WARN DAGScheduler: Broadcasting large task binary with size 3.9 MiB\n",
      "22/12/06 20:47:49 WARN StopWordsRemover: Default locale set was [en_RU]; however, it was not found in available locales in JVM, falling back to en_US locale. Set param `locale` in order to respect another locale.\n",
      "22/12/06 20:47:49 WARN DAGScheduler: Broadcasting large task binary with size 3.9 MiB\n",
      "22/12/06 20:47:49 WARN DAGScheduler: Broadcasting large task binary with size 3.9 MiB\n",
      "22/12/06 20:47:49 WARN DAGScheduler: Broadcasting large task binary with size 3.9 MiB\n",
      "22/12/06 20:47:50 WARN DAGScheduler: Broadcasting large task binary with size 5.8 MiB\n",
      "22/12/06 20:47:50 WARN DAGScheduler: Broadcasting large task binary with size 3.9 MiB\n",
      "22/12/06 20:47:50 WARN DAGScheduler: Broadcasting large task binary with size 3.9 MiB\n"
     ]
    },
    {
     "name": "stderr",
     "output_type": "stream",
     "text": [
      "\r",
      "[Stage 991:=======>                                                 (1 + 7) / 8]\r",
      "\r",
      "                                                                                \r"
     ]
    },
    {
     "name": "stdout",
     "output_type": "stream",
     "text": [
      "22/12/06 20:47:51 WARN DAGScheduler: Broadcasting large task binary with size 3.9 MiB\n",
      "22/12/06 20:47:51 WARN DAGScheduler: Broadcasting large task binary with size 3.9 MiB\n",
      "22/12/06 20:47:51 WARN StopWordsRemover: Default locale set was [en_RU]; however, it was not found in available locales in JVM, falling back to en_US locale. Set param `locale` in order to respect another locale.\n",
      "22/12/06 20:47:51 WARN DAGScheduler: Broadcasting large task binary with size 3.9 MiB\n",
      "22/12/06 20:47:51 WARN DAGScheduler: Broadcasting large task binary with size 3.9 MiB\n",
      "22/12/06 20:47:51 WARN DAGScheduler: Broadcasting large task binary with size 3.9 MiB\n"
     ]
    },
    {
     "name": "stderr",
     "output_type": "stream",
     "text": [
      "                                                                                \r"
     ]
    },
    {
     "name": "stdout",
     "output_type": "stream",
     "text": [
      "22/12/06 20:47:52 WARN DAGScheduler: Broadcasting large task binary with size 3.9 MiB\n",
      "22/12/06 20:47:52 WARN DAGScheduler: Broadcasting large task binary with size 3.9 MiB\n",
      "22/12/06 20:47:53 WARN StopWordsRemover: Default locale set was [en_RU]; however, it was not found in available locales in JVM, falling back to en_US locale. Set param `locale` in order to respect another locale.\n",
      "22/12/06 20:47:53 WARN DAGScheduler: Broadcasting large task binary with size 3.9 MiB\n",
      "22/12/06 20:47:53 WARN DAGScheduler: Broadcasting large task binary with size 3.9 MiB\n",
      "22/12/06 20:47:53 WARN DAGScheduler: Broadcasting large task binary with size 3.9 MiB\n"
     ]
    },
    {
     "name": "stderr",
     "output_type": "stream",
     "text": [
      "[Stage 1030:> (1 + 7) / 8][Stage 1032:=>(4 + 1) / 8][Stage 1034:> (0 + 0) / 8]8]\r"
     ]
    },
    {
     "name": "stdout",
     "output_type": "stream",
     "text": [
      "22/12/06 20:47:54 WARN DAGScheduler: Broadcasting large task binary with size 3.9 MiB\n"
     ]
    },
    {
     "name": "stderr",
     "output_type": "stream",
     "text": [
      "\r",
      "[Stage 1030:> (1 + 7) / 8][Stage 1034:> (0 + 1) / 8][Stage 1036:> (0 + 0) / 8]\r",
      "\r",
      "[Stage 1030:=>(7 + 1) / 8][Stage 1034:> (0 + 7) / 8][Stage 1036:> (0 + 0) / 8]\r",
      "\r",
      "                                                                                \r"
     ]
    },
    {
     "name": "stdout",
     "output_type": "stream",
     "text": [
      "22/12/06 20:47:55 WARN DAGScheduler: Broadcasting large task binary with size 3.9 MiB\n",
      "22/12/06 20:47:55 WARN DAGScheduler: Broadcasting large task binary with size 3.9 MiB\n",
      "22/12/06 20:47:56 WARN DAGScheduler: Broadcasting large task binary with size 3.9 MiB\n"
     ]
    },
    {
     "name": "stderr",
     "output_type": "stream",
     "text": [
      "                                                                                \r"
     ]
    },
    {
     "name": "stdout",
     "output_type": "stream",
     "text": [
      "22/12/06 20:47:56 WARN DAGScheduler: Broadcasting large task binary with size 3.9 MiB\n",
      "22/12/06 20:47:57 WARN DAGScheduler: Broadcasting large task binary with size 3.9 MiB\n",
      "22/12/06 20:47:57 WARN StopWordsRemover: Default locale set was [en_RU]; however, it was not found in available locales in JVM, falling back to en_US locale. Set param `locale` in order to respect another locale.\n",
      "22/12/06 20:47:57 WARN DAGScheduler: Broadcasting large task binary with size 3.9 MiB\n",
      "22/12/06 20:47:57 WARN DAGScheduler: Broadcasting large task binary with size 3.9 MiB\n",
      "22/12/06 20:47:57 WARN DAGScheduler: Broadcasting large task binary with size 3.9 MiB\n",
      "22/12/06 20:47:57 WARN DAGScheduler: Broadcasting large task binary with size 3.9 MiB\n",
      "22/12/06 20:47:57 WARN DAGScheduler: Broadcasting large task binary with size 3.9 MiB\n",
      "22/12/06 20:47:58 WARN DAGScheduler: Broadcasting large task binary with size 3.9 MiB\n"
     ]
    },
    {
     "name": "stderr",
     "output_type": "stream",
     "text": [
      "                                                                                \r"
     ]
    },
    {
     "name": "stdout",
     "output_type": "stream",
     "text": [
      "22/12/06 20:47:58 WARN DAGScheduler: Broadcasting large task binary with size 3.9 MiB\n",
      "22/12/06 20:47:59 WARN DAGScheduler: Broadcasting large task binary with size 3.9 MiB\n",
      "22/12/06 20:47:59 WARN DAGScheduler: Broadcasting large task binary with size 3.9 MiB\n",
      "22/12/06 20:47:59 WARN DAGScheduler: Broadcasting large task binary with size 3.9 MiB\n"
     ]
    },
    {
     "name": "stderr",
     "output_type": "stream",
     "text": [
      "                                                                                \r"
     ]
    },
    {
     "name": "stdout",
     "output_type": "stream",
     "text": [
      "22/12/06 20:48:00 WARN DAGScheduler: Broadcasting large task binary with size 3.9 MiB\n",
      "22/12/06 20:48:00 WARN DAGScheduler: Broadcasting large task binary with size 3.9 MiB\n",
      "22/12/06 20:48:01 WARN DAGScheduler: Broadcasting large task binary with size 3.9 MiB\n",
      "22/12/06 20:48:01 WARN DAGScheduler: Broadcasting large task binary with size 3.9 MiB\n"
     ]
    },
    {
     "name": "stderr",
     "output_type": "stream",
     "text": [
      "                                                                                \r"
     ]
    },
    {
     "name": "stdout",
     "output_type": "stream",
     "text": [
      "22/12/06 20:48:02 WARN DAGScheduler: Broadcasting large task binary with size 3.9 MiB\n",
      "22/12/06 20:48:02 WARN DAGScheduler: Broadcasting large task binary with size 3.9 MiB\n",
      "22/12/06 20:48:02 WARN DAGScheduler: Broadcasting large task binary with size 3.9 MiB\n",
      "22/12/06 20:48:02 WARN DAGScheduler: Broadcasting large task binary with size 3.9 MiB\n",
      "22/12/06 20:48:03 WARN DAGScheduler: Broadcasting large task binary with size 3.9 MiB\n",
      "22/12/06 20:48:03 WARN DAGScheduler: Broadcasting large task binary with size 3.9 MiB\n",
      "22/12/06 20:48:03 WARN DAGScheduler: Broadcasting large task binary with size 3.9 MiB\n",
      "22/12/06 20:48:03 WARN DAGScheduler: Broadcasting large task binary with size 3.9 MiB\n",
      "22/12/06 20:48:03 WARN StopWordsRemover: Default locale set was [en_RU]; however, it was not found in available locales in JVM, falling back to en_US locale. Set param `locale` in order to respect another locale.\n",
      "22/12/06 20:48:03 WARN DAGScheduler: Broadcasting large task binary with size 3.9 MiB\n",
      "22/12/06 20:48:03 WARN DAGScheduler: Broadcasting large task binary with size 3.9 MiB\n",
      "22/12/06 20:48:03 WARN DAGScheduler: Broadcasting large task binary with size 3.9 MiB\n",
      "22/12/06 20:48:04 WARN DAGScheduler: Broadcasting large task binary with size 3.9 MiB\n"
     ]
    },
    {
     "name": "stderr",
     "output_type": "stream",
     "text": [
      "\r",
      "[Stage 1157:> (1 + 7) / 8][Stage 1159:=>(4 + 1) / 8][Stage 1161:> (0 + 0) / 8]\r",
      "\r",
      "                                                                                \r"
     ]
    },
    {
     "name": "stdout",
     "output_type": "stream",
     "text": [
      "22/12/06 20:48:04 WARN DAGScheduler: Broadcasting large task binary with size 3.9 MiB\n",
      "22/12/06 20:48:04 WARN DAGScheduler: Broadcasting large task binary with size 3.9 MiB\n",
      "22/12/06 20:48:04 WARN StopWordsRemover: Default locale set was [en_RU]; however, it was not found in available locales in JVM, falling back to en_US locale. Set param `locale` in order to respect another locale.\n",
      "22/12/06 20:48:05 WARN DAGScheduler: Broadcasting large task binary with size 3.9 MiB\n",
      "22/12/06 20:48:05 WARN DAGScheduler: Broadcasting large task binary with size 3.9 MiB\n",
      "22/12/06 20:48:05 WARN DAGScheduler: Broadcasting large task binary with size 3.9 MiB\n",
      "22/12/06 20:48:05 WARN DAGScheduler: Broadcasting large task binary with size 3.9 MiB\n"
     ]
    },
    {
     "name": "stderr",
     "output_type": "stream",
     "text": [
      "                                                                                \r"
     ]
    },
    {
     "name": "stdout",
     "output_type": "stream",
     "text": [
      "22/12/06 20:48:06 WARN DAGScheduler: Broadcasting large task binary with size 3.9 MiB\n",
      "22/12/06 20:48:06 WARN DAGScheduler: Broadcasting large task binary with size 3.9 MiB\n",
      "22/12/06 20:48:06 WARN DAGScheduler: Broadcasting large task binary with size 3.9 MiB\n",
      "22/12/06 20:48:06 WARN DAGScheduler: Broadcasting large task binary with size 3.9 MiB\n",
      "22/12/06 20:48:07 WARN DAGScheduler: Broadcasting large task binary with size 3.9 MiB\n",
      "22/12/06 20:48:07 WARN DAGScheduler: Broadcasting large task binary with size 3.9 MiB\n",
      "22/12/06 20:48:07 WARN DAGScheduler: Broadcasting large task binary with size 3.9 MiB\n"
     ]
    },
    {
     "name": "stderr",
     "output_type": "stream",
     "text": [
      "                                                                                \r"
     ]
    },
    {
     "name": "stdout",
     "output_type": "stream",
     "text": [
      "22/12/06 20:48:08 WARN DAGScheduler: Broadcasting large task binary with size 3.9 MiB\n",
      "22/12/06 20:48:08 WARN DAGScheduler: Broadcasting large task binary with size 3.9 MiB\n",
      "22/12/06 20:48:08 WARN DAGScheduler: Broadcasting large task binary with size 3.9 MiB\n",
      "22/12/06 20:48:08 WARN DAGScheduler: Broadcasting large task binary with size 3.9 MiB\n",
      "22/12/06 20:48:08 WARN DAGScheduler: Broadcasting large task binary with size 3.9 MiB\n",
      "22/12/06 20:48:08 WARN DAGScheduler: Broadcasting large task binary with size 3.9 MiB\n",
      "22/12/06 20:48:09 WARN DAGScheduler: Broadcasting large task binary with size 3.9 MiB\n"
     ]
    },
    {
     "name": "stderr",
     "output_type": "stream",
     "text": [
      "\r",
      "[Stage 1223:>               (0 + 0) / 2][Stage 1224:>               (0 + 8) / 8]\r"
     ]
    },
    {
     "name": "stdout",
     "output_type": "stream",
     "text": [
      "22/12/06 20:48:09 WARN DAGScheduler: Broadcasting large task binary with size 3.9 MiB\n"
     ]
    },
    {
     "name": "stderr",
     "output_type": "stream",
     "text": [
      "\r",
      "[Stage 1223:> (0 + 0) / 2][Stage 1224:> (0 + 8) / 8][Stage 1226:> (0 + 0) / 8]\r",
      "\r",
      "                                                                                \r"
     ]
    },
    {
     "name": "stdout",
     "output_type": "stream",
     "text": [
      "22/12/06 20:48:10 WARN DAGScheduler: Broadcasting large task binary with size 3.9 MiB\n",
      "22/12/06 20:48:10 WARN DAGScheduler: Broadcasting large task binary with size 3.9 MiB\n",
      "22/12/06 20:48:10 WARN DAGScheduler: Broadcasting large task binary with size 3.9 MiB\n",
      "22/12/06 20:48:10 WARN DAGScheduler: Broadcasting large task binary with size 3.9 MiB\n",
      "22/12/06 20:48:10 WARN DAGScheduler: Broadcasting large task binary with size 3.9 MiB\n",
      "22/12/06 20:48:10 WARN DAGScheduler: Broadcasting large task binary with size 3.9 MiB\n",
      "22/12/06 20:48:10 WARN DAGScheduler: Broadcasting large task binary with size 3.9 MiB\n",
      "22/12/06 20:48:10 WARN DAGScheduler: Broadcasting large task binary with size 3.9 MiB\n",
      "22/12/06 20:48:11 WARN DAGScheduler: Broadcasting large task binary with size 3.9 MiB\n",
      "22/12/06 20:48:11 WARN DAGScheduler: Broadcasting large task binary with size 3.9 MiB\n",
      "22/12/06 20:48:11 WARN DAGScheduler: Broadcasting large task binary with size 3.9 MiB\n",
      "22/12/06 20:48:11 WARN DAGScheduler: Broadcasting large task binary with size 3.9 MiB\n",
      "22/12/06 20:48:11 WARN DAGScheduler: Broadcasting large task binary with size 3.9 MiB\n",
      "22/12/06 20:48:11 WARN DAGScheduler: Broadcasting large task binary with size 3.9 MiB\n",
      "22/12/06 20:48:11 WARN DAGScheduler: Broadcasting large task binary with size 3.9 MiB\n",
      "22/12/06 20:48:11 WARN DAGScheduler: Broadcasting large task binary with size 3.9 MiB\n",
      "22/12/06 20:48:11 WARN DAGScheduler: Broadcasting large task binary with size 3.9 MiB\n",
      "22/12/06 20:48:11 WARN DAGScheduler: Broadcasting large task binary with size 3.9 MiB\n",
      "22/12/06 20:48:11 WARN DAGScheduler: Broadcasting large task binary with size 3.9 MiB\n",
      "22/12/06 20:48:11 WARN DAGScheduler: Broadcasting large task binary with size 3.9 MiB\n",
      "22/12/06 20:48:11 WARN DAGScheduler: Broadcasting large task binary with size 3.9 MiB\n",
      "22/12/06 20:48:11 WARN DAGScheduler: Broadcasting large task binary with size 3.9 MiB\n",
      "22/12/06 20:48:11 WARN DAGScheduler: Broadcasting large task binary with size 3.9 MiB\n",
      "22/12/06 20:48:11 WARN DAGScheduler: Broadcasting large task binary with size 3.9 MiB\n",
      "22/12/06 20:48:11 WARN DAGScheduler: Broadcasting large task binary with size 3.9 MiB\n",
      "22/12/06 20:48:11 WARN DAGScheduler: Broadcasting large task binary with size 3.9 MiB\n",
      "22/12/06 20:48:11 WARN DAGScheduler: Broadcasting large task binary with size 3.9 MiB\n",
      "22/12/06 20:48:12 WARN DAGScheduler: Broadcasting large task binary with size 3.9 MiB\n",
      "22/12/06 20:48:12 WARN DAGScheduler: Broadcasting large task binary with size 3.9 MiB\n",
      "22/12/06 20:48:12 WARN StopWordsRemover: Default locale set was [en_RU]; however, it was not found in available locales in JVM, falling back to en_US locale. Set param `locale` in order to respect another locale.\n",
      "22/12/06 20:48:12 WARN DAGScheduler: Broadcasting large task binary with size 3.9 MiB\n",
      "22/12/06 20:48:12 WARN DAGScheduler: Broadcasting large task binary with size 3.9 MiB\n",
      "22/12/06 20:48:12 WARN DAGScheduler: Broadcasting large task binary with size 3.9 MiB\n",
      "22/12/06 20:48:12 WARN DAGScheduler: Broadcasting large task binary with size 3.9 MiB\n",
      "22/12/06 20:48:12 WARN DAGScheduler: Broadcasting large task binary with size 3.9 MiB\n",
      "22/12/06 20:48:12 WARN DAGScheduler: Broadcasting large task binary with size 3.9 MiB\n",
      "22/12/06 20:48:12 WARN DAGScheduler: Broadcasting large task binary with size 3.9 MiB\n",
      "22/12/06 20:48:12 WARN DAGScheduler: Broadcasting large task binary with size 3.9 MiB\n",
      "22/12/06 20:48:12 WARN DAGScheduler: Broadcasting large task binary with size 3.9 MiB\n",
      "22/12/06 20:48:12 WARN DAGScheduler: Broadcasting large task binary with size 3.9 MiB\n",
      "22/12/06 20:48:13 WARN DAGScheduler: Broadcasting large task binary with size 3.9 MiB\n"
     ]
    },
    {
     "name": "stderr",
     "output_type": "stream",
     "text": [
      "\r",
      "[Stage 1296:=======>                                                (1 + 7) / 8]\r",
      "\r",
      "[Stage 1296:===================================>                    (5 + 3) / 8]\r",
      "\r",
      "                                                                                \r"
     ]
    },
    {
     "name": "stdout",
     "output_type": "stream",
     "text": [
      "22/12/06 20:48:13 WARN DAGScheduler: Broadcasting large task binary with size 3.9 MiB\n",
      "22/12/06 20:48:13 WARN DAGScheduler: Broadcasting large task binary with size 3.9 MiB\n",
      "22/12/06 20:48:13 WARN DAGScheduler: Broadcasting large task binary with size 3.9 MiB\n",
      "22/12/06 20:48:13 WARN DAGScheduler: Broadcasting large task binary with size 3.9 MiB\n",
      "22/12/06 20:48:13 WARN DAGScheduler: Broadcasting large task binary with size 3.9 MiB\n",
      "22/12/06 20:48:13 WARN DAGScheduler: Broadcasting large task binary with size 3.9 MiB\n",
      "22/12/06 20:48:13 WARN DAGScheduler: Broadcasting large task binary with size 3.9 MiB\n",
      "22/12/06 20:48:13 WARN StopWordsRemover: Default locale set was [en_RU]; however, it was not found in available locales in JVM, falling back to en_US locale. Set param `locale` in order to respect another locale.\n",
      "22/12/06 20:48:13 WARN DAGScheduler: Broadcasting large task binary with size 3.9 MiB\n",
      "22/12/06 20:48:13 WARN DAGScheduler: Broadcasting large task binary with size 3.9 MiB\n",
      "22/12/06 20:48:13 WARN DAGScheduler: Broadcasting large task binary with size 3.9 MiB\n",
      "22/12/06 20:48:13 WARN DAGScheduler: Broadcasting large task binary with size 3.9 MiB\n",
      "22/12/06 20:48:14 WARN DAGScheduler: Broadcasting large task binary with size 3.9 MiB\n",
      "22/12/06 20:48:14 WARN DAGScheduler: Broadcasting large task binary with size 3.9 MiB\n"
     ]
    },
    {
     "name": "stderr",
     "output_type": "stream",
     "text": [
      "                                                                                \r"
     ]
    },
    {
     "name": "stdout",
     "output_type": "stream",
     "text": [
      "22/12/06 20:48:14 WARN DAGScheduler: Broadcasting large task binary with size 3.9 MiB\n",
      "22/12/06 20:48:15 WARN DAGScheduler: Broadcasting large task binary with size 3.9 MiB\n",
      "22/12/06 20:48:15 WARN DAGScheduler: Broadcasting large task binary with size 3.9 MiB\n",
      "22/12/06 20:48:15 WARN DAGScheduler: Broadcasting large task binary with size 3.9 MiB\n",
      "22/12/06 20:48:15 WARN DAGScheduler: Broadcasting large task binary with size 3.9 MiB\n",
      "22/12/06 20:48:15 WARN DAGScheduler: Broadcasting large task binary with size 3.9 MiB\n",
      "22/12/06 20:48:15 WARN DAGScheduler: Broadcasting large task binary with size 3.9 MiB\n",
      "22/12/06 20:48:15 WARN DAGScheduler: Broadcasting large task binary with size 3.9 MiB\n",
      "22/12/06 20:48:15 WARN DAGScheduler: Broadcasting large task binary with size 3.9 MiB\n",
      "22/12/06 20:48:15 WARN DAGScheduler: Broadcasting large task binary with size 3.9 MiB\n",
      "22/12/06 20:48:15 WARN DAGScheduler: Broadcasting large task binary with size 3.9 MiB\n",
      "22/12/06 20:48:15 WARN DAGScheduler: Broadcasting large task binary with size 3.9 MiB\n",
      "22/12/06 20:48:16 WARN DAGScheduler: Broadcasting large task binary with size 3.9 MiB\n",
      "22/12/06 20:48:16 WARN DAGScheduler: Broadcasting large task binary with size 3.9 MiB\n"
     ]
    },
    {
     "name": "stderr",
     "output_type": "stream",
     "text": [
      "\r",
      "[Stage 1337:>                                                       (0 + 8) / 8]\r"
     ]
    },
    {
     "name": "stdout",
     "output_type": "stream",
     "text": [
      "22/12/06 20:48:16 WARN DAGScheduler: Broadcasting large task binary with size 3.9 MiB\n"
     ]
    },
    {
     "name": "stderr",
     "output_type": "stream",
     "text": [
      "[Stage 1337:> (1 + 7) / 8][Stage 1339:=>(7 + 1) / 8][Stage 1341:> (0 + 0) / 8]8]\r"
     ]
    },
    {
     "name": "stdout",
     "output_type": "stream",
     "text": [
      "22/12/06 20:48:17 WARN DAGScheduler: Broadcasting large task binary with size 3.9 MiB\n",
      "22/12/06 20:48:17 WARN DAGScheduler: Broadcasting large task binary with size 3.9 MiB\n"
     ]
    },
    {
     "name": "stderr",
     "output_type": "stream",
     "text": [
      "\r",
      "                                                                                \r"
     ]
    },
    {
     "name": "stdout",
     "output_type": "stream",
     "text": [
      "22/12/06 20:48:17 WARN DAGScheduler: Broadcasting large task binary with size 3.9 MiB\n",
      "22/12/06 20:48:17 WARN DAGScheduler: Broadcasting large task binary with size 3.9 MiB\n",
      "22/12/06 20:48:17 WARN DAGScheduler: Broadcasting large task binary with size 3.9 MiB\n",
      "22/12/06 20:48:17 WARN DAGScheduler: Broadcasting large task binary with size 3.9 MiB\n",
      "22/12/06 20:48:18 WARN DAGScheduler: Broadcasting large task binary with size 3.9 MiB\n",
      "22/12/06 20:48:18 WARN DAGScheduler: Broadcasting large task binary with size 3.9 MiB\n"
     ]
    },
    {
     "name": "stderr",
     "output_type": "stream",
     "text": [
      "[Stage 1347:> (1 + 7) / 8][Stage 1351:> (1 + 0) / 8][Stage 1353:> (0 + 0) / 8]8]\r"
     ]
    },
    {
     "name": "stdout",
     "output_type": "stream",
     "text": [
      "22/12/06 20:48:18 WARN DAGScheduler: Broadcasting large task binary with size 3.9 MiB\n",
      "22/12/06 20:48:19 WARN DAGScheduler: Broadcasting large task binary with size 3.9 MiB\n"
     ]
    },
    {
     "name": "stderr",
     "output_type": "stream",
     "text": [
      "\r",
      "                                                                                \r"
     ]
    },
    {
     "name": "stdout",
     "output_type": "stream",
     "text": [
      "22/12/06 20:48:19 WARN DAGScheduler: Broadcasting large task binary with size 3.9 MiB\n",
      "22/12/06 20:48:19 WARN DAGScheduler: Broadcasting large task binary with size 3.9 MiB\n",
      "22/12/06 20:48:19 WARN DAGScheduler: Broadcasting large task binary with size 3.9 MiB\n",
      "22/12/06 20:48:19 WARN DAGScheduler: Broadcasting large task binary with size 3.9 MiB\n",
      "22/12/06 20:48:19 WARN DAGScheduler: Broadcasting large task binary with size 3.9 MiB\n",
      "22/12/06 20:48:19 WARN DAGScheduler: Broadcasting large task binary with size 3.9 MiB\n",
      "22/12/06 20:48:19 WARN DAGScheduler: Broadcasting large task binary with size 3.9 MiB\n",
      "22/12/06 20:48:19 WARN DAGScheduler: Broadcasting large task binary with size 3.9 MiB\n",
      "22/12/06 20:48:19 WARN DAGScheduler: Broadcasting large task binary with size 3.9 MiB\n",
      "22/12/06 20:48:19 WARN DAGScheduler: Broadcasting large task binary with size 3.9 MiB\n",
      "22/12/06 20:48:19 WARN DAGScheduler: Broadcasting large task binary with size 3.9 MiB\n",
      "22/12/06 20:48:20 WARN DAGScheduler: Broadcasting large task binary with size 3.9 MiB\n",
      "22/12/06 20:48:20 WARN DAGScheduler: Broadcasting large task binary with size 3.9 MiB\n",
      "22/12/06 20:48:20 WARN DAGScheduler: Broadcasting large task binary with size 3.9 MiB\n",
      "22/12/06 20:48:20 WARN DAGScheduler: Broadcasting large task binary with size 3.9 MiB\n",
      "22/12/06 20:48:20 WARN DAGScheduler: Broadcasting large task binary with size 3.9 MiB\n",
      "22/12/06 20:48:20 WARN DAGScheduler: Broadcasting large task binary with size 3.9 MiB\n",
      "22/12/06 20:48:20 WARN DAGScheduler: Broadcasting large task binary with size 3.9 MiB\n",
      "22/12/06 20:48:20 WARN DAGScheduler: Broadcasting large task binary with size 3.9 MiB\n",
      "22/12/06 20:48:20 WARN DAGScheduler: Broadcasting large task binary with size 3.9 MiB\n",
      "22/12/06 20:48:20 WARN DAGScheduler: Broadcasting large task binary with size 3.9 MiB\n",
      "22/12/06 20:48:20 WARN DAGScheduler: Broadcasting large task binary with size 3.9 MiB\n",
      "22/12/06 20:48:20 WARN DAGScheduler: Broadcasting large task binary with size 3.9 MiB\n",
      "22/12/06 20:48:20 WARN DAGScheduler: Broadcasting large task binary with size 3.9 MiB\n",
      "22/12/06 20:48:20 WARN DAGScheduler: Broadcasting large task binary with size 3.9 MiB\n",
      "22/12/06 20:48:20 WARN DAGScheduler: Broadcasting large task binary with size 3.9 MiB\n",
      "22/12/06 20:48:20 WARN DAGScheduler: Broadcasting large task binary with size 3.9 MiB\n",
      "22/12/06 20:48:20 WARN DAGScheduler: Broadcasting large task binary with size 3.9 MiB\n",
      "22/12/06 20:48:20 WARN DAGScheduler: Broadcasting large task binary with size 3.9 MiB\n",
      "22/12/06 20:48:21 WARN DAGScheduler: Broadcasting large task binary with size 3.9 MiB\n",
      "22/12/06 20:48:21 WARN DAGScheduler: Broadcasting large task binary with size 3.9 MiB\n",
      "22/12/06 20:48:21 WARN DAGScheduler: Broadcasting large task binary with size 3.9 MiB\n",
      "22/12/06 20:48:21 WARN DAGScheduler: Broadcasting large task binary with size 3.9 MiB\n",
      "22/12/06 20:48:21 WARN DAGScheduler: Broadcasting large task binary with size 3.9 MiB\n",
      "22/12/06 20:48:21 WARN DAGScheduler: Broadcasting large task binary with size 3.9 MiB\n",
      "22/12/06 20:48:21 WARN DAGScheduler: Broadcasting large task binary with size 3.9 MiB\n",
      "22/12/06 20:48:21 WARN DAGScheduler: Broadcasting large task binary with size 3.9 MiB\n",
      "22/12/06 20:48:21 WARN DAGScheduler: Broadcasting large task binary with size 3.9 MiB\n",
      "22/12/06 20:48:21 WARN DAGScheduler: Broadcasting large task binary with size 3.9 MiB\n",
      "22/12/06 20:48:21 WARN DAGScheduler: Broadcasting large task binary with size 3.9 MiB\n",
      "22/12/06 20:48:21 WARN DAGScheduler: Broadcasting large task binary with size 3.9 MiB\n",
      "22/12/06 20:48:21 WARN DAGScheduler: Broadcasting large task binary with size 3.9 MiB\n",
      "22/12/06 20:48:21 WARN DAGScheduler: Broadcasting large task binary with size 3.9 MiB\n",
      "22/12/06 20:48:21 WARN DAGScheduler: Broadcasting large task binary with size 3.9 MiB\n",
      "22/12/06 20:48:21 WARN DAGScheduler: Broadcasting large task binary with size 3.9 MiB\n",
      "22/12/06 20:48:21 WARN StopWordsRemover: Default locale set was [en_RU]; however, it was not found in available locales in JVM, falling back to en_US locale. Set param `locale` in order to respect another locale.\n",
      "22/12/06 20:48:21 WARN DAGScheduler: Broadcasting large task binary with size 3.9 MiB\n",
      "22/12/06 20:48:21 WARN DAGScheduler: Broadcasting large task binary with size 3.9 MiB\n",
      "22/12/06 20:48:21 WARN DAGScheduler: Broadcasting large task binary with size 3.9 MiB\n",
      "22/12/06 20:48:22 WARN DAGScheduler: Broadcasting large task binary with size 3.9 MiB\n",
      "22/12/06 20:48:22 WARN DAGScheduler: Broadcasting large task binary with size 3.9 MiB\n",
      "22/12/06 20:48:22 WARN DAGScheduler: Broadcasting large task binary with size 3.9 MiB\n",
      "22/12/06 20:48:22 WARN DAGScheduler: Broadcasting large task binary with size 3.9 MiB\n",
      "22/12/06 20:48:22 WARN DAGScheduler: Broadcasting large task binary with size 3.9 MiB\n",
      "22/12/06 20:48:22 WARN DAGScheduler: Broadcasting large task binary with size 3.9 MiB\n",
      "22/12/06 20:48:22 WARN DAGScheduler: Broadcasting large task binary with size 3.9 MiB\n",
      "22/12/06 20:48:22 WARN DAGScheduler: Broadcasting large task binary with size 3.9 MiB\n",
      "22/12/06 20:48:22 WARN DAGScheduler: Broadcasting large task binary with size 3.9 MiB\n",
      "22/12/06 20:48:22 WARN DAGScheduler: Broadcasting large task binary with size 3.9 MiB\n"
     ]
    },
    {
     "name": "stderr",
     "output_type": "stream",
     "text": [
      "                                                                                \r"
     ]
    },
    {
     "name": "stdout",
     "output_type": "stream",
     "text": [
      "22/12/06 20:48:23 WARN DAGScheduler: Broadcasting large task binary with size 3.9 MiB\n",
      "22/12/06 20:48:23 WARN DAGScheduler: Broadcasting large task binary with size 3.9 MiB\n",
      "22/12/06 20:48:23 WARN DAGScheduler: Broadcasting large task binary with size 3.9 MiB\n",
      "22/12/06 20:48:23 WARN DAGScheduler: Broadcasting large task binary with size 3.9 MiB\n",
      "22/12/06 20:48:23 WARN DAGScheduler: Broadcasting large task binary with size 3.9 MiB\n",
      "22/12/06 20:48:23 WARN DAGScheduler: Broadcasting large task binary with size 3.9 MiB\n",
      "22/12/06 20:48:23 WARN StopWordsRemover: Default locale set was [en_RU]; however, it was not found in available locales in JVM, falling back to en_US locale. Set param `locale` in order to respect another locale.\n",
      "22/12/06 20:48:23 WARN DAGScheduler: Broadcasting large task binary with size 3.9 MiB\n",
      "22/12/06 20:48:23 WARN DAGScheduler: Broadcasting large task binary with size 3.9 MiB\n",
      "22/12/06 20:48:23 WARN DAGScheduler: Broadcasting large task binary with size 3.9 MiB\n",
      "22/12/06 20:48:23 WARN DAGScheduler: Broadcasting large task binary with size 3.9 MiB\n",
      "22/12/06 20:48:23 WARN DAGScheduler: Broadcasting large task binary with size 3.9 MiB\n",
      "22/12/06 20:48:23 WARN DAGScheduler: Broadcasting large task binary with size 3.9 MiB\n",
      "22/12/06 20:48:23 WARN DAGScheduler: Broadcasting large task binary with size 3.9 MiB\n",
      "22/12/06 20:48:24 WARN DAGScheduler: Broadcasting large task binary with size 3.9 MiB\n"
     ]
    },
    {
     "name": "stderr",
     "output_type": "stream",
     "text": [
      "[Stage 1490:> (1 + 7) / 8][Stage 1492:=>(4 + 1) / 8][Stage 1494:> (0 + 0) / 8]\r"
     ]
    },
    {
     "name": "stdout",
     "output_type": "stream",
     "text": [
      "22/12/06 20:48:24 WARN DAGScheduler: Broadcasting large task binary with size 3.9 MiB\n"
     ]
    },
    {
     "name": "stderr",
     "output_type": "stream",
     "text": [
      "\r",
      "[Stage 1490:> (1 + 7) / 8][Stage 1494:> (1 + 1) / 8][Stage 1496:> (0 + 0) / 8]\r",
      "\r",
      "                                                                                \r"
     ]
    },
    {
     "name": "stdout",
     "output_type": "stream",
     "text": [
      "22/12/06 20:48:25 WARN DAGScheduler: Broadcasting large task binary with size 3.9 MiB\n",
      "22/12/06 20:48:25 WARN DAGScheduler: Broadcasting large task binary with size 3.9 MiB\n",
      "22/12/06 20:48:25 WARN DAGScheduler: Broadcasting large task binary with size 3.9 MiB\n",
      "22/12/06 20:48:25 WARN DAGScheduler: Broadcasting large task binary with size 3.9 MiB\n",
      "22/12/06 20:48:25 WARN DAGScheduler: Broadcasting large task binary with size 3.9 MiB\n",
      "22/12/06 20:48:25 WARN DAGScheduler: Broadcasting large task binary with size 3.9 MiB\n",
      "22/12/06 20:48:25 WARN DAGScheduler: Broadcasting large task binary with size 3.9 MiB\n",
      "22/12/06 20:48:26 WARN DAGScheduler: Broadcasting large task binary with size 3.9 MiB\n"
     ]
    },
    {
     "name": "stderr",
     "output_type": "stream",
     "text": [
      "                                                                                \r"
     ]
    },
    {
     "name": "stdout",
     "output_type": "stream",
     "text": [
      "22/12/06 20:48:26 WARN DAGScheduler: Broadcasting large task binary with size 3.9 MiB\n",
      "22/12/06 20:48:26 WARN DAGScheduler: Broadcasting large task binary with size 3.9 MiB\n",
      "22/12/06 20:48:27 WARN DAGScheduler: Broadcasting large task binary with size 3.9 MiB\n",
      "22/12/06 20:48:27 WARN DAGScheduler: Broadcasting large task binary with size 3.9 MiB\n",
      "22/12/06 20:48:27 WARN DAGScheduler: Broadcasting large task binary with size 3.9 MiB\n",
      "22/12/06 20:48:27 WARN DAGScheduler: Broadcasting large task binary with size 3.9 MiB\n",
      "22/12/06 20:48:27 WARN DAGScheduler: Broadcasting large task binary with size 3.9 MiB\n",
      "22/12/06 20:48:27 WARN DAGScheduler: Broadcasting large task binary with size 3.9 MiB\n",
      "22/12/06 20:48:27 WARN DAGScheduler: Broadcasting large task binary with size 3.9 MiB\n",
      "22/12/06 20:48:27 WARN DAGScheduler: Broadcasting large task binary with size 3.9 MiB\n",
      "22/12/06 20:48:28 WARN DAGScheduler: Broadcasting large task binary with size 3.9 MiB\n"
     ]
    },
    {
     "name": "stderr",
     "output_type": "stream",
     "text": [
      "                                                                                \r"
     ]
    },
    {
     "name": "stdout",
     "output_type": "stream",
     "text": [
      "22/12/06 20:48:28 WARN DAGScheduler: Broadcasting large task binary with size 3.9 MiB\n",
      "22/12/06 20:48:29 WARN DAGScheduler: Broadcasting large task binary with size 3.9 MiB\n",
      "22/12/06 20:48:29 WARN DAGScheduler: Broadcasting large task binary with size 3.9 MiB\n",
      "22/12/06 20:48:29 WARN DAGScheduler: Broadcasting large task binary with size 3.9 MiB\n",
      "22/12/06 20:48:29 WARN DAGScheduler: Broadcasting large task binary with size 3.9 MiB\n",
      "22/12/06 20:48:29 WARN DAGScheduler: Broadcasting large task binary with size 3.9 MiB\n",
      "22/12/06 20:48:29 WARN DAGScheduler: Broadcasting large task binary with size 3.9 MiB\n",
      "22/12/06 20:48:29 WARN DAGScheduler: Broadcasting large task binary with size 3.9 MiB\n",
      "22/12/06 20:48:29 WARN DAGScheduler: Broadcasting large task binary with size 3.9 MiB\n",
      "22/12/06 20:48:29 WARN DAGScheduler: Broadcasting large task binary with size 3.9 MiB\n",
      "22/12/06 20:48:29 WARN DAGScheduler: Broadcasting large task binary with size 3.9 MiB\n",
      "22/12/06 20:48:29 WARN DAGScheduler: Broadcasting large task binary with size 3.9 MiB\n",
      "22/12/06 20:48:29 WARN DAGScheduler: Broadcasting large task binary with size 3.9 MiB\n",
      "22/12/06 20:48:29 WARN DAGScheduler: Broadcasting large task binary with size 3.9 MiB\n",
      "22/12/06 20:48:29 WARN DAGScheduler: Broadcasting large task binary with size 3.9 MiB\n",
      "22/12/06 20:48:30 WARN DAGScheduler: Broadcasting large task binary with size 3.9 MiB\n",
      "22/12/06 20:48:30 WARN DAGScheduler: Broadcasting large task binary with size 3.9 MiB\n",
      "22/12/06 20:48:30 WARN DAGScheduler: Broadcasting large task binary with size 3.9 MiB\n",
      "22/12/06 20:48:30 WARN DAGScheduler: Broadcasting large task binary with size 3.9 MiB\n",
      "22/12/06 20:48:30 WARN DAGScheduler: Broadcasting large task binary with size 3.9 MiB\n",
      "22/12/06 20:48:30 WARN DAGScheduler: Broadcasting large task binary with size 3.9 MiB\n",
      "22/12/06 20:48:30 WARN DAGScheduler: Broadcasting large task binary with size 3.9 MiB\n",
      "22/12/06 20:48:30 WARN DAGScheduler: Broadcasting large task binary with size 3.9 MiB\n",
      "22/12/06 20:48:30 WARN DAGScheduler: Broadcasting large task binary with size 3.9 MiB\n",
      "22/12/06 20:48:30 WARN DAGScheduler: Broadcasting large task binary with size 3.9 MiB\n",
      "22/12/06 20:48:30 WARN StopWordsRemover: Default locale set was [en_RU]; however, it was not found in available locales in JVM, falling back to en_US locale. Set param `locale` in order to respect another locale.\n",
      "22/12/06 20:48:30 WARN DAGScheduler: Broadcasting large task binary with size 3.9 MiB\n",
      "22/12/06 20:48:30 WARN DAGScheduler: Broadcasting large task binary with size 3.9 MiB\n",
      "22/12/06 20:48:30 WARN DAGScheduler: Broadcasting large task binary with size 3.9 MiB\n",
      "22/12/06 20:48:30 WARN DAGScheduler: Broadcasting large task binary with size 3.9 MiB\n",
      "22/12/06 20:48:30 WARN DAGScheduler: Broadcasting large task binary with size 3.9 MiB\n",
      "22/12/06 20:48:30 WARN DAGScheduler: Broadcasting large task binary with size 3.9 MiB\n",
      "22/12/06 20:48:30 WARN DAGScheduler: Broadcasting large task binary with size 3.9 MiB\n",
      "22/12/06 20:48:31 WARN DAGScheduler: Broadcasting large task binary with size 3.9 MiB\n",
      "22/12/06 20:48:31 WARN DAGScheduler: Broadcasting large task binary with size 3.9 MiB\n",
      "22/12/06 20:48:31 WARN DAGScheduler: Broadcasting large task binary with size 3.9 MiB\n",
      "22/12/06 20:48:31 WARN DAGScheduler: Broadcasting large task binary with size 3.9 MiB\n"
     ]
    },
    {
     "name": "stderr",
     "output_type": "stream",
     "text": [
      "\r",
      "[Stage 1580:=======>                                                (1 + 7) / 8]\r",
      "\r",
      "                                                                                \r"
     ]
    },
    {
     "name": "stdout",
     "output_type": "stream",
     "text": [
      "22/12/06 20:48:31 WARN DAGScheduler: Broadcasting large task binary with size 3.9 MiB\n",
      "22/12/06 20:48:32 WARN DAGScheduler: Broadcasting large task binary with size 3.9 MiB\n",
      "22/12/06 20:48:32 WARN DAGScheduler: Broadcasting large task binary with size 3.9 MiB\n",
      "22/12/06 20:48:32 WARN DAGScheduler: Broadcasting large task binary with size 3.9 MiB\n",
      "22/12/06 20:48:32 WARN DAGScheduler: Broadcasting large task binary with size 3.9 MiB\n",
      "22/12/06 20:48:32 WARN DAGScheduler: Broadcasting large task binary with size 3.9 MiB\n",
      "22/12/06 20:48:32 WARN StopWordsRemover: Default locale set was [en_RU]; however, it was not found in available locales in JVM, falling back to en_US locale. Set param `locale` in order to respect another locale.\n",
      "22/12/06 20:48:32 WARN DAGScheduler: Broadcasting large task binary with size 3.9 MiB\n",
      "22/12/06 20:48:32 WARN DAGScheduler: Broadcasting large task binary with size 3.9 MiB\n",
      "22/12/06 20:48:32 WARN DAGScheduler: Broadcasting large task binary with size 3.9 MiB\n",
      "22/12/06 20:48:32 WARN StopWordsRemover: Default locale set was [en_RU]; however, it was not found in available locales in JVM, falling back to en_US locale. Set param `locale` in order to respect another locale.\n",
      "22/12/06 20:48:32 WARN DAGScheduler: Broadcasting large task binary with size 3.9 MiB\n"
     ]
    },
    {
     "name": "stderr",
     "output_type": "stream",
     "text": [
      "[Stage 1609:> (1 + 7) / 8][Stage 1611:> (1 + 1) / 8][Stage 1613:> (0 + 0) / 8]8]\r"
     ]
    },
    {
     "name": "stdout",
     "output_type": "stream",
     "text": [
      "22/12/06 20:48:33 WARN DAGScheduler: Broadcasting large task binary with size 3.9 MiB\n",
      "22/12/06 20:48:33 WARN DAGScheduler: Broadcasting large task binary with size 3.9 MiB\n"
     ]
    },
    {
     "name": "stderr",
     "output_type": "stream",
     "text": [
      "\r",
      "[Stage 1609:> (1 + 7) / 8][Stage 1613:> (0 + 1) / 8][Stage 1615:> (0 + 0) / 8]\r",
      "\r",
      "                                                                                \r"
     ]
    },
    {
     "name": "stdout",
     "output_type": "stream",
     "text": [
      "22/12/06 20:48:33 WARN DAGScheduler: Broadcasting large task binary with size 3.9 MiB\n",
      "22/12/06 20:48:34 WARN DAGScheduler: Broadcasting large task binary with size 3.9 MiB\n"
     ]
    },
    {
     "name": "stderr",
     "output_type": "stream",
     "text": [
      "\r",
      "[Stage 1615:>               (0 + 8) / 8][Stage 1617:>               (0 + 0) / 8]\r",
      "\r",
      "                                                                                \r"
     ]
    },
    {
     "name": "stdout",
     "output_type": "stream",
     "text": [
      "22/12/06 20:48:34 WARN DAGScheduler: Broadcasting large task binary with size 3.9 MiB\n",
      "22/12/06 20:48:34 WARN DAGScheduler: Broadcasting large task binary with size 3.9 MiB\n",
      "22/12/06 20:48:34 WARN DAGScheduler: Broadcasting large task binary with size 3.9 MiB\n",
      "22/12/06 20:48:34 WARN DAGScheduler: Broadcasting large task binary with size 3.9 MiB\n",
      "22/12/06 20:48:35 WARN DAGScheduler: Broadcasting large task binary with size 3.9 MiB\n"
     ]
    },
    {
     "name": "stderr",
     "output_type": "stream",
     "text": [
      "                                                                                \r"
     ]
    },
    {
     "name": "stdout",
     "output_type": "stream",
     "text": [
      "22/12/06 20:48:36 WARN DAGScheduler: Broadcasting large task binary with size 3.9 MiB\n",
      "22/12/06 20:48:36 WARN DAGScheduler: Broadcasting large task binary with size 3.9 MiB\n",
      "22/12/06 20:48:36 WARN DAGScheduler: Broadcasting large task binary with size 3.9 MiB\n",
      "22/12/06 20:48:36 WARN DAGScheduler: Broadcasting large task binary with size 3.9 MiB\n",
      "22/12/06 20:48:36 WARN StopWordsRemover: Default locale set was [en_RU]; however, it was not found in available locales in JVM, falling back to en_US locale. Set param `locale` in order to respect another locale.\n",
      "22/12/06 20:48:36 WARN DAGScheduler: Broadcasting large task binary with size 3.9 MiB\n",
      "22/12/06 20:48:36 WARN DAGScheduler: Broadcasting large task binary with size 3.9 MiB\n",
      "22/12/06 20:48:36 WARN DAGScheduler: Broadcasting large task binary with size 3.9 MiB\n",
      "22/12/06 20:48:36 WARN DAGScheduler: Broadcasting large task binary with size 3.9 MiB\n",
      "22/12/06 20:48:36 WARN DAGScheduler: Broadcasting large task binary with size 3.9 MiB\n",
      "22/12/06 20:48:37 WARN DAGScheduler: Broadcasting large task binary with size 3.9 MiB\n"
     ]
    },
    {
     "name": "stderr",
     "output_type": "stream",
     "text": [
      "[Stage 1640:> (1 + 7) / 8][Stage 1644:> (0 + 1) / 8][Stage 1646:> (0 + 0) / 8]\r"
     ]
    },
    {
     "name": "stdout",
     "output_type": "stream",
     "text": [
      "22/12/06 20:48:38 WARN DAGScheduler: Broadcasting large task binary with size 3.9 MiB\n"
     ]
    },
    {
     "name": "stderr",
     "output_type": "stream",
     "text": [
      "\r",
      "[Stage 1640:> (1 + 7) / 8][Stage 1643:> (0 + 0) / 2][Stage 1644:> (0 + 1) / 8]\r",
      "\r",
      "                                                                                \r"
     ]
    },
    {
     "name": "stdout",
     "output_type": "stream",
     "text": [
      "22/12/06 20:48:38 WARN DAGScheduler: Broadcasting large task binary with size 3.9 MiB\n",
      "22/12/06 20:48:38 WARN StopWordsRemover: Default locale set was [en_RU]; however, it was not found in available locales in JVM, falling back to en_US locale. Set param `locale` in order to respect another locale.\n",
      "22/12/06 20:48:38 WARN DAGScheduler: Broadcasting large task binary with size 5.8 MiB\n"
     ]
    },
    {
     "name": "stderr",
     "output_type": "stream",
     "text": [
      "\r",
      "[Stage 1641:> (0 + 0) / 2][Stage 1644:> (0 + 8) / 8][Stage 1646:> (0 + 0) / 8]\r",
      "\r",
      "                                                                                \r"
     ]
    },
    {
     "name": "stdout",
     "output_type": "stream",
     "text": [
      "22/12/06 20:48:39 WARN DAGScheduler: Broadcasting large task binary with size 3.9 MiB\n",
      "22/12/06 20:48:39 WARN DAGScheduler: Broadcasting large task binary with size 3.9 MiB\n"
     ]
    },
    {
     "name": "stderr",
     "output_type": "stream",
     "text": [
      "\r",
      "[Stage 1644:======>         (3 + 5) / 8][Stage 1648:>               (0 + 2) / 8]\r",
      "\r",
      "                                                                                \r"
     ]
    },
    {
     "name": "stdout",
     "output_type": "stream",
     "text": [
      "22/12/06 20:48:40 WARN DAGScheduler: Broadcasting large task binary with size 3.9 MiB\n",
      "22/12/06 20:48:40 WARN DAGScheduler: Broadcasting large task binary with size 3.9 MiB\n",
      "22/12/06 20:48:41 WARN DAGScheduler: Broadcasting large task binary with size 3.9 MiB\n"
     ]
    },
    {
     "name": "stderr",
     "output_type": "stream",
     "text": [
      "                                                                                \r"
     ]
    },
    {
     "name": "stdout",
     "output_type": "stream",
     "text": [
      "22/12/06 20:48:42 WARN DAGScheduler: Broadcasting large task binary with size 3.9 MiB\n",
      "22/12/06 20:48:42 WARN DAGScheduler: Broadcasting large task binary with size 3.9 MiB\n",
      "22/12/06 20:48:42 WARN DAGScheduler: Broadcasting large task binary with size 3.9 MiB\n",
      "22/12/06 20:48:42 WARN DAGScheduler: Broadcasting large task binary with size 3.9 MiB\n",
      "22/12/06 20:48:42 WARN StopWordsRemover: Default locale set was [en_RU]; however, it was not found in available locales in JVM, falling back to en_US locale. Set param `locale` in order to respect another locale.\n",
      "22/12/06 20:48:42 WARN DAGScheduler: Broadcasting large task binary with size 3.9 MiB\n",
      "22/12/06 20:48:42 WARN DAGScheduler: Broadcasting large task binary with size 3.9 MiB\n"
     ]
    },
    {
     "name": "stderr",
     "output_type": "stream",
     "text": [
      "                                                                                \r"
     ]
    },
    {
     "name": "stdout",
     "output_type": "stream",
     "text": [
      "22/12/06 20:48:45 WARN StopWordsRemover: Default locale set was [en_RU]; however, it was not found in available locales in JVM, falling back to en_US locale. Set param `locale` in order to respect another locale.\n",
      "22/12/06 20:48:45 WARN DAGScheduler: Broadcasting large task binary with size 3.9 MiB\n",
      "22/12/06 20:48:45 WARN DAGScheduler: Broadcasting large task binary with size 3.9 MiB\n",
      "22/12/06 20:48:45 WARN DAGScheduler: Broadcasting large task binary with size 3.9 MiB\n",
      "22/12/06 20:48:46 WARN DAGScheduler: Broadcasting large task binary with size 3.9 MiB\n",
      "22/12/06 20:48:46 WARN DAGScheduler: Broadcasting large task binary with size 3.9 MiB\n",
      "22/12/06 20:48:46 WARN DAGScheduler: Broadcasting large task binary with size 3.9 MiB\n"
     ]
    },
    {
     "name": "stderr",
     "output_type": "stream",
     "text": [
      "                                                                                \r"
     ]
    },
    {
     "name": "stdout",
     "output_type": "stream",
     "text": [
      "22/12/06 20:48:48 WARN DAGScheduler: Broadcasting large task binary with size 3.9 MiB\n",
      "22/12/06 20:48:48 WARN DAGScheduler: Broadcasting large task binary with size 3.9 MiB\n",
      "22/12/06 20:48:48 WARN StopWordsRemover: Default locale set was [en_RU]; however, it was not found in available locales in JVM, falling back to en_US locale. Set param `locale` in order to respect another locale.\n",
      "22/12/06 20:48:48 WARN DAGScheduler: Broadcasting large task binary with size 3.9 MiB\n",
      "22/12/06 20:48:48 WARN DAGScheduler: Broadcasting large task binary with size 3.9 MiB\n"
     ]
    },
    {
     "name": "stderr",
     "output_type": "stream",
     "text": [
      "                                                                                \r"
     ]
    },
    {
     "name": "stdout",
     "output_type": "stream",
     "text": [
      "22/12/06 20:48:51 WARN StopWordsRemover: Default locale set was [en_RU]; however, it was not found in available locales in JVM, falling back to en_US locale. Set param `locale` in order to respect another locale.\n",
      "22/12/06 20:48:51 WARN DAGScheduler: Broadcasting large task binary with size 3.9 MiB\n",
      "22/12/06 20:48:51 WARN DAGScheduler: Broadcasting large task binary with size 3.9 MiB\n",
      "22/12/06 20:48:51 WARN DAGScheduler: Broadcasting large task binary with size 3.9 MiB\n",
      "22/12/06 20:48:51 WARN DAGScheduler: Broadcasting large task binary with size 3.9 MiB\n"
     ]
    },
    {
     "name": "stderr",
     "output_type": "stream",
     "text": [
      "                                                                                \r"
     ]
    },
    {
     "name": "stdout",
     "output_type": "stream",
     "text": [
      "22/12/06 20:48:52 WARN DAGScheduler: Broadcasting large task binary with size 3.9 MiB\n",
      "22/12/06 20:48:52 WARN DAGScheduler: Broadcasting large task binary with size 3.9 MiB\n",
      "22/12/06 20:48:52 WARN DAGScheduler: Broadcasting large task binary with size 3.9 MiB\n",
      "22/12/06 20:48:53 WARN DAGScheduler: Broadcasting large task binary with size 3.9 MiB\n",
      "22/12/06 20:48:53 WARN DAGScheduler: Broadcasting large task binary with size 3.9 MiB\n"
     ]
    },
    {
     "name": "stderr",
     "output_type": "stream",
     "text": [
      "                                                                                \r"
     ]
    },
    {
     "name": "stdout",
     "output_type": "stream",
     "text": [
      "22/12/06 20:48:54 WARN DAGScheduler: Broadcasting large task binary with size 3.9 MiB\n",
      "22/12/06 20:48:54 WARN DAGScheduler: Broadcasting large task binary with size 3.9 MiB\n",
      "22/12/06 20:48:54 WARN StopWordsRemover: Default locale set was [en_RU]; however, it was not found in available locales in JVM, falling back to en_US locale. Set param `locale` in order to respect another locale.\n",
      "22/12/06 20:48:54 WARN DAGScheduler: Broadcasting large task binary with size 3.9 MiB\n",
      "22/12/06 20:48:54 WARN DAGScheduler: Broadcasting large task binary with size 3.9 MiB\n",
      "22/12/06 20:48:54 WARN StopWordsRemover: Default locale set was [en_RU]; however, it was not found in available locales in JVM, falling back to en_US locale. Set param `locale` in order to respect another locale.\n",
      "22/12/06 20:48:54 WARN DAGScheduler: Broadcasting large task binary with size 3.9 MiB\n",
      "22/12/06 20:48:55 WARN DAGScheduler: Broadcasting large task binary with size 4.0 MiB\n"
     ]
    },
    {
     "name": "stderr",
     "output_type": "stream",
     "text": [
      "                                                                                \r"
     ]
    },
    {
     "name": "stdout",
     "output_type": "stream",
     "text": [
      "22/12/06 20:48:57 WARN DAGScheduler: Broadcasting large task binary with size 3.9 MiB\n",
      "22/12/06 20:48:57 WARN DAGScheduler: Broadcasting large task binary with size 3.9 MiB\n",
      "22/12/06 20:48:58 WARN DAGScheduler: Broadcasting large task binary with size 3.9 MiB\n"
     ]
    },
    {
     "name": "stderr",
     "output_type": "stream",
     "text": [
      "                                                                                \r"
     ]
    },
    {
     "name": "stdout",
     "output_type": "stream",
     "text": [
      "22/12/06 20:48:58 WARN StopWordsRemover: Default locale set was [en_RU]; however, it was not found in available locales in JVM, falling back to en_US locale. Set param `locale` in order to respect another locale.\n",
      "22/12/06 20:48:58 WARN DAGScheduler: Broadcasting large task binary with size 3.9 MiB\n"
     ]
    },
    {
     "name": "stderr",
     "output_type": "stream",
     "text": [
      "                                                                                \r"
     ]
    },
    {
     "name": "stdout",
     "output_type": "stream",
     "text": [
      "22/12/06 20:49:00 WARN DAGScheduler: Broadcasting large task binary with size 3.9 MiB\n",
      "22/12/06 20:49:00 WARN DAGScheduler: Broadcasting large task binary with size 3.9 MiB\n"
     ]
    },
    {
     "name": "stderr",
     "output_type": "stream",
     "text": [
      "\r",
      "[Stage 1737:>               (0 + 8) / 8][Stage 1740:>               (0 + 0) / 8]\r",
      "\r",
      "                                                                                \r"
     ]
    },
    {
     "name": "stdout",
     "output_type": "stream",
     "text": [
      "22/12/06 20:49:01 WARN DAGScheduler: Broadcasting large task binary with size 3.9 MiB\n",
      "22/12/06 20:49:01 WARN DAGScheduler: Broadcasting large task binary with size 3.9 MiB\n"
     ]
    },
    {
     "name": "stderr",
     "output_type": "stream",
     "text": [
      "                                                                                \r"
     ]
    },
    {
     "name": "stdout",
     "output_type": "stream",
     "text": [
      "22/12/06 20:49:02 WARN DAGScheduler: Broadcasting large task binary with size 3.9 MiB\n",
      "22/12/06 20:49:02 WARN StopWordsRemover: Default locale set was [en_RU]; however, it was not found in available locales in JVM, falling back to en_US locale. Set param `locale` in order to respect another locale.\n",
      "22/12/06 20:49:02 WARN StopWordsRemover: Default locale set was [en_RU]; however, it was not found in available locales in JVM, falling back to en_US locale. Set param `locale` in order to respect another locale.\n",
      "22/12/06 20:49:03 WARN DAGScheduler: Broadcasting large task binary with size 3.9 MiB\n"
     ]
    },
    {
     "name": "stderr",
     "output_type": "stream",
     "text": [
      "                                                                                \r"
     ]
    },
    {
     "name": "stdout",
     "output_type": "stream",
     "text": [
      "22/12/06 20:49:05 WARN DAGScheduler: Broadcasting large task binary with size 3.9 MiB\n",
      "22/12/06 20:49:05 WARN DAGScheduler: Broadcasting large task binary with size 3.9 MiB\n",
      "22/12/06 20:49:06 WARN DAGScheduler: Broadcasting large task binary with size 3.9 MiB\n"
     ]
    },
    {
     "name": "stderr",
     "output_type": "stream",
     "text": [
      "                                                                                \r"
     ]
    },
    {
     "name": "stdout",
     "output_type": "stream",
     "text": [
      "22/12/06 20:49:07 WARN DAGScheduler: Broadcasting large task binary with size 3.9 MiB\n",
      "22/12/06 20:49:07 WARN DAGScheduler: Broadcasting large task binary with size 3.9 MiB\n",
      "22/12/06 20:49:08 WARN DAGScheduler: Broadcasting large task binary with size 3.9 MiB\n"
     ]
    },
    {
     "name": "stderr",
     "output_type": "stream",
     "text": [
      "                                                                                \r"
     ]
    },
    {
     "name": "stdout",
     "output_type": "stream",
     "text": [
      "22/12/06 20:49:09 WARN DAGScheduler: Broadcasting large task binary with size 3.9 MiB\n",
      "22/12/06 20:49:09 WARN DAGScheduler: Broadcasting large task binary with size 3.9 MiB\n",
      "22/12/06 20:49:10 WARN DAGScheduler: Broadcasting large task binary with size 3.9 MiB\n"
     ]
    },
    {
     "name": "stderr",
     "output_type": "stream",
     "text": [
      "                                                                                \r"
     ]
    },
    {
     "name": "stdout",
     "output_type": "stream",
     "text": [
      "22/12/06 20:49:11 WARN DAGScheduler: Broadcasting large task binary with size 3.9 MiB\n",
      "22/12/06 20:49:11 WARN DAGScheduler: Broadcasting large task binary with size 3.9 MiB\n",
      "22/12/06 20:49:11 WARN DAGScheduler: Broadcasting large task binary with size 3.9 MiB\n"
     ]
    },
    {
     "name": "stderr",
     "output_type": "stream",
     "text": [
      "                                                                                \r"
     ]
    },
    {
     "name": "stdout",
     "output_type": "stream",
     "text": [
      "22/12/06 20:49:12 WARN DAGScheduler: Broadcasting large task binary with size 3.9 MiB\n",
      "22/12/06 20:49:12 WARN DAGScheduler: Broadcasting large task binary with size 3.9 MiB\n",
      "22/12/06 20:49:12 WARN DAGScheduler: Broadcasting large task binary with size 3.9 MiB\n",
      "22/12/06 20:49:12 WARN DAGScheduler: Broadcasting large task binary with size 3.9 MiB\n",
      "22/12/06 20:49:12 WARN DAGScheduler: Broadcasting large task binary with size 3.9 MiB\n",
      "22/12/06 20:49:13 WARN DAGScheduler: Broadcasting large task binary with size 3.9 MiB\n",
      "22/12/06 20:49:13 WARN DAGScheduler: Broadcasting large task binary with size 3.9 MiB\n",
      "22/12/06 20:49:13 WARN DAGScheduler: Broadcasting large task binary with size 3.9 MiB\n",
      "22/12/06 20:49:13 WARN DAGScheduler: Broadcasting large task binary with size 3.9 MiB\n",
      "22/12/06 20:49:13 WARN DAGScheduler: Broadcasting large task binary with size 3.9 MiB\n",
      "22/12/06 20:49:13 WARN DAGScheduler: Broadcasting large task binary with size 3.9 MiB\n",
      "22/12/06 20:49:13 WARN DAGScheduler: Broadcasting large task binary with size 3.9 MiB\n",
      "22/12/06 20:49:13 WARN DAGScheduler: Broadcasting large task binary with size 3.9 MiB\n",
      "22/12/06 20:49:13 WARN StopWordsRemover: Default locale set was [en_RU]; however, it was not found in available locales in JVM, falling back to en_US locale. Set param `locale` in order to respect another locale.\n",
      "22/12/06 20:49:13 WARN DAGScheduler: Broadcasting large task binary with size 3.9 MiB\n",
      "22/12/06 20:49:13 WARN DAGScheduler: Broadcasting large task binary with size 3.9 MiB\n",
      "22/12/06 20:49:13 WARN DAGScheduler: Broadcasting large task binary with size 3.9 MiB\n",
      "22/12/06 20:49:13 WARN DAGScheduler: Broadcasting large task binary with size 3.9 MiB\n",
      "22/12/06 20:49:13 WARN DAGScheduler: Broadcasting large task binary with size 3.9 MiB\n",
      "22/12/06 20:49:13 WARN DAGScheduler: Broadcasting large task binary with size 3.9 MiB\n",
      "22/12/06 20:49:13 WARN DAGScheduler: Broadcasting large task binary with size 3.9 MiB\n",
      "22/12/06 20:49:13 WARN DAGScheduler: Broadcasting large task binary with size 3.9 MiB\n",
      "22/12/06 20:49:13 WARN DAGScheduler: Broadcasting large task binary with size 3.9 MiB\n",
      "22/12/06 20:49:14 WARN DAGScheduler: Broadcasting large task binary with size 3.9 MiB\n"
     ]
    },
    {
     "name": "stderr",
     "output_type": "stream",
     "text": [
      "\r",
      "[Stage 1859:==>             (1 + 7) / 8][Stage 1863:>               (0 + 1) / 8]\r",
      "\r",
      "                                                                                \r"
     ]
    },
    {
     "name": "stdout",
     "output_type": "stream",
     "text": [
      "22/12/06 20:49:14 WARN DAGScheduler: Broadcasting large task binary with size 3.9 MiB\n",
      "22/12/06 20:49:14 WARN DAGScheduler: Broadcasting large task binary with size 3.9 MiB\n",
      "22/12/06 20:49:14 WARN DAGScheduler: Broadcasting large task binary with size 3.9 MiB\n",
      "22/12/06 20:49:14 WARN DAGScheduler: Broadcasting large task binary with size 3.9 MiB\n",
      "22/12/06 20:49:15 WARN DAGScheduler: Broadcasting large task binary with size 3.9 MiB\n",
      "22/12/06 20:49:15 WARN DAGScheduler: Broadcasting large task binary with size 3.9 MiB\n",
      "22/12/06 20:49:15 WARN StopWordsRemover: Default locale set was [en_RU]; however, it was not found in available locales in JVM, falling back to en_US locale. Set param `locale` in order to respect another locale.\n",
      "22/12/06 20:49:15 WARN DAGScheduler: Broadcasting large task binary with size 3.9 MiB\n",
      "22/12/06 20:49:15 WARN DAGScheduler: Broadcasting large task binary with size 3.9 MiB\n",
      "22/12/06 20:49:15 WARN DAGScheduler: Broadcasting large task binary with size 3.9 MiB\n",
      "22/12/06 20:49:15 WARN DAGScheduler: Broadcasting large task binary with size 3.9 MiB\n",
      "22/12/06 20:49:15 WARN DAGScheduler: Broadcasting large task binary with size 3.9 MiB\n",
      "22/12/06 20:49:16 WARN DAGScheduler: Broadcasting large task binary with size 3.9 MiB\n"
     ]
    },
    {
     "name": "stderr",
     "output_type": "stream",
     "text": [
      "\r",
      "[Stage 1898:=>(7 + 0) / 8][Stage 1900:> (0 + 8) / 8][Stage 1902:> (0 + 0) / 8]\r"
     ]
    },
    {
     "name": "stdout",
     "output_type": "stream",
     "text": [
      "22/12/06 20:49:16 WARN DAGScheduler: Broadcasting large task binary with size 3.9 MiB\n",
      "22/12/06 20:49:16 WARN DAGScheduler: Broadcasting large task binary with size 3.9 MiB\n"
     ]
    },
    {
     "name": "stderr",
     "output_type": "stream",
     "text": [
      "\r",
      "[Stage 1900:==>             (1 + 7) / 8][Stage 1902:==>             (1 + 0) / 8]\r",
      "\r",
      "                                                                                \r"
     ]
    },
    {
     "name": "stdout",
     "output_type": "stream",
     "text": [
      "22/12/06 20:49:16 WARN StopWordsRemover: Default locale set was [en_RU]; however, it was not found in available locales in JVM, falling back to en_US locale. Set param `locale` in order to respect another locale.\n",
      "22/12/06 20:49:16 WARN DAGScheduler: Broadcasting large task binary with size 3.9 MiB\n",
      "22/12/06 20:49:17 WARN DAGScheduler: Broadcasting large task binary with size 3.9 MiB\n",
      "22/12/06 20:49:17 WARN DAGScheduler: Broadcasting large task binary with size 3.9 MiB\n",
      "22/12/06 20:49:17 WARN DAGScheduler: Broadcasting large task binary with size 3.9 MiB\n",
      "22/12/06 20:49:18 WARN DAGScheduler: Broadcasting large task binary with size 3.9 MiB\n",
      "22/12/06 20:49:18 WARN DAGScheduler: Broadcasting large task binary with size 3.9 MiB\n",
      "22/12/06 20:49:18 WARN DAGScheduler: Broadcasting large task binary with size 3.9 MiB\n",
      "22/12/06 20:49:18 WARN DAGScheduler: Broadcasting large task binary with size 3.9 MiB\n"
     ]
    },
    {
     "name": "stderr",
     "output_type": "stream",
     "text": [
      "                                                                                \r"
     ]
    },
    {
     "name": "stdout",
     "output_type": "stream",
     "text": [
      "22/12/06 20:49:19 WARN DAGScheduler: Broadcasting large task binary with size 3.9 MiB\n",
      "22/12/06 20:49:19 WARN DAGScheduler: Broadcasting large task binary with size 3.9 MiB\n",
      "22/12/06 20:49:19 WARN DAGScheduler: Broadcasting large task binary with size 3.9 MiB\n",
      "22/12/06 20:49:19 WARN DAGScheduler: Broadcasting large task binary with size 3.9 MiB\n",
      "22/12/06 20:49:19 WARN BlockManager: Asked to remove block broadcast_2688, which does not exist\n",
      "22/12/06 20:49:19 WARN DAGScheduler: Broadcasting large task binary with size 3.9 MiB\n",
      "22/12/06 20:49:20 WARN DAGScheduler: Broadcasting large task binary with size 3.9 MiB\n"
     ]
    },
    {
     "name": "stderr",
     "output_type": "stream",
     "text": [
      "                                                                                \r"
     ]
    },
    {
     "name": "stdout",
     "output_type": "stream",
     "text": [
      "22/12/06 20:49:21 WARN StopWordsRemover: Default locale set was [en_RU]; however, it was not found in available locales in JVM, falling back to en_US locale. Set param `locale` in order to respect another locale.\n",
      "22/12/06 20:49:21 WARN DAGScheduler: Broadcasting large task binary with size 3.9 MiB\n",
      "22/12/06 20:49:21 WARN DAGScheduler: Broadcasting large task binary with size 3.9 MiB\n",
      "22/12/06 20:49:21 WARN DAGScheduler: Broadcasting large task binary with size 3.9 MiB\n",
      "22/12/06 20:49:22 WARN DAGScheduler: Broadcasting large task binary with size 3.9 MiB\n"
     ]
    },
    {
     "name": "stderr",
     "output_type": "stream",
     "text": [
      "                                                                                \r"
     ]
    },
    {
     "name": "stdout",
     "output_type": "stream",
     "text": [
      "22/12/06 20:49:22 WARN StopWordsRemover: Default locale set was [en_RU]; however, it was not found in available locales in JVM, falling back to en_US locale. Set param `locale` in order to respect another locale.\n",
      "22/12/06 20:49:22 WARN DAGScheduler: Broadcasting large task binary with size 3.9 MiB\n",
      "22/12/06 20:49:23 WARN DAGScheduler: Broadcasting large task binary with size 3.9 MiB\n",
      "22/12/06 20:49:23 WARN DAGScheduler: Broadcasting large task binary with size 3.9 MiB\n",
      "22/12/06 20:49:24 WARN DAGScheduler: Broadcasting large task binary with size 3.9 MiB\n",
      "22/12/06 20:49:24 WARN DAGScheduler: Broadcasting large task binary with size 3.9 MiB\n",
      "22/12/06 20:49:24 WARN DAGScheduler: Broadcasting large task binary with size 3.9 MiB\n",
      "22/12/06 20:49:24 WARN DAGScheduler: Broadcasting large task binary with size 3.9 MiB\n"
     ]
    },
    {
     "name": "stderr",
     "output_type": "stream",
     "text": [
      "\r",
      "[Stage 1944:> (0 + 0) / 8][Stage 1949:> (0 + 8) / 8][Stage 1951:> (0 + 0) / 8]\r"
     ]
    },
    {
     "name": "stdout",
     "output_type": "stream",
     "text": [
      "22/12/06 20:49:25 WARN DAGScheduler: Broadcasting large task binary with size 3.9 MiB\n"
     ]
    },
    {
     "name": "stderr",
     "output_type": "stream",
     "text": [
      "\r",
      "                                                                                \r"
     ]
    },
    {
     "name": "stdout",
     "output_type": "stream",
     "text": [
      "22/12/06 20:49:25 WARN DAGScheduler: Broadcasting large task binary with size 3.9 MiB\n",
      "22/12/06 20:49:25 WARN DAGScheduler: Broadcasting large task binary with size 3.9 MiB\n",
      "22/12/06 20:49:26 WARN DAGScheduler: Broadcasting large task binary with size 3.9 MiB\n",
      "22/12/06 20:49:26 WARN DAGScheduler: Broadcasting large task binary with size 3.9 MiB\n",
      "22/12/06 20:49:26 WARN StopWordsRemover: Default locale set was [en_RU]; however, it was not found in available locales in JVM, falling back to en_US locale. Set param `locale` in order to respect another locale.\n",
      "22/12/06 20:49:26 WARN DAGScheduler: Broadcasting large task binary with size 3.9 MiB\n",
      "22/12/06 20:49:26 WARN DAGScheduler: Broadcasting large task binary with size 3.9 MiB\n"
     ]
    },
    {
     "name": "stderr",
     "output_type": "stream",
     "text": [
      "[Stage 1966:> (1 + 7) / 8][Stage 1968:=>(6 + 1) / 8][Stage 1970:> (0 + 0) / 8]8]\r"
     ]
    },
    {
     "name": "stdout",
     "output_type": "stream",
     "text": [
      "22/12/06 20:49:27 WARN DAGScheduler: Broadcasting large task binary with size 3.9 MiB\n"
     ]
    },
    {
     "name": "stderr",
     "output_type": "stream",
     "text": [
      "\r",
      "[Stage 1966:> (1 + 7) / 8][Stage 1970:> (0 + 1) / 8][Stage 1972:> (0 + 0) / 8]\r",
      "\r",
      "                                                                                \r"
     ]
    },
    {
     "name": "stdout",
     "output_type": "stream",
     "text": [
      "22/12/06 20:49:28 WARN DAGScheduler: Broadcasting large task binary with size 3.9 MiB\n"
     ]
    },
    {
     "name": "stderr",
     "output_type": "stream",
     "text": [
      "                                                                                \r"
     ]
    },
    {
     "name": "stdout",
     "output_type": "stream",
     "text": [
      "22/12/06 20:49:29 WARN StopWordsRemover: Default locale set was [en_RU]; however, it was not found in available locales in JVM, falling back to en_US locale. Set param `locale` in order to respect another locale.\n",
      "22/12/06 20:49:29 WARN DAGScheduler: Broadcasting large task binary with size 3.9 MiB\n",
      "22/12/06 20:49:29 WARN DAGScheduler: Broadcasting large task binary with size 3.9 MiB\n",
      "22/12/06 20:49:29 WARN DAGScheduler: Broadcasting large task binary with size 3.9 MiB\n",
      "22/12/06 20:49:29 WARN DAGScheduler: Broadcasting large task binary with size 3.9 MiB\n"
     ]
    },
    {
     "name": "stderr",
     "output_type": "stream",
     "text": [
      "\r",
      "[Stage 1971:> (0 + 2) / 2][Stage 1976:> (3 + 5) / 8][Stage 1978:> (2 + 3) / 8]\r",
      "\r",
      "                                                                                \r"
     ]
    },
    {
     "name": "stdout",
     "output_type": "stream",
     "text": [
      "22/12/06 20:49:30 WARN DAGScheduler: Broadcasting large task binary with size 3.9 MiB\n",
      "22/12/06 20:49:30 WARN DAGScheduler: Broadcasting large task binary with size 3.9 MiB\n",
      "22/12/06 20:49:30 WARN DAGScheduler: Broadcasting large task binary with size 3.9 MiB\n",
      "22/12/06 20:49:30 WARN DAGScheduler: Broadcasting large task binary with size 3.9 MiB\n",
      "22/12/06 20:49:30 WARN DAGScheduler: Broadcasting large task binary with size 3.9 MiB\n",
      "22/12/06 20:49:30 WARN DAGScheduler: Broadcasting large task binary with size 3.9 MiB\n",
      "22/12/06 20:49:31 WARN DAGScheduler: Broadcasting large task binary with size 3.9 MiB\n"
     ]
    },
    {
     "name": "stderr",
     "output_type": "stream",
     "text": [
      "                                                                                \r"
     ]
    },
    {
     "name": "stdout",
     "output_type": "stream",
     "text": [
      "22/12/06 20:49:31 WARN DAGScheduler: Broadcasting large task binary with size 3.9 MiB\n",
      "22/12/06 20:49:32 WARN DAGScheduler: Broadcasting large task binary with size 3.9 MiB\n",
      "22/12/06 20:49:32 WARN DAGScheduler: Broadcasting large task binary with size 3.9 MiB\n",
      "22/12/06 20:49:32 WARN DAGScheduler: Broadcasting large task binary with size 3.9 MiB\n",
      "22/12/06 20:49:32 WARN DAGScheduler: Broadcasting large task binary with size 3.9 MiB\n",
      "22/12/06 20:49:32 WARN StopWordsRemover: Default locale set was [en_RU]; however, it was not found in available locales in JVM, falling back to en_US locale. Set param `locale` in order to respect another locale.\n",
      "22/12/06 20:49:32 WARN DAGScheduler: Broadcasting large task binary with size 3.9 MiB\n",
      "22/12/06 20:49:32 WARN DAGScheduler: Broadcasting large task binary with size 3.9 MiB\n",
      "22/12/06 20:49:32 WARN DAGScheduler: Broadcasting large task binary with size 3.9 MiB\n",
      "22/12/06 20:49:32 WARN DAGScheduler: Broadcasting large task binary with size 3.9 MiB\n",
      "22/12/06 20:49:33 WARN StopWordsRemover: Default locale set was [en_RU]; however, it was not found in available locales in JVM, falling back to en_US locale. Set param `locale` in order to respect another locale.\n",
      "22/12/06 20:49:33 WARN DAGScheduler: Broadcasting large task binary with size 3.9 MiB\n"
     ]
    },
    {
     "name": "stderr",
     "output_type": "stream",
     "text": [
      "[Stage 2003:> (1 + 7) / 8][Stage 2005:=>(5 + 1) / 8][Stage 2007:> (0 + 0) / 8]8]\r"
     ]
    },
    {
     "name": "stdout",
     "output_type": "stream",
     "text": [
      "22/12/06 20:49:33 WARN DAGScheduler: Broadcasting large task binary with size 3.9 MiB\n"
     ]
    },
    {
     "name": "stderr",
     "output_type": "stream",
     "text": [
      "                                                                                \r"
     ]
    },
    {
     "name": "stdout",
     "output_type": "stream",
     "text": [
      "22/12/06 20:49:34 WARN DAGScheduler: Broadcasting large task binary with size 3.9 MiB\n",
      "22/12/06 20:49:34 WARN DAGScheduler: Broadcasting large task binary with size 3.9 MiB\n"
     ]
    },
    {
     "name": "stderr",
     "output_type": "stream",
     "text": [
      "                                                                                \r"
     ]
    },
    {
     "name": "stdout",
     "output_type": "stream",
     "text": [
      "22/12/06 20:49:35 WARN StopWordsRemover: Default locale set was [en_RU]; however, it was not found in available locales in JVM, falling back to en_US locale. Set param `locale` in order to respect another locale.\n",
      "22/12/06 20:49:35 WARN DAGScheduler: Broadcasting large task binary with size 3.9 MiB\n"
     ]
    },
    {
     "name": "stderr",
     "output_type": "stream",
     "text": [
      "                                                                                \r"
     ]
    },
    {
     "name": "stdout",
     "output_type": "stream",
     "text": [
      "22/12/06 20:49:36 WARN DAGScheduler: Broadcasting large task binary with size 3.9 MiB\n",
      "22/12/06 20:49:36 WARN DAGScheduler: Broadcasting large task binary with size 3.9 MiB\n"
     ]
    },
    {
     "name": "stderr",
     "output_type": "stream",
     "text": [
      "                                                                                \r"
     ]
    },
    {
     "name": "stdout",
     "output_type": "stream",
     "text": [
      "22/12/06 20:49:38 WARN DAGScheduler: Broadcasting large task binary with size 3.9 MiB\n",
      "22/12/06 20:49:39 WARN DAGScheduler: Broadcasting large task binary with size 3.9 MiB\n",
      "22/12/06 20:49:39 WARN DAGScheduler: Broadcasting large task binary with size 3.9 MiB\n",
      "22/12/06 20:49:39 WARN StopWordsRemover: Default locale set was [en_RU]; however, it was not found in available locales in JVM, falling back to en_US locale. Set param `locale` in order to respect another locale.\n",
      "22/12/06 20:49:39 WARN StopWordsRemover: Default locale set was [en_RU]; however, it was not found in available locales in JVM, falling back to en_US locale. Set param `locale` in order to respect another locale.\n",
      "22/12/06 20:49:39 WARN DAGScheduler: Broadcasting large task binary with size 3.9 MiB\n",
      "22/12/06 20:49:39 WARN DAGScheduler: Broadcasting large task binary with size 3.9 MiB\n",
      "22/12/06 20:49:39 WARN DAGScheduler: Broadcasting large task binary with size 3.9 MiB\n"
     ]
    },
    {
     "name": "stderr",
     "output_type": "stream",
     "text": [
      "[Stage 2041:> (1 + 7) / 8][Stage 2043:> (1 + 1) / 8][Stage 2045:> (0 + 0) / 8]\r"
     ]
    },
    {
     "name": "stdout",
     "output_type": "stream",
     "text": [
      "22/12/06 20:49:40 WARN DAGScheduler: Broadcasting large task binary with size 3.9 MiB\n"
     ]
    },
    {
     "name": "stderr",
     "output_type": "stream",
     "text": [
      "                                                                                \r"
     ]
    },
    {
     "name": "stdout",
     "output_type": "stream",
     "text": [
      "22/12/06 20:49:41 WARN DAGScheduler: Broadcasting large task binary with size 3.9 MiB\n"
     ]
    },
    {
     "name": "stderr",
     "output_type": "stream",
     "text": [
      "                                                                                \r"
     ]
    },
    {
     "name": "stdout",
     "output_type": "stream",
     "text": [
      "22/12/06 20:49:42 WARN StopWordsRemover: Default locale set was [en_RU]; however, it was not found in available locales in JVM, falling back to en_US locale. Set param `locale` in order to respect another locale.\n"
     ]
    },
    {
     "name": "stderr",
     "output_type": "stream",
     "text": [
      "                                                                                \r"
     ]
    },
    {
     "name": "stdout",
     "output_type": "stream",
     "text": [
      "22/12/06 20:49:43 WARN DAGScheduler: Broadcasting large task binary with size 3.9 MiB\n",
      "22/12/06 20:49:43 WARN DAGScheduler: Broadcasting large task binary with size 3.9 MiB\n"
     ]
    },
    {
     "name": "stderr",
     "output_type": "stream",
     "text": [
      "\r",
      "[Stage 2051:> (0 + 8) / 8][Stage 2053:> (0 + 0) / 8][Stage 2055:> (0 + 0) / 8]\r",
      "\r",
      "[Stage 2051:> (3 + 5) / 8][Stage 2053:> (0 + 3) / 8][Stage 2055:> (0 + 0) / 8]\r",
      "\r",
      "                                                                                \r"
     ]
    },
    {
     "name": "stdout",
     "output_type": "stream",
     "text": [
      "22/12/06 20:49:44 WARN DAGScheduler: Broadcasting large task binary with size 3.9 MiB\n"
     ]
    },
    {
     "name": "stderr",
     "output_type": "stream",
     "text": [
      "                                                                                \r"
     ]
    },
    {
     "name": "stdout",
     "output_type": "stream",
     "text": [
      "22/12/06 20:49:46 WARN DAGScheduler: Broadcasting large task binary with size 3.9 MiB\n",
      "22/12/06 20:49:46 WARN DAGScheduler: Broadcasting large task binary with size 3.9 MiB\n"
     ]
    },
    {
     "name": "stderr",
     "output_type": "stream",
     "text": [
      "                                                                                \r"
     ]
    },
    {
     "name": "stdout",
     "output_type": "stream",
     "text": [
      "22/12/06 20:49:48 WARN DAGScheduler: Broadcasting large task binary with size 3.9 MiB\n",
      "22/12/06 20:49:48 WARN DAGScheduler: Broadcasting large task binary with size 3.9 MiB\n",
      "22/12/06 20:49:48 WARN DAGScheduler: Broadcasting large task binary with size 3.9 MiB\n"
     ]
    },
    {
     "name": "stderr",
     "output_type": "stream",
     "text": [
      "                                                                                \r"
     ]
    },
    {
     "name": "stdout",
     "output_type": "stream",
     "text": [
      "22/12/06 20:49:50 WARN DAGScheduler: Broadcasting large task binary with size 3.9 MiB\n",
      "22/12/06 20:49:50 WARN DAGScheduler: Broadcasting large task binary with size 3.9 MiB\n",
      "22/12/06 20:49:50 WARN DAGScheduler: Broadcasting large task binary with size 3.9 MiB\n"
     ]
    },
    {
     "name": "stderr",
     "output_type": "stream",
     "text": [
      "                                                                                \r"
     ]
    },
    {
     "name": "stdout",
     "output_type": "stream",
     "text": [
      "22/12/06 20:49:51 WARN StopWordsRemover: Default locale set was [en_RU]; however, it was not found in available locales in JVM, falling back to en_US locale. Set param `locale` in order to respect another locale.\n",
      "22/12/06 20:49:51 WARN DAGScheduler: Broadcasting large task binary with size 3.9 MiB\n",
      "22/12/06 20:49:52 WARN DAGScheduler: Broadcasting large task binary with size 3.9 MiB\n",
      "22/12/06 20:49:52 WARN DAGScheduler: Broadcasting large task binary with size 3.9 MiB\n",
      "22/12/06 20:49:52 WARN DAGScheduler: Broadcasting large task binary with size 3.9 MiB\n",
      "22/12/06 20:49:52 WARN StopWordsRemover: Default locale set was [en_RU]; however, it was not found in available locales in JVM, falling back to en_US locale. Set param `locale` in order to respect another locale.\n",
      "22/12/06 20:49:53 WARN StopWordsRemover: Default locale set was [en_RU]; however, it was not found in available locales in JVM, falling back to en_US locale. Set param `locale` in order to respect another locale.\n",
      "22/12/06 20:49:53 WARN DAGScheduler: Broadcasting large task binary with size 3.9 MiB\n",
      "22/12/06 20:49:53 WARN DAGScheduler: Broadcasting large task binary with size 5.8 MiB\n"
     ]
    },
    {
     "name": "stderr",
     "output_type": "stream",
     "text": [
      "                                                                                \r"
     ]
    },
    {
     "name": "stdout",
     "output_type": "stream",
     "text": [
      "22/12/06 20:49:54 WARN StopWordsRemover: Default locale set was [en_RU]; however, it was not found in available locales in JVM, falling back to en_US locale. Set param `locale` in order to respect another locale.\n",
      "22/12/06 20:49:55 WARN StopWordsRemover: Default locale set was [en_RU]; however, it was not found in available locales in JVM, falling back to en_US locale. Set param `locale` in order to respect another locale.\n",
      "22/12/06 20:49:55 WARN StopWordsRemover: Default locale set was [en_RU]; however, it was not found in available locales in JVM, falling back to en_US locale. Set param `locale` in order to respect another locale.\n",
      "22/12/06 20:49:55 WARN StopWordsRemover: Default locale set was [en_RU]; however, it was not found in available locales in JVM, falling back to en_US locale. Set param `locale` in order to respect another locale.\n",
      "22/12/06 20:49:55 WARN StopWordsRemover: Default locale set was [en_RU]; however, it was not found in available locales in JVM, falling back to en_US locale. Set param `locale` in order to respect another locale.\n"
     ]
    },
    {
     "name": "stderr",
     "output_type": "stream",
     "text": [
      "                                                                                \r"
     ]
    },
    {
     "name": "stdout",
     "output_type": "stream",
     "text": [
      "22/12/06 20:49:58 WARN DAGScheduler: Broadcasting large task binary with size 3.9 MiB\n"
     ]
    },
    {
     "name": "stderr",
     "output_type": "stream",
     "text": [
      "[Stage 2121:=>(5 + 3) / 8][Stage 2123:> (0 + 5) / 8][Stage 2125:> (0 + 0) / 8]  \r"
     ]
    },
    {
     "name": "stdout",
     "output_type": "stream",
     "text": [
      "22/12/06 20:50:03 WARN DAGScheduler: Broadcasting large task binary with size 3.9 MiB\n"
     ]
    },
    {
     "name": "stderr",
     "output_type": "stream",
     "text": [
      "                                                                                \r"
     ]
    },
    {
     "name": "stdout",
     "output_type": "stream",
     "text": [
      "22/12/06 20:50:04 WARN DAGScheduler: Broadcasting large task binary with size 3.9 MiB\n"
     ]
    },
    {
     "name": "stderr",
     "output_type": "stream",
     "text": [
      "[Stage 2131:> (0 + 8) / 8][Stage 2133:> (0 + 0) / 8][Stage 2135:> (0 + 0) / 8]  \r"
     ]
    },
    {
     "name": "stdout",
     "output_type": "stream",
     "text": [
      "22/12/06 20:50:09 WARN DAGScheduler: Broadcasting large task binary with size 3.9 MiB\n"
     ]
    },
    {
     "name": "stderr",
     "output_type": "stream",
     "text": [
      "                                                                                \r"
     ]
    },
    {
     "name": "stdout",
     "output_type": "stream",
     "text": [
      "22/12/06 20:50:10 WARN DAGScheduler: Broadcasting large task binary with size 3.9 MiB\n"
     ]
    },
    {
     "name": "stderr",
     "output_type": "stream",
     "text": [
      "                                                                                \r"
     ]
    },
    {
     "name": "stdout",
     "output_type": "stream",
     "text": [
      "22/12/06 20:50:13 WARN DAGScheduler: Broadcasting large task binary with size 3.9 MiB\n",
      "22/12/06 20:50:14 WARN DAGScheduler: Broadcasting large task binary with size 3.9 MiB\n",
      "22/12/06 20:50:14 WARN DAGScheduler: Broadcasting large task binary with size 3.9 MiB\n",
      "22/12/06 20:50:14 WARN DAGScheduler: Broadcasting large task binary with size 3.9 MiB\n",
      "22/12/06 20:50:14 WARN DAGScheduler: Broadcasting large task binary with size 3.9 MiB\n",
      "22/12/06 20:50:14 WARN DAGScheduler: Broadcasting large task binary with size 3.9 MiB\n",
      "22/12/06 20:50:14 WARN DAGScheduler: Broadcasting large task binary with size 3.9 MiB\n",
      "22/12/06 20:50:14 WARN DAGScheduler: Broadcasting large task binary with size 3.9 MiB\n",
      "22/12/06 20:50:14 WARN DAGScheduler: Broadcasting large task binary with size 3.9 MiB\n",
      "22/12/06 20:50:14 WARN DAGScheduler: Broadcasting large task binary with size 3.9 MiB\n",
      "22/12/06 20:50:14 WARN DAGScheduler: Broadcasting large task binary with size 3.9 MiB\n",
      "22/12/06 20:50:14 WARN DAGScheduler: Broadcasting large task binary with size 3.9 MiB\n",
      "22/12/06 20:50:14 WARN DAGScheduler: Broadcasting large task binary with size 3.9 MiB\n",
      "22/12/06 20:50:15 WARN DAGScheduler: Broadcasting large task binary with size 3.9 MiB\n",
      "22/12/06 20:50:15 WARN DAGScheduler: Broadcasting large task binary with size 3.9 MiB\n",
      "22/12/06 20:50:15 WARN DAGScheduler: Broadcasting large task binary with size 3.9 MiB\n",
      "22/12/06 20:50:15 WARN DAGScheduler: Broadcasting large task binary with size 3.9 MiB\n",
      "22/12/06 20:50:15 WARN DAGScheduler: Broadcasting large task binary with size 3.9 MiB\n",
      "22/12/06 20:50:15 WARN DAGScheduler: Broadcasting large task binary with size 3.9 MiB\n",
      "22/12/06 20:50:15 WARN DAGScheduler: Broadcasting large task binary with size 3.9 MiB\n",
      "22/12/06 20:50:15 WARN DAGScheduler: Broadcasting large task binary with size 3.9 MiB\n",
      "22/12/06 20:50:15 WARN DAGScheduler: Broadcasting large task binary with size 3.9 MiB\n",
      "22/12/06 20:50:15 WARN DAGScheduler: Broadcasting large task binary with size 3.9 MiB\n",
      "22/12/06 20:50:15 WARN DAGScheduler: Broadcasting large task binary with size 3.9 MiB\n",
      "22/12/06 20:50:15 WARN DAGScheduler: Broadcasting large task binary with size 3.9 MiB\n",
      "22/12/06 20:50:16 WARN DAGScheduler: Broadcasting large task binary with size 3.9 MiB\n",
      "22/12/06 20:50:16 WARN DAGScheduler: Broadcasting large task binary with size 3.9 MiB\n",
      "22/12/06 20:50:16 WARN DAGScheduler: Broadcasting large task binary with size 3.9 MiB\n",
      "22/12/06 20:50:16 WARN DAGScheduler: Broadcasting large task binary with size 3.9 MiB\n",
      "22/12/06 20:50:16 WARN DAGScheduler: Broadcasting large task binary with size 3.9 MiB\n",
      "22/12/06 20:50:16 WARN DAGScheduler: Broadcasting large task binary with size 3.9 MiB\n",
      "22/12/06 20:50:16 WARN DAGScheduler: Broadcasting large task binary with size 3.9 MiB\n",
      "22/12/06 20:50:16 WARN DAGScheduler: Broadcasting large task binary with size 3.9 MiB\n",
      "22/12/06 20:50:16 WARN DAGScheduler: Broadcasting large task binary with size 3.9 MiB\n",
      "22/12/06 20:50:16 WARN DAGScheduler: Broadcasting large task binary with size 3.9 MiB\n",
      "22/12/06 20:50:16 WARN DAGScheduler: Broadcasting large task binary with size 3.9 MiB\n",
      "22/12/06 20:50:17 WARN DAGScheduler: Broadcasting large task binary with size 3.9 MiB\n",
      "22/12/06 20:50:17 WARN DAGScheduler: Broadcasting large task binary with size 3.9 MiB\n",
      "22/12/06 20:50:17 WARN DAGScheduler: Broadcasting large task binary with size 3.9 MiB\n",
      "22/12/06 20:50:17 WARN DAGScheduler: Broadcasting large task binary with size 3.9 MiB\n",
      "22/12/06 20:50:17 WARN DAGScheduler: Broadcasting large task binary with size 3.9 MiB\n",
      "22/12/06 20:50:17 WARN DAGScheduler: Broadcasting large task binary with size 3.9 MiB\n",
      "22/12/06 20:50:17 WARN DAGScheduler: Broadcasting large task binary with size 3.9 MiB\n",
      "22/12/06 20:50:17 WARN DAGScheduler: Broadcasting large task binary with size 3.9 MiB\n",
      "22/12/06 20:50:17 WARN DAGScheduler: Broadcasting large task binary with size 3.9 MiB\n",
      "22/12/06 20:50:17 WARN DAGScheduler: Broadcasting large task binary with size 3.9 MiB\n",
      "22/12/06 20:50:17 WARN StopWordsRemover: Default locale set was [en_RU]; however, it was not found in available locales in JVM, falling back to en_US locale. Set param `locale` in order to respect another locale.\n",
      "22/12/06 20:50:17 WARN DAGScheduler: Broadcasting large task binary with size 3.9 MiB\n",
      "22/12/06 20:50:17 WARN DAGScheduler: Broadcasting large task binary with size 3.9 MiB\n",
      "22/12/06 20:50:17 WARN DAGScheduler: Broadcasting large task binary with size 3.9 MiB\n",
      "22/12/06 20:50:18 WARN DAGScheduler: Broadcasting large task binary with size 3.9 MiB\n"
     ]
    },
    {
     "name": "stderr",
     "output_type": "stream",
     "text": [
      "[Stage 2463:> (1 + 7) / 8][Stage 2465:=>(4 + 1) / 8][Stage 2467:> (0 + 0) / 8]\r"
     ]
    },
    {
     "name": "stdout",
     "output_type": "stream",
     "text": [
      "22/12/06 20:50:19 WARN DAGScheduler: Broadcasting large task binary with size 3.9 MiB\n"
     ]
    },
    {
     "name": "stderr",
     "output_type": "stream",
     "text": [
      "\r",
      "[Stage 2463:> (2 + 6) / 8][Stage 2467:> (2 + 2) / 8][Stage 2469:> (0 + 0) / 8]\r",
      "\r",
      "                                                                                \r"
     ]
    },
    {
     "name": "stdout",
     "output_type": "stream",
     "text": [
      "22/12/06 20:50:19 WARN DAGScheduler: Broadcasting large task binary with size 3.9 MiB\n",
      "22/12/06 20:50:19 WARN DAGScheduler: Broadcasting large task binary with size 3.9 MiB\n",
      "22/12/06 20:50:19 WARN DAGScheduler: Broadcasting large task binary with size 3.9 MiB\n",
      "22/12/06 20:50:19 WARN DAGScheduler: Broadcasting large task binary with size 3.9 MiB\n",
      "22/12/06 20:50:19 WARN StopWordsRemover: Default locale set was [en_RU]; however, it was not found in available locales in JVM, falling back to en_US locale. Set param `locale` in order to respect another locale.\n",
      "22/12/06 20:50:19 WARN DAGScheduler: Broadcasting large task binary with size 3.9 MiB\n",
      "22/12/06 20:50:19 WARN StopWordsRemover: Default locale set was [en_RU]; however, it was not found in available locales in JVM, falling back to en_US locale. Set param `locale` in order to respect another locale.\n",
      "22/12/06 20:50:19 WARN DAGScheduler: Broadcasting large task binary with size 3.9 MiB\n",
      "22/12/06 20:50:19 WARN DAGScheduler: Broadcasting large task binary with size 3.9 MiB\n",
      "22/12/06 20:50:19 WARN DAGScheduler: Broadcasting large task binary with size 3.9 MiB\n",
      "22/12/06 20:50:20 WARN DAGScheduler: Broadcasting large task binary with size 3.9 MiB\n"
     ]
    },
    {
     "name": "stderr",
     "output_type": "stream",
     "text": [
      "                                                                                \r"
     ]
    },
    {
     "name": "stdout",
     "output_type": "stream",
     "text": [
      "22/12/06 20:50:21 WARN DAGScheduler: Broadcasting large task binary with size 3.9 MiB\n"
     ]
    },
    {
     "name": "stderr",
     "output_type": "stream",
     "text": [
      "\r",
      "[Stage 2504:====>           (2 + 6) / 8][Stage 2510:>               (0 + 2) / 8]\r",
      "\r",
      "                                                                                \r"
     ]
    },
    {
     "name": "stdout",
     "output_type": "stream",
     "text": [
      "22/12/06 20:50:21 WARN DAGScheduler: Broadcasting large task binary with size 3.9 MiB\n",
      "22/12/06 20:50:22 WARN DAGScheduler: Broadcasting large task binary with size 3.9 MiB\n",
      "22/12/06 20:50:22 WARN DAGScheduler: Broadcasting large task binary with size 3.9 MiB\n"
     ]
    },
    {
     "name": "stderr",
     "output_type": "stream",
     "text": [
      "                                                                                \r"
     ]
    },
    {
     "name": "stdout",
     "output_type": "stream",
     "text": [
      "22/12/06 20:50:23 WARN DAGScheduler: Broadcasting large task binary with size 3.9 MiB\n",
      "22/12/06 20:50:24 WARN DAGScheduler: Broadcasting large task binary with size 3.9 MiB\n",
      "22/12/06 20:50:24 WARN DAGScheduler: Broadcasting large task binary with size 3.9 MiB\n",
      "22/12/06 20:50:24 WARN DAGScheduler: Broadcasting large task binary with size 3.9 MiB\n",
      "22/12/06 20:50:24 WARN DAGScheduler: Broadcasting large task binary with size 3.9 MiB\n",
      "22/12/06 20:50:24 WARN StopWordsRemover: Default locale set was [en_RU]; however, it was not found in available locales in JVM, falling back to en_US locale. Set param `locale` in order to respect another locale.\n",
      "22/12/06 20:50:24 WARN DAGScheduler: Broadcasting large task binary with size 3.9 MiB\n"
     ]
    },
    {
     "name": "stderr",
     "output_type": "stream",
     "text": [
      "                                                                                \r"
     ]
    },
    {
     "name": "stdout",
     "output_type": "stream",
     "text": [
      "22/12/06 20:50:25 WARN DAGScheduler: Broadcasting large task binary with size 3.9 MiB\n"
     ]
    },
    {
     "name": "stderr",
     "output_type": "stream",
     "text": [
      "\r",
      "[Stage 2543:> (1 + 7) / 8][Stage 2547:> (0 + 1) / 8][Stage 2549:> (0 + 0) / 8]\r",
      "\r",
      "                                                                                \r"
     ]
    },
    {
     "name": "stdout",
     "output_type": "stream",
     "text": [
      "22/12/06 20:50:26 WARN DAGScheduler: Broadcasting large task binary with size 3.9 MiB\n"
     ]
    },
    {
     "name": "stderr",
     "output_type": "stream",
     "text": [
      "                                                                                \r"
     ]
    },
    {
     "name": "stdout",
     "output_type": "stream",
     "text": [
      "22/12/06 20:50:27 WARN DAGScheduler: Broadcasting large task binary with size 3.9 MiB\n",
      "22/12/06 20:50:27 WARN DAGScheduler: Broadcasting large task binary with size 3.9 MiB\n",
      "22/12/06 20:50:27 WARN DAGScheduler: Broadcasting large task binary with size 3.9 MiB\n",
      "22/12/06 20:50:28 WARN DAGScheduler: Broadcasting large task binary with size 3.9 MiB\n",
      "22/12/06 20:50:28 WARN DAGScheduler: Broadcasting large task binary with size 3.9 MiB\n",
      "22/12/06 20:50:28 WARN DAGScheduler: Broadcasting large task binary with size 3.9 MiB\n",
      "22/12/06 20:50:28 WARN DAGScheduler: Broadcasting large task binary with size 3.9 MiB\n",
      "22/12/06 20:50:28 WARN DAGScheduler: Broadcasting large task binary with size 3.9 MiB\n"
     ]
    },
    {
     "name": "stderr",
     "output_type": "stream",
     "text": [
      "                                                                                \r"
     ]
    },
    {
     "name": "stdout",
     "output_type": "stream",
     "text": [
      "22/12/06 20:50:29 WARN DAGScheduler: Broadcasting large task binary with size 3.9 MiB\n",
      "22/12/06 20:50:30 WARN DAGScheduler: Broadcasting large task binary with size 3.9 MiB\n",
      "22/12/06 20:50:30 WARN DAGScheduler: Broadcasting large task binary with size 3.9 MiB\n",
      "22/12/06 20:50:30 WARN DAGScheduler: Broadcasting large task binary with size 3.9 MiB\n",
      "22/12/06 20:50:30 WARN DAGScheduler: Broadcasting large task binary with size 3.9 MiB\n",
      "22/12/06 20:50:30 WARN DAGScheduler: Broadcasting large task binary with size 3.9 MiB\n",
      "22/12/06 20:50:30 WARN DAGScheduler: Broadcasting large task binary with size 3.9 MiB\n",
      "22/12/06 20:50:30 WARN DAGScheduler: Broadcasting large task binary with size 3.9 MiB\n",
      "22/12/06 20:50:30 WARN DAGScheduler: Broadcasting large task binary with size 3.9 MiB\n"
     ]
    },
    {
     "name": "stderr",
     "output_type": "stream",
     "text": [
      "                                                                                \r"
     ]
    },
    {
     "name": "stdout",
     "output_type": "stream",
     "text": [
      "22/12/06 20:50:32 WARN DAGScheduler: Broadcasting large task binary with size 3.9 MiB\n",
      "22/12/06 20:50:32 WARN DAGScheduler: Broadcasting large task binary with size 3.9 MiB\n",
      "22/12/06 20:50:32 WARN DAGScheduler: Broadcasting large task binary with size 3.9 MiB\n",
      "22/12/06 20:50:32 WARN DAGScheduler: Broadcasting large task binary with size 3.9 MiB\n",
      "22/12/06 20:50:32 WARN DAGScheduler: Broadcasting large task binary with size 3.9 MiB\n",
      "22/12/06 20:50:32 WARN DAGScheduler: Broadcasting large task binary with size 3.9 MiB\n",
      "22/12/06 20:50:32 WARN DAGScheduler: Broadcasting large task binary with size 3.9 MiB\n",
      "22/12/06 20:50:32 WARN DAGScheduler: Broadcasting large task binary with size 3.9 MiB\n",
      "22/12/06 20:50:33 WARN DAGScheduler: Broadcasting large task binary with size 3.9 MiB\n",
      "22/12/06 20:50:33 WARN DAGScheduler: Broadcasting large task binary with size 3.9 MiB\n",
      "22/12/06 20:50:33 WARN DAGScheduler: Broadcasting large task binary with size 3.9 MiB\n",
      "22/12/06 20:50:33 WARN DAGScheduler: Broadcasting large task binary with size 3.9 MiB\n",
      "22/12/06 20:50:33 WARN DAGScheduler: Broadcasting large task binary with size 3.9 MiB\n",
      "22/12/06 20:50:33 WARN DAGScheduler: Broadcasting large task binary with size 3.9 MiB\n",
      "22/12/06 20:50:33 WARN DAGScheduler: Broadcasting large task binary with size 3.9 MiB\n",
      "22/12/06 20:50:33 WARN DAGScheduler: Broadcasting large task binary with size 3.9 MiB\n",
      "22/12/06 20:50:33 WARN StopWordsRemover: Default locale set was [en_RU]; however, it was not found in available locales in JVM, falling back to en_US locale. Set param `locale` in order to respect another locale.\n",
      "22/12/06 20:50:33 WARN DAGScheduler: Broadcasting large task binary with size 3.9 MiB\n",
      "22/12/06 20:50:33 WARN DAGScheduler: Broadcasting large task binary with size 3.9 MiB\n",
      "22/12/06 20:50:33 WARN DAGScheduler: Broadcasting large task binary with size 3.9 MiB\n",
      "22/12/06 20:50:33 WARN DAGScheduler: Broadcasting large task binary with size 3.9 MiB\n",
      "22/12/06 20:50:33 WARN DAGScheduler: Broadcasting large task binary with size 3.9 MiB\n",
      "22/12/06 20:50:33 WARN DAGScheduler: Broadcasting large task binary with size 3.9 MiB\n",
      "22/12/06 20:50:33 WARN DAGScheduler: Broadcasting large task binary with size 3.9 MiB\n",
      "22/12/06 20:50:34 WARN DAGScheduler: Broadcasting large task binary with size 3.9 MiB\n"
     ]
    },
    {
     "name": "stderr",
     "output_type": "stream",
     "text": [
      "[Stage 2669:> (1 + 7) / 8][Stage 2671:=>(4 + 1) / 8][Stage 2673:> (0 + 0) / 8]8]\r"
     ]
    },
    {
     "name": "stdout",
     "output_type": "stream",
     "text": [
      "22/12/06 20:50:34 WARN DAGScheduler: Broadcasting large task binary with size 3.9 MiB\n",
      "22/12/06 20:50:34 WARN DAGScheduler: Broadcasting large task binary with size 3.9 MiB\n"
     ]
    },
    {
     "name": "stderr",
     "output_type": "stream",
     "text": [
      "\r",
      "[Stage 2669:> (1 + 7) / 8][Stage 2673:> (2 + 1) / 8][Stage 2675:> (0 + 0) / 8]\r",
      "\r",
      "                                                                                \r"
     ]
    },
    {
     "name": "stdout",
     "output_type": "stream",
     "text": [
      "22/12/06 20:50:34 WARN DAGScheduler: Broadcasting large task binary with size 3.9 MiB\n",
      "22/12/06 20:50:34 WARN DAGScheduler: Broadcasting large task binary with size 3.9 MiB\n",
      "22/12/06 20:50:35 WARN DAGScheduler: Broadcasting large task binary with size 3.9 MiB\n",
      "22/12/06 20:50:35 WARN DAGScheduler: Broadcasting large task binary with size 3.9 MiB\n",
      "22/12/06 20:50:35 WARN StopWordsRemover: Default locale set was [en_RU]; however, it was not found in available locales in JVM, falling back to en_US locale. Set param `locale` in order to respect another locale.\n",
      "22/12/06 20:50:35 WARN DAGScheduler: Broadcasting large task binary with size 3.9 MiB\n",
      "22/12/06 20:50:35 WARN DAGScheduler: Broadcasting large task binary with size 3.9 MiB\n",
      "22/12/06 20:50:35 WARN DAGScheduler: Broadcasting large task binary with size 3.9 MiB\n",
      "22/12/06 20:50:35 WARN DAGScheduler: Broadcasting large task binary with size 3.9 MiB\n"
     ]
    },
    {
     "name": "stderr",
     "output_type": "stream",
     "text": [
      "                                                                                \r"
     ]
    },
    {
     "name": "stdout",
     "output_type": "stream",
     "text": [
      "22/12/06 20:50:36 WARN DAGScheduler: Broadcasting large task binary with size 3.9 MiB\n",
      "22/12/06 20:50:36 WARN DAGScheduler: Broadcasting large task binary with size 3.9 MiB\n",
      "22/12/06 20:50:36 WARN DAGScheduler: Broadcasting large task binary with size 3.9 MiB\n",
      "22/12/06 20:50:37 WARN DAGScheduler: Broadcasting large task binary with size 3.9 MiB\n",
      "22/12/06 20:50:37 WARN DAGScheduler: Broadcasting large task binary with size 3.9 MiB\n",
      "22/12/06 20:50:37 WARN DAGScheduler: Broadcasting large task binary with size 3.9 MiB\n"
     ]
    },
    {
     "name": "stderr",
     "output_type": "stream",
     "text": [
      "[Stage 2710:> (1 + 7) / 8][Stage 2712:> (3 + 1) / 8][Stage 2714:> (0 + 0) / 8]\r"
     ]
    },
    {
     "name": "stdout",
     "output_type": "stream",
     "text": [
      "22/12/06 20:50:38 WARN DAGScheduler: Broadcasting large task binary with size 3.9 MiB\n",
      "22/12/06 20:50:38 WARN DAGScheduler: Broadcasting large task binary with size 3.9 MiB\n"
     ]
    },
    {
     "name": "stderr",
     "output_type": "stream",
     "text": [
      "\r",
      "[Stage 2710:> (1 + 7) / 8][Stage 2714:> (1 + 0) / 8][Stage 2716:> (0 + 0) / 8]\r",
      "\r",
      "                                                                                \r"
     ]
    },
    {
     "name": "stdout",
     "output_type": "stream",
     "text": [
      "22/12/06 20:50:38 WARN DAGScheduler: Broadcasting large task binary with size 3.9 MiB\n",
      "22/12/06 20:50:38 WARN DAGScheduler: Broadcasting large task binary with size 3.9 MiB\n",
      "22/12/06 20:50:39 WARN DAGScheduler: Broadcasting large task binary with size 3.9 MiB\n",
      "22/12/06 20:50:39 WARN DAGScheduler: Broadcasting large task binary with size 3.9 MiB\n"
     ]
    },
    {
     "name": "stderr",
     "output_type": "stream",
     "text": [
      "[Stage 2722:> (1 + 7) / 8][Stage 2724:> (2 + 1) / 8][Stage 2726:> (0 + 0) / 8]\r"
     ]
    },
    {
     "name": "stdout",
     "output_type": "stream",
     "text": [
      "22/12/06 20:50:40 WARN DAGScheduler: Broadcasting large task binary with size 3.9 MiB\n",
      "22/12/06 20:50:40 WARN DAGScheduler: Broadcasting large task binary with size 3.9 MiB\n"
     ]
    },
    {
     "name": "stderr",
     "output_type": "stream",
     "text": [
      "\r",
      "[Stage 2722:> (1 + 7) / 8][Stage 2726:> (1 + 0) / 8][Stage 2728:> (0 + 0) / 8]\r",
      "\r",
      "                                                                                \r"
     ]
    },
    {
     "name": "stdout",
     "output_type": "stream",
     "text": [
      "22/12/06 20:50:40 WARN DAGScheduler: Broadcasting large task binary with size 3.9 MiB\n",
      "22/12/06 20:50:40 WARN DAGScheduler: Broadcasting large task binary with size 3.9 MiB\n",
      "22/12/06 20:50:40 WARN DAGScheduler: Broadcasting large task binary with size 3.9 MiB\n",
      "22/12/06 20:50:40 WARN DAGScheduler: Broadcasting large task binary with size 3.9 MiB\n",
      "22/12/06 20:50:41 WARN DAGScheduler: Broadcasting large task binary with size 3.9 MiB\n",
      "22/12/06 20:50:41 WARN DAGScheduler: Broadcasting large task binary with size 3.9 MiB\n",
      "22/12/06 20:50:41 WARN DAGScheduler: Broadcasting large task binary with size 3.9 MiB\n",
      "22/12/06 20:50:41 WARN DAGScheduler: Broadcasting large task binary with size 3.9 MiB\n",
      "22/12/06 20:50:41 WARN DAGScheduler: Broadcasting large task binary with size 3.9 MiB\n",
      "22/12/06 20:50:41 WARN DAGScheduler: Broadcasting large task binary with size 3.9 MiB\n",
      "22/12/06 20:50:41 WARN DAGScheduler: Broadcasting large task binary with size 3.9 MiB\n",
      "22/12/06 20:50:41 WARN DAGScheduler: Broadcasting large task binary with size 3.9 MiB\n",
      "22/12/06 20:50:41 WARN DAGScheduler: Broadcasting large task binary with size 3.9 MiB\n",
      "22/12/06 20:50:41 WARN DAGScheduler: Broadcasting large task binary with size 3.9 MiB\n",
      "22/12/06 20:50:41 WARN DAGScheduler: Broadcasting large task binary with size 3.9 MiB\n",
      "22/12/06 20:50:41 WARN DAGScheduler: Broadcasting large task binary with size 3.9 MiB\n",
      "22/12/06 20:50:41 WARN DAGScheduler: Broadcasting large task binary with size 3.9 MiB\n",
      "22/12/06 20:50:41 WARN DAGScheduler: Broadcasting large task binary with size 3.9 MiB\n",
      "22/12/06 20:50:41 WARN DAGScheduler: Broadcasting large task binary with size 3.9 MiB\n",
      "22/12/06 20:50:42 WARN DAGScheduler: Broadcasting large task binary with size 3.9 MiB\n",
      "22/12/06 20:50:42 WARN DAGScheduler: Broadcasting large task binary with size 3.9 MiB\n",
      "22/12/06 20:50:42 WARN DAGScheduler: Broadcasting large task binary with size 3.9 MiB\n",
      "22/12/06 20:50:42 WARN DAGScheduler: Broadcasting large task binary with size 3.9 MiB\n",
      "22/12/06 20:50:42 WARN DAGScheduler: Broadcasting large task binary with size 3.9 MiB\n",
      "22/12/06 20:50:42 WARN DAGScheduler: Broadcasting large task binary with size 3.9 MiB\n",
      "22/12/06 20:50:42 WARN DAGScheduler: Broadcasting large task binary with size 3.9 MiB\n",
      "22/12/06 20:50:42 WARN DAGScheduler: Broadcasting large task binary with size 3.9 MiB\n",
      "22/12/06 20:50:42 WARN DAGScheduler: Broadcasting large task binary with size 3.9 MiB\n",
      "22/12/06 20:50:42 WARN DAGScheduler: Broadcasting large task binary with size 3.9 MiB\n",
      "22/12/06 20:50:42 WARN DAGScheduler: Broadcasting large task binary with size 3.9 MiB\n",
      "22/12/06 20:50:42 WARN DAGScheduler: Broadcasting large task binary with size 3.9 MiB\n",
      "22/12/06 20:50:42 WARN DAGScheduler: Broadcasting large task binary with size 3.9 MiB\n",
      "22/12/06 20:50:42 WARN DAGScheduler: Broadcasting large task binary with size 3.9 MiB\n",
      "22/12/06 20:50:43 WARN DAGScheduler: Broadcasting large task binary with size 3.9 MiB\n",
      "22/12/06 20:50:43 WARN DAGScheduler: Broadcasting large task binary with size 3.9 MiB\n",
      "22/12/06 20:50:43 WARN DAGScheduler: Broadcasting large task binary with size 3.9 MiB\n",
      "22/12/06 20:50:43 WARN DAGScheduler: Broadcasting large task binary with size 3.9 MiB\n",
      "22/12/06 20:50:43 WARN DAGScheduler: Broadcasting large task binary with size 3.9 MiB\n",
      "22/12/06 20:50:43 WARN DAGScheduler: Broadcasting large task binary with size 3.9 MiB\n",
      "22/12/06 20:50:43 WARN DAGScheduler: Broadcasting large task binary with size 3.9 MiB\n",
      "22/12/06 20:50:43 WARN DAGScheduler: Broadcasting large task binary with size 3.9 MiB\n",
      "22/12/06 20:50:43 WARN DAGScheduler: Broadcasting large task binary with size 3.9 MiB\n",
      "22/12/06 20:50:43 WARN DAGScheduler: Broadcasting large task binary with size 3.9 MiB\n",
      "22/12/06 20:50:43 WARN DAGScheduler: Broadcasting large task binary with size 3.9 MiB\n",
      "22/12/06 20:50:43 WARN DAGScheduler: Broadcasting large task binary with size 3.9 MiB\n",
      "22/12/06 20:50:43 WARN DAGScheduler: Broadcasting large task binary with size 3.9 MiB\n",
      "22/12/06 20:50:43 WARN StopWordsRemover: Default locale set was [en_RU]; however, it was not found in available locales in JVM, falling back to en_US locale. Set param `locale` in order to respect another locale.\n",
      "22/12/06 20:50:44 WARN DAGScheduler: Broadcasting large task binary with size 3.9 MiB\n",
      "22/12/06 20:50:44 WARN DAGScheduler: Broadcasting large task binary with size 3.9 MiB\n",
      "22/12/06 20:50:44 WARN DAGScheduler: Broadcasting large task binary with size 3.9 MiB\n",
      "22/12/06 20:50:44 WARN DAGScheduler: Broadcasting large task binary with size 3.9 MiB\n",
      "22/12/06 20:50:44 WARN DAGScheduler: Broadcasting large task binary with size 3.9 MiB\n",
      "22/12/06 20:50:44 WARN DAGScheduler: Broadcasting large task binary with size 3.9 MiB\n",
      "22/12/06 20:50:44 WARN DAGScheduler: Broadcasting large task binary with size 3.9 MiB\n",
      "22/12/06 20:50:44 WARN DAGScheduler: Broadcasting large task binary with size 3.9 MiB\n"
     ]
    },
    {
     "name": "stderr",
     "output_type": "stream",
     "text": [
      "\r",
      "[Stage 2904:>               (0 + 8) / 8][Stage 2906:>               (0 + 0) / 8]\r",
      "\r",
      "                                                                                \r"
     ]
    },
    {
     "name": "stdout",
     "output_type": "stream",
     "text": [
      "22/12/06 20:50:45 WARN DAGScheduler: Broadcasting large task binary with size 3.9 MiB\n",
      "22/12/06 20:50:45 WARN DAGScheduler: Broadcasting large task binary with size 3.9 MiB\n",
      "22/12/06 20:50:45 WARN DAGScheduler: Broadcasting large task binary with size 3.9 MiB\n",
      "22/12/06 20:50:45 WARN DAGScheduler: Broadcasting large task binary with size 3.9 MiB\n",
      "22/12/06 20:50:45 WARN DAGScheduler: Broadcasting large task binary with size 3.9 MiB\n",
      "22/12/06 20:50:45 WARN DAGScheduler: Broadcasting large task binary with size 3.9 MiB\n",
      "22/12/06 20:50:45 WARN StopWordsRemover: Default locale set was [en_RU]; however, it was not found in available locales in JVM, falling back to en_US locale. Set param `locale` in order to respect another locale.\n",
      "22/12/06 20:50:45 WARN DAGScheduler: Broadcasting large task binary with size 3.9 MiB\n",
      "22/12/06 20:50:45 WARN DAGScheduler: Broadcasting large task binary with size 3.9 MiB\n",
      "22/12/06 20:50:45 WARN DAGScheduler: Broadcasting large task binary with size 3.9 MiB\n",
      "22/12/06 20:50:45 WARN StopWordsRemover: Default locale set was [en_RU]; however, it was not found in available locales in JVM, falling back to en_US locale. Set param `locale` in order to respect another locale.\n",
      "22/12/06 20:50:45 WARN DAGScheduler: Broadcasting large task binary with size 3.9 MiB\n"
     ]
    },
    {
     "name": "stderr",
     "output_type": "stream",
     "text": [
      "                                                                                \r"
     ]
    },
    {
     "name": "stdout",
     "output_type": "stream",
     "text": [
      "22/12/06 20:50:47 WARN DAGScheduler: Broadcasting large task binary with size 3.9 MiB\n",
      "22/12/06 20:50:47 WARN DAGScheduler: Broadcasting large task binary with size 3.9 MiB\n",
      "22/12/06 20:50:47 WARN DAGScheduler: Broadcasting large task binary with size 3.9 MiB\n"
     ]
    },
    {
     "name": "stderr",
     "output_type": "stream",
     "text": [
      "\r",
      "[Stage 2937:>               (0 + 8) / 8][Stage 2939:>               (0 + 0) / 8]\r",
      "\r",
      "                                                                                \r"
     ]
    },
    {
     "name": "stdout",
     "output_type": "stream",
     "text": [
      "22/12/06 20:50:48 WARN DAGScheduler: Broadcasting large task binary with size 3.9 MiB\n",
      "22/12/06 20:50:48 WARN DAGScheduler: Broadcasting large task binary with size 3.9 MiB\n",
      "22/12/06 20:50:48 WARN DAGScheduler: Broadcasting large task binary with size 3.9 MiB\n",
      "22/12/06 20:50:48 WARN DAGScheduler: Broadcasting large task binary with size 3.9 MiB\n",
      "22/12/06 20:50:49 WARN DAGScheduler: Broadcasting large task binary with size 3.9 MiB\n"
     ]
    },
    {
     "name": "stderr",
     "output_type": "stream",
     "text": [
      "                                                                                \r"
     ]
    },
    {
     "name": "stdout",
     "output_type": "stream",
     "text": [
      "22/12/06 20:50:49 WARN DAGScheduler: Broadcasting large task binary with size 3.9 MiB\n",
      "22/12/06 20:50:50 WARN DAGScheduler: Broadcasting large task binary with size 3.9 MiB\n",
      "22/12/06 20:50:50 WARN DAGScheduler: Broadcasting large task binary with size 3.9 MiB\n",
      "22/12/06 20:50:50 WARN DAGScheduler: Broadcasting large task binary with size 3.9 MiB\n",
      "22/12/06 20:50:50 WARN DAGScheduler: Broadcasting large task binary with size 3.9 MiB\n",
      "22/12/06 20:50:50 WARN DAGScheduler: Broadcasting large task binary with size 3.9 MiB\n"
     ]
    },
    {
     "name": "stderr",
     "output_type": "stream",
     "text": [
      "                                                                                \r"
     ]
    },
    {
     "name": "stdout",
     "output_type": "stream",
     "text": [
      "22/12/06 20:50:51 WARN StopWordsRemover: Default locale set was [en_RU]; however, it was not found in available locales in JVM, falling back to en_US locale. Set param `locale` in order to respect another locale.\n",
      "22/12/06 20:50:51 WARN DAGScheduler: Broadcasting large task binary with size 3.9 MiB\n",
      "22/12/06 20:50:52 WARN DAGScheduler: Broadcasting large task binary with size 3.9 MiB\n",
      "22/12/06 20:50:52 WARN DAGScheduler: Broadcasting large task binary with size 3.9 MiB\n",
      "22/12/06 20:50:52 WARN DAGScheduler: Broadcasting large task binary with size 3.9 MiB\n"
     ]
    },
    {
     "name": "stderr",
     "output_type": "stream",
     "text": [
      "                                                                                \r"
     ]
    },
    {
     "name": "stdout",
     "output_type": "stream",
     "text": [
      "22/12/06 20:50:53 WARN DAGScheduler: Broadcasting large task binary with size 3.9 MiB\n",
      "22/12/06 20:50:53 WARN DAGScheduler: Broadcasting large task binary with size 3.9 MiB\n",
      "22/12/06 20:50:53 WARN DAGScheduler: Broadcasting large task binary with size 3.9 MiB\n",
      "22/12/06 20:50:54 WARN DAGScheduler: Broadcasting large task binary with size 3.9 MiB\n",
      "22/12/06 20:50:54 WARN DAGScheduler: Broadcasting large task binary with size 3.9 MiB\n",
      "22/12/06 20:50:54 WARN DAGScheduler: Broadcasting large task binary with size 3.9 MiB\n",
      "22/12/06 20:50:54 WARN DAGScheduler: Broadcasting large task binary with size 3.9 MiB\n",
      "22/12/06 20:50:54 WARN DAGScheduler: Broadcasting large task binary with size 3.9 MiB\n",
      "22/12/06 20:50:54 WARN DAGScheduler: Broadcasting large task binary with size 3.9 MiB\n"
     ]
    },
    {
     "name": "stderr",
     "output_type": "stream",
     "text": [
      "                                                                                \r"
     ]
    },
    {
     "name": "stdout",
     "output_type": "stream",
     "text": [
      "22/12/06 20:50:55 WARN DAGScheduler: Broadcasting large task binary with size 3.9 MiB\n",
      "22/12/06 20:50:55 WARN DAGScheduler: Broadcasting large task binary with size 3.9 MiB\n",
      "22/12/06 20:50:56 WARN DAGScheduler: Broadcasting large task binary with size 3.9 MiB\n",
      "22/12/06 20:50:56 WARN DAGScheduler: Broadcasting large task binary with size 3.9 MiB\n",
      "22/12/06 20:50:56 WARN DAGScheduler: Broadcasting large task binary with size 3.9 MiB\n",
      "22/12/06 20:50:56 WARN DAGScheduler: Broadcasting large task binary with size 3.9 MiB\n",
      "22/12/06 20:50:56 WARN DAGScheduler: Broadcasting large task binary with size 3.9 MiB\n",
      "22/12/06 20:50:56 WARN DAGScheduler: Broadcasting large task binary with size 3.9 MiB\n",
      "22/12/06 20:50:56 WARN DAGScheduler: Broadcasting large task binary with size 3.9 MiB\n"
     ]
    },
    {
     "name": "stderr",
     "output_type": "stream",
     "text": [
      "                                                                                \r"
     ]
    },
    {
     "name": "stdout",
     "output_type": "stream",
     "text": [
      "22/12/06 20:50:57 WARN DAGScheduler: Broadcasting large task binary with size 3.9 MiB\n",
      "22/12/06 20:50:57 WARN DAGScheduler: Broadcasting large task binary with size 3.9 MiB\n",
      "22/12/06 20:50:58 WARN DAGScheduler: Broadcasting large task binary with size 3.9 MiB\n",
      "22/12/06 20:50:58 WARN DAGScheduler: Broadcasting large task binary with size 3.9 MiB\n",
      "22/12/06 20:50:58 WARN DAGScheduler: Broadcasting large task binary with size 3.9 MiB\n",
      "22/12/06 20:50:58 WARN DAGScheduler: Broadcasting large task binary with size 3.9 MiB\n",
      "22/12/06 20:50:58 WARN DAGScheduler: Broadcasting large task binary with size 3.9 MiB\n",
      "22/12/06 20:50:58 WARN DAGScheduler: Broadcasting large task binary with size 3.9 MiB\n",
      "22/12/06 20:50:58 WARN DAGScheduler: Broadcasting large task binary with size 3.9 MiB\n",
      "22/12/06 20:50:58 WARN DAGScheduler: Broadcasting large task binary with size 3.9 MiB\n",
      "22/12/06 20:50:58 WARN DAGScheduler: Broadcasting large task binary with size 3.9 MiB\n",
      "22/12/06 20:50:58 WARN DAGScheduler: Broadcasting large task binary with size 3.9 MiB\n",
      "22/12/06 20:50:58 WARN DAGScheduler: Broadcasting large task binary with size 3.9 MiB\n",
      "22/12/06 20:50:58 WARN DAGScheduler: Broadcasting large task binary with size 3.9 MiB\n",
      "22/12/06 20:50:58 WARN DAGScheduler: Broadcasting large task binary with size 3.9 MiB\n",
      "22/12/06 20:50:58 WARN DAGScheduler: Broadcasting large task binary with size 3.9 MiB\n",
      "22/12/06 20:50:58 WARN DAGScheduler: Broadcasting large task binary with size 3.9 MiB\n",
      "22/12/06 20:50:59 WARN DAGScheduler: Broadcasting large task binary with size 3.9 MiB\n",
      "22/12/06 20:50:59 WARN DAGScheduler: Broadcasting large task binary with size 3.9 MiB\n",
      "22/12/06 20:50:59 WARN DAGScheduler: Broadcasting large task binary with size 3.9 MiB\n",
      "22/12/06 20:50:59 WARN DAGScheduler: Broadcasting large task binary with size 3.9 MiB\n",
      "22/12/06 20:50:59 WARN DAGScheduler: Broadcasting large task binary with size 3.9 MiB\n",
      "22/12/06 20:50:59 WARN DAGScheduler: Broadcasting large task binary with size 3.9 MiB\n",
      "22/12/06 20:50:59 WARN DAGScheduler: Broadcasting large task binary with size 3.9 MiB\n",
      "22/12/06 20:50:59 WARN DAGScheduler: Broadcasting large task binary with size 3.9 MiB\n",
      "22/12/06 20:50:59 WARN DAGScheduler: Broadcasting large task binary with size 3.9 MiB\n",
      "22/12/06 20:50:59 WARN DAGScheduler: Broadcasting large task binary with size 3.9 MiB\n",
      "22/12/06 20:50:59 WARN DAGScheduler: Broadcasting large task binary with size 3.9 MiB\n",
      "22/12/06 20:50:59 WARN DAGScheduler: Broadcasting large task binary with size 3.9 MiB\n",
      "22/12/06 20:50:59 WARN DAGScheduler: Broadcasting large task binary with size 3.9 MiB\n",
      "22/12/06 20:50:59 WARN DAGScheduler: Broadcasting large task binary with size 3.9 MiB\n",
      "22/12/06 20:50:59 WARN DAGScheduler: Broadcasting large task binary with size 3.9 MiB\n",
      "22/12/06 20:50:59 WARN DAGScheduler: Broadcasting large task binary with size 3.9 MiB\n",
      "22/12/06 20:50:59 WARN DAGScheduler: Broadcasting large task binary with size 3.9 MiB\n",
      "22/12/06 20:50:59 WARN DAGScheduler: Broadcasting large task binary with size 3.9 MiB\n",
      "22/12/06 20:50:59 WARN DAGScheduler: Broadcasting large task binary with size 3.9 MiB\n",
      "22/12/06 20:50:59 WARN DAGScheduler: Broadcasting large task binary with size 3.9 MiB\n",
      "22/12/06 20:50:59 WARN DAGScheduler: Broadcasting large task binary with size 3.9 MiB\n",
      "22/12/06 20:51:00 WARN DAGScheduler: Broadcasting large task binary with size 3.9 MiB\n",
      "22/12/06 20:51:00 WARN DAGScheduler: Broadcasting large task binary with size 3.9 MiB\n",
      "22/12/06 20:51:00 WARN DAGScheduler: Broadcasting large task binary with size 3.9 MiB\n",
      "22/12/06 20:51:00 WARN DAGScheduler: Broadcasting large task binary with size 3.9 MiB\n",
      "22/12/06 20:51:00 WARN DAGScheduler: Broadcasting large task binary with size 3.9 MiB\n",
      "22/12/06 20:51:00 WARN DAGScheduler: Broadcasting large task binary with size 3.9 MiB\n",
      "22/12/06 20:51:00 WARN DAGScheduler: Broadcasting large task binary with size 3.9 MiB\n",
      "22/12/06 20:51:00 WARN DAGScheduler: Broadcasting large task binary with size 3.9 MiB\n",
      "22/12/06 20:51:00 WARN DAGScheduler: Broadcasting large task binary with size 3.9 MiB\n",
      "22/12/06 20:51:00 WARN DAGScheduler: Broadcasting large task binary with size 3.9 MiB\n",
      "22/12/06 20:51:00 WARN StopWordsRemover: Default locale set was [en_RU]; however, it was not found in available locales in JVM, falling back to en_US locale. Set param `locale` in order to respect another locale.\n",
      "22/12/06 20:51:00 WARN DAGScheduler: Broadcasting large task binary with size 5.8 MiB\n",
      "22/12/06 20:51:01 WARN DAGScheduler: Broadcasting large task binary with size 3.9 MiB\n",
      "22/12/06 20:51:01 WARN DAGScheduler: Broadcasting large task binary with size 3.9 MiB\n"
     ]
    },
    {
     "name": "stderr",
     "output_type": "stream",
     "text": [
      "\r",
      "[Stage 3090:==>             (1 + 7) / 8][Stage 3092:==========>     (5 + 1) / 8]\r",
      "\r",
      "                                                                                \r"
     ]
    },
    {
     "name": "stdout",
     "output_type": "stream",
     "text": [
      "22/12/06 20:51:01 WARN DAGScheduler: Broadcasting large task binary with size 3.9 MiB\n",
      "22/12/06 20:51:01 WARN DAGScheduler: Broadcasting large task binary with size 3.9 MiB\n",
      "22/12/06 20:51:02 WARN StopWordsRemover: Default locale set was [en_RU]; however, it was not found in available locales in JVM, falling back to en_US locale. Set param `locale` in order to respect another locale.\n",
      "22/12/06 20:51:02 WARN DAGScheduler: Broadcasting large task binary with size 3.9 MiB\n",
      "22/12/06 20:51:02 WARN DAGScheduler: Broadcasting large task binary with size 3.9 MiB\n",
      "22/12/06 20:51:02 WARN DAGScheduler: Broadcasting large task binary with size 3.9 MiB\n"
     ]
    },
    {
     "name": "stderr",
     "output_type": "stream",
     "text": [
      "\r",
      "[Stage 3117:>                                                       (0 + 8) / 8]\r"
     ]
    },
    {
     "name": "stdout",
     "output_type": "stream",
     "text": [
      "22/12/06 20:51:02 WARN DAGScheduler: Broadcasting large task binary with size 3.9 MiB\n"
     ]
    },
    {
     "name": "stderr",
     "output_type": "stream",
     "text": [
      "                                                                                \r"
     ]
    },
    {
     "name": "stdout",
     "output_type": "stream",
     "text": [
      "22/12/06 20:51:03 WARN DAGScheduler: Broadcasting large task binary with size 3.9 MiB\n",
      "22/12/06 20:51:03 WARN DAGScheduler: Broadcasting large task binary with size 3.9 MiB\n",
      "22/12/06 20:51:04 WARN DAGScheduler: Broadcasting large task binary with size 3.9 MiB\n",
      "22/12/06 20:51:04 WARN DAGScheduler: Broadcasting large task binary with size 3.9 MiB\n"
     ]
    },
    {
     "name": "stderr",
     "output_type": "stream",
     "text": [
      "                                                                                \r"
     ]
    },
    {
     "name": "stdout",
     "output_type": "stream",
     "text": [
      "22/12/06 20:51:05 WARN DAGScheduler: Broadcasting large task binary with size 3.9 MiB\n",
      "22/12/06 20:51:05 WARN DAGScheduler: Broadcasting large task binary with size 3.9 MiB\n",
      "22/12/06 20:51:05 WARN DAGScheduler: Broadcasting large task binary with size 3.9 MiB\n",
      "22/12/06 20:51:06 WARN DAGScheduler: Broadcasting large task binary with size 3.9 MiB\n",
      "22/12/06 20:51:06 WARN DAGScheduler: Broadcasting large task binary with size 3.9 MiB\n"
     ]
    },
    {
     "name": "stderr",
     "output_type": "stream",
     "text": [
      "                                                                                \r"
     ]
    },
    {
     "name": "stdout",
     "output_type": "stream",
     "text": [
      "22/12/06 20:51:07 WARN DAGScheduler: Broadcasting large task binary with size 3.9 MiB\n",
      "22/12/06 20:51:07 WARN DAGScheduler: Broadcasting large task binary with size 3.9 MiB\n",
      "22/12/06 20:51:07 WARN DAGScheduler: Broadcasting large task binary with size 3.9 MiB\n",
      "22/12/06 20:51:07 WARN StopWordsRemover: Default locale set was [en_RU]; however, it was not found in available locales in JVM, falling back to en_US locale. Set param `locale` in order to respect another locale.\n",
      "22/12/06 20:51:08 WARN DAGScheduler: Broadcasting large task binary with size 3.9 MiB\n",
      "22/12/06 20:51:08 WARN DAGScheduler: Broadcasting large task binary with size 3.9 MiB\n",
      "22/12/06 20:51:08 WARN DAGScheduler: Broadcasting large task binary with size 3.9 MiB\n"
     ]
    },
    {
     "name": "stderr",
     "output_type": "stream",
     "text": [
      "\r",
      "[Stage 3165:>                                                       (0 + 8) / 8]\r",
      "\r",
      "                                                                                \r"
     ]
    },
    {
     "name": "stdout",
     "output_type": "stream",
     "text": [
      "22/12/06 20:51:08 WARN DAGScheduler: Broadcasting large task binary with size 3.9 MiB\n",
      "22/12/06 20:51:08 WARN DAGScheduler: Broadcasting large task binary with size 3.9 MiB\n",
      "22/12/06 20:51:09 WARN DAGScheduler: Broadcasting large task binary with size 3.9 MiB\n",
      "22/12/06 20:51:09 WARN StopWordsRemover: Default locale set was [en_RU]; however, it was not found in available locales in JVM, falling back to en_US locale. Set param `locale` in order to respect another locale.\n",
      "22/12/06 20:51:09 WARN DAGScheduler: Broadcasting large task binary with size 3.9 MiB\n",
      "22/12/06 20:51:09 WARN DAGScheduler: Broadcasting large task binary with size 3.9 MiB\n"
     ]
    },
    {
     "name": "stderr",
     "output_type": "stream",
     "text": [
      "                                                                                \r"
     ]
    },
    {
     "name": "stdout",
     "output_type": "stream",
     "text": [
      "22/12/06 20:51:10 WARN DAGScheduler: Broadcasting large task binary with size 3.9 MiB\n",
      "22/12/06 20:51:10 WARN DAGScheduler: Broadcasting large task binary with size 3.9 MiB\n",
      "22/12/06 20:51:11 WARN DAGScheduler: Broadcasting large task binary with size 3.9 MiB\n",
      "22/12/06 20:51:11 WARN DAGScheduler: Broadcasting large task binary with size 3.9 MiB\n",
      "22/12/06 20:51:11 WARN DAGScheduler: Broadcasting large task binary with size 3.9 MiB\n",
      "22/12/06 20:51:11 WARN DAGScheduler: Broadcasting large task binary with size 3.9 MiB\n"
     ]
    },
    {
     "name": "stderr",
     "output_type": "stream",
     "text": [
      "                                                                                \r"
     ]
    },
    {
     "name": "stdout",
     "output_type": "stream",
     "text": [
      "22/12/06 20:51:12 WARN DAGScheduler: Broadcasting large task binary with size 3.9 MiB\n",
      "22/12/06 20:51:13 WARN DAGScheduler: Broadcasting large task binary with size 3.9 MiB\n",
      "22/12/06 20:51:13 WARN DAGScheduler: Broadcasting large task binary with size 3.9 MiB\n",
      "22/12/06 20:51:13 WARN DAGScheduler: Broadcasting large task binary with size 3.9 MiB\n"
     ]
    },
    {
     "name": "stderr",
     "output_type": "stream",
     "text": [
      "                                                                                \r"
     ]
    },
    {
     "name": "stdout",
     "output_type": "stream",
     "text": [
      "22/12/06 20:51:14 WARN StopWordsRemover: Default locale set was [en_RU]; however, it was not found in available locales in JVM, falling back to en_US locale. Set param `locale` in order to respect another locale.\n",
      "22/12/06 20:51:14 WARN DAGScheduler: Broadcasting large task binary with size 3.9 MiB\n",
      "22/12/06 20:51:14 WARN DAGScheduler: Broadcasting large task binary with size 3.9 MiB\n",
      "22/12/06 20:51:15 WARN DAGScheduler: Broadcasting large task binary with size 3.9 MiB\n",
      "22/12/06 20:51:15 WARN DAGScheduler: Broadcasting large task binary with size 3.9 MiB\n"
     ]
    },
    {
     "name": "stderr",
     "output_type": "stream",
     "text": [
      "\r",
      "[Stage 3240:>                                                       (0 + 8) / 8]\r",
      "\r",
      "                                                                                \r"
     ]
    },
    {
     "name": "stdout",
     "output_type": "stream",
     "text": [
      "22/12/06 20:51:15 WARN DAGScheduler: Broadcasting large task binary with size 3.9 MiB\n",
      "22/12/06 20:51:16 WARN DAGScheduler: Broadcasting large task binary with size 3.9 MiB\n",
      "22/12/06 20:51:16 WARN StopWordsRemover: Default locale set was [en_RU]; however, it was not found in available locales in JVM, falling back to en_US locale. Set param `locale` in order to respect another locale.\n",
      "22/12/06 20:51:16 WARN DAGScheduler: Broadcasting large task binary with size 3.9 MiB\n",
      "22/12/06 20:51:16 WARN DAGScheduler: Broadcasting large task binary with size 3.9 MiB\n"
     ]
    },
    {
     "name": "stderr",
     "output_type": "stream",
     "text": [
      "                                                                                \r"
     ]
    },
    {
     "name": "stdout",
     "output_type": "stream",
     "text": [
      "22/12/06 20:51:17 WARN DAGScheduler: Broadcasting large task binary with size 3.9 MiB\n",
      "22/12/06 20:51:18 WARN DAGScheduler: Broadcasting large task binary with size 3.9 MiB\n",
      "22/12/06 20:51:18 WARN DAGScheduler: Broadcasting large task binary with size 3.9 MiB\n",
      "22/12/06 20:51:18 WARN DAGScheduler: Broadcasting large task binary with size 3.9 MiB\n",
      "22/12/06 20:51:18 WARN DAGScheduler: Broadcasting large task binary with size 3.9 MiB\n",
      "22/12/06 20:51:18 WARN DAGScheduler: Broadcasting large task binary with size 3.9 MiB\n"
     ]
    },
    {
     "name": "stderr",
     "output_type": "stream",
     "text": [
      "                                                                                \r"
     ]
    },
    {
     "name": "stdout",
     "output_type": "stream",
     "text": [
      "22/12/06 20:51:19 WARN DAGScheduler: Broadcasting large task binary with size 3.9 MiB\n",
      "22/12/06 20:51:20 WARN DAGScheduler: Broadcasting large task binary with size 3.9 MiB\n",
      "22/12/06 20:51:20 WARN DAGScheduler: Broadcasting large task binary with size 3.9 MiB\n",
      "22/12/06 20:51:20 WARN DAGScheduler: Broadcasting large task binary with size 3.9 MiB\n",
      "22/12/06 20:51:20 WARN DAGScheduler: Broadcasting large task binary with size 3.9 MiB\n",
      "22/12/06 20:51:20 WARN DAGScheduler: Broadcasting large task binary with size 3.9 MiB\n",
      "22/12/06 20:51:20 WARN DAGScheduler: Broadcasting large task binary with size 3.9 MiB\n",
      "22/12/06 20:51:20 WARN DAGScheduler: Broadcasting large task binary with size 3.9 MiB\n",
      "22/12/06 20:51:21 WARN DAGScheduler: Broadcasting large task binary with size 3.9 MiB\n"
     ]
    },
    {
     "name": "stderr",
     "output_type": "stream",
     "text": [
      "                                                                                \r"
     ]
    },
    {
     "name": "stdout",
     "output_type": "stream",
     "text": [
      "22/12/06 20:51:22 WARN DAGScheduler: Broadcasting large task binary with size 3.9 MiB\n",
      "22/12/06 20:51:22 WARN DAGScheduler: Broadcasting large task binary with size 3.9 MiB\n",
      "22/12/06 20:51:22 WARN DAGScheduler: Broadcasting large task binary with size 3.9 MiB\n",
      "22/12/06 20:51:22 WARN DAGScheduler: Broadcasting large task binary with size 3.9 MiB\n",
      "22/12/06 20:51:22 WARN DAGScheduler: Broadcasting large task binary with size 3.9 MiB\n",
      "22/12/06 20:51:22 WARN DAGScheduler: Broadcasting large task binary with size 3.9 MiB\n",
      "22/12/06 20:51:22 WARN DAGScheduler: Broadcasting large task binary with size 3.9 MiB\n",
      "22/12/06 20:51:22 WARN DAGScheduler: Broadcasting large task binary with size 3.9 MiB\n",
      "22/12/06 20:51:22 WARN DAGScheduler: Broadcasting large task binary with size 3.9 MiB\n",
      "22/12/06 20:51:22 WARN DAGScheduler: Broadcasting large task binary with size 3.9 MiB\n",
      "22/12/06 20:51:23 WARN DAGScheduler: Broadcasting large task binary with size 3.9 MiB\n",
      "22/12/06 20:51:23 WARN DAGScheduler: Broadcasting large task binary with size 3.9 MiB\n",
      "22/12/06 20:51:23 WARN DAGScheduler: Broadcasting large task binary with size 3.9 MiB\n",
      "22/12/06 20:51:23 WARN DAGScheduler: Broadcasting large task binary with size 3.9 MiB\n",
      "22/12/06 20:51:23 WARN DAGScheduler: Broadcasting large task binary with size 3.9 MiB\n",
      "22/12/06 20:51:23 WARN DAGScheduler: Broadcasting large task binary with size 3.9 MiB\n",
      "22/12/06 20:51:23 WARN DAGScheduler: Broadcasting large task binary with size 3.9 MiB\n",
      "22/12/06 20:51:23 WARN DAGScheduler: Broadcasting large task binary with size 3.9 MiB\n",
      "22/12/06 20:51:23 WARN DAGScheduler: Broadcasting large task binary with size 3.9 MiB\n",
      "22/12/06 20:51:23 WARN DAGScheduler: Broadcasting large task binary with size 3.9 MiB\n",
      "22/12/06 20:51:23 WARN DAGScheduler: Broadcasting large task binary with size 3.9 MiB\n",
      "22/12/06 20:51:23 WARN DAGScheduler: Broadcasting large task binary with size 3.9 MiB\n",
      "22/12/06 20:51:23 WARN DAGScheduler: Broadcasting large task binary with size 3.9 MiB\n",
      "22/12/06 20:51:23 WARN DAGScheduler: Broadcasting large task binary with size 3.9 MiB\n",
      "22/12/06 20:51:23 WARN DAGScheduler: Broadcasting large task binary with size 3.9 MiB\n",
      "22/12/06 20:51:23 WARN DAGScheduler: Broadcasting large task binary with size 3.9 MiB\n",
      "22/12/06 20:51:23 WARN DAGScheduler: Broadcasting large task binary with size 3.9 MiB\n",
      "22/12/06 20:51:24 WARN DAGScheduler: Broadcasting large task binary with size 3.9 MiB\n",
      "22/12/06 20:51:24 WARN DAGScheduler: Broadcasting large task binary with size 3.9 MiB\n",
      "22/12/06 20:51:24 WARN DAGScheduler: Broadcasting large task binary with size 3.9 MiB\n",
      "22/12/06 20:51:24 WARN DAGScheduler: Broadcasting large task binary with size 3.9 MiB\n",
      "22/12/06 20:51:24 WARN DAGScheduler: Broadcasting large task binary with size 3.9 MiB\n",
      "22/12/06 20:51:24 WARN DAGScheduler: Broadcasting large task binary with size 3.9 MiB\n",
      "22/12/06 20:51:24 WARN DAGScheduler: Broadcasting large task binary with size 3.9 MiB\n",
      "22/12/06 20:51:24 WARN DAGScheduler: Broadcasting large task binary with size 3.9 MiB\n",
      "22/12/06 20:51:24 WARN BlockManager: Asked to remove block broadcast_4720_piece0, which does not exist\n",
      "22/12/06 20:51:24 WARN DAGScheduler: Broadcasting large task binary with size 3.9 MiB\n",
      "22/12/06 20:51:24 WARN DAGScheduler: Broadcasting large task binary with size 3.9 MiB\n",
      "22/12/06 20:51:24 WARN StopWordsRemover: Default locale set was [en_RU]; however, it was not found in available locales in JVM, falling back to en_US locale. Set param `locale` in order to respect another locale.\n",
      "22/12/06 20:51:24 WARN DAGScheduler: Broadcasting large task binary with size 3.9 MiB\n",
      "22/12/06 20:51:24 WARN DAGScheduler: Broadcasting large task binary with size 3.9 MiB\n",
      "22/12/06 20:51:24 WARN DAGScheduler: Broadcasting large task binary with size 3.9 MiB\n",
      "22/12/06 20:51:24 WARN DAGScheduler: Broadcasting large task binary with size 3.9 MiB\n",
      "22/12/06 20:51:24 WARN DAGScheduler: Broadcasting large task binary with size 3.9 MiB\n",
      "22/12/06 20:51:24 WARN DAGScheduler: Broadcasting large task binary with size 3.9 MiB\n",
      "22/12/06 20:51:24 WARN DAGScheduler: Broadcasting large task binary with size 3.9 MiB\n",
      "22/12/06 20:51:25 WARN DAGScheduler: Broadcasting large task binary with size 3.9 MiB\n",
      "22/12/06 20:51:25 WARN DAGScheduler: Broadcasting large task binary with size 3.9 MiB\n",
      "22/12/06 20:51:25 WARN DAGScheduler: Broadcasting large task binary with size 3.9 MiB\n",
      "22/12/06 20:51:25 WARN DAGScheduler: Broadcasting large task binary with size 3.9 MiB\n",
      "22/12/06 20:51:25 WARN DAGScheduler: Broadcasting large task binary with size 3.9 MiB\n",
      "22/12/06 20:51:26 WARN DAGScheduler: Broadcasting large task binary with size 3.9 MiB\n",
      "22/12/06 20:51:26 WARN DAGScheduler: Broadcasting large task binary with size 3.9 MiB\n",
      "22/12/06 20:51:26 WARN DAGScheduler: Broadcasting large task binary with size 3.9 MiB\n",
      "22/12/06 20:51:26 WARN DAGScheduler: Broadcasting large task binary with size 3.9 MiB\n",
      "22/12/06 20:51:26 WARN DAGScheduler: Broadcasting large task binary with size 3.9 MiB\n",
      "22/12/06 20:51:26 WARN DAGScheduler: Broadcasting large task binary with size 3.9 MiB\n",
      "22/12/06 20:51:26 WARN StopWordsRemover: Default locale set was [en_RU]; however, it was not found in available locales in JVM, falling back to en_US locale. Set param `locale` in order to respect another locale.\n",
      "22/12/06 20:51:26 WARN DAGScheduler: Broadcasting large task binary with size 3.9 MiB\n",
      "22/12/06 20:51:26 WARN DAGScheduler: Broadcasting large task binary with size 3.9 MiB\n",
      "22/12/06 20:51:26 WARN DAGScheduler: Broadcasting large task binary with size 3.9 MiB\n",
      "22/12/06 20:51:26 WARN DAGScheduler: Broadcasting large task binary with size 3.9 MiB\n",
      "22/12/06 20:51:26 WARN DAGScheduler: Broadcasting large task binary with size 3.9 MiB\n",
      "22/12/06 20:51:26 WARN DAGScheduler: Broadcasting large task binary with size 3.9 MiB\n",
      "22/12/06 20:51:26 WARN DAGScheduler: Broadcasting large task binary with size 3.9 MiB\n",
      "22/12/06 20:51:26 WARN DAGScheduler: Broadcasting large task binary with size 3.9 MiB\n",
      "22/12/06 20:51:27 WARN DAGScheduler: Broadcasting large task binary with size 3.9 MiB\n"
     ]
    },
    {
     "name": "stderr",
     "output_type": "stream",
     "text": [
      "[Stage 3432:> (1 + 7) / 8][Stage 3436:> (0 + 1) / 8][Stage 3438:> (0 + 0) / 8]8]\r"
     ]
    },
    {
     "name": "stdout",
     "output_type": "stream",
     "text": [
      "22/12/06 20:51:27 WARN DAGScheduler: Broadcasting large task binary with size 3.9 MiB\n",
      "22/12/06 20:51:28 WARN DAGScheduler: Broadcasting large task binary with size 3.9 MiB\n"
     ]
    },
    {
     "name": "stderr",
     "output_type": "stream",
     "text": [
      "\r",
      "                                                                                \r"
     ]
    },
    {
     "name": "stdout",
     "output_type": "stream",
     "text": [
      "22/12/06 20:51:28 WARN DAGScheduler: Broadcasting large task binary with size 3.9 MiB\n",
      "22/12/06 20:51:28 WARN DAGScheduler: Broadcasting large task binary with size 3.9 MiB\n",
      "22/12/06 20:51:28 WARN DAGScheduler: Broadcasting large task binary with size 3.9 MiB\n",
      "22/12/06 20:51:28 WARN DAGScheduler: Broadcasting large task binary with size 3.9 MiB\n",
      "22/12/06 20:51:28 WARN DAGScheduler: Broadcasting large task binary with size 3.9 MiB\n",
      "22/12/06 20:51:29 WARN DAGScheduler: Broadcasting large task binary with size 3.9 MiB\n"
     ]
    },
    {
     "name": "stderr",
     "output_type": "stream",
     "text": [
      "[Stage 3442:> (1 + 7) / 8][Stage 3444:> (3 + 1) / 8][Stage 3446:> (0 + 0) / 8]8]\r"
     ]
    },
    {
     "name": "stdout",
     "output_type": "stream",
     "text": [
      "22/12/06 20:51:29 WARN DAGScheduler: Broadcasting large task binary with size 3.9 MiB\n",
      "22/12/06 20:51:30 WARN DAGScheduler: Broadcasting large task binary with size 3.9 MiB\n"
     ]
    },
    {
     "name": "stderr",
     "output_type": "stream",
     "text": [
      "\r",
      "[Stage 3442:> (1 + 7) / 8][Stage 3446:> (1 + 0) / 8][Stage 3448:> (0 + 0) / 8]\r",
      "\r",
      "                                                                                \r"
     ]
    },
    {
     "name": "stdout",
     "output_type": "stream",
     "text": [
      "22/12/06 20:51:30 WARN DAGScheduler: Broadcasting large task binary with size 3.9 MiB\n",
      "22/12/06 20:51:30 WARN DAGScheduler: Broadcasting large task binary with size 3.9 MiB\n",
      "22/12/06 20:51:30 WARN DAGScheduler: Broadcasting large task binary with size 3.9 MiB\n",
      "22/12/06 20:51:30 WARN DAGScheduler: Broadcasting large task binary with size 3.9 MiB\n",
      "22/12/06 20:51:30 WARN DAGScheduler: Broadcasting large task binary with size 3.9 MiB\n",
      "22/12/06 20:51:31 WARN DAGScheduler: Broadcasting large task binary with size 3.9 MiB\n",
      "22/12/06 20:51:31 WARN DAGScheduler: Broadcasting large task binary with size 3.9 MiB\n"
     ]
    },
    {
     "name": "stderr",
     "output_type": "stream",
     "text": [
      "                                                                                \r"
     ]
    },
    {
     "name": "stdout",
     "output_type": "stream",
     "text": [
      "22/12/06 20:51:31 WARN DAGScheduler: Broadcasting large task binary with size 3.9 MiB\n",
      "22/12/06 20:51:32 WARN DAGScheduler: Broadcasting large task binary with size 3.9 MiB\n",
      "22/12/06 20:51:32 WARN DAGScheduler: Broadcasting large task binary with size 3.9 MiB\n",
      "22/12/06 20:51:32 WARN DAGScheduler: Broadcasting large task binary with size 3.9 MiB\n",
      "22/12/06 20:51:32 WARN DAGScheduler: Broadcasting large task binary with size 3.9 MiB\n",
      "22/12/06 20:51:32 WARN DAGScheduler: Broadcasting large task binary with size 3.9 MiB\n",
      "22/12/06 20:51:32 WARN DAGScheduler: Broadcasting large task binary with size 3.9 MiB\n",
      "22/12/06 20:51:32 WARN DAGScheduler: Broadcasting large task binary with size 3.9 MiB\n",
      "22/12/06 20:51:32 WARN DAGScheduler: Broadcasting large task binary with size 3.9 MiB\n",
      "22/12/06 20:51:32 WARN DAGScheduler: Broadcasting large task binary with size 3.9 MiB\n",
      "22/12/06 20:51:32 WARN DAGScheduler: Broadcasting large task binary with size 3.9 MiB\n",
      "22/12/06 20:51:33 WARN DAGScheduler: Broadcasting large task binary with size 3.9 MiB\n",
      "22/12/06 20:51:33 WARN DAGScheduler: Broadcasting large task binary with size 3.9 MiB\n",
      "22/12/06 20:51:33 WARN DAGScheduler: Broadcasting large task binary with size 3.9 MiB\n",
      "22/12/06 20:51:33 WARN DAGScheduler: Broadcasting large task binary with size 3.9 MiB\n",
      "22/12/06 20:51:33 WARN DAGScheduler: Broadcasting large task binary with size 3.9 MiB\n",
      "22/12/06 20:51:33 WARN DAGScheduler: Broadcasting large task binary with size 3.9 MiB\n",
      "22/12/06 20:51:33 WARN DAGScheduler: Broadcasting large task binary with size 3.9 MiB\n",
      "22/12/06 20:51:33 WARN DAGScheduler: Broadcasting large task binary with size 3.9 MiB\n",
      "22/12/06 20:51:33 WARN DAGScheduler: Broadcasting large task binary with size 3.9 MiB\n",
      "22/12/06 20:51:33 WARN DAGScheduler: Broadcasting large task binary with size 3.9 MiB\n",
      "22/12/06 20:51:33 WARN DAGScheduler: Broadcasting large task binary with size 3.9 MiB\n",
      "22/12/06 20:51:33 WARN DAGScheduler: Broadcasting large task binary with size 3.9 MiB\n",
      "22/12/06 20:51:33 WARN DAGScheduler: Broadcasting large task binary with size 3.9 MiB\n",
      "22/12/06 20:51:33 WARN DAGScheduler: Broadcasting large task binary with size 3.9 MiB\n",
      "22/12/06 20:51:33 WARN DAGScheduler: Broadcasting large task binary with size 3.9 MiB\n",
      "22/12/06 20:51:33 WARN DAGScheduler: Broadcasting large task binary with size 3.9 MiB\n",
      "22/12/06 20:51:34 WARN DAGScheduler: Broadcasting large task binary with size 3.9 MiB\n",
      "22/12/06 20:51:34 WARN DAGScheduler: Broadcasting large task binary with size 3.9 MiB\n",
      "22/12/06 20:51:34 WARN DAGScheduler: Broadcasting large task binary with size 3.9 MiB\n",
      "22/12/06 20:51:34 WARN DAGScheduler: Broadcasting large task binary with size 3.9 MiB\n",
      "22/12/06 20:51:34 WARN DAGScheduler: Broadcasting large task binary with size 3.9 MiB\n",
      "22/12/06 20:51:34 WARN DAGScheduler: Broadcasting large task binary with size 3.9 MiB\n",
      "22/12/06 20:51:34 WARN DAGScheduler: Broadcasting large task binary with size 3.9 MiB\n",
      "22/12/06 20:51:34 WARN DAGScheduler: Broadcasting large task binary with size 3.9 MiB\n",
      "22/12/06 20:51:34 WARN DAGScheduler: Broadcasting large task binary with size 3.9 MiB\n",
      "22/12/06 20:51:34 WARN DAGScheduler: Broadcasting large task binary with size 3.9 MiB\n",
      "22/12/06 20:51:34 WARN DAGScheduler: Broadcasting large task binary with size 3.9 MiB\n",
      "22/12/06 20:51:34 WARN DAGScheduler: Broadcasting large task binary with size 3.9 MiB\n",
      "22/12/06 20:51:34 WARN DAGScheduler: Broadcasting large task binary with size 3.9 MiB\n",
      "22/12/06 20:51:34 WARN DAGScheduler: Broadcasting large task binary with size 3.9 MiB\n",
      "22/12/06 20:51:34 WARN DAGScheduler: Broadcasting large task binary with size 3.9 MiB\n",
      "22/12/06 20:51:34 WARN DAGScheduler: Broadcasting large task binary with size 3.9 MiB\n",
      "22/12/06 20:51:34 WARN DAGScheduler: Broadcasting large task binary with size 3.9 MiB\n",
      "22/12/06 20:51:34 WARN DAGScheduler: Broadcasting large task binary with size 3.9 MiB\n",
      "22/12/06 20:51:34 WARN DAGScheduler: Broadcasting large task binary with size 3.9 MiB\n",
      "22/12/06 20:51:35 WARN StopWordsRemover: Default locale set was [en_RU]; however, it was not found in available locales in JVM, falling back to en_US locale. Set param `locale` in order to respect another locale.\n",
      "22/12/06 20:51:35 WARN DAGScheduler: Broadcasting large task binary with size 3.9 MiB\n",
      "22/12/06 20:51:35 WARN DAGScheduler: Broadcasting large task binary with size 3.9 MiB\n",
      "22/12/06 20:51:35 WARN DAGScheduler: Broadcasting large task binary with size 3.9 MiB\n",
      "22/12/06 20:51:35 WARN DAGScheduler: Broadcasting large task binary with size 3.9 MiB\n",
      "22/12/06 20:51:35 WARN DAGScheduler: Broadcasting large task binary with size 3.9 MiB\n",
      "22/12/06 20:51:35 WARN DAGScheduler: Broadcasting large task binary with size 3.9 MiB\n",
      "22/12/06 20:51:35 WARN DAGScheduler: Broadcasting large task binary with size 3.9 MiB\n"
     ]
    },
    {
     "name": "stderr",
     "output_type": "stream",
     "text": [
      "\r",
      "[Stage 3564:==>             (1 + 7) / 8][Stage 3566:==>             (1 + 1) / 8]\r"
     ]
    },
    {
     "name": "stdout",
     "output_type": "stream",
     "text": [
      "22/12/06 20:51:36 WARN DAGScheduler: Broadcasting large task binary with size 3.9 MiB\n",
      "22/12/06 20:51:36 WARN DAGScheduler: Broadcasting large task binary with size 3.9 MiB\n",
      "22/12/06 20:51:36 WARN DAGScheduler: Broadcasting large task binary with size 3.9 MiB\n"
     ]
    },
    {
     "name": "stderr",
     "output_type": "stream",
     "text": [
      "\r",
      "[Stage 3564:> (1 + 7) / 8][Stage 3568:> (1 + 0) / 8][Stage 3570:> (0 + 0) / 8]\r",
      "\r",
      "                                                                                \r"
     ]
    },
    {
     "name": "stdout",
     "output_type": "stream",
     "text": [
      "22/12/06 20:51:36 WARN DAGScheduler: Broadcasting large task binary with size 3.9 MiB\n",
      "22/12/06 20:51:36 WARN DAGScheduler: Broadcasting large task binary with size 3.9 MiB\n",
      "22/12/06 20:51:36 WARN DAGScheduler: Broadcasting large task binary with size 3.9 MiB\n",
      "22/12/06 20:51:36 WARN DAGScheduler: Broadcasting large task binary with size 3.9 MiB\n",
      "22/12/06 20:51:36 WARN DAGScheduler: Broadcasting large task binary with size 3.9 MiB\n",
      "22/12/06 20:51:36 WARN StopWordsRemover: Default locale set was [en_RU]; however, it was not found in available locales in JVM, falling back to en_US locale. Set param `locale` in order to respect another locale.\n",
      "22/12/06 20:51:36 WARN DAGScheduler: Broadcasting large task binary with size 3.9 MiB\n",
      "22/12/06 20:51:36 WARN DAGScheduler: Broadcasting large task binary with size 3.9 MiB\n",
      "22/12/06 20:51:36 WARN DAGScheduler: Broadcasting large task binary with size 3.9 MiB\n",
      "22/12/06 20:51:36 WARN DAGScheduler: Broadcasting large task binary with size 3.9 MiB\n",
      "22/12/06 20:51:36 WARN DAGScheduler: Broadcasting large task binary with size 3.9 MiB\n",
      "22/12/06 20:51:36 WARN DAGScheduler: Broadcasting large task binary with size 3.9 MiB\n",
      "22/12/06 20:51:37 WARN DAGScheduler: Broadcasting large task binary with size 3.9 MiB\n",
      "22/12/06 20:51:37 WARN DAGScheduler: Broadcasting large task binary with size 3.9 MiB\n",
      "22/12/06 20:51:37 WARN DAGScheduler: Broadcasting large task binary with size 3.9 MiB\n"
     ]
    },
    {
     "name": "stderr",
     "output_type": "stream",
     "text": [
      "                                                                                \r"
     ]
    },
    {
     "name": "stdout",
     "output_type": "stream",
     "text": [
      "22/12/06 20:51:38 WARN DAGScheduler: Broadcasting large task binary with size 3.9 MiB\n",
      "22/12/06 20:51:38 WARN DAGScheduler: Broadcasting large task binary with size 3.9 MiB\n",
      "22/12/06 20:51:38 WARN DAGScheduler: Broadcasting large task binary with size 3.9 MiB\n",
      "22/12/06 20:51:38 WARN DAGScheduler: Broadcasting large task binary with size 3.9 MiB\n",
      "22/12/06 20:51:38 WARN DAGScheduler: Broadcasting large task binary with size 3.9 MiB\n",
      "22/12/06 20:51:38 WARN DAGScheduler: Broadcasting large task binary with size 3.9 MiB\n",
      "22/12/06 20:51:39 WARN DAGScheduler: Broadcasting large task binary with size 3.9 MiB\n",
      "22/12/06 20:51:39 WARN DAGScheduler: Broadcasting large task binary with size 3.9 MiB\n",
      "22/12/06 20:51:39 WARN DAGScheduler: Broadcasting large task binary with size 3.9 MiB\n",
      "22/12/06 20:51:39 WARN DAGScheduler: Broadcasting large task binary with size 3.9 MiB\n",
      "22/12/06 20:51:39 WARN DAGScheduler: Broadcasting large task binary with size 3.9 MiB\n",
      "22/12/06 20:51:39 WARN DAGScheduler: Broadcasting large task binary with size 3.9 MiB\n",
      "22/12/06 20:51:39 WARN DAGScheduler: Broadcasting large task binary with size 3.9 MiB\n"
     ]
    },
    {
     "name": "stderr",
     "output_type": "stream",
     "text": [
      "[Stage 3607:> (1 + 7) / 8][Stage 3609:=>(4 + 1) / 8][Stage 3611:> (0 + 0) / 8]8]\r"
     ]
    },
    {
     "name": "stdout",
     "output_type": "stream",
     "text": [
      "22/12/06 20:51:40 WARN DAGScheduler: Broadcasting large task binary with size 3.9 MiB\n",
      "22/12/06 20:51:40 WARN DAGScheduler: Broadcasting large task binary with size 3.9 MiB\n"
     ]
    },
    {
     "name": "stderr",
     "output_type": "stream",
     "text": [
      "\r",
      "[Stage 3607:> (1 + 7) / 8][Stage 3611:> (1 + 0) / 8][Stage 3613:> (0 + 0) / 8]\r",
      "\r",
      "                                                                                \r"
     ]
    },
    {
     "name": "stdout",
     "output_type": "stream",
     "text": [
      "22/12/06 20:51:40 WARN DAGScheduler: Broadcasting large task binary with size 3.9 MiB\n",
      "22/12/06 20:51:41 WARN DAGScheduler: Broadcasting large task binary with size 3.9 MiB\n",
      "22/12/06 20:51:41 WARN DAGScheduler: Broadcasting large task binary with size 3.9 MiB\n",
      "22/12/06 20:51:41 WARN DAGScheduler: Broadcasting large task binary with size 3.9 MiB\n",
      "22/12/06 20:51:41 WARN DAGScheduler: Broadcasting large task binary with size 3.9 MiB\n",
      "22/12/06 20:51:41 WARN DAGScheduler: Broadcasting large task binary with size 3.9 MiB\n"
     ]
    },
    {
     "name": "stderr",
     "output_type": "stream",
     "text": [
      "                                                                                \r"
     ]
    },
    {
     "name": "stdout",
     "output_type": "stream",
     "text": [
      "22/12/06 20:51:42 WARN DAGScheduler: Broadcasting large task binary with size 3.9 MiB\n",
      "22/12/06 20:51:42 WARN DAGScheduler: Broadcasting large task binary with size 3.9 MiB\n",
      "22/12/06 20:51:42 WARN DAGScheduler: Broadcasting large task binary with size 3.9 MiB\n",
      "22/12/06 20:51:43 WARN DAGScheduler: Broadcasting large task binary with size 3.9 MiB\n",
      "22/12/06 20:51:43 WARN DAGScheduler: Broadcasting large task binary with size 3.9 MiB\n",
      "22/12/06 20:51:43 WARN DAGScheduler: Broadcasting large task binary with size 3.9 MiB\n",
      "22/12/06 20:51:43 WARN DAGScheduler: Broadcasting large task binary with size 3.9 MiB\n",
      "22/12/06 20:51:43 WARN DAGScheduler: Broadcasting large task binary with size 3.9 MiB\n",
      "22/12/06 20:51:43 WARN DAGScheduler: Broadcasting large task binary with size 3.9 MiB\n",
      "22/12/06 20:51:43 WARN DAGScheduler: Broadcasting large task binary with size 3.9 MiB\n",
      "22/12/06 20:51:43 WARN DAGScheduler: Broadcasting large task binary with size 3.9 MiB\n",
      "22/12/06 20:51:43 WARN StopWordsRemover: Default locale set was [en_RU]; however, it was not found in available locales in JVM, falling back to en_US locale. Set param `locale` in order to respect another locale.\n",
      "22/12/06 20:51:43 WARN DAGScheduler: Broadcasting large task binary with size 3.9 MiB\n",
      "22/12/06 20:51:43 WARN DAGScheduler: Broadcasting large task binary with size 3.9 MiB\n",
      "22/12/06 20:51:43 WARN DAGScheduler: Broadcasting large task binary with size 3.9 MiB\n",
      "22/12/06 20:51:43 WARN DAGScheduler: Broadcasting large task binary with size 3.9 MiB\n",
      "22/12/06 20:51:43 WARN DAGScheduler: Broadcasting large task binary with size 3.9 MiB\n",
      "22/12/06 20:51:43 WARN DAGScheduler: Broadcasting large task binary with size 3.9 MiB\n",
      "22/12/06 20:51:43 WARN DAGScheduler: Broadcasting large task binary with size 3.9 MiB\n",
      "22/12/06 20:51:44 WARN DAGScheduler: Broadcasting large task binary with size 3.9 MiB\n",
      "22/12/06 20:51:44 WARN DAGScheduler: Broadcasting large task binary with size 3.9 MiB\n",
      "22/12/06 20:51:44 WARN DAGScheduler: Broadcasting large task binary with size 3.9 MiB\n",
      "22/12/06 20:51:44 WARN DAGScheduler: Broadcasting large task binary with size 3.9 MiB\n"
     ]
    },
    {
     "name": "stderr",
     "output_type": "stream",
     "text": [
      "\r",
      "[Stage 3653:> (1 + 7) / 8][Stage 3655:> (1 + 1) / 8][Stage 3657:> (0 + 0) / 8]\r",
      "\r",
      "                                                                                \r"
     ]
    },
    {
     "name": "stdout",
     "output_type": "stream",
     "text": [
      "22/12/06 20:51:45 WARN DAGScheduler: Broadcasting large task binary with size 3.9 MiB\n",
      "22/12/06 20:51:45 WARN DAGScheduler: Broadcasting large task binary with size 3.9 MiB\n",
      "22/12/06 20:51:45 WARN DAGScheduler: Broadcasting large task binary with size 3.9 MiB\n",
      "22/12/06 20:51:45 WARN DAGScheduler: Broadcasting large task binary with size 3.9 MiB\n",
      "22/12/06 20:51:45 WARN DAGScheduler: Broadcasting large task binary with size 3.9 MiB\n",
      "22/12/06 20:51:45 WARN StopWordsRemover: Default locale set was [en_RU]; however, it was not found in available locales in JVM, falling back to en_US locale. Set param `locale` in order to respect another locale.\n",
      "22/12/06 20:51:45 WARN DAGScheduler: Broadcasting large task binary with size 3.9 MiB\n",
      "22/12/06 20:51:45 WARN DAGScheduler: Broadcasting large task binary with size 3.9 MiB\n",
      "22/12/06 20:51:45 WARN DAGScheduler: Broadcasting large task binary with size 3.9 MiB\n",
      "22/12/06 20:51:45 WARN DAGScheduler: Broadcasting large task binary with size 3.9 MiB\n",
      "22/12/06 20:51:45 WARN DAGScheduler: Broadcasting large task binary with size 3.9 MiB\n"
     ]
    },
    {
     "name": "stderr",
     "output_type": "stream",
     "text": [
      "                                                                                \r"
     ]
    },
    {
     "name": "stdout",
     "output_type": "stream",
     "text": [
      "22/12/06 20:51:47 WARN DAGScheduler: Broadcasting large task binary with size 3.9 MiB\n",
      "22/12/06 20:51:47 WARN DAGScheduler: Broadcasting large task binary with size 3.9 MiB\n",
      "22/12/06 20:51:47 WARN DAGScheduler: Broadcasting large task binary with size 3.9 MiB\n",
      "22/12/06 20:51:47 WARN DAGScheduler: Broadcasting large task binary with size 3.9 MiB\n",
      "22/12/06 20:51:47 WARN DAGScheduler: Broadcasting large task binary with size 3.9 MiB\n",
      "22/12/06 20:51:47 WARN DAGScheduler: Broadcasting large task binary with size 3.9 MiB\n",
      "22/12/06 20:51:47 WARN DAGScheduler: Broadcasting large task binary with size 3.9 MiB\n"
     ]
    },
    {
     "name": "stderr",
     "output_type": "stream",
     "text": [
      "                                                                                \r"
     ]
    },
    {
     "name": "stdout",
     "output_type": "stream",
     "text": [
      "22/12/06 20:51:49 WARN DAGScheduler: Broadcasting large task binary with size 3.9 MiB\n",
      "22/12/06 20:51:49 WARN DAGScheduler: Broadcasting large task binary with size 3.9 MiB\n",
      "22/12/06 20:51:49 WARN DAGScheduler: Broadcasting large task binary with size 3.9 MiB\n",
      "22/12/06 20:51:49 WARN DAGScheduler: Broadcasting large task binary with size 3.9 MiB\n",
      "22/12/06 20:51:49 WARN DAGScheduler: Broadcasting large task binary with size 3.9 MiB\n",
      "22/12/06 20:51:49 WARN DAGScheduler: Broadcasting large task binary with size 3.9 MiB\n",
      "22/12/06 20:51:49 WARN DAGScheduler: Broadcasting large task binary with size 3.9 MiB\n",
      "22/12/06 20:51:49 WARN DAGScheduler: Broadcasting large task binary with size 3.9 MiB\n",
      "22/12/06 20:51:49 WARN DAGScheduler: Broadcasting large task binary with size 3.9 MiB\n",
      "22/12/06 20:51:49 WARN DAGScheduler: Broadcasting large task binary with size 3.9 MiB\n",
      "22/12/06 20:51:50 WARN DAGScheduler: Broadcasting large task binary with size 3.9 MiB\n",
      "22/12/06 20:51:50 WARN DAGScheduler: Broadcasting large task binary with size 3.9 MiB\n"
     ]
    },
    {
     "name": "stderr",
     "output_type": "stream",
     "text": [
      "                                                                                \r"
     ]
    },
    {
     "name": "stdout",
     "output_type": "stream",
     "text": [
      "22/12/06 20:51:51 WARN DAGScheduler: Broadcasting large task binary with size 3.9 MiB\n",
      "22/12/06 20:51:51 WARN DAGScheduler: Broadcasting large task binary with size 3.9 MiB\n",
      "22/12/06 20:51:51 WARN DAGScheduler: Broadcasting large task binary with size 3.9 MiB\n",
      "22/12/06 20:51:51 WARN StopWordsRemover: Default locale set was [en_RU]; however, it was not found in available locales in JVM, falling back to en_US locale. Set param `locale` in order to respect another locale.\n",
      "22/12/06 20:51:52 WARN StopWordsRemover: Default locale set was [en_RU]; however, it was not found in available locales in JVM, falling back to en_US locale. Set param `locale` in order to respect another locale.\n",
      "22/12/06 20:51:52 WARN DAGScheduler: Broadcasting large task binary with size 5.8 MiB\n",
      "22/12/06 20:51:52 WARN DAGScheduler: Broadcasting large task binary with size 3.9 MiB\n",
      "22/12/06 20:51:52 WARN DAGScheduler: Broadcasting large task binary with size 3.9 MiB\n"
     ]
    },
    {
     "name": "stderr",
     "output_type": "stream",
     "text": [
      "                                                                                \r"
     ]
    },
    {
     "name": "stdout",
     "output_type": "stream",
     "text": [
      "22/12/06 20:51:53 WARN DAGScheduler: Broadcasting large task binary with size 3.9 MiB\n",
      "22/12/06 20:51:53 WARN DAGScheduler: Broadcasting large task binary with size 3.9 MiB\n",
      "22/12/06 20:51:54 WARN DAGScheduler: Broadcasting large task binary with size 3.9 MiB\n",
      "22/12/06 20:51:54 WARN DAGScheduler: Broadcasting large task binary with size 3.9 MiB\n",
      "22/12/06 20:51:54 WARN DAGScheduler: Broadcasting large task binary with size 3.9 MiB\n",
      "22/12/06 20:51:54 WARN DAGScheduler: Broadcasting large task binary with size 3.9 MiB\n",
      "22/12/06 20:51:54 WARN StopWordsRemover: Default locale set was [en_RU]; however, it was not found in available locales in JVM, falling back to en_US locale. Set param `locale` in order to respect another locale.\n",
      "22/12/06 20:51:54 WARN StopWordsRemover: Default locale set was [en_RU]; however, it was not found in available locales in JVM, falling back to en_US locale. Set param `locale` in order to respect another locale.\n",
      "22/12/06 20:51:54 WARN DAGScheduler: Broadcasting large task binary with size 3.9 MiB\n",
      "22/12/06 20:51:54 WARN DAGScheduler: Broadcasting large task binary with size 3.9 MiB\n",
      "22/12/06 20:51:54 WARN DAGScheduler: Broadcasting large task binary with size 3.9 MiB\n",
      "22/12/06 20:51:54 WARN DAGScheduler: Broadcasting large task binary with size 3.9 MiB\n"
     ]
    },
    {
     "name": "stderr",
     "output_type": "stream",
     "text": [
      "                                                                                \r"
     ]
    },
    {
     "name": "stdout",
     "output_type": "stream",
     "text": [
      "22/12/06 20:51:57 WARN DAGScheduler: Broadcasting large task binary with size 3.9 MiB\n",
      "22/12/06 20:51:57 WARN DAGScheduler: Broadcasting large task binary with size 3.9 MiB\n"
     ]
    },
    {
     "name": "stderr",
     "output_type": "stream",
     "text": [
      "\r",
      "[Stage 3764:======>         (3 + 5) / 8][Stage 3770:>               (0 + 2) / 8]\r",
      "\r",
      "                                                                                \r"
     ]
    },
    {
     "name": "stdout",
     "output_type": "stream",
     "text": [
      "22/12/06 20:51:57 WARN DAGScheduler: Broadcasting large task binary with size 3.9 MiB\n",
      "22/12/06 20:51:58 WARN DAGScheduler: Broadcasting large task binary with size 3.9 MiB\n"
     ]
    },
    {
     "name": "stderr",
     "output_type": "stream",
     "text": [
      "                                                                                \r"
     ]
    },
    {
     "name": "stdout",
     "output_type": "stream",
     "text": [
      "22/12/06 20:51:59 WARN DAGScheduler: Broadcasting large task binary with size 3.9 MiB\n",
      "22/12/06 20:51:59 WARN DAGScheduler: Broadcasting large task binary with size 3.9 MiB\n",
      "22/12/06 20:51:59 WARN DAGScheduler: Broadcasting large task binary with size 3.9 MiB\n"
     ]
    },
    {
     "name": "stderr",
     "output_type": "stream",
     "text": [
      "\r",
      "[Stage 3776:>               (0 + 8) / 8][Stage 3778:>               (0 + 0) / 8]\r"
     ]
    },
    {
     "name": "stdout",
     "output_type": "stream",
     "text": [
      "22/12/06 20:52:00 WARN DAGScheduler: Broadcasting large task binary with size 3.9 MiB\n"
     ]
    },
    {
     "name": "stderr",
     "output_type": "stream",
     "text": [
      "\r",
      "[Stage 3771:> (0 + 0) / 2][Stage 3776:> (0 + 8) / 8][Stage 3778:> (0 + 0) / 8]\r",
      "\r",
      "                                                                                \r"
     ]
    },
    {
     "name": "stdout",
     "output_type": "stream",
     "text": [
      "22/12/06 20:52:00 WARN DAGScheduler: Broadcasting large task binary with size 3.9 MiB\n",
      "22/12/06 20:52:01 WARN DAGScheduler: Broadcasting large task binary with size 3.9 MiB\n",
      "22/12/06 20:52:01 WARN DAGScheduler: Broadcasting large task binary with size 3.9 MiB\n",
      "22/12/06 20:52:01 WARN DAGScheduler: Broadcasting large task binary with size 3.9 MiB\n"
     ]
    },
    {
     "name": "stderr",
     "output_type": "stream",
     "text": [
      "                                                                                \r"
     ]
    },
    {
     "name": "stdout",
     "output_type": "stream",
     "text": [
      "22/12/06 20:52:02 WARN DAGScheduler: Broadcasting large task binary with size 3.9 MiB\n",
      "22/12/06 20:52:02 WARN DAGScheduler: Broadcasting large task binary with size 3.9 MiB\n",
      "22/12/06 20:52:03 WARN DAGScheduler: Broadcasting large task binary with size 3.9 MiB\n",
      "22/12/06 20:52:03 WARN DAGScheduler: Broadcasting large task binary with size 3.9 MiB\n"
     ]
    },
    {
     "name": "stderr",
     "output_type": "stream",
     "text": [
      "                                                                                \r"
     ]
    },
    {
     "name": "stdout",
     "output_type": "stream",
     "text": [
      "22/12/06 20:52:04 WARN StopWordsRemover: Default locale set was [en_RU]; however, it was not found in available locales in JVM, falling back to en_US locale. Set param `locale` in order to respect another locale.\n",
      "22/12/06 20:52:04 WARN DAGScheduler: Broadcasting large task binary with size 3.9 MiB\n",
      "22/12/06 20:52:04 WARN DAGScheduler: Broadcasting large task binary with size 3.9 MiB\n",
      "22/12/06 20:52:05 WARN DAGScheduler: Broadcasting large task binary with size 3.9 MiB\n",
      "22/12/06 20:52:05 WARN DAGScheduler: Broadcasting large task binary with size 3.9 MiB\n"
     ]
    },
    {
     "name": "stderr",
     "output_type": "stream",
     "text": [
      "\r",
      "[Stage 3794:>                                                       (0 + 8) / 8]\r",
      "\r",
      "                                                                                \r"
     ]
    },
    {
     "name": "stdout",
     "output_type": "stream",
     "text": [
      "22/12/06 20:52:05 WARN StopWordsRemover: Default locale set was [en_RU]; however, it was not found in available locales in JVM, falling back to en_US locale. Set param `locale` in order to respect another locale.\n",
      "22/12/06 20:52:05 WARN DAGScheduler: Broadcasting large task binary with size 3.9 MiB\n",
      "22/12/06 20:52:05 WARN DAGScheduler: Broadcasting large task binary with size 3.9 MiB\n",
      "22/12/06 20:52:06 WARN DAGScheduler: Broadcasting large task binary with size 3.9 MiB\n"
     ]
    },
    {
     "name": "stderr",
     "output_type": "stream",
     "text": [
      "\r",
      "[Stage 3800:==>             (1 + 7) / 8][Stage 3803:==========>     (5 + 1) / 8]\r",
      "\r",
      "                                                                                \r"
     ]
    },
    {
     "name": "stdout",
     "output_type": "stream",
     "text": [
      "22/12/06 20:52:06 WARN DAGScheduler: Broadcasting large task binary with size 3.9 MiB\n",
      "22/12/06 20:52:06 WARN DAGScheduler: Broadcasting large task binary with size 3.9 MiB\n",
      "22/12/06 20:52:06 WARN StopWordsRemover: Default locale set was [en_RU]; however, it was not found in available locales in JVM, falling back to en_US locale. Set param `locale` in order to respect another locale.\n",
      "22/12/06 20:52:06 WARN DAGScheduler: Broadcasting large task binary with size 3.9 MiB\n",
      "22/12/06 20:52:06 WARN StopWordsRemover: Default locale set was [en_RU]; however, it was not found in available locales in JVM, falling back to en_US locale. Set param `locale` in order to respect another locale.\n",
      "22/12/06 20:52:07 WARN DAGScheduler: Broadcasting large task binary with size 3.9 MiB\n",
      "22/12/06 20:52:07 WARN DAGScheduler: Broadcasting large task binary with size 3.9 MiB\n"
     ]
    },
    {
     "name": "stderr",
     "output_type": "stream",
     "text": [
      "                                                                                \r"
     ]
    },
    {
     "name": "stdout",
     "output_type": "stream",
     "text": [
      "22/12/06 20:52:09 WARN DAGScheduler: Broadcasting large task binary with size 3.9 MiB\n",
      "22/12/06 20:52:09 WARN DAGScheduler: Broadcasting large task binary with size 3.9 MiB\n",
      "22/12/06 20:52:09 WARN DAGScheduler: Broadcasting large task binary with size 3.9 MiB\n",
      "22/12/06 20:52:10 WARN DAGScheduler: Broadcasting large task binary with size 3.9 MiB\n",
      "22/12/06 20:52:10 WARN DAGScheduler: Broadcasting large task binary with size 3.9 MiB\n"
     ]
    },
    {
     "name": "stderr",
     "output_type": "stream",
     "text": [
      "                                                                                \r"
     ]
    },
    {
     "name": "stdout",
     "output_type": "stream",
     "text": [
      "22/12/06 20:52:11 WARN DAGScheduler: Broadcasting large task binary with size 3.9 MiB\n",
      "22/12/06 20:52:11 WARN DAGScheduler: Broadcasting large task binary with size 3.9 MiB\n",
      "22/12/06 20:52:12 WARN DAGScheduler: Broadcasting large task binary with size 3.9 MiB\n",
      "22/12/06 20:52:12 WARN DAGScheduler: Broadcasting large task binary with size 3.9 MiB\n",
      "22/12/06 20:52:12 WARN DAGScheduler: Broadcasting large task binary with size 3.9 MiB\n"
     ]
    },
    {
     "name": "stderr",
     "output_type": "stream",
     "text": [
      "                                                                                \r"
     ]
    },
    {
     "name": "stdout",
     "output_type": "stream",
     "text": [
      "22/12/06 20:52:13 WARN DAGScheduler: Broadcasting large task binary with size 3.9 MiB\n",
      "22/12/06 20:52:13 WARN DAGScheduler: Broadcasting large task binary with size 3.9 MiB\n",
      "22/12/06 20:52:13 WARN DAGScheduler: Broadcasting large task binary with size 3.9 MiB\n",
      "22/12/06 20:52:14 WARN DAGScheduler: Broadcasting large task binary with size 3.9 MiB\n",
      "22/12/06 20:52:14 WARN DAGScheduler: Broadcasting large task binary with size 3.9 MiB\n"
     ]
    },
    {
     "name": "stderr",
     "output_type": "stream",
     "text": [
      "                                                                                \r"
     ]
    },
    {
     "name": "stdout",
     "output_type": "stream",
     "text": [
      "22/12/06 20:52:15 WARN DAGScheduler: Broadcasting large task binary with size 3.9 MiB\n",
      "22/12/06 20:52:15 WARN DAGScheduler: Broadcasting large task binary with size 3.9 MiB\n",
      "22/12/06 20:52:15 WARN DAGScheduler: Broadcasting large task binary with size 3.9 MiB\n",
      "22/12/06 20:52:15 WARN DAGScheduler: Broadcasting large task binary with size 3.9 MiB\n"
     ]
    },
    {
     "name": "stderr",
     "output_type": "stream",
     "text": [
      "\r",
      "[Stage 3850:>                                                       (0 + 8) / 8]\r"
     ]
    },
    {
     "name": "stdout",
     "output_type": "stream",
     "text": [
      "22/12/06 20:52:16 WARN DAGScheduler: Broadcasting large task binary with size 3.9 MiB\n"
     ]
    },
    {
     "name": "stderr",
     "output_type": "stream",
     "text": [
      "                                                                                \r"
     ]
    },
    {
     "name": "stdout",
     "output_type": "stream",
     "text": [
      "22/12/06 20:52:17 WARN DAGScheduler: Broadcasting large task binary with size 3.9 MiB\n",
      "22/12/06 20:52:17 WARN StopWordsRemover: Default locale set was [en_RU]; however, it was not found in available locales in JVM, falling back to en_US locale. Set param `locale` in order to respect another locale.\n",
      "22/12/06 20:52:17 WARN DAGScheduler: Broadcasting large task binary with size 3.9 MiB\n",
      "22/12/06 20:52:17 WARN DAGScheduler: Broadcasting large task binary with size 3.9 MiB\n",
      "22/12/06 20:52:17 WARN DAGScheduler: Broadcasting large task binary with size 3.9 MiB\n",
      "22/12/06 20:52:18 WARN DAGScheduler: Broadcasting large task binary with size 3.9 MiB\n"
     ]
    },
    {
     "name": "stderr",
     "output_type": "stream",
     "text": [
      "\r",
      "[Stage 3864:>                                                       (0 + 8) / 8]\r",
      "\r",
      "                                                                                \r"
     ]
    },
    {
     "name": "stdout",
     "output_type": "stream",
     "text": [
      "22/12/06 20:52:18 WARN DAGScheduler: Broadcasting large task binary with size 3.9 MiB\n",
      "22/12/06 20:52:18 WARN DAGScheduler: Broadcasting large task binary with size 3.9 MiB\n",
      "22/12/06 20:52:18 WARN StopWordsRemover: Default locale set was [en_RU]; however, it was not found in available locales in JVM, falling back to en_US locale. Set param `locale` in order to respect another locale.\n",
      "22/12/06 20:52:19 WARN DAGScheduler: Broadcasting large task binary with size 3.9 MiB\n",
      "22/12/06 20:52:19 WARN DAGScheduler: Broadcasting large task binary with size 3.9 MiB\n"
     ]
    },
    {
     "name": "stderr",
     "output_type": "stream",
     "text": [
      "                                                                                \r"
     ]
    },
    {
     "name": "stdout",
     "output_type": "stream",
     "text": [
      "22/12/06 20:52:20 WARN DAGScheduler: Broadcasting large task binary with size 3.9 MiB\n",
      "22/12/06 20:52:20 WARN DAGScheduler: Broadcasting large task binary with size 3.9 MiB\n",
      "22/12/06 20:52:20 WARN DAGScheduler: Broadcasting large task binary with size 3.9 MiB\n",
      "22/12/06 20:52:20 WARN DAGScheduler: Broadcasting large task binary with size 3.9 MiB\n",
      "22/12/06 20:52:21 WARN DAGScheduler: Broadcasting large task binary with size 3.9 MiB\n",
      "22/12/06 20:52:21 WARN DAGScheduler: Broadcasting large task binary with size 3.9 MiB\n"
     ]
    },
    {
     "name": "stderr",
     "output_type": "stream",
     "text": [
      "                                                                                \r"
     ]
    },
    {
     "name": "stdout",
     "output_type": "stream",
     "text": [
      "22/12/06 20:52:21 WARN StopWordsRemover: Default locale set was [en_RU]; however, it was not found in available locales in JVM, falling back to en_US locale. Set param `locale` in order to respect another locale.\n",
      "22/12/06 20:52:22 WARN DAGScheduler: Broadcasting large task binary with size 3.9 MiB\n",
      "22/12/06 20:52:22 WARN DAGScheduler: Broadcasting large task binary with size 3.9 MiB\n",
      "22/12/06 20:52:22 WARN DAGScheduler: Broadcasting large task binary with size 3.9 MiB\n"
     ]
    },
    {
     "name": "stderr",
     "output_type": "stream",
     "text": [
      "\r",
      "[Stage 3911:====>           (2 + 6) / 8][Stage 3917:>               (0 + 1) / 8]\r",
      "\r",
      "                                                                                \r"
     ]
    },
    {
     "name": "stdout",
     "output_type": "stream",
     "text": [
      "22/12/06 20:52:23 WARN DAGScheduler: Broadcasting large task binary with size 3.9 MiB\n",
      "22/12/06 20:52:23 WARN StopWordsRemover: Default locale set was [en_RU]; however, it was not found in available locales in JVM, falling back to en_US locale. Set param `locale` in order to respect another locale.\n",
      "22/12/06 20:52:23 WARN DAGScheduler: Broadcasting large task binary with size 4.0 MiB\n",
      "22/12/06 20:52:24 WARN DAGScheduler: Broadcasting large task binary with size 3.9 MiB\n"
     ]
    },
    {
     "name": "stderr",
     "output_type": "stream",
     "text": [
      "                                                                                \r"
     ]
    },
    {
     "name": "stdout",
     "output_type": "stream",
     "text": [
      "22/12/06 20:52:26 WARN DAGScheduler: Broadcasting large task binary with size 3.9 MiB\n",
      "22/12/06 20:52:26 WARN StopWordsRemover: Default locale set was [en_RU]; however, it was not found in available locales in JVM, falling back to en_US locale. Set param `locale` in order to respect another locale.\n",
      "22/12/06 20:52:26 WARN DAGScheduler: Broadcasting large task binary with size 3.9 MiB\n"
     ]
    },
    {
     "name": "stderr",
     "output_type": "stream",
     "text": [
      "                                                                                \r"
     ]
    },
    {
     "name": "stdout",
     "output_type": "stream",
     "text": [
      "22/12/06 20:52:27 WARN DAGScheduler: Broadcasting large task binary with size 3.9 MiB\n",
      "22/12/06 20:52:28 WARN StopWordsRemover: Default locale set was [en_RU]; however, it was not found in available locales in JVM, falling back to en_US locale. Set param `locale` in order to respect another locale.\n",
      "22/12/06 20:52:28 WARN DAGScheduler: Broadcasting large task binary with size 3.9 MiB\n",
      "22/12/06 20:52:28 WARN DAGScheduler: Broadcasting large task binary with size 3.9 MiB\n"
     ]
    },
    {
     "name": "stderr",
     "output_type": "stream",
     "text": [
      "                                                                                \r"
     ]
    },
    {
     "name": "stdout",
     "output_type": "stream",
     "text": [
      "22/12/06 20:52:29 WARN DAGScheduler: Broadcasting large task binary with size 3.9 MiB\n",
      "22/12/06 20:52:30 WARN DAGScheduler: Broadcasting large task binary with size 3.9 MiB\n",
      "22/12/06 20:52:30 WARN DAGScheduler: Broadcasting large task binary with size 3.9 MiB\n"
     ]
    },
    {
     "name": "stderr",
     "output_type": "stream",
     "text": [
      "                                                                                \r"
     ]
    },
    {
     "name": "stdout",
     "output_type": "stream",
     "text": [
      "22/12/06 20:52:31 WARN DAGScheduler: Broadcasting large task binary with size 3.9 MiB\n",
      "22/12/06 20:52:31 WARN DAGScheduler: Broadcasting large task binary with size 3.9 MiB\n",
      "22/12/06 20:52:32 WARN DAGScheduler: Broadcasting large task binary with size 3.9 MiB\n"
     ]
    },
    {
     "name": "stderr",
     "output_type": "stream",
     "text": [
      "                                                                                \r"
     ]
    },
    {
     "name": "stdout",
     "output_type": "stream",
     "text": [
      "22/12/06 20:52:33 WARN DAGScheduler: Broadcasting large task binary with size 3.9 MiB\n",
      "22/12/06 20:52:33 WARN DAGScheduler: Broadcasting large task binary with size 3.9 MiB\n",
      "22/12/06 20:52:34 WARN StopWordsRemover: Default locale set was [en_RU]; however, it was not found in available locales in JVM, falling back to en_US locale. Set param `locale` in order to respect another locale.\n"
     ]
    },
    {
     "name": "stderr",
     "output_type": "stream",
     "text": [
      "\r",
      "[Stage 3980:> (0 + 0) / 2][Stage 3985:> (0 + 8) / 8][Stage 3987:> (0 + 0) / 8]\r"
     ]
    },
    {
     "name": "stdout",
     "output_type": "stream",
     "text": [
      "22/12/06 20:52:34 WARN DAGScheduler: Broadcasting large task binary with size 3.9 MiB\n"
     ]
    },
    {
     "name": "stderr",
     "output_type": "stream",
     "text": [
      "\r",
      "[Stage 3980:> (0 + 1) / 2][Stage 3985:> (1 + 7) / 8][Stage 3987:> (0 + 0) / 8]\r",
      "\r",
      "                                                                                \r"
     ]
    },
    {
     "name": "stdout",
     "output_type": "stream",
     "text": [
      "22/12/06 20:52:34 WARN DAGScheduler: Broadcasting large task binary with size 3.9 MiB\n"
     ]
    },
    {
     "name": "stderr",
     "output_type": "stream",
     "text": [
      "                                                                                \r"
     ]
    },
    {
     "name": "stdout",
     "output_type": "stream",
     "text": [
      "22/12/06 20:52:36 WARN DAGScheduler: Broadcasting large task binary with size 3.9 MiB\n",
      "22/12/06 20:52:36 WARN DAGScheduler: Broadcasting large task binary with size 3.9 MiB\n"
     ]
    },
    {
     "name": "stderr",
     "output_type": "stream",
     "text": [
      "                                                                                \r"
     ]
    },
    {
     "name": "stdout",
     "output_type": "stream",
     "text": [
      "22/12/06 20:52:37 WARN DAGScheduler: Broadcasting large task binary with size 3.9 MiB\n",
      "22/12/06 20:52:37 WARN DAGScheduler: Broadcasting large task binary with size 3.9 MiB\n",
      "22/12/06 20:52:37 WARN DAGScheduler: Broadcasting large task binary with size 3.9 MiB\n",
      "22/12/06 20:52:37 WARN StopWordsRemover: Default locale set was [en_RU]; however, it was not found in available locales in JVM, falling back to en_US locale. Set param `locale` in order to respect another locale.\n",
      "22/12/06 20:52:38 WARN DAGScheduler: Broadcasting large task binary with size 3.9 MiB\n",
      "22/12/06 20:52:38 WARN DAGScheduler: Broadcasting large task binary with size 3.9 MiB\n",
      "22/12/06 20:52:38 WARN StopWordsRemover: Default locale set was [en_RU]; however, it was not found in available locales in JVM, falling back to en_US locale. Set param `locale` in order to respect another locale.\n",
      "22/12/06 20:52:38 WARN DAGScheduler: Broadcasting large task binary with size 3.9 MiB\n",
      "22/12/06 20:52:38 WARN DAGScheduler: Broadcasting large task binary with size 3.9 MiB\n",
      "22/12/06 20:52:38 WARN StopWordsRemover: Default locale set was [en_RU]; however, it was not found in available locales in JVM, falling back to en_US locale. Set param `locale` in order to respect another locale.\n",
      "22/12/06 20:52:38 WARN DAGScheduler: Broadcasting large task binary with size 3.9 MiB\n",
      "22/12/06 20:52:38 WARN DAGScheduler: Broadcasting large task binary with size 3.9 MiB\n"
     ]
    },
    {
     "name": "stderr",
     "output_type": "stream",
     "text": [
      "                                                                                \r"
     ]
    },
    {
     "name": "stdout",
     "output_type": "stream",
     "text": [
      "22/12/06 20:52:39 WARN DAGScheduler: Broadcasting large task binary with size 3.9 MiB\n"
     ]
    },
    {
     "name": "stderr",
     "output_type": "stream",
     "text": [
      "                                                                                \r"
     ]
    },
    {
     "name": "stdout",
     "output_type": "stream",
     "text": [
      "22/12/06 20:52:41 WARN DAGScheduler: Broadcasting large task binary with size 3.9 MiB\n",
      "22/12/06 20:52:41 WARN DAGScheduler: Broadcasting large task binary with size 3.9 MiB\n"
     ]
    },
    {
     "name": "stderr",
     "output_type": "stream",
     "text": [
      "                                                                                \r"
     ]
    },
    {
     "name": "stdout",
     "output_type": "stream",
     "text": [
      "22/12/06 20:52:43 WARN DAGScheduler: Broadcasting large task binary with size 3.9 MiB\n",
      "22/12/06 20:52:43 WARN StopWordsRemover: Default locale set was [en_RU]; however, it was not found in available locales in JVM, falling back to en_US locale. Set param `locale` in order to respect another locale.\n",
      "22/12/06 20:52:43 WARN DAGScheduler: Broadcasting large task binary with size 3.9 MiB\n",
      "22/12/06 20:52:43 WARN DAGScheduler: Broadcasting large task binary with size 3.9 MiB\n",
      "22/12/06 20:52:43 WARN DAGScheduler: Broadcasting large task binary with size 3.9 MiB\n"
     ]
    },
    {
     "name": "stderr",
     "output_type": "stream",
     "text": [
      "                                                                                \r"
     ]
    },
    {
     "name": "stdout",
     "output_type": "stream",
     "text": [
      "22/12/06 20:52:44 WARN StopWordsRemover: Default locale set was [en_RU]; however, it was not found in available locales in JVM, falling back to en_US locale. Set param `locale` in order to respect another locale.\n",
      "22/12/06 20:52:44 WARN DAGScheduler: Broadcasting large task binary with size 3.9 MiB\n",
      "22/12/06 20:52:44 WARN DAGScheduler: Broadcasting large task binary with size 3.9 MiB\n"
     ]
    },
    {
     "name": "stderr",
     "output_type": "stream",
     "text": [
      "                                                                                \r"
     ]
    },
    {
     "name": "stdout",
     "output_type": "stream",
     "text": [
      "22/12/06 20:52:46 WARN DAGScheduler: Broadcasting large task binary with size 3.9 MiB\n"
     ]
    },
    {
     "name": "stderr",
     "output_type": "stream",
     "text": [
      "                                                                                \r"
     ]
    },
    {
     "name": "stdout",
     "output_type": "stream",
     "text": [
      "22/12/06 20:52:47 WARN StopWordsRemover: Default locale set was [en_RU]; however, it was not found in available locales in JVM, falling back to en_US locale. Set param `locale` in order to respect another locale.\n",
      "22/12/06 20:52:47 WARN DAGScheduler: Broadcasting large task binary with size 3.9 MiB\n",
      "22/12/06 20:52:48 WARN DAGScheduler: Broadcasting large task binary with size 3.9 MiB\n"
     ]
    },
    {
     "name": "stderr",
     "output_type": "stream",
     "text": [
      "                                                                                \r"
     ]
    },
    {
     "name": "stdout",
     "output_type": "stream",
     "text": [
      "22/12/06 20:52:50 WARN DAGScheduler: Broadcasting large task binary with size 3.9 MiB\n"
     ]
    },
    {
     "name": "stderr",
     "output_type": "stream",
     "text": [
      "                                                                                \r"
     ]
    },
    {
     "name": "stdout",
     "output_type": "stream",
     "text": [
      "22/12/06 20:52:50 WARN DAGScheduler: Broadcasting large task binary with size 3.9 MiB\n",
      "22/12/06 20:52:50 WARN DAGScheduler: Broadcasting large task binary with size 3.9 MiB\n",
      "22/12/06 20:52:51 WARN DAGScheduler: Broadcasting large task binary with size 3.9 MiB\n"
     ]
    },
    {
     "name": "stderr",
     "output_type": "stream",
     "text": [
      "                                                                                \r"
     ]
    },
    {
     "name": "stdout",
     "output_type": "stream",
     "text": [
      "22/12/06 20:52:53 WARN DAGScheduler: Broadcasting large task binary with size 3.9 MiB\n",
      "22/12/06 20:52:54 WARN DAGScheduler: Broadcasting large task binary with size 3.9 MiB\n",
      "22/12/06 20:52:54 WARN DAGScheduler: Broadcasting large task binary with size 3.9 MiB\n"
     ]
    },
    {
     "name": "stderr",
     "output_type": "stream",
     "text": [
      "                                                                                \r"
     ]
    },
    {
     "name": "stdout",
     "output_type": "stream",
     "text": [
      "22/12/06 20:52:55 WARN StopWordsRemover: Default locale set was [en_RU]; however, it was not found in available locales in JVM, falling back to en_US locale. Set param `locale` in order to respect another locale.\n",
      "22/12/06 20:52:55 WARN DAGScheduler: Broadcasting large task binary with size 3.9 MiB\n",
      "22/12/06 20:52:55 WARN DAGScheduler: Broadcasting large task binary with size 3.9 MiB\n",
      "22/12/06 20:52:55 WARN DAGScheduler: Broadcasting large task binary with size 3.9 MiB\n",
      "22/12/06 20:52:55 WARN StopWordsRemover: Default locale set was [en_RU]; however, it was not found in available locales in JVM, falling back to en_US locale. Set param `locale` in order to respect another locale.\n",
      "22/12/06 20:52:55 WARN DAGScheduler: Broadcasting large task binary with size 3.9 MiB\n",
      "22/12/06 20:52:56 WARN DAGScheduler: Broadcasting large task binary with size 3.9 MiB\n"
     ]
    },
    {
     "name": "stderr",
     "output_type": "stream",
     "text": [
      "                                                                                \r"
     ]
    },
    {
     "name": "stdout",
     "output_type": "stream",
     "text": [
      "22/12/06 20:52:57 WARN StopWordsRemover: Default locale set was [en_RU]; however, it was not found in available locales in JVM, falling back to en_US locale. Set param `locale` in order to respect another locale.\n",
      "22/12/06 20:52:57 WARN DAGScheduler: Broadcasting large task binary with size 3.9 MiB\n",
      "22/12/06 20:52:57 WARN DAGScheduler: Broadcasting large task binary with size 3.9 MiB\n"
     ]
    },
    {
     "name": "stderr",
     "output_type": "stream",
     "text": [
      "                                                                                \r"
     ]
    },
    {
     "name": "stdout",
     "output_type": "stream",
     "text": [
      "22/12/06 20:52:59 WARN DAGScheduler: Broadcasting large task binary with size 3.9 MiB\n",
      "22/12/06 20:52:59 WARN DAGScheduler: Broadcasting large task binary with size 3.9 MiB\n"
     ]
    },
    {
     "name": "stderr",
     "output_type": "stream",
     "text": [
      "                                                                                \r"
     ]
    },
    {
     "name": "stdout",
     "output_type": "stream",
     "text": [
      "22/12/06 20:53:00 WARN DAGScheduler: Broadcasting large task binary with size 3.9 MiB\n",
      "22/12/06 20:53:00 WARN StopWordsRemover: Default locale set was [en_RU]; however, it was not found in available locales in JVM, falling back to en_US locale. Set param `locale` in order to respect another locale.\n",
      "22/12/06 20:53:00 WARN DAGScheduler: Broadcasting large task binary with size 3.9 MiB\n",
      "22/12/06 20:53:00 WARN DAGScheduler: Broadcasting large task binary with size 3.9 MiB\n",
      "22/12/06 20:53:01 WARN DAGScheduler: Broadcasting large task binary with size 3.9 MiB\n"
     ]
    },
    {
     "name": "stderr",
     "output_type": "stream",
     "text": [
      "                                                                                \r"
     ]
    },
    {
     "name": "stdout",
     "output_type": "stream",
     "text": [
      "22/12/06 20:53:02 WARN DAGScheduler: Broadcasting large task binary with size 3.9 MiB\n",
      "22/12/06 20:53:02 WARN DAGScheduler: Broadcasting large task binary with size 3.9 MiB\n"
     ]
    },
    {
     "name": "stderr",
     "output_type": "stream",
     "text": [
      "                                                                                \r"
     ]
    },
    {
     "name": "stdout",
     "output_type": "stream",
     "text": [
      "22/12/06 20:53:03 WARN DAGScheduler: Broadcasting large task binary with size 3.9 MiB\n",
      "22/12/06 20:53:04 WARN DAGScheduler: Broadcasting large task binary with size 3.9 MiB\n",
      "22/12/06 20:53:04 WARN DAGScheduler: Broadcasting large task binary with size 3.9 MiB\n"
     ]
    },
    {
     "name": "stderr",
     "output_type": "stream",
     "text": [
      "                                                                                \r"
     ]
    },
    {
     "name": "stdout",
     "output_type": "stream",
     "text": [
      "22/12/06 20:53:05 WARN StopWordsRemover: Default locale set was [en_RU]; however, it was not found in available locales in JVM, falling back to en_US locale. Set param `locale` in order to respect another locale.\n",
      "22/12/06 20:53:05 WARN DAGScheduler: Broadcasting large task binary with size 3.9 MiB\n",
      "22/12/06 20:53:05 WARN DAGScheduler: Broadcasting large task binary with size 3.9 MiB\n",
      "22/12/06 20:53:06 WARN DAGScheduler: Broadcasting large task binary with size 3.9 MiB\n"
     ]
    },
    {
     "name": "stderr",
     "output_type": "stream",
     "text": [
      "                                                                                \r"
     ]
    },
    {
     "name": "stdout",
     "output_type": "stream",
     "text": [
      "22/12/06 20:53:06 WARN DAGScheduler: Broadcasting large task binary with size 3.9 MiB\n",
      "22/12/06 20:53:06 WARN DAGScheduler: Broadcasting large task binary with size 3.9 MiB\n",
      "22/12/06 20:53:06 WARN DAGScheduler: Broadcasting large task binary with size 3.9 MiB\n"
     ]
    },
    {
     "name": "stderr",
     "output_type": "stream",
     "text": [
      "                                                                                \r"
     ]
    },
    {
     "name": "stdout",
     "output_type": "stream",
     "text": [
      "22/12/06 20:53:08 WARN DAGScheduler: Broadcasting large task binary with size 3.9 MiB\n",
      "22/12/06 20:53:08 WARN DAGScheduler: Broadcasting large task binary with size 3.9 MiB\n",
      "22/12/06 20:53:08 WARN DAGScheduler: Broadcasting large task binary with size 3.9 MiB\n",
      "22/12/06 20:53:08 WARN DAGScheduler: Broadcasting large task binary with size 3.9 MiB\n",
      "22/12/06 20:53:08 WARN DAGScheduler: Broadcasting large task binary with size 3.9 MiB\n",
      "22/12/06 20:53:08 WARN DAGScheduler: Broadcasting large task binary with size 3.9 MiB\n",
      "22/12/06 20:53:08 WARN DAGScheduler: Broadcasting large task binary with size 3.9 MiB\n",
      "22/12/06 20:53:08 WARN DAGScheduler: Broadcasting large task binary with size 3.9 MiB\n",
      "22/12/06 20:53:08 WARN DAGScheduler: Broadcasting large task binary with size 3.9 MiB\n",
      "22/12/06 20:53:08 WARN DAGScheduler: Broadcasting large task binary with size 3.9 MiB\n",
      "22/12/06 20:53:09 WARN StopWordsRemover: Default locale set was [en_RU]; however, it was not found in available locales in JVM, falling back to en_US locale. Set param `locale` in order to respect another locale.\n",
      "22/12/06 20:53:09 WARN DAGScheduler: Broadcasting large task binary with size 3.9 MiB\n",
      "22/12/06 20:53:09 WARN DAGScheduler: Broadcasting large task binary with size 3.9 MiB\n",
      "22/12/06 20:53:09 WARN DAGScheduler: Broadcasting large task binary with size 3.9 MiB\n",
      "22/12/06 20:53:09 WARN DAGScheduler: Broadcasting large task binary with size 3.9 MiB\n",
      "22/12/06 20:53:09 WARN DAGScheduler: Broadcasting large task binary with size 3.9 MiB\n",
      "22/12/06 20:53:09 WARN DAGScheduler: Broadcasting large task binary with size 3.9 MiB\n",
      "22/12/06 20:53:10 WARN DAGScheduler: Broadcasting large task binary with size 3.9 MiB\n",
      "22/12/06 20:53:10 WARN DAGScheduler: Broadcasting large task binary with size 3.9 MiB\n",
      "22/12/06 20:53:10 WARN DAGScheduler: Broadcasting large task binary with size 3.9 MiB\n",
      "22/12/06 20:53:10 WARN DAGScheduler: Broadcasting large task binary with size 3.9 MiB\n",
      "22/12/06 20:53:10 WARN DAGScheduler: Broadcasting large task binary with size 3.9 MiB\n",
      "22/12/06 20:53:10 WARN DAGScheduler: Broadcasting large task binary with size 3.9 MiB\n",
      "22/12/06 20:53:10 WARN DAGScheduler: Broadcasting large task binary with size 3.9 MiB\n",
      "22/12/06 20:53:10 WARN DAGScheduler: Broadcasting large task binary with size 3.9 MiB\n",
      "22/12/06 20:53:10 WARN DAGScheduler: Broadcasting large task binary with size 3.9 MiB\n",
      "22/12/06 20:53:10 WARN StopWordsRemover: Default locale set was [en_RU]; however, it was not found in available locales in JVM, falling back to en_US locale. Set param `locale` in order to respect another locale.\n",
      "22/12/06 20:53:10 WARN DAGScheduler: Broadcasting large task binary with size 5.8 MiB\n"
     ]
    },
    {
     "name": "stderr",
     "output_type": "stream",
     "text": [
      "                                                                                \r"
     ]
    },
    {
     "name": "stdout",
     "output_type": "stream",
     "text": [
      "22/12/06 20:53:11 WARN StopWordsRemover: Default locale set was [en_RU]; however, it was not found in available locales in JVM, falling back to en_US locale. Set param `locale` in order to respect another locale.\n",
      "22/12/06 20:53:11 WARN StopWordsRemover: Default locale set was [en_RU]; however, it was not found in available locales in JVM, falling back to en_US locale. Set param `locale` in order to respect another locale.\n",
      "22/12/06 20:53:11 WARN StopWordsRemover: Default locale set was [en_RU]; however, it was not found in available locales in JVM, falling back to en_US locale. Set param `locale` in order to respect another locale.\n",
      "22/12/06 20:53:11 WARN StopWordsRemover: Default locale set was [en_RU]; however, it was not found in available locales in JVM, falling back to en_US locale. Set param `locale` in order to respect another locale.\n",
      "22/12/06 20:53:11 WARN StopWordsRemover: Default locale set was [en_RU]; however, it was not found in available locales in JVM, falling back to en_US locale. Set param `locale` in order to respect another locale.\n"
     ]
    },
    {
     "name": "stderr",
     "output_type": "stream",
     "text": [
      "                                                                                \r"
     ]
    },
    {
     "name": "stdout",
     "output_type": "stream",
     "text": [
      "22/12/06 20:53:18 WARN DAGScheduler: Broadcasting large task binary with size 3.9 MiB\n"
     ]
    },
    {
     "name": "stderr",
     "output_type": "stream",
     "text": [
      "                                                                                \r"
     ]
    },
    {
     "name": "stdout",
     "output_type": "stream",
     "text": [
      "22/12/06 20:53:23 WARN DAGScheduler: Broadcasting large task binary with size 3.9 MiB\n"
     ]
    },
    {
     "name": "stderr",
     "output_type": "stream",
     "text": [
      "                                                                                \r"
     ]
    },
    {
     "name": "stdout",
     "output_type": "stream",
     "text": [
      "22/12/06 20:53:24 WARN DAGScheduler: Broadcasting large task binary with size 3.9 MiB\n"
     ]
    },
    {
     "name": "stderr",
     "output_type": "stream",
     "text": [
      "[Stage 4224:=>(7 + 1) / 8][Stage 4226:> (0 + 7) / 8][Stage 4228:> (0 + 0) / 8]  \r"
     ]
    },
    {
     "name": "stdout",
     "output_type": "stream",
     "text": [
      "22/12/06 20:53:29 WARN DAGScheduler: Broadcasting large task binary with size 3.9 MiB\n"
     ]
    },
    {
     "name": "stderr",
     "output_type": "stream",
     "text": [
      "                                                                                \r"
     ]
    },
    {
     "name": "stdout",
     "output_type": "stream",
     "text": [
      "22/12/06 20:53:30 WARN DAGScheduler: Broadcasting large task binary with size 3.9 MiB\n",
      "22/12/06 20:53:30 WARN DAGScheduler: Broadcasting large task binary with size 3.9 MiB\n",
      "22/12/06 20:53:30 WARN DAGScheduler: Broadcasting large task binary with size 3.9 MiB\n",
      "22/12/06 20:53:30 WARN DAGScheduler: Broadcasting large task binary with size 3.9 MiB\n",
      "22/12/06 20:53:30 WARN DAGScheduler: Broadcasting large task binary with size 3.9 MiB\n",
      "22/12/06 20:53:31 WARN DAGScheduler: Broadcasting large task binary with size 3.9 MiB\n",
      "22/12/06 20:53:31 WARN DAGScheduler: Broadcasting large task binary with size 3.9 MiB\n",
      "22/12/06 20:53:31 WARN DAGScheduler: Broadcasting large task binary with size 3.9 MiB\n",
      "22/12/06 20:53:31 WARN DAGScheduler: Broadcasting large task binary with size 3.9 MiB\n",
      "22/12/06 20:53:31 WARN DAGScheduler: Broadcasting large task binary with size 3.9 MiB\n",
      "22/12/06 20:53:31 WARN DAGScheduler: Broadcasting large task binary with size 3.9 MiB\n",
      "22/12/06 20:53:31 WARN DAGScheduler: Broadcasting large task binary with size 3.9 MiB\n",
      "22/12/06 20:53:31 WARN DAGScheduler: Broadcasting large task binary with size 3.9 MiB\n",
      "22/12/06 20:53:31 WARN DAGScheduler: Broadcasting large task binary with size 3.9 MiB\n",
      "22/12/06 20:53:31 WARN DAGScheduler: Broadcasting large task binary with size 3.9 MiB\n",
      "22/12/06 20:53:31 WARN DAGScheduler: Broadcasting large task binary with size 3.9 MiB\n",
      "22/12/06 20:53:31 WARN DAGScheduler: Broadcasting large task binary with size 3.9 MiB\n",
      "22/12/06 20:53:32 WARN DAGScheduler: Broadcasting large task binary with size 3.9 MiB\n",
      "22/12/06 20:53:32 WARN DAGScheduler: Broadcasting large task binary with size 3.9 MiB\n",
      "22/12/06 20:53:32 WARN DAGScheduler: Broadcasting large task binary with size 3.9 MiB\n",
      "22/12/06 20:53:32 WARN DAGScheduler: Broadcasting large task binary with size 3.9 MiB\n",
      "22/12/06 20:53:32 WARN DAGScheduler: Broadcasting large task binary with size 3.9 MiB\n",
      "22/12/06 20:53:32 WARN DAGScheduler: Broadcasting large task binary with size 3.9 MiB\n",
      "22/12/06 20:53:32 WARN DAGScheduler: Broadcasting large task binary with size 3.9 MiB\n",
      "22/12/06 20:53:32 WARN DAGScheduler: Broadcasting large task binary with size 3.9 MiB\n",
      "22/12/06 20:53:32 WARN DAGScheduler: Broadcasting large task binary with size 3.9 MiB\n",
      "22/12/06 20:53:32 WARN DAGScheduler: Broadcasting large task binary with size 3.9 MiB\n",
      "22/12/06 20:53:33 WARN DAGScheduler: Broadcasting large task binary with size 3.9 MiB\n",
      "22/12/06 20:53:33 WARN DAGScheduler: Broadcasting large task binary with size 3.9 MiB\n",
      "22/12/06 20:53:33 WARN DAGScheduler: Broadcasting large task binary with size 3.9 MiB\n",
      "22/12/06 20:53:33 WARN DAGScheduler: Broadcasting large task binary with size 3.9 MiB\n",
      "22/12/06 20:53:33 WARN DAGScheduler: Broadcasting large task binary with size 3.9 MiB\n",
      "22/12/06 20:53:33 WARN DAGScheduler: Broadcasting large task binary with size 3.9 MiB\n",
      "22/12/06 20:53:33 WARN DAGScheduler: Broadcasting large task binary with size 3.9 MiB\n",
      "22/12/06 20:53:33 WARN DAGScheduler: Broadcasting large task binary with size 3.9 MiB\n",
      "22/12/06 20:53:33 WARN DAGScheduler: Broadcasting large task binary with size 3.9 MiB\n",
      "22/12/06 20:53:33 WARN DAGScheduler: Broadcasting large task binary with size 3.9 MiB\n",
      "22/12/06 20:53:33 WARN DAGScheduler: Broadcasting large task binary with size 3.9 MiB\n",
      "22/12/06 20:53:33 WARN DAGScheduler: Broadcasting large task binary with size 3.9 MiB\n",
      "22/12/06 20:53:34 WARN DAGScheduler: Broadcasting large task binary with size 3.9 MiB\n",
      "22/12/06 20:53:34 WARN DAGScheduler: Broadcasting large task binary with size 3.9 MiB\n",
      "22/12/06 20:53:34 WARN DAGScheduler: Broadcasting large task binary with size 3.9 MiB\n",
      "22/12/06 20:53:34 WARN DAGScheduler: Broadcasting large task binary with size 3.9 MiB\n",
      "22/12/06 20:53:34 WARN DAGScheduler: Broadcasting large task binary with size 3.9 MiB\n",
      "22/12/06 20:53:34 WARN DAGScheduler: Broadcasting large task binary with size 3.9 MiB\n",
      "22/12/06 20:53:34 WARN DAGScheduler: Broadcasting large task binary with size 3.9 MiB\n",
      "22/12/06 20:53:34 WARN DAGScheduler: Broadcasting large task binary with size 3.9 MiB\n",
      "22/12/06 20:53:34 WARN StopWordsRemover: Default locale set was [en_RU]; however, it was not found in available locales in JVM, falling back to en_US locale. Set param `locale` in order to respect another locale.\n",
      "22/12/06 20:53:34 WARN DAGScheduler: Broadcasting large task binary with size 3.9 MiB\n",
      "22/12/06 20:53:34 WARN DAGScheduler: Broadcasting large task binary with size 3.9 MiB\n",
      "22/12/06 20:53:34 WARN DAGScheduler: Broadcasting large task binary with size 3.9 MiB\n",
      "22/12/06 20:53:35 WARN StopWordsRemover: Default locale set was [en_RU]; however, it was not found in available locales in JVM, falling back to en_US locale. Set param `locale` in order to respect another locale.\n",
      "22/12/06 20:53:35 WARN DAGScheduler: Broadcasting large task binary with size 3.9 MiB\n"
     ]
    },
    {
     "name": "stderr",
     "output_type": "stream",
     "text": [
      "                                                                                \r"
     ]
    },
    {
     "name": "stdout",
     "output_type": "stream",
     "text": [
      "22/12/06 20:53:36 WARN DAGScheduler: Broadcasting large task binary with size 3.9 MiB\n",
      "22/12/06 20:53:36 WARN DAGScheduler: Broadcasting large task binary with size 3.9 MiB\n",
      "22/12/06 20:53:37 WARN DAGScheduler: Broadcasting large task binary with size 3.9 MiB\n",
      "22/12/06 20:53:37 WARN DAGScheduler: Broadcasting large task binary with size 3.9 MiB\n",
      "22/12/06 20:53:37 WARN DAGScheduler: Broadcasting large task binary with size 3.9 MiB\n",
      "22/12/06 20:53:37 WARN DAGScheduler: Broadcasting large task binary with size 3.9 MiB\n",
      "22/12/06 20:53:37 WARN StopWordsRemover: Default locale set was [en_RU]; however, it was not found in available locales in JVM, falling back to en_US locale. Set param `locale` in order to respect another locale.\n",
      "22/12/06 20:53:37 WARN DAGScheduler: Broadcasting large task binary with size 3.9 MiB\n",
      "22/12/06 20:53:37 WARN DAGScheduler: Broadcasting large task binary with size 3.9 MiB\n"
     ]
    },
    {
     "name": "stderr",
     "output_type": "stream",
     "text": [
      "                                                                                \r"
     ]
    },
    {
     "name": "stdout",
     "output_type": "stream",
     "text": [
      "22/12/06 20:53:38 WARN DAGScheduler: Broadcasting large task binary with size 3.9 MiB\n",
      "22/12/06 20:53:39 WARN DAGScheduler: Broadcasting large task binary with size 3.9 MiB\n",
      "22/12/06 20:53:39 WARN DAGScheduler: Broadcasting large task binary with size 3.9 MiB\n",
      "22/12/06 20:53:39 WARN StopWordsRemover: Default locale set was [en_RU]; however, it was not found in available locales in JVM, falling back to en_US locale. Set param `locale` in order to respect another locale.\n",
      "22/12/06 20:53:39 WARN DAGScheduler: Broadcasting large task binary with size 3.9 MiB\n",
      "22/12/06 20:53:39 WARN DAGScheduler: Broadcasting large task binary with size 3.9 MiB\n"
     ]
    },
    {
     "name": "stderr",
     "output_type": "stream",
     "text": [
      "                                                                                \r"
     ]
    },
    {
     "name": "stdout",
     "output_type": "stream",
     "text": [
      "22/12/06 20:53:40 WARN DAGScheduler: Broadcasting large task binary with size 3.9 MiB\n"
     ]
    },
    {
     "name": "stderr",
     "output_type": "stream",
     "text": [
      "                                                                                \r"
     ]
    },
    {
     "name": "stdout",
     "output_type": "stream",
     "text": [
      "22/12/06 20:53:42 WARN DAGScheduler: Broadcasting large task binary with size 3.9 MiB\n",
      "22/12/06 20:53:42 WARN DAGScheduler: Broadcasting large task binary with size 3.9 MiB\n"
     ]
    },
    {
     "name": "stderr",
     "output_type": "stream",
     "text": [
      "                                                                                \r"
     ]
    },
    {
     "name": "stdout",
     "output_type": "stream",
     "text": [
      "22/12/06 20:53:43 WARN DAGScheduler: Broadcasting large task binary with size 3.9 MiB\n",
      "22/12/06 20:53:44 WARN DAGScheduler: Broadcasting large task binary with size 3.9 MiB\n",
      "22/12/06 20:53:44 WARN DAGScheduler: Broadcasting large task binary with size 3.9 MiB\n"
     ]
    },
    {
     "name": "stderr",
     "output_type": "stream",
     "text": [
      "                                                                                \r"
     ]
    },
    {
     "name": "stdout",
     "output_type": "stream",
     "text": [
      "22/12/06 20:53:45 WARN DAGScheduler: Broadcasting large task binary with size 3.9 MiB\n",
      "22/12/06 20:53:45 WARN DAGScheduler: Broadcasting large task binary with size 3.9 MiB\n",
      "22/12/06 20:53:46 WARN DAGScheduler: Broadcasting large task binary with size 3.9 MiB\n",
      "22/12/06 20:53:46 WARN DAGScheduler: Broadcasting large task binary with size 3.9 MiB\n",
      "22/12/06 20:53:46 WARN DAGScheduler: Broadcasting large task binary with size 3.9 MiB\n",
      "22/12/06 20:53:46 WARN DAGScheduler: Broadcasting large task binary with size 3.9 MiB\n",
      "22/12/06 20:53:46 WARN DAGScheduler: Broadcasting large task binary with size 3.9 MiB\n",
      "22/12/06 20:53:46 WARN DAGScheduler: Broadcasting large task binary with size 3.9 MiB\n"
     ]
    },
    {
     "name": "stderr",
     "output_type": "stream",
     "text": [
      "                                                                                \r"
     ]
    },
    {
     "name": "stdout",
     "output_type": "stream",
     "text": [
      "22/12/06 20:53:47 WARN DAGScheduler: Broadcasting large task binary with size 3.9 MiB\n",
      "22/12/06 20:53:47 WARN DAGScheduler: Broadcasting large task binary with size 3.9 MiB\n",
      "22/12/06 20:53:48 WARN DAGScheduler: Broadcasting large task binary with size 3.9 MiB\n",
      "22/12/06 20:53:48 WARN DAGScheduler: Broadcasting large task binary with size 3.9 MiB\n",
      "22/12/06 20:53:48 WARN DAGScheduler: Broadcasting large task binary with size 3.9 MiB\n",
      "22/12/06 20:53:48 WARN DAGScheduler: Broadcasting large task binary with size 3.9 MiB\n",
      "22/12/06 20:53:48 WARN DAGScheduler: Broadcasting large task binary with size 3.9 MiB\n",
      "22/12/06 20:53:48 WARN DAGScheduler: Broadcasting large task binary with size 3.9 MiB\n",
      "22/12/06 20:53:48 WARN DAGScheduler: Broadcasting large task binary with size 3.9 MiB\n",
      "22/12/06 20:53:48 WARN DAGScheduler: Broadcasting large task binary with size 3.9 MiB\n",
      "22/12/06 20:53:48 WARN DAGScheduler: Broadcasting large task binary with size 3.9 MiB\n",
      "22/12/06 20:53:48 WARN DAGScheduler: Broadcasting large task binary with size 3.9 MiB\n",
      "22/12/06 20:53:48 WARN DAGScheduler: Broadcasting large task binary with size 3.9 MiB\n",
      "22/12/06 20:53:48 WARN DAGScheduler: Broadcasting large task binary with size 3.9 MiB\n",
      "22/12/06 20:53:49 WARN DAGScheduler: Broadcasting large task binary with size 3.9 MiB\n",
      "22/12/06 20:53:49 WARN DAGScheduler: Broadcasting large task binary with size 3.9 MiB\n",
      "22/12/06 20:53:49 WARN DAGScheduler: Broadcasting large task binary with size 3.9 MiB\n",
      "22/12/06 20:53:49 WARN DAGScheduler: Broadcasting large task binary with size 3.9 MiB\n",
      "22/12/06 20:53:49 WARN DAGScheduler: Broadcasting large task binary with size 3.9 MiB\n",
      "22/12/06 20:53:49 WARN DAGScheduler: Broadcasting large task binary with size 3.9 MiB\n",
      "22/12/06 20:53:49 WARN DAGScheduler: Broadcasting large task binary with size 3.9 MiB\n",
      "22/12/06 20:53:49 WARN DAGScheduler: Broadcasting large task binary with size 3.9 MiB\n",
      "22/12/06 20:53:49 WARN DAGScheduler: Broadcasting large task binary with size 3.9 MiB\n",
      "22/12/06 20:53:49 WARN DAGScheduler: Broadcasting large task binary with size 3.9 MiB\n",
      "22/12/06 20:53:49 WARN DAGScheduler: Broadcasting large task binary with size 3.9 MiB\n",
      "22/12/06 20:53:49 WARN DAGScheduler: Broadcasting large task binary with size 3.9 MiB\n",
      "22/12/06 20:53:49 WARN DAGScheduler: Broadcasting large task binary with size 3.9 MiB\n",
      "22/12/06 20:53:50 WARN DAGScheduler: Broadcasting large task binary with size 3.9 MiB\n",
      "22/12/06 20:53:50 WARN DAGScheduler: Broadcasting large task binary with size 3.9 MiB\n",
      "22/12/06 20:53:50 WARN DAGScheduler: Broadcasting large task binary with size 3.9 MiB\n",
      "22/12/06 20:53:50 WARN DAGScheduler: Broadcasting large task binary with size 3.9 MiB\n",
      "22/12/06 20:53:50 WARN DAGScheduler: Broadcasting large task binary with size 3.9 MiB\n",
      "22/12/06 20:53:50 WARN DAGScheduler: Broadcasting large task binary with size 3.9 MiB\n",
      "22/12/06 20:53:50 WARN DAGScheduler: Broadcasting large task binary with size 3.9 MiB\n",
      "22/12/06 20:53:50 WARN StopWordsRemover: Default locale set was [en_RU]; however, it was not found in available locales in JVM, falling back to en_US locale. Set param `locale` in order to respect another locale.\n",
      "22/12/06 20:53:50 WARN DAGScheduler: Broadcasting large task binary with size 3.9 MiB\n",
      "22/12/06 20:53:50 WARN DAGScheduler: Broadcasting large task binary with size 3.9 MiB\n",
      "22/12/06 20:53:50 WARN DAGScheduler: Broadcasting large task binary with size 3.9 MiB\n",
      "22/12/06 20:53:50 WARN DAGScheduler: Broadcasting large task binary with size 3.9 MiB\n",
      "22/12/06 20:53:50 WARN DAGScheduler: Broadcasting large task binary with size 3.9 MiB\n",
      "22/12/06 20:53:50 WARN DAGScheduler: Broadcasting large task binary with size 3.9 MiB\n",
      "22/12/06 20:53:50 WARN DAGScheduler: Broadcasting large task binary with size 3.9 MiB\n",
      "22/12/06 20:53:51 WARN DAGScheduler: Broadcasting large task binary with size 3.9 MiB\n",
      "22/12/06 20:53:51 WARN DAGScheduler: Broadcasting large task binary with size 3.9 MiB\n"
     ]
    },
    {
     "name": "stderr",
     "output_type": "stream",
     "text": [
      "                                                                                \r"
     ]
    },
    {
     "name": "stdout",
     "output_type": "stream",
     "text": [
      "22/12/06 20:53:51 WARN DAGScheduler: Broadcasting large task binary with size 3.9 MiB\n",
      "22/12/06 20:53:51 WARN DAGScheduler: Broadcasting large task binary with size 3.9 MiB\n",
      "22/12/06 20:53:51 WARN DAGScheduler: Broadcasting large task binary with size 3.9 MiB\n",
      "22/12/06 20:53:52 WARN DAGScheduler: Broadcasting large task binary with size 3.9 MiB\n",
      "22/12/06 20:53:52 WARN DAGScheduler: Broadcasting large task binary with size 3.9 MiB\n",
      "22/12/06 20:53:52 WARN StopWordsRemover: Default locale set was [en_RU]; however, it was not found in available locales in JVM, falling back to en_US locale. Set param `locale` in order to respect another locale.\n",
      "22/12/06 20:53:52 WARN DAGScheduler: Broadcasting large task binary with size 3.9 MiB\n",
      "22/12/06 20:53:52 WARN DAGScheduler: Broadcasting large task binary with size 3.9 MiB\n",
      "22/12/06 20:53:52 WARN DAGScheduler: Broadcasting large task binary with size 3.9 MiB\n",
      "22/12/06 20:53:52 WARN DAGScheduler: Broadcasting large task binary with size 3.9 MiB\n",
      "22/12/06 20:53:52 WARN DAGScheduler: Broadcasting large task binary with size 3.9 MiB\n",
      "22/12/06 20:53:52 WARN DAGScheduler: Broadcasting large task binary with size 3.9 MiB\n",
      "22/12/06 20:53:52 WARN DAGScheduler: Broadcasting large task binary with size 3.9 MiB\n"
     ]
    },
    {
     "name": "stderr",
     "output_type": "stream",
     "text": [
      "                                                                                \r"
     ]
    },
    {
     "name": "stdout",
     "output_type": "stream",
     "text": [
      "22/12/06 20:53:53 WARN DAGScheduler: Broadcasting large task binary with size 3.9 MiB\n",
      "22/12/06 20:53:54 WARN DAGScheduler: Broadcasting large task binary with size 3.9 MiB\n",
      "22/12/06 20:53:54 WARN DAGScheduler: Broadcasting large task binary with size 3.9 MiB\n",
      "22/12/06 20:53:54 WARN DAGScheduler: Broadcasting large task binary with size 3.9 MiB\n",
      "22/12/06 20:53:54 WARN DAGScheduler: Broadcasting large task binary with size 3.9 MiB\n",
      "22/12/06 20:53:54 WARN DAGScheduler: Broadcasting large task binary with size 3.9 MiB\n",
      "22/12/06 20:53:54 WARN DAGScheduler: Broadcasting large task binary with size 3.9 MiB\n",
      "22/12/06 20:53:54 WARN DAGScheduler: Broadcasting large task binary with size 3.9 MiB\n",
      "22/12/06 20:53:55 WARN DAGScheduler: Broadcasting large task binary with size 3.9 MiB\n"
     ]
    },
    {
     "name": "stderr",
     "output_type": "stream",
     "text": [
      "                                                                                \r"
     ]
    },
    {
     "name": "stdout",
     "output_type": "stream",
     "text": [
      "22/12/06 20:53:55 WARN DAGScheduler: Broadcasting large task binary with size 3.9 MiB\n",
      "22/12/06 20:53:56 WARN DAGScheduler: Broadcasting large task binary with size 3.9 MiB\n",
      "22/12/06 20:53:56 WARN DAGScheduler: Broadcasting large task binary with size 3.9 MiB\n",
      "22/12/06 20:53:56 WARN DAGScheduler: Broadcasting large task binary with size 3.9 MiB\n",
      "22/12/06 20:53:56 WARN DAGScheduler: Broadcasting large task binary with size 3.9 MiB\n",
      "22/12/06 20:53:56 WARN DAGScheduler: Broadcasting large task binary with size 3.9 MiB\n"
     ]
    },
    {
     "name": "stderr",
     "output_type": "stream",
     "text": [
      "[Stage 4865:> (1 + 7) / 8][Stage 4867:=>(5 + 1) / 8][Stage 4869:> (0 + 0) / 8]\r"
     ]
    },
    {
     "name": "stdout",
     "output_type": "stream",
     "text": [
      "22/12/06 20:53:57 WARN DAGScheduler: Broadcasting large task binary with size 3.9 MiB\n",
      "22/12/06 20:53:58 WARN DAGScheduler: Broadcasting large task binary with size 3.9 MiB\n"
     ]
    },
    {
     "name": "stderr",
     "output_type": "stream",
     "text": [
      "\r",
      "[Stage 4865:> (1 + 7) / 8][Stage 4869:> (2 + 0) / 8][Stage 4871:> (0 + 0) / 8]\r",
      "\r",
      "                                                                                \r"
     ]
    },
    {
     "name": "stdout",
     "output_type": "stream",
     "text": [
      "22/12/06 20:53:58 WARN DAGScheduler: Broadcasting large task binary with size 3.9 MiB\n",
      "22/12/06 20:53:58 WARN DAGScheduler: Broadcasting large task binary with size 3.9 MiB\n",
      "22/12/06 20:53:58 WARN DAGScheduler: Broadcasting large task binary with size 3.9 MiB\n",
      "22/12/06 20:53:58 WARN DAGScheduler: Broadcasting large task binary with size 3.9 MiB\n",
      "22/12/06 20:53:58 WARN DAGScheduler: Broadcasting large task binary with size 3.9 MiB\n",
      "22/12/06 20:53:58 WARN DAGScheduler: Broadcasting large task binary with size 3.9 MiB\n",
      "22/12/06 20:53:58 WARN DAGScheduler: Broadcasting large task binary with size 3.9 MiB\n",
      "22/12/06 20:53:58 WARN DAGScheduler: Broadcasting large task binary with size 3.9 MiB\n",
      "22/12/06 20:53:58 WARN DAGScheduler: Broadcasting large task binary with size 3.9 MiB\n",
      "22/12/06 20:53:58 WARN DAGScheduler: Broadcasting large task binary with size 3.9 MiB\n",
      "22/12/06 20:53:58 WARN DAGScheduler: Broadcasting large task binary with size 3.9 MiB\n",
      "22/12/06 20:53:58 WARN DAGScheduler: Broadcasting large task binary with size 3.9 MiB\n",
      "22/12/06 20:53:59 WARN DAGScheduler: Broadcasting large task binary with size 3.9 MiB\n",
      "22/12/06 20:53:59 WARN DAGScheduler: Broadcasting large task binary with size 3.9 MiB\n",
      "22/12/06 20:53:59 WARN DAGScheduler: Broadcasting large task binary with size 3.9 MiB\n",
      "22/12/06 20:53:59 WARN DAGScheduler: Broadcasting large task binary with size 3.9 MiB\n",
      "22/12/06 20:53:59 WARN DAGScheduler: Broadcasting large task binary with size 3.9 MiB\n",
      "22/12/06 20:53:59 WARN DAGScheduler: Broadcasting large task binary with size 3.9 MiB\n",
      "22/12/06 20:53:59 WARN DAGScheduler: Broadcasting large task binary with size 3.9 MiB\n",
      "22/12/06 20:53:59 WARN DAGScheduler: Broadcasting large task binary with size 3.9 MiB\n",
      "22/12/06 20:53:59 WARN DAGScheduler: Broadcasting large task binary with size 3.9 MiB\n",
      "22/12/06 20:53:59 WARN DAGScheduler: Broadcasting large task binary with size 3.9 MiB\n",
      "22/12/06 20:53:59 WARN DAGScheduler: Broadcasting large task binary with size 3.9 MiB\n",
      "22/12/06 20:53:59 WARN DAGScheduler: Broadcasting large task binary with size 3.9 MiB\n",
      "22/12/06 20:53:59 WARN DAGScheduler: Broadcasting large task binary with size 3.9 MiB\n",
      "22/12/06 20:53:59 WARN DAGScheduler: Broadcasting large task binary with size 3.9 MiB\n",
      "22/12/06 20:54:00 WARN DAGScheduler: Broadcasting large task binary with size 3.9 MiB\n",
      "22/12/06 20:54:00 WARN DAGScheduler: Broadcasting large task binary with size 3.9 MiB\n",
      "22/12/06 20:54:00 WARN DAGScheduler: Broadcasting large task binary with size 3.9 MiB\n",
      "22/12/06 20:54:00 WARN DAGScheduler: Broadcasting large task binary with size 3.9 MiB\n",
      "22/12/06 20:54:00 WARN DAGScheduler: Broadcasting large task binary with size 3.9 MiB\n",
      "22/12/06 20:54:00 WARN DAGScheduler: Broadcasting large task binary with size 3.9 MiB\n",
      "22/12/06 20:54:00 WARN DAGScheduler: Broadcasting large task binary with size 3.9 MiB\n",
      "22/12/06 20:54:00 WARN DAGScheduler: Broadcasting large task binary with size 3.9 MiB\n",
      "22/12/06 20:54:00 WARN DAGScheduler: Broadcasting large task binary with size 3.9 MiB\n",
      "22/12/06 20:54:00 WARN DAGScheduler: Broadcasting large task binary with size 3.9 MiB\n",
      "22/12/06 20:54:00 WARN DAGScheduler: Broadcasting large task binary with size 3.9 MiB\n",
      "22/12/06 20:54:00 WARN DAGScheduler: Broadcasting large task binary with size 3.9 MiB\n",
      "22/12/06 20:54:00 WARN DAGScheduler: Broadcasting large task binary with size 3.9 MiB\n",
      "22/12/06 20:54:00 WARN DAGScheduler: Broadcasting large task binary with size 3.9 MiB\n",
      "22/12/06 20:54:00 WARN DAGScheduler: Broadcasting large task binary with size 3.9 MiB\n",
      "22/12/06 20:54:01 WARN DAGScheduler: Broadcasting large task binary with size 3.9 MiB\n",
      "22/12/06 20:54:01 WARN DAGScheduler: Broadcasting large task binary with size 3.9 MiB\n",
      "22/12/06 20:54:01 WARN DAGScheduler: Broadcasting large task binary with size 3.9 MiB\n",
      "22/12/06 20:54:01 WARN DAGScheduler: Broadcasting large task binary with size 3.9 MiB\n",
      "22/12/06 20:54:01 WARN StopWordsRemover: Default locale set was [en_RU]; however, it was not found in available locales in JVM, falling back to en_US locale. Set param `locale` in order to respect another locale.\n",
      "22/12/06 20:54:01 WARN DAGScheduler: Broadcasting large task binary with size 3.9 MiB\n",
      "22/12/06 20:54:01 WARN DAGScheduler: Broadcasting large task binary with size 3.9 MiB\n",
      "22/12/06 20:54:01 WARN DAGScheduler: Broadcasting large task binary with size 3.9 MiB\n",
      "22/12/06 20:54:01 WARN DAGScheduler: Broadcasting large task binary with size 3.9 MiB\n",
      "22/12/06 20:54:01 WARN DAGScheduler: Broadcasting large task binary with size 3.9 MiB\n",
      "22/12/06 20:54:01 WARN DAGScheduler: Broadcasting large task binary with size 3.9 MiB\n",
      "22/12/06 20:54:01 WARN DAGScheduler: Broadcasting large task binary with size 3.9 MiB\n",
      "22/12/06 20:54:01 WARN StopWordsRemover: Default locale set was [en_RU]; however, it was not found in available locales in JVM, falling back to en_US locale. Set param `locale` in order to respect another locale.\n",
      "22/12/06 20:54:02 WARN DAGScheduler: Broadcasting large task binary with size 3.9 MiB\n"
     ]
    },
    {
     "name": "stderr",
     "output_type": "stream",
     "text": [
      "\r",
      "[Stage 5044:>               (0 + 1) / 2][Stage 5045:==>             (1 + 7) / 8]\r",
      "\r",
      "                                                                                \r"
     ]
    },
    {
     "name": "stdout",
     "output_type": "stream",
     "text": [
      "22/12/06 20:54:02 WARN DAGScheduler: Broadcasting large task binary with size 3.9 MiB\n"
     ]
    },
    {
     "name": "stderr",
     "output_type": "stream",
     "text": [
      "                                                                                \r"
     ]
    },
    {
     "name": "stdout",
     "output_type": "stream",
     "text": [
      "22/12/06 20:54:03 WARN DAGScheduler: Broadcasting large task binary with size 3.9 MiB\n",
      "22/12/06 20:54:03 WARN DAGScheduler: Broadcasting large task binary with size 3.9 MiB\n",
      "22/12/06 20:54:03 WARN DAGScheduler: Broadcasting large task binary with size 3.9 MiB\n",
      "22/12/06 20:54:03 WARN DAGScheduler: Broadcasting large task binary with size 3.9 MiB\n",
      "22/12/06 20:54:03 WARN StopWordsRemover: Default locale set was [en_RU]; however, it was not found in available locales in JVM, falling back to en_US locale. Set param `locale` in order to respect another locale.\n",
      "22/12/06 20:54:03 WARN DAGScheduler: Broadcasting large task binary with size 3.9 MiB\n",
      "22/12/06 20:54:03 WARN DAGScheduler: Broadcasting large task binary with size 3.9 MiB\n",
      "22/12/06 20:54:03 WARN StopWordsRemover: Default locale set was [en_RU]; however, it was not found in available locales in JVM, falling back to en_US locale. Set param `locale` in order to respect another locale.\n",
      "22/12/06 20:54:04 WARN DAGScheduler: Broadcasting large task binary with size 3.9 MiB\n",
      "22/12/06 20:54:04 WARN DAGScheduler: Broadcasting large task binary with size 3.9 MiB\n"
     ]
    },
    {
     "name": "stderr",
     "output_type": "stream",
     "text": [
      "[Stage 5075:> (1 + 7) / 8][Stage 5077:> (2 + 1) / 8][Stage 5079:> (0 + 0) / 8]8]\r"
     ]
    },
    {
     "name": "stdout",
     "output_type": "stream",
     "text": [
      "22/12/06 20:54:05 WARN DAGScheduler: Broadcasting large task binary with size 3.9 MiB\n"
     ]
    },
    {
     "name": "stderr",
     "output_type": "stream",
     "text": [
      "                                                                                \r"
     ]
    },
    {
     "name": "stdout",
     "output_type": "stream",
     "text": [
      "22/12/06 20:54:05 WARN DAGScheduler: Broadcasting large task binary with size 3.9 MiB\n"
     ]
    },
    {
     "name": "stderr",
     "output_type": "stream",
     "text": [
      "[Stage 5076:> (0 + 0) / 2][Stage 5079:> (0 + 8) / 8][Stage 5081:> (0 + 0) / 8]8]\r"
     ]
    },
    {
     "name": "stdout",
     "output_type": "stream",
     "text": [
      "22/12/06 20:54:06 WARN DAGScheduler: Broadcasting large task binary with size 3.9 MiB\n",
      "22/12/06 20:54:07 WARN DAGScheduler: Broadcasting large task binary with size 3.9 MiB\n",
      "22/12/06 20:54:07 WARN DAGScheduler: Broadcasting large task binary with size 3.9 MiB\n",
      "22/12/06 20:54:07 WARN DAGScheduler: Broadcasting large task binary with size 3.9 MiB\n"
     ]
    },
    {
     "name": "stderr",
     "output_type": "stream",
     "text": [
      "                                                                                \r"
     ]
    },
    {
     "name": "stdout",
     "output_type": "stream",
     "text": [
      "22/12/06 20:54:08 WARN DAGScheduler: Broadcasting large task binary with size 3.9 MiB\n",
      "22/12/06 20:54:08 WARN DAGScheduler: Broadcasting large task binary with size 3.9 MiB\n",
      "22/12/06 20:54:08 WARN DAGScheduler: Broadcasting large task binary with size 3.9 MiB\n",
      "22/12/06 20:54:08 WARN DAGScheduler: Broadcasting large task binary with size 3.9 MiB\n",
      "22/12/06 20:54:09 WARN DAGScheduler: Broadcasting large task binary with size 3.9 MiB\n"
     ]
    },
    {
     "name": "stderr",
     "output_type": "stream",
     "text": [
      "                                                                                \r"
     ]
    },
    {
     "name": "stdout",
     "output_type": "stream",
     "text": [
      "22/12/06 20:54:10 WARN DAGScheduler: Broadcasting large task binary with size 3.9 MiB\n",
      "22/12/06 20:54:10 WARN DAGScheduler: Broadcasting large task binary with size 3.9 MiB\n",
      "22/12/06 20:54:10 WARN DAGScheduler: Broadcasting large task binary with size 3.9 MiB\n",
      "22/12/06 20:54:10 WARN DAGScheduler: Broadcasting large task binary with size 3.9 MiB\n"
     ]
    },
    {
     "name": "stderr",
     "output_type": "stream",
     "text": [
      "\r",
      "[Stage 5092:> (0 + 0) / 2][Stage 5097:> (0 + 8) / 8][Stage 5099:> (0 + 0) / 8]\r"
     ]
    },
    {
     "name": "stdout",
     "output_type": "stream",
     "text": [
      "22/12/06 20:54:11 WARN DAGScheduler: Broadcasting large task binary with size 3.9 MiB\n"
     ]
    },
    {
     "name": "stderr",
     "output_type": "stream",
     "text": [
      "\r",
      "[Stage 5092:> (0 + 2) / 2][Stage 5097:> (1 + 7) / 8][Stage 5099:> (0 + 0) / 8]\r",
      "\r",
      "                                                                                \r"
     ]
    },
    {
     "name": "stdout",
     "output_type": "stream",
     "text": [
      "22/12/06 20:54:12 WARN DAGScheduler: Broadcasting large task binary with size 3.9 MiB\n",
      "22/12/06 20:54:12 WARN DAGScheduler: Broadcasting large task binary with size 3.9 MiB\n",
      "22/12/06 20:54:12 WARN DAGScheduler: Broadcasting large task binary with size 3.9 MiB\n",
      "22/12/06 20:54:12 WARN DAGScheduler: Broadcasting large task binary with size 3.9 MiB\n"
     ]
    },
    {
     "name": "stderr",
     "output_type": "stream",
     "text": [
      "\r",
      "[Stage 5103:>               (0 + 8) / 8][Stage 5105:>               (0 + 0) / 8]\r",
      "\r",
      "[Stage 5098:> (0 + 0) / 2][Stage 5103:> (0 + 8) / 8][Stage 5105:> (0 + 0) / 8]\r"
     ]
    },
    {
     "name": "stdout",
     "output_type": "stream",
     "text": [
      "22/12/06 20:54:13 WARN DAGScheduler: Broadcasting large task binary with size 3.9 MiB\n"
     ]
    },
    {
     "name": "stderr",
     "output_type": "stream",
     "text": [
      "\r",
      "                                                                                \r"
     ]
    },
    {
     "name": "stdout",
     "output_type": "stream",
     "text": [
      "22/12/06 20:54:14 WARN DAGScheduler: Broadcasting large task binary with size 3.9 MiB\n",
      "22/12/06 20:54:14 WARN DAGScheduler: Broadcasting large task binary with size 3.9 MiB\n",
      "22/12/06 20:54:14 WARN DAGScheduler: Broadcasting large task binary with size 3.9 MiB\n",
      "22/12/06 20:54:14 WARN DAGScheduler: Broadcasting large task binary with size 3.9 MiB\n",
      "22/12/06 20:54:14 WARN DAGScheduler: Broadcasting large task binary with size 3.9 MiB\n",
      "22/12/06 20:54:14 WARN DAGScheduler: Broadcasting large task binary with size 3.9 MiB\n",
      "22/12/06 20:54:14 WARN DAGScheduler: Broadcasting large task binary with size 3.9 MiB\n",
      "22/12/06 20:54:14 WARN DAGScheduler: Broadcasting large task binary with size 3.9 MiB\n",
      "22/12/06 20:54:15 WARN DAGScheduler: Broadcasting large task binary with size 3.9 MiB\n",
      "22/12/06 20:54:15 WARN DAGScheduler: Broadcasting large task binary with size 3.9 MiB\n",
      "22/12/06 20:54:15 WARN DAGScheduler: Broadcasting large task binary with size 3.9 MiB\n",
      "22/12/06 20:54:15 WARN DAGScheduler: Broadcasting large task binary with size 3.9 MiB\n",
      "22/12/06 20:54:15 WARN DAGScheduler: Broadcasting large task binary with size 3.9 MiB\n",
      "22/12/06 20:54:15 WARN DAGScheduler: Broadcasting large task binary with size 3.9 MiB\n",
      "22/12/06 20:54:15 WARN DAGScheduler: Broadcasting large task binary with size 3.9 MiB\n",
      "22/12/06 20:54:15 WARN DAGScheduler: Broadcasting large task binary with size 3.9 MiB\n",
      "22/12/06 20:54:15 WARN DAGScheduler: Broadcasting large task binary with size 3.9 MiB\n",
      "22/12/06 20:54:15 WARN DAGScheduler: Broadcasting large task binary with size 3.9 MiB\n",
      "22/12/06 20:54:15 WARN DAGScheduler: Broadcasting large task binary with size 3.9 MiB\n",
      "22/12/06 20:54:15 WARN DAGScheduler: Broadcasting large task binary with size 3.9 MiB\n",
      "22/12/06 20:54:15 WARN DAGScheduler: Broadcasting large task binary with size 3.9 MiB\n",
      "22/12/06 20:54:15 WARN DAGScheduler: Broadcasting large task binary with size 3.9 MiB\n",
      "22/12/06 20:54:15 WARN DAGScheduler: Broadcasting large task binary with size 3.9 MiB\n",
      "22/12/06 20:54:15 WARN DAGScheduler: Broadcasting large task binary with size 3.9 MiB\n",
      "22/12/06 20:54:15 WARN DAGScheduler: Broadcasting large task binary with size 3.9 MiB\n",
      "22/12/06 20:54:15 WARN DAGScheduler: Broadcasting large task binary with size 3.9 MiB\n",
      "22/12/06 20:54:15 WARN DAGScheduler: Broadcasting large task binary with size 3.9 MiB\n",
      "22/12/06 20:54:15 WARN DAGScheduler: Broadcasting large task binary with size 3.9 MiB\n",
      "22/12/06 20:54:16 WARN DAGScheduler: Broadcasting large task binary with size 3.9 MiB\n",
      "22/12/06 20:54:16 WARN DAGScheduler: Broadcasting large task binary with size 3.9 MiB\n",
      "22/12/06 20:54:16 WARN DAGScheduler: Broadcasting large task binary with size 3.9 MiB\n",
      "22/12/06 20:54:16 WARN DAGScheduler: Broadcasting large task binary with size 3.9 MiB\n",
      "22/12/06 20:54:16 WARN DAGScheduler: Broadcasting large task binary with size 3.9 MiB\n",
      "22/12/06 20:54:16 WARN DAGScheduler: Broadcasting large task binary with size 3.9 MiB\n",
      "22/12/06 20:54:16 WARN DAGScheduler: Broadcasting large task binary with size 3.9 MiB\n",
      "22/12/06 20:54:16 WARN DAGScheduler: Broadcasting large task binary with size 3.9 MiB\n",
      "22/12/06 20:54:16 WARN DAGScheduler: Broadcasting large task binary with size 3.9 MiB\n",
      "22/12/06 20:54:16 WARN DAGScheduler: Broadcasting large task binary with size 3.9 MiB\n",
      "22/12/06 20:54:16 WARN DAGScheduler: Broadcasting large task binary with size 3.9 MiB\n",
      "22/12/06 20:54:16 WARN DAGScheduler: Broadcasting large task binary with size 3.9 MiB\n",
      "22/12/06 20:54:16 WARN DAGScheduler: Broadcasting large task binary with size 3.9 MiB\n",
      "22/12/06 20:54:16 WARN DAGScheduler: Broadcasting large task binary with size 3.9 MiB\n",
      "22/12/06 20:54:16 WARN DAGScheduler: Broadcasting large task binary with size 3.9 MiB\n",
      "22/12/06 20:54:16 WARN DAGScheduler: Broadcasting large task binary with size 3.9 MiB\n",
      "22/12/06 20:54:16 WARN DAGScheduler: Broadcasting large task binary with size 3.9 MiB\n",
      "22/12/06 20:54:16 WARN DAGScheduler: Broadcasting large task binary with size 3.9 MiB\n",
      "22/12/06 20:54:17 WARN DAGScheduler: Broadcasting large task binary with size 3.9 MiB\n",
      "22/12/06 20:54:17 WARN DAGScheduler: Broadcasting large task binary with size 3.9 MiB\n",
      "22/12/06 20:54:17 WARN DAGScheduler: Broadcasting large task binary with size 3.9 MiB\n",
      "22/12/06 20:54:17 WARN DAGScheduler: Broadcasting large task binary with size 3.9 MiB\n",
      "22/12/06 20:54:17 WARN DAGScheduler: Broadcasting large task binary with size 3.9 MiB\n",
      "22/12/06 20:54:17 WARN DAGScheduler: Broadcasting large task binary with size 3.9 MiB\n",
      "22/12/06 20:54:17 WARN DAGScheduler: Broadcasting large task binary with size 3.9 MiB\n",
      "22/12/06 20:54:17 WARN DAGScheduler: Broadcasting large task binary with size 3.9 MiB\n",
      "22/12/06 20:54:17 WARN DAGScheduler: Broadcasting large task binary with size 3.9 MiB\n",
      "22/12/06 20:54:17 WARN DAGScheduler: Broadcasting large task binary with size 3.9 MiB\n",
      "22/12/06 20:54:17 WARN DAGScheduler: Broadcasting large task binary with size 3.9 MiB\n",
      "22/12/06 20:54:17 WARN DAGScheduler: Broadcasting large task binary with size 3.9 MiB\n",
      "22/12/06 20:54:17 WARN DAGScheduler: Broadcasting large task binary with size 3.9 MiB\n",
      "22/12/06 20:54:17 WARN DAGScheduler: Broadcasting large task binary with size 3.9 MiB\n",
      "22/12/06 20:54:17 WARN DAGScheduler: Broadcasting large task binary with size 3.9 MiB\n",
      "22/12/06 20:54:17 WARN DAGScheduler: Broadcasting large task binary with size 3.9 MiB\n",
      "22/12/06 20:54:17 WARN DAGScheduler: Broadcasting large task binary with size 3.9 MiB\n",
      "22/12/06 20:54:17 WARN DAGScheduler: Broadcasting large task binary with size 3.9 MiB\n",
      "22/12/06 20:54:18 WARN DAGScheduler: Broadcasting large task binary with size 3.9 MiB\n",
      "22/12/06 20:54:18 WARN StopWordsRemover: Default locale set was [en_RU]; however, it was not found in available locales in JVM, falling back to en_US locale. Set param `locale` in order to respect another locale.\n",
      "22/12/06 20:54:18 WARN DAGScheduler: Broadcasting large task binary with size 5.8 MiB\n",
      "22/12/06 20:54:18 WARN DAGScheduler: Broadcasting large task binary with size 3.9 MiB\n",
      "22/12/06 20:54:18 WARN DAGScheduler: Broadcasting large task binary with size 3.9 MiB\n"
     ]
    },
    {
     "name": "stderr",
     "output_type": "stream",
     "text": [
      "\r",
      "[Stage 5229:> (1 + 7) / 8][Stage 5231:=>(5 + 1) / 8][Stage 5233:> (0 + 0) / 8]\r",
      "\r",
      "                                                                                \r"
     ]
    },
    {
     "name": "stdout",
     "output_type": "stream",
     "text": [
      "22/12/06 20:54:19 WARN DAGScheduler: Broadcasting large task binary with size 3.9 MiB\n",
      "22/12/06 20:54:19 WARN DAGScheduler: Broadcasting large task binary with size 3.9 MiB\n",
      "22/12/06 20:54:19 WARN StopWordsRemover: Default locale set was [en_RU]; however, it was not found in available locales in JVM, falling back to en_US locale. Set param `locale` in order to respect another locale.\n",
      "22/12/06 20:54:19 WARN DAGScheduler: Broadcasting large task binary with size 3.9 MiB\n",
      "22/12/06 20:54:19 WARN DAGScheduler: Broadcasting large task binary with size 3.9 MiB\n",
      "22/12/06 20:54:20 WARN DAGScheduler: Broadcasting large task binary with size 3.9 MiB\n"
     ]
    },
    {
     "name": "stderr",
     "output_type": "stream",
     "text": [
      "\r",
      "[Stage 5256:>                                                       (0 + 8) / 8]\r"
     ]
    },
    {
     "name": "stdout",
     "output_type": "stream",
     "text": [
      "22/12/06 20:54:20 WARN DAGScheduler: Broadcasting large task binary with size 3.9 MiB\n"
     ]
    },
    {
     "name": "stderr",
     "output_type": "stream",
     "text": [
      "\r",
      "[Stage 5256:> (0 + 8) / 8][Stage 5258:> (0 + 0) / 8][Stage 5260:> (0 + 0) / 8]\r",
      "\r",
      "[Stage 5256:==>             (1 + 7) / 8][Stage 5260:>               (0 + 1) / 8]\r",
      "\r",
      "                                                                                \r"
     ]
    },
    {
     "name": "stdout",
     "output_type": "stream",
     "text": [
      "22/12/06 20:54:21 WARN DAGScheduler: Broadcasting large task binary with size 3.9 MiB\n",
      "22/12/06 20:54:21 WARN DAGScheduler: Broadcasting large task binary with size 3.9 MiB\n",
      "22/12/06 20:54:21 WARN DAGScheduler: Broadcasting large task binary with size 3.9 MiB\n",
      "22/12/06 20:54:22 WARN DAGScheduler: Broadcasting large task binary with size 3.9 MiB\n"
     ]
    },
    {
     "name": "stderr",
     "output_type": "stream",
     "text": [
      "                                                                                \r"
     ]
    },
    {
     "name": "stdout",
     "output_type": "stream",
     "text": [
      "22/12/06 20:54:22 WARN DAGScheduler: Broadcasting large task binary with size 3.9 MiB\n",
      "22/12/06 20:54:23 WARN DAGScheduler: Broadcasting large task binary with size 3.9 MiB\n",
      "22/12/06 20:54:23 WARN DAGScheduler: Broadcasting large task binary with size 3.9 MiB\n",
      "22/12/06 20:54:23 WARN DAGScheduler: Broadcasting large task binary with size 3.9 MiB\n",
      "22/12/06 20:54:23 WARN DAGScheduler: Broadcasting large task binary with size 3.9 MiB\n"
     ]
    },
    {
     "name": "stderr",
     "output_type": "stream",
     "text": [
      "\r",
      "[Stage 5282:>               (0 + 8) / 8][Stage 5284:>               (0 + 0) / 8]\r"
     ]
    },
    {
     "name": "stdout",
     "output_type": "stream",
     "text": [
      "22/12/06 20:54:24 WARN DAGScheduler: Broadcasting large task binary with size 3.9 MiB\n"
     ]
    },
    {
     "name": "stderr",
     "output_type": "stream",
     "text": [
      "                                                                                \r"
     ]
    },
    {
     "name": "stdout",
     "output_type": "stream",
     "text": [
      "22/12/06 20:54:25 WARN DAGScheduler: Broadcasting large task binary with size 3.9 MiB\n",
      "22/12/06 20:54:25 WARN DAGScheduler: Broadcasting large task binary with size 3.9 MiB\n",
      "22/12/06 20:54:25 WARN StopWordsRemover: Default locale set was [en_RU]; however, it was not found in available locales in JVM, falling back to en_US locale. Set param `locale` in order to respect another locale.\n",
      "22/12/06 20:54:25 WARN DAGScheduler: Broadcasting large task binary with size 3.9 MiB\n",
      "22/12/06 20:54:25 WARN DAGScheduler: Broadcasting large task binary with size 3.9 MiB\n",
      "22/12/06 20:54:26 WARN DAGScheduler: Broadcasting large task binary with size 3.9 MiB\n",
      "22/12/06 20:54:26 WARN DAGScheduler: Broadcasting large task binary with size 3.9 MiB\n",
      "22/12/06 20:54:26 WARN DAGScheduler: Broadcasting large task binary with size 3.9 MiB\n",
      "22/12/06 20:54:26 WARN DAGScheduler: Broadcasting large task binary with size 3.9 MiB\n"
     ]
    },
    {
     "name": "stderr",
     "output_type": "stream",
     "text": [
      "\r",
      "[Stage 5318:=======>                                                (1 + 7) / 8]\r",
      "\r",
      "                                                                                \r"
     ]
    },
    {
     "name": "stdout",
     "output_type": "stream",
     "text": [
      "22/12/06 20:54:27 WARN DAGScheduler: Broadcasting large task binary with size 3.9 MiB\n",
      "22/12/06 20:54:27 WARN DAGScheduler: Broadcasting large task binary with size 3.9 MiB\n",
      "22/12/06 20:54:27 WARN StopWordsRemover: Default locale set was [en_RU]; however, it was not found in available locales in JVM, falling back to en_US locale. Set param `locale` in order to respect another locale.\n",
      "22/12/06 20:54:27 WARN DAGScheduler: Broadcasting large task binary with size 3.9 MiB\n",
      "22/12/06 20:54:27 WARN DAGScheduler: Broadcasting large task binary with size 3.9 MiB\n"
     ]
    },
    {
     "name": "stderr",
     "output_type": "stream",
     "text": [
      "                                                                                \r"
     ]
    },
    {
     "name": "stdout",
     "output_type": "stream",
     "text": [
      "22/12/06 20:54:28 WARN DAGScheduler: Broadcasting large task binary with size 3.9 MiB\n",
      "22/12/06 20:54:29 WARN DAGScheduler: Broadcasting large task binary with size 3.9 MiB\n",
      "22/12/06 20:54:29 WARN DAGScheduler: Broadcasting large task binary with size 3.9 MiB\n",
      "22/12/06 20:54:29 WARN DAGScheduler: Broadcasting large task binary with size 3.9 MiB\n",
      "22/12/06 20:54:29 WARN DAGScheduler: Broadcasting large task binary with size 3.9 MiB\n"
     ]
    },
    {
     "name": "stderr",
     "output_type": "stream",
     "text": [
      "                                                                                \r"
     ]
    },
    {
     "name": "stdout",
     "output_type": "stream",
     "text": [
      "22/12/06 20:54:30 WARN DAGScheduler: Broadcasting large task binary with size 3.9 MiB\n",
      "22/12/06 20:54:31 WARN StopWordsRemover: Default locale set was [en_RU]; however, it was not found in available locales in JVM, falling back to en_US locale. Set param `locale` in order to respect another locale.\n",
      "22/12/06 20:54:31 WARN DAGScheduler: Broadcasting large task binary with size 3.9 MiB\n",
      "22/12/06 20:54:31 WARN DAGScheduler: Broadcasting large task binary with size 3.9 MiB\n",
      "22/12/06 20:54:31 WARN DAGScheduler: Broadcasting large task binary with size 3.9 MiB\n"
     ]
    },
    {
     "name": "stderr",
     "output_type": "stream",
     "text": [
      "\r",
      "[Stage 5377:>                                                       (0 + 8) / 8]\r",
      "\r",
      "                                                                                \r"
     ]
    },
    {
     "name": "stdout",
     "output_type": "stream",
     "text": [
      "22/12/06 20:54:31 WARN DAGScheduler: Broadcasting large task binary with size 3.9 MiB\n",
      "22/12/06 20:54:32 WARN DAGScheduler: Broadcasting large task binary with size 3.9 MiB\n",
      "22/12/06 20:54:32 WARN DAGScheduler: Broadcasting large task binary with size 3.9 MiB\n",
      "22/12/06 20:54:32 WARN DAGScheduler: Broadcasting large task binary with size 3.9 MiB\n",
      "22/12/06 20:54:33 WARN DAGScheduler: Broadcasting large task binary with size 3.9 MiB\n"
     ]
    },
    {
     "name": "stderr",
     "output_type": "stream",
     "text": [
      "                                                                                \r"
     ]
    },
    {
     "name": "stdout",
     "output_type": "stream",
     "text": [
      "22/12/06 20:54:34 WARN DAGScheduler: Broadcasting large task binary with size 3.9 MiB\n",
      "22/12/06 20:54:34 WARN DAGScheduler: Broadcasting large task binary with size 3.9 MiB\n",
      "22/12/06 20:54:34 WARN StopWordsRemover: Default locale set was [en_RU]; however, it was not found in available locales in JVM, falling back to en_US locale. Set param `locale` in order to respect another locale.\n",
      "22/12/06 20:54:34 WARN DAGScheduler: Broadcasting large task binary with size 3.9 MiB\n",
      "22/12/06 20:54:34 WARN DAGScheduler: Broadcasting large task binary with size 3.9 MiB\n"
     ]
    },
    {
     "name": "stderr",
     "output_type": "stream",
     "text": [
      "                                                                                \r"
     ]
    },
    {
     "name": "stdout",
     "output_type": "stream",
     "text": [
      "22/12/06 20:54:35 WARN DAGScheduler: Broadcasting large task binary with size 3.9 MiB\n",
      "22/12/06 20:54:36 WARN DAGScheduler: Broadcasting large task binary with size 3.9 MiB\n",
      "22/12/06 20:54:36 WARN DAGScheduler: Broadcasting large task binary with size 3.9 MiB\n",
      "22/12/06 20:54:36 WARN DAGScheduler: Broadcasting large task binary with size 3.9 MiB\n",
      "22/12/06 20:54:36 WARN DAGScheduler: Broadcasting large task binary with size 3.9 MiB\n",
      "22/12/06 20:54:36 WARN DAGScheduler: Broadcasting large task binary with size 3.9 MiB\n",
      "22/12/06 20:54:36 WARN DAGScheduler: Broadcasting large task binary with size 3.9 MiB\n",
      "22/12/06 20:54:37 WARN DAGScheduler: Broadcasting large task binary with size 3.9 MiB\n",
      "22/12/06 20:54:37 WARN DAGScheduler: Broadcasting large task binary with size 3.9 MiB\n"
     ]
    },
    {
     "name": "stderr",
     "output_type": "stream",
     "text": [
      "                                                                                \r"
     ]
    },
    {
     "name": "stdout",
     "output_type": "stream",
     "text": [
      "22/12/06 20:54:38 WARN DAGScheduler: Broadcasting large task binary with size 3.9 MiB\n",
      "22/12/06 20:54:38 WARN DAGScheduler: Broadcasting large task binary with size 3.9 MiB\n",
      "22/12/06 20:54:38 WARN DAGScheduler: Broadcasting large task binary with size 3.9 MiB\n",
      "22/12/06 20:54:38 WARN DAGScheduler: Broadcasting large task binary with size 3.9 MiB\n",
      "22/12/06 20:54:38 WARN DAGScheduler: Broadcasting large task binary with size 3.9 MiB\n",
      "22/12/06 20:54:38 WARN DAGScheduler: Broadcasting large task binary with size 3.9 MiB\n",
      "22/12/06 20:54:39 WARN DAGScheduler: Broadcasting large task binary with size 3.9 MiB\n"
     ]
    },
    {
     "name": "stderr",
     "output_type": "stream",
     "text": [
      "\r",
      "[Stage 5436:>               (0 + 8) / 8][Stage 5438:>               (0 + 0) / 8]\r"
     ]
    },
    {
     "name": "stdout",
     "output_type": "stream",
     "text": [
      "22/12/06 20:54:39 WARN DAGScheduler: Broadcasting large task binary with size 3.9 MiB\n"
     ]
    },
    {
     "name": "stderr",
     "output_type": "stream",
     "text": [
      "                                                                                \r"
     ]
    },
    {
     "name": "stdout",
     "output_type": "stream",
     "text": [
      "22/12/06 20:54:40 WARN DAGScheduler: Broadcasting large task binary with size 3.9 MiB\n",
      "22/12/06 20:54:40 WARN DAGScheduler: Broadcasting large task binary with size 3.9 MiB\n",
      "22/12/06 20:54:40 WARN DAGScheduler: Broadcasting large task binary with size 3.9 MiB\n",
      "22/12/06 20:54:40 WARN DAGScheduler: Broadcasting large task binary with size 3.9 MiB\n",
      "22/12/06 20:54:41 WARN DAGScheduler: Broadcasting large task binary with size 3.9 MiB\n",
      "22/12/06 20:54:41 WARN DAGScheduler: Broadcasting large task binary with size 3.9 MiB\n",
      "22/12/06 20:54:41 WARN DAGScheduler: Broadcasting large task binary with size 3.9 MiB\n",
      "22/12/06 20:54:41 WARN DAGScheduler: Broadcasting large task binary with size 3.9 MiB\n",
      "22/12/06 20:54:41 WARN DAGScheduler: Broadcasting large task binary with size 3.9 MiB\n",
      "22/12/06 20:54:41 WARN DAGScheduler: Broadcasting large task binary with size 3.9 MiB\n",
      "22/12/06 20:54:41 WARN DAGScheduler: Broadcasting large task binary with size 3.9 MiB\n",
      "22/12/06 20:54:41 WARN DAGScheduler: Broadcasting large task binary with size 3.9 MiB\n",
      "22/12/06 20:54:41 WARN DAGScheduler: Broadcasting large task binary with size 3.9 MiB\n",
      "22/12/06 20:54:41 WARN DAGScheduler: Broadcasting large task binary with size 3.9 MiB\n",
      "22/12/06 20:54:41 WARN DAGScheduler: Broadcasting large task binary with size 3.9 MiB\n",
      "22/12/06 20:54:41 WARN DAGScheduler: Broadcasting large task binary with size 3.9 MiB\n",
      "22/12/06 20:54:41 WARN DAGScheduler: Broadcasting large task binary with size 3.9 MiB\n",
      "22/12/06 20:54:41 WARN DAGScheduler: Broadcasting large task binary with size 3.9 MiB\n",
      "22/12/06 20:54:41 WARN DAGScheduler: Broadcasting large task binary with size 3.9 MiB\n",
      "22/12/06 20:54:41 WARN DAGScheduler: Broadcasting large task binary with size 3.9 MiB\n",
      "22/12/06 20:54:41 WARN DAGScheduler: Broadcasting large task binary with size 3.9 MiB\n",
      "22/12/06 20:54:41 WARN DAGScheduler: Broadcasting large task binary with size 3.9 MiB\n",
      "22/12/06 20:54:41 WARN DAGScheduler: Broadcasting large task binary with size 3.9 MiB\n",
      "22/12/06 20:54:42 WARN DAGScheduler: Broadcasting large task binary with size 3.9 MiB\n",
      "22/12/06 20:54:42 WARN DAGScheduler: Broadcasting large task binary with size 3.9 MiB\n",
      "22/12/06 20:54:42 WARN DAGScheduler: Broadcasting large task binary with size 3.9 MiB\n",
      "22/12/06 20:54:42 WARN DAGScheduler: Broadcasting large task binary with size 3.9 MiB\n",
      "22/12/06 20:54:42 WARN DAGScheduler: Broadcasting large task binary with size 3.9 MiB\n",
      "22/12/06 20:54:42 WARN DAGScheduler: Broadcasting large task binary with size 3.9 MiB\n",
      "22/12/06 20:54:42 WARN DAGScheduler: Broadcasting large task binary with size 3.9 MiB\n",
      "22/12/06 20:54:42 WARN DAGScheduler: Broadcasting large task binary with size 3.9 MiB\n",
      "22/12/06 20:54:42 WARN DAGScheduler: Broadcasting large task binary with size 3.9 MiB\n",
      "22/12/06 20:54:42 WARN DAGScheduler: Broadcasting large task binary with size 3.9 MiB\n",
      "22/12/06 20:54:42 WARN DAGScheduler: Broadcasting large task binary with size 3.9 MiB\n",
      "22/12/06 20:54:42 WARN DAGScheduler: Broadcasting large task binary with size 3.9 MiB\n",
      "22/12/06 20:54:42 WARN DAGScheduler: Broadcasting large task binary with size 3.9 MiB\n",
      "22/12/06 20:54:42 WARN DAGScheduler: Broadcasting large task binary with size 3.9 MiB\n",
      "22/12/06 20:54:42 WARN DAGScheduler: Broadcasting large task binary with size 3.9 MiB\n",
      "22/12/06 20:54:42 WARN DAGScheduler: Broadcasting large task binary with size 3.9 MiB\n",
      "22/12/06 20:54:42 WARN DAGScheduler: Broadcasting large task binary with size 3.9 MiB\n",
      "22/12/06 20:54:43 WARN DAGScheduler: Broadcasting large task binary with size 3.9 MiB\n",
      "22/12/06 20:54:43 WARN DAGScheduler: Broadcasting large task binary with size 3.9 MiB\n",
      "22/12/06 20:54:43 WARN DAGScheduler: Broadcasting large task binary with size 3.9 MiB\n",
      "22/12/06 20:54:43 WARN DAGScheduler: Broadcasting large task binary with size 3.9 MiB\n",
      "22/12/06 20:54:43 WARN DAGScheduler: Broadcasting large task binary with size 3.9 MiB\n",
      "22/12/06 20:54:43 WARN DAGScheduler: Broadcasting large task binary with size 3.9 MiB\n",
      "22/12/06 20:54:43 WARN DAGScheduler: Broadcasting large task binary with size 3.9 MiB\n",
      "22/12/06 20:54:43 WARN DAGScheduler: Broadcasting large task binary with size 3.9 MiB\n",
      "22/12/06 20:54:43 WARN DAGScheduler: Broadcasting large task binary with size 3.9 MiB\n",
      "22/12/06 20:54:43 WARN DAGScheduler: Broadcasting large task binary with size 3.9 MiB\n",
      "22/12/06 20:54:43 WARN DAGScheduler: Broadcasting large task binary with size 3.9 MiB\n",
      "22/12/06 20:54:43 WARN DAGScheduler: Broadcasting large task binary with size 3.9 MiB\n",
      "22/12/06 20:54:43 WARN DAGScheduler: Broadcasting large task binary with size 3.9 MiB\n",
      "22/12/06 20:54:43 WARN DAGScheduler: Broadcasting large task binary with size 3.9 MiB\n",
      "22/12/06 20:54:43 WARN DAGScheduler: Broadcasting large task binary with size 3.9 MiB\n",
      "22/12/06 20:54:43 WARN DAGScheduler: Broadcasting large task binary with size 3.9 MiB\n",
      "22/12/06 20:54:43 WARN DAGScheduler: Broadcasting large task binary with size 3.9 MiB\n",
      "22/12/06 20:54:44 WARN DAGScheduler: Broadcasting large task binary with size 3.9 MiB\n",
      "22/12/06 20:54:44 WARN DAGScheduler: Broadcasting large task binary with size 3.9 MiB\n",
      "22/12/06 20:54:44 WARN DAGScheduler: Broadcasting large task binary with size 3.9 MiB\n",
      "22/12/06 20:54:44 WARN DAGScheduler: Broadcasting large task binary with size 3.9 MiB\n",
      "22/12/06 20:54:44 WARN StopWordsRemover: Default locale set was [en_RU]; however, it was not found in available locales in JVM, falling back to en_US locale. Set param `locale` in order to respect another locale.\n",
      "22/12/06 20:54:44 WARN DAGScheduler: Broadcasting large task binary with size 3.9 MiB\n",
      "22/12/06 20:54:44 WARN DAGScheduler: Broadcasting large task binary with size 3.9 MiB\n",
      "22/12/06 20:54:44 WARN DAGScheduler: Broadcasting large task binary with size 3.9 MiB\n",
      "22/12/06 20:54:44 WARN DAGScheduler: Broadcasting large task binary with size 3.9 MiB\n",
      "22/12/06 20:54:44 WARN DAGScheduler: Broadcasting large task binary with size 3.9 MiB\n",
      "22/12/06 20:54:44 WARN DAGScheduler: Broadcasting large task binary with size 3.9 MiB\n",
      "22/12/06 20:54:44 WARN DAGScheduler: Broadcasting large task binary with size 3.9 MiB\n"
     ]
    },
    {
     "name": "stderr",
     "output_type": "stream",
     "text": [
      "\r",
      "[Stage 5576:> (1 + 7) / 8][Stage 5578:> (3 + 1) / 8][Stage 5580:> (0 + 0) / 8]\r"
     ]
    },
    {
     "name": "stdout",
     "output_type": "stream",
     "text": [
      "22/12/06 20:54:45 WARN DAGScheduler: Broadcasting large task binary with size 3.9 MiB\n",
      "22/12/06 20:54:45 WARN DAGScheduler: Broadcasting large task binary with size 3.9 MiB\n",
      "22/12/06 20:54:45 WARN DAGScheduler: Broadcasting large task binary with size 3.9 MiB\n"
     ]
    },
    {
     "name": "stderr",
     "output_type": "stream",
     "text": [
      "\r",
      "[Stage 5576:> (1 + 7) / 8][Stage 5580:> (0 + 1) / 8][Stage 5582:> (0 + 0) / 8]\r",
      "\r",
      "                                                                                \r"
     ]
    },
    {
     "name": "stdout",
     "output_type": "stream",
     "text": [
      "22/12/06 20:54:45 WARN DAGScheduler: Broadcasting large task binary with size 3.9 MiB\n",
      "22/12/06 20:54:45 WARN DAGScheduler: Broadcasting large task binary with size 3.9 MiB\n",
      "22/12/06 20:54:45 WARN StopWordsRemover: Default locale set was [en_RU]; however, it was not found in available locales in JVM, falling back to en_US locale. Set param `locale` in order to respect another locale.\n",
      "22/12/06 20:54:45 WARN DAGScheduler: Broadcasting large task binary with size 3.9 MiB\n",
      "22/12/06 20:54:45 WARN DAGScheduler: Broadcasting large task binary with size 3.9 MiB\n",
      "22/12/06 20:54:46 WARN DAGScheduler: Broadcasting large task binary with size 3.9 MiB\n",
      "22/12/06 20:54:46 WARN DAGScheduler: Broadcasting large task binary with size 3.9 MiB\n",
      "22/12/06 20:54:46 WARN DAGScheduler: Broadcasting large task binary with size 3.9 MiB\n",
      "22/12/06 20:54:46 WARN DAGScheduler: Broadcasting large task binary with size 3.9 MiB\n",
      "22/12/06 20:54:46 WARN DAGScheduler: Broadcasting large task binary with size 3.9 MiB\n",
      "22/12/06 20:54:46 WARN DAGScheduler: Broadcasting large task binary with size 3.9 MiB\n",
      "22/12/06 20:54:46 WARN DAGScheduler: Broadcasting large task binary with size 3.9 MiB\n"
     ]
    },
    {
     "name": "stderr",
     "output_type": "stream",
     "text": [
      "[Stage 5601:> (1 + 7) / 8][Stage 5603:=>(6 + 1) / 8][Stage 5605:> (0 + 0) / 8]\r"
     ]
    },
    {
     "name": "stdout",
     "output_type": "stream",
     "text": [
      "22/12/06 20:54:47 WARN DAGScheduler: Broadcasting large task binary with size 3.9 MiB\n"
     ]
    },
    {
     "name": "stderr",
     "output_type": "stream",
     "text": [
      "\r",
      "                                                                                \r"
     ]
    },
    {
     "name": "stdout",
     "output_type": "stream",
     "text": [
      "22/12/06 20:54:47 WARN DAGScheduler: Broadcasting large task binary with size 3.9 MiB\n",
      "22/12/06 20:54:47 WARN DAGScheduler: Broadcasting large task binary with size 3.9 MiB\n",
      "22/12/06 20:54:47 WARN DAGScheduler: Broadcasting large task binary with size 3.9 MiB\n",
      "22/12/06 20:54:48 WARN DAGScheduler: Broadcasting large task binary with size 3.9 MiB\n",
      "22/12/06 20:54:48 WARN DAGScheduler: Broadcasting large task binary with size 3.9 MiB\n",
      "22/12/06 20:54:48 WARN DAGScheduler: Broadcasting large task binary with size 3.9 MiB\n",
      "22/12/06 20:54:48 WARN DAGScheduler: Broadcasting large task binary with size 3.9 MiB\n"
     ]
    },
    {
     "name": "stderr",
     "output_type": "stream",
     "text": [
      "                                                                                \r"
     ]
    },
    {
     "name": "stdout",
     "output_type": "stream",
     "text": [
      "22/12/06 20:54:49 WARN DAGScheduler: Broadcasting large task binary with size 3.9 MiB\n",
      "22/12/06 20:54:49 WARN DAGScheduler: Broadcasting large task binary with size 3.9 MiB\n",
      "22/12/06 20:54:49 WARN DAGScheduler: Broadcasting large task binary with size 3.9 MiB\n",
      "22/12/06 20:54:49 WARN DAGScheduler: Broadcasting large task binary with size 3.9 MiB\n",
      "22/12/06 20:54:49 WARN DAGScheduler: Broadcasting large task binary with size 3.9 MiB\n",
      "22/12/06 20:54:50 WARN DAGScheduler: Broadcasting large task binary with size 3.9 MiB\n",
      "22/12/06 20:54:50 WARN DAGScheduler: Broadcasting large task binary with size 3.9 MiB\n",
      "22/12/06 20:54:50 WARN DAGScheduler: Broadcasting large task binary with size 3.9 MiB\n",
      "22/12/06 20:54:50 WARN DAGScheduler: Broadcasting large task binary with size 3.9 MiB\n",
      "22/12/06 20:54:50 WARN DAGScheduler: Broadcasting large task binary with size 3.9 MiB\n",
      "22/12/06 20:54:50 WARN DAGScheduler: Broadcasting large task binary with size 3.9 MiB\n"
     ]
    },
    {
     "name": "stderr",
     "output_type": "stream",
     "text": [
      "                                                                                \r"
     ]
    },
    {
     "name": "stdout",
     "output_type": "stream",
     "text": [
      "22/12/06 20:54:51 WARN DAGScheduler: Broadcasting large task binary with size 3.9 MiB\n",
      "22/12/06 20:54:51 WARN DAGScheduler: Broadcasting large task binary with size 3.9 MiB\n",
      "22/12/06 20:54:52 WARN DAGScheduler: Broadcasting large task binary with size 3.9 MiB\n",
      "22/12/06 20:54:52 WARN DAGScheduler: Broadcasting large task binary with size 3.9 MiB\n",
      "22/12/06 20:54:52 WARN DAGScheduler: Broadcasting large task binary with size 3.9 MiB\n",
      "22/12/06 20:54:52 WARN DAGScheduler: Broadcasting large task binary with size 3.9 MiB\n",
      "22/12/06 20:54:52 WARN DAGScheduler: Broadcasting large task binary with size 3.9 MiB\n",
      "22/12/06 20:54:52 WARN DAGScheduler: Broadcasting large task binary with size 3.9 MiB\n",
      "22/12/06 20:54:52 WARN DAGScheduler: Broadcasting large task binary with size 3.9 MiB\n",
      "22/12/06 20:54:52 WARN DAGScheduler: Broadcasting large task binary with size 3.9 MiB\n",
      "22/12/06 20:54:52 WARN DAGScheduler: Broadcasting large task binary with size 3.9 MiB\n",
      "22/12/06 20:54:52 WARN DAGScheduler: Broadcasting large task binary with size 3.9 MiB\n",
      "22/12/06 20:54:52 WARN DAGScheduler: Broadcasting large task binary with size 3.9 MiB\n",
      "22/12/06 20:54:52 WARN DAGScheduler: Broadcasting large task binary with size 3.9 MiB\n",
      "22/12/06 20:54:52 WARN DAGScheduler: Broadcasting large task binary with size 3.9 MiB\n",
      "22/12/06 20:54:52 WARN DAGScheduler: Broadcasting large task binary with size 3.9 MiB\n",
      "22/12/06 20:54:52 WARN DAGScheduler: Broadcasting large task binary with size 3.9 MiB\n",
      "22/12/06 20:54:52 WARN DAGScheduler: Broadcasting large task binary with size 3.9 MiB\n",
      "22/12/06 20:54:53 WARN DAGScheduler: Broadcasting large task binary with size 3.9 MiB\n",
      "22/12/06 20:54:53 WARN DAGScheduler: Broadcasting large task binary with size 3.9 MiB\n",
      "22/12/06 20:54:53 WARN DAGScheduler: Broadcasting large task binary with size 3.9 MiB\n",
      "22/12/06 20:54:53 WARN DAGScheduler: Broadcasting large task binary with size 3.9 MiB\n",
      "22/12/06 20:54:53 WARN DAGScheduler: Broadcasting large task binary with size 3.9 MiB\n",
      "22/12/06 20:54:53 WARN DAGScheduler: Broadcasting large task binary with size 3.9 MiB\n",
      "22/12/06 20:54:53 WARN DAGScheduler: Broadcasting large task binary with size 3.9 MiB\n",
      "22/12/06 20:54:53 WARN DAGScheduler: Broadcasting large task binary with size 3.9 MiB\n",
      "22/12/06 20:54:53 WARN DAGScheduler: Broadcasting large task binary with size 3.9 MiB\n",
      "22/12/06 20:54:53 WARN DAGScheduler: Broadcasting large task binary with size 3.9 MiB\n",
      "22/12/06 20:54:53 WARN DAGScheduler: Broadcasting large task binary with size 3.9 MiB\n",
      "22/12/06 20:54:53 WARN DAGScheduler: Broadcasting large task binary with size 3.9 MiB\n",
      "22/12/06 20:54:53 WARN DAGScheduler: Broadcasting large task binary with size 3.9 MiB\n",
      "22/12/06 20:54:53 WARN DAGScheduler: Broadcasting large task binary with size 3.9 MiB\n",
      "22/12/06 20:54:53 WARN DAGScheduler: Broadcasting large task binary with size 3.9 MiB\n",
      "22/12/06 20:54:53 WARN DAGScheduler: Broadcasting large task binary with size 3.9 MiB\n",
      "22/12/06 20:54:53 WARN DAGScheduler: Broadcasting large task binary with size 3.9 MiB\n",
      "22/12/06 20:54:53 WARN DAGScheduler: Broadcasting large task binary with size 3.9 MiB\n",
      "22/12/06 20:54:54 WARN DAGScheduler: Broadcasting large task binary with size 3.9 MiB\n",
      "22/12/06 20:54:54 WARN DAGScheduler: Broadcasting large task binary with size 3.9 MiB\n",
      "22/12/06 20:54:54 WARN DAGScheduler: Broadcasting large task binary with size 3.9 MiB\n",
      "22/12/06 20:54:54 WARN DAGScheduler: Broadcasting large task binary with size 3.9 MiB\n",
      "22/12/06 20:54:54 WARN DAGScheduler: Broadcasting large task binary with size 3.9 MiB\n",
      "22/12/06 20:54:54 WARN DAGScheduler: Broadcasting large task binary with size 3.9 MiB\n",
      "22/12/06 20:54:54 WARN DAGScheduler: Broadcasting large task binary with size 3.9 MiB\n",
      "22/12/06 20:54:54 WARN DAGScheduler: Broadcasting large task binary with size 3.9 MiB\n",
      "22/12/06 20:54:54 WARN StopWordsRemover: Default locale set was [en_RU]; however, it was not found in available locales in JVM, falling back to en_US locale. Set param `locale` in order to respect another locale.\n",
      "22/12/06 20:54:54 WARN DAGScheduler: Broadcasting large task binary with size 3.9 MiB\n",
      "22/12/06 20:54:54 WARN DAGScheduler: Broadcasting large task binary with size 3.9 MiB\n",
      "22/12/06 20:54:54 WARN DAGScheduler: Broadcasting large task binary with size 3.9 MiB\n",
      "22/12/06 20:54:54 WARN DAGScheduler: Broadcasting large task binary with size 3.9 MiB\n",
      "22/12/06 20:54:54 WARN DAGScheduler: Broadcasting large task binary with size 3.9 MiB\n",
      "22/12/06 20:54:54 WARN DAGScheduler: Broadcasting large task binary with size 3.9 MiB\n",
      "22/12/06 20:54:54 WARN DAGScheduler: Broadcasting large task binary with size 3.9 MiB\n",
      "22/12/06 20:54:54 WARN DAGScheduler: Broadcasting large task binary with size 3.9 MiB\n",
      "22/12/06 20:54:55 WARN DAGScheduler: Broadcasting large task binary with size 3.9 MiB\n"
     ]
    },
    {
     "name": "stderr",
     "output_type": "stream",
     "text": [
      "                                                                                \r"
     ]
    },
    {
     "name": "stdout",
     "output_type": "stream",
     "text": [
      "22/12/06 20:54:55 WARN DAGScheduler: Broadcasting large task binary with size 3.9 MiB\n",
      "22/12/06 20:54:55 WARN DAGScheduler: Broadcasting large task binary with size 3.9 MiB\n",
      "22/12/06 20:54:55 WARN DAGScheduler: Broadcasting large task binary with size 3.9 MiB\n",
      "22/12/06 20:54:55 WARN DAGScheduler: Broadcasting large task binary with size 3.9 MiB\n",
      "22/12/06 20:54:56 WARN DAGScheduler: Broadcasting large task binary with size 3.9 MiB\n",
      "22/12/06 20:54:56 WARN StopWordsRemover: Default locale set was [en_RU]; however, it was not found in available locales in JVM, falling back to en_US locale. Set param `locale` in order to respect another locale.\n",
      "22/12/06 20:54:56 WARN DAGScheduler: Broadcasting large task binary with size 3.9 MiB\n",
      "22/12/06 20:54:56 WARN DAGScheduler: Broadcasting large task binary with size 3.9 MiB\n",
      "22/12/06 20:54:56 WARN DAGScheduler: Broadcasting large task binary with size 3.9 MiB\n",
      "22/12/06 20:54:56 WARN DAGScheduler: Broadcasting large task binary with size 3.9 MiB\n",
      "22/12/06 20:54:56 WARN DAGScheduler: Broadcasting large task binary with size 3.9 MiB\n"
     ]
    },
    {
     "name": "stderr",
     "output_type": "stream",
     "text": [
      "                                                                                \r"
     ]
    },
    {
     "name": "stdout",
     "output_type": "stream",
     "text": [
      "22/12/06 20:54:57 WARN DAGScheduler: Broadcasting large task binary with size 3.9 MiB\n",
      "22/12/06 20:54:57 WARN DAGScheduler: Broadcasting large task binary with size 3.9 MiB\n",
      "22/12/06 20:54:57 WARN DAGScheduler: Broadcasting large task binary with size 3.9 MiB\n",
      "22/12/06 20:54:57 WARN DAGScheduler: Broadcasting large task binary with size 3.9 MiB\n",
      "22/12/06 20:54:58 WARN DAGScheduler: Broadcasting large task binary with size 3.9 MiB\n",
      "22/12/06 20:54:58 WARN StopWordsRemover: Default locale set was [en_RU]; however, it was not found in available locales in JVM, falling back to en_US locale. Set param `locale` in order to respect another locale.\n",
      "22/12/06 20:54:58 WARN DAGScheduler: Broadcasting large task binary with size 3.9 MiB\n",
      "22/12/06 20:54:58 WARN DAGScheduler: Broadcasting large task binary with size 3.9 MiB\n",
      "22/12/06 20:54:58 WARN DAGScheduler: Broadcasting large task binary with size 3.9 MiB\n",
      "22/12/06 20:54:58 WARN DAGScheduler: Broadcasting large task binary with size 3.9 MiB\n",
      "22/12/06 20:54:58 WARN DAGScheduler: Broadcasting large task binary with size 3.9 MiB\n"
     ]
    },
    {
     "name": "stderr",
     "output_type": "stream",
     "text": [
      "[Stage 5768:> (1 + 7) / 8][Stage 5770:> (2 + 1) / 8][Stage 5772:> (0 + 0) / 8]8]\r"
     ]
    },
    {
     "name": "stdout",
     "output_type": "stream",
     "text": [
      "22/12/06 20:54:59 WARN DAGScheduler: Broadcasting large task binary with size 3.9 MiB\n"
     ]
    },
    {
     "name": "stderr",
     "output_type": "stream",
     "text": [
      "                                                                                \r"
     ]
    },
    {
     "name": "stdout",
     "output_type": "stream",
     "text": [
      "22/12/06 20:55:00 WARN DAGScheduler: Broadcasting large task binary with size 3.9 MiB\n",
      "22/12/06 20:55:00 WARN DAGScheduler: Broadcasting large task binary with size 3.9 MiB\n",
      "22/12/06 20:55:00 WARN DAGScheduler: Broadcasting large task binary with size 3.9 MiB\n",
      "22/12/06 20:55:01 WARN DAGScheduler: Broadcasting large task binary with size 3.9 MiB\n",
      "22/12/06 20:55:01 WARN DAGScheduler: Broadcasting large task binary with size 3.9 MiB\n"
     ]
    },
    {
     "name": "stderr",
     "output_type": "stream",
     "text": [
      "                                                                                \r"
     ]
    },
    {
     "name": "stdout",
     "output_type": "stream",
     "text": [
      "22/12/06 20:55:02 WARN DAGScheduler: Broadcasting large task binary with size 3.9 MiB\n",
      "22/12/06 20:55:02 WARN DAGScheduler: Broadcasting large task binary with size 3.9 MiB\n",
      "22/12/06 20:55:02 WARN DAGScheduler: Broadcasting large task binary with size 3.9 MiB\n",
      "22/12/06 20:55:02 WARN DAGScheduler: Broadcasting large task binary with size 3.9 MiB\n",
      "22/12/06 20:55:03 WARN StopWordsRemover: Default locale set was [en_RU]; however, it was not found in available locales in JVM, falling back to en_US locale. Set param `locale` in order to respect another locale.\n",
      "22/12/06 20:55:03 WARN DAGScheduler: Broadcasting large task binary with size 3.9 MiB\n",
      "22/12/06 20:55:03 WARN DAGScheduler: Broadcasting large task binary with size 3.9 MiB\n",
      "22/12/06 20:55:03 WARN DAGScheduler: Broadcasting large task binary with size 3.9 MiB\n",
      "22/12/06 20:55:03 WARN DAGScheduler: Broadcasting large task binary with size 3.9 MiB\n"
     ]
    },
    {
     "name": "stderr",
     "output_type": "stream",
     "text": [
      "                                                                                \r"
     ]
    },
    {
     "name": "stdout",
     "output_type": "stream",
     "text": [
      "22/12/06 20:55:04 WARN DAGScheduler: Broadcasting large task binary with size 3.9 MiB\n",
      "22/12/06 20:55:04 WARN DAGScheduler: Broadcasting large task binary with size 3.9 MiB\n",
      "22/12/06 20:55:04 WARN DAGScheduler: Broadcasting large task binary with size 3.9 MiB\n",
      "22/12/06 20:55:05 WARN DAGScheduler: Broadcasting large task binary with size 3.9 MiB\n",
      "22/12/06 20:55:05 WARN DAGScheduler: Broadcasting large task binary with size 3.9 MiB\n",
      "22/12/06 20:55:05 WARN DAGScheduler: Broadcasting large task binary with size 3.9 MiB\n",
      "22/12/06 20:55:05 WARN DAGScheduler: Broadcasting large task binary with size 3.9 MiB\n",
      "22/12/06 20:55:05 WARN DAGScheduler: Broadcasting large task binary with size 3.9 MiB\n",
      "22/12/06 20:55:05 WARN DAGScheduler: Broadcasting large task binary with size 3.9 MiB\n"
     ]
    },
    {
     "name": "stderr",
     "output_type": "stream",
     "text": [
      "                                                                                \r"
     ]
    },
    {
     "name": "stdout",
     "output_type": "stream",
     "text": [
      "22/12/06 20:55:06 WARN DAGScheduler: Broadcasting large task binary with size 3.9 MiB\n",
      "22/12/06 20:55:06 WARN DAGScheduler: Broadcasting large task binary with size 3.9 MiB\n",
      "22/12/06 20:55:06 WARN DAGScheduler: Broadcasting large task binary with size 3.9 MiB\n",
      "22/12/06 20:55:07 WARN DAGScheduler: Broadcasting large task binary with size 3.9 MiB\n",
      "22/12/06 20:55:07 WARN DAGScheduler: Broadcasting large task binary with size 3.9 MiB\n",
      "22/12/06 20:55:07 WARN DAGScheduler: Broadcasting large task binary with size 3.9 MiB\n",
      "22/12/06 20:55:07 WARN DAGScheduler: Broadcasting large task binary with size 3.9 MiB\n",
      "22/12/06 20:55:07 WARN DAGScheduler: Broadcasting large task binary with size 3.9 MiB\n",
      "22/12/06 20:55:07 WARN DAGScheduler: Broadcasting large task binary with size 3.9 MiB\n",
      "22/12/06 20:55:07 WARN DAGScheduler: Broadcasting large task binary with size 3.9 MiB\n"
     ]
    },
    {
     "name": "stderr",
     "output_type": "stream",
     "text": [
      "[Stage 5837:> (1 + 7) / 8][Stage 5841:> (0 + 1) / 8][Stage 5843:> (0 + 0) / 8]\r"
     ]
    },
    {
     "name": "stdout",
     "output_type": "stream",
     "text": [
      "22/12/06 20:55:08 WARN DAGScheduler: Broadcasting large task binary with size 3.9 MiB\n"
     ]
    },
    {
     "name": "stderr",
     "output_type": "stream",
     "text": [
      "\r",
      "                                                                                \r"
     ]
    },
    {
     "name": "stdout",
     "output_type": "stream",
     "text": [
      "22/12/06 20:55:08 WARN DAGScheduler: Broadcasting large task binary with size 3.9 MiB\n",
      "22/12/06 20:55:09 WARN DAGScheduler: Broadcasting large task binary with size 3.9 MiB\n",
      "22/12/06 20:55:09 WARN DAGScheduler: Broadcasting large task binary with size 3.9 MiB\n",
      "22/12/06 20:55:09 WARN DAGScheduler: Broadcasting large task binary with size 3.9 MiB\n",
      "22/12/06 20:55:09 WARN DAGScheduler: Broadcasting large task binary with size 3.9 MiB\n",
      "22/12/06 20:55:09 WARN DAGScheduler: Broadcasting large task binary with size 3.9 MiB\n",
      "22/12/06 20:55:09 WARN DAGScheduler: Broadcasting large task binary with size 3.9 MiB\n",
      "22/12/06 20:55:09 WARN DAGScheduler: Broadcasting large task binary with size 3.9 MiB\n",
      "22/12/06 20:55:09 WARN DAGScheduler: Broadcasting large task binary with size 3.9 MiB\n",
      "22/12/06 20:55:09 WARN DAGScheduler: Broadcasting large task binary with size 3.9 MiB\n",
      "22/12/06 20:55:09 WARN DAGScheduler: Broadcasting large task binary with size 3.9 MiB\n",
      "22/12/06 20:55:09 WARN DAGScheduler: Broadcasting large task binary with size 3.9 MiB\n",
      "22/12/06 20:55:09 WARN DAGScheduler: Broadcasting large task binary with size 3.9 MiB\n",
      "22/12/06 20:55:09 WARN DAGScheduler: Broadcasting large task binary with size 3.9 MiB\n",
      "22/12/06 20:55:09 WARN DAGScheduler: Broadcasting large task binary with size 3.9 MiB\n",
      "22/12/06 20:55:10 WARN DAGScheduler: Broadcasting large task binary with size 3.9 MiB\n",
      "22/12/06 20:55:10 WARN DAGScheduler: Broadcasting large task binary with size 3.9 MiB\n",
      "22/12/06 20:55:10 WARN DAGScheduler: Broadcasting large task binary with size 3.9 MiB\n",
      "22/12/06 20:55:10 WARN StopWordsRemover: Default locale set was [en_RU]; however, it was not found in available locales in JVM, falling back to en_US locale. Set param `locale` in order to respect another locale.\n",
      "22/12/06 20:55:10 WARN DAGScheduler: Broadcasting large task binary with size 3.9 MiB\n",
      "22/12/06 20:55:10 WARN DAGScheduler: Broadcasting large task binary with size 3.9 MiB\n",
      "22/12/06 20:55:10 WARN DAGScheduler: Broadcasting large task binary with size 3.9 MiB\n",
      "22/12/06 20:55:10 WARN DAGScheduler: Broadcasting large task binary with size 3.9 MiB\n",
      "22/12/06 20:55:10 WARN DAGScheduler: Broadcasting large task binary with size 5.8 MiB\n",
      "22/12/06 20:55:10 WARN DAGScheduler: Broadcasting large task binary with size 3.9 MiB\n",
      "22/12/06 20:55:10 WARN StopWordsRemover: Default locale set was [en_RU]; however, it was not found in available locales in JVM, falling back to en_US locale. Set param `locale` in order to respect another locale.\n",
      "22/12/06 20:55:11 WARN DAGScheduler: Broadcasting large task binary with size 3.9 MiB\n"
     ]
    },
    {
     "name": "stderr",
     "output_type": "stream",
     "text": [
      "\r",
      "[Stage 5883:==>             (1 + 7) / 8][Stage 5885:====>           (2 + 1) / 8]\r"
     ]
    },
    {
     "name": "stdout",
     "output_type": "stream",
     "text": [
      "22/12/06 20:55:11 WARN DAGScheduler: Broadcasting large task binary with size 3.9 MiB\n"
     ]
    },
    {
     "name": "stderr",
     "output_type": "stream",
     "text": [
      "\r",
      "[Stage 5883:==>             (1 + 7) / 8][Stage 5887:>               (0 + 1) / 8]\r",
      "\r",
      "                                                                                \r"
     ]
    },
    {
     "name": "stdout",
     "output_type": "stream",
     "text": [
      "22/12/06 20:55:12 WARN DAGScheduler: Broadcasting large task binary with size 3.9 MiB\n"
     ]
    },
    {
     "name": "stderr",
     "output_type": "stream",
     "text": [
      "\r",
      "[Stage 5884:> (3 + 2) / 8][Stage 5887:> (1 + 7) / 8][Stage 5889:> (0 + 0) / 8]\r",
      "\r",
      "                                                                                \r"
     ]
    },
    {
     "name": "stdout",
     "output_type": "stream",
     "text": [
      "22/12/06 20:55:12 WARN DAGScheduler: Broadcasting large task binary with size 3.9 MiB\n",
      "22/12/06 20:55:12 WARN DAGScheduler: Broadcasting large task binary with size 3.9 MiB\n",
      "22/12/06 20:55:12 WARN StopWordsRemover: Default locale set was [en_RU]; however, it was not found in available locales in JVM, falling back to en_US locale. Set param `locale` in order to respect another locale.\n",
      "22/12/06 20:55:12 WARN DAGScheduler: Broadcasting large task binary with size 3.9 MiB\n",
      "22/12/06 20:55:13 WARN StopWordsRemover: Default locale set was [en_RU]; however, it was not found in available locales in JVM, falling back to en_US locale. Set param `locale` in order to respect another locale.\n",
      "22/12/06 20:55:13 WARN DAGScheduler: Broadcasting large task binary with size 3.9 MiB\n",
      "22/12/06 20:55:13 WARN DAGScheduler: Broadcasting large task binary with size 3.9 MiB\n"
     ]
    },
    {
     "name": "stderr",
     "output_type": "stream",
     "text": [
      "\r",
      "[Stage 5913:>                                                       (0 + 8) / 8]\r"
     ]
    },
    {
     "name": "stdout",
     "output_type": "stream",
     "text": [
      "22/12/06 20:55:13 WARN DAGScheduler: Broadcasting large task binary with size 3.9 MiB\n"
     ]
    },
    {
     "name": "stderr",
     "output_type": "stream",
     "text": [
      "                                                                                \r"
     ]
    },
    {
     "name": "stdout",
     "output_type": "stream",
     "text": [
      "22/12/06 20:55:15 WARN DAGScheduler: Broadcasting large task binary with size 3.9 MiB\n",
      "22/12/06 20:55:16 WARN DAGScheduler: Broadcasting large task binary with size 3.9 MiB\n",
      "22/12/06 20:55:16 WARN DAGScheduler: Broadcasting large task binary with size 3.9 MiB\n",
      "22/12/06 20:55:17 WARN DAGScheduler: Broadcasting large task binary with size 3.9 MiB\n"
     ]
    },
    {
     "name": "stderr",
     "output_type": "stream",
     "text": [
      "                                                                                \r"
     ]
    },
    {
     "name": "stdout",
     "output_type": "stream",
     "text": [
      "22/12/06 20:55:17 WARN DAGScheduler: Broadcasting large task binary with size 3.9 MiB\n",
      "22/12/06 20:55:18 WARN DAGScheduler: Broadcasting large task binary with size 3.9 MiB\n",
      "22/12/06 20:55:18 WARN DAGScheduler: Broadcasting large task binary with size 3.9 MiB\n",
      "22/12/06 20:55:18 WARN DAGScheduler: Broadcasting large task binary with size 3.9 MiB\n"
     ]
    },
    {
     "name": "stderr",
     "output_type": "stream",
     "text": [
      "                                                                                \r"
     ]
    },
    {
     "name": "stdout",
     "output_type": "stream",
     "text": [
      "22/12/06 20:55:19 WARN DAGScheduler: Broadcasting large task binary with size 3.9 MiB\n",
      "22/12/06 20:55:19 WARN DAGScheduler: Broadcasting large task binary with size 3.9 MiB\n",
      "22/12/06 20:55:20 WARN DAGScheduler: Broadcasting large task binary with size 3.9 MiB\n",
      "22/12/06 20:55:20 WARN DAGScheduler: Broadcasting large task binary with size 3.9 MiB\n"
     ]
    },
    {
     "name": "stderr",
     "output_type": "stream",
     "text": [
      "                                                                                \r"
     ]
    },
    {
     "name": "stdout",
     "output_type": "stream",
     "text": [
      "22/12/06 20:55:21 WARN DAGScheduler: Broadcasting large task binary with size 3.9 MiB\n",
      "22/12/06 20:55:21 WARN DAGScheduler: Broadcasting large task binary with size 3.9 MiB\n",
      "22/12/06 20:55:22 WARN DAGScheduler: Broadcasting large task binary with size 3.9 MiB\n",
      "22/12/06 20:55:22 WARN DAGScheduler: Broadcasting large task binary with size 3.9 MiB\n"
     ]
    },
    {
     "name": "stderr",
     "output_type": "stream",
     "text": [
      "                                                                                \r"
     ]
    },
    {
     "name": "stdout",
     "output_type": "stream",
     "text": [
      "22/12/06 20:55:23 WARN StopWordsRemover: Default locale set was [en_RU]; however, it was not found in available locales in JVM, falling back to en_US locale. Set param `locale` in order to respect another locale.\n",
      "22/12/06 20:55:23 WARN DAGScheduler: Broadcasting large task binary with size 3.9 MiB\n",
      "22/12/06 20:55:23 WARN DAGScheduler: Broadcasting large task binary with size 3.9 MiB\n",
      "22/12/06 20:55:24 WARN DAGScheduler: Broadcasting large task binary with size 3.9 MiB\n",
      "22/12/06 20:55:24 WARN DAGScheduler: Broadcasting large task binary with size 3.9 MiB\n"
     ]
    },
    {
     "name": "stderr",
     "output_type": "stream",
     "text": [
      "\r",
      "[Stage 5945:>                                                       (0 + 8) / 8]\r",
      "\r",
      "                                                                                \r"
     ]
    },
    {
     "name": "stdout",
     "output_type": "stream",
     "text": [
      "22/12/06 20:55:24 WARN StopWordsRemover: Default locale set was [en_RU]; however, it was not found in available locales in JVM, falling back to en_US locale. Set param `locale` in order to respect another locale.\n",
      "22/12/06 20:55:24 WARN DAGScheduler: Broadcasting large task binary with size 3.9 MiB\n",
      "22/12/06 20:55:24 WARN DAGScheduler: Broadcasting large task binary with size 3.9 MiB\n",
      "22/12/06 20:55:25 WARN DAGScheduler: Broadcasting large task binary with size 3.9 MiB\n",
      "22/12/06 20:55:25 WARN DAGScheduler: Broadcasting large task binary with size 3.9 MiB\n"
     ]
    },
    {
     "name": "stderr",
     "output_type": "stream",
     "text": [
      "\r",
      "[Stage 5951:>                                                       (0 + 8) / 8]\r",
      "\r",
      "                                                                                \r"
     ]
    },
    {
     "name": "stdout",
     "output_type": "stream",
     "text": [
      "22/12/06 20:55:26 WARN DAGScheduler: Broadcasting large task binary with size 3.9 MiB\n",
      "22/12/06 20:55:26 WARN DAGScheduler: Broadcasting large task binary with size 3.9 MiB\n",
      "22/12/06 20:55:26 WARN StopWordsRemover: Default locale set was [en_RU]; however, it was not found in available locales in JVM, falling back to en_US locale. Set param `locale` in order to respect another locale.\n",
      "22/12/06 20:55:26 WARN StopWordsRemover: Default locale set was [en_RU]; however, it was not found in available locales in JVM, falling back to en_US locale. Set param `locale` in order to respect another locale.\n",
      "22/12/06 20:55:26 WARN DAGScheduler: Broadcasting large task binary with size 3.9 MiB\n",
      "22/12/06 20:55:26 WARN DAGScheduler: Broadcasting large task binary with size 3.9 MiB\n"
     ]
    },
    {
     "name": "stderr",
     "output_type": "stream",
     "text": [
      "                                                                                \r"
     ]
    },
    {
     "name": "stdout",
     "output_type": "stream",
     "text": [
      "22/12/06 20:55:29 WARN DAGScheduler: Broadcasting large task binary with size 3.9 MiB\n",
      "22/12/06 20:55:29 WARN DAGScheduler: Broadcasting large task binary with size 3.9 MiB\n",
      "22/12/06 20:55:29 WARN DAGScheduler: Broadcasting large task binary with size 3.9 MiB\n",
      "22/12/06 20:55:29 WARN DAGScheduler: Broadcasting large task binary with size 3.9 MiB\n",
      "22/12/06 20:55:30 WARN DAGScheduler: Broadcasting large task binary with size 3.9 MiB\n"
     ]
    },
    {
     "name": "stderr",
     "output_type": "stream",
     "text": [
      "                                                                                \r"
     ]
    },
    {
     "name": "stdout",
     "output_type": "stream",
     "text": [
      "22/12/06 20:55:31 WARN DAGScheduler: Broadcasting large task binary with size 3.9 MiB\n",
      "22/12/06 20:55:31 WARN DAGScheduler: Broadcasting large task binary with size 3.9 MiB\n",
      "22/12/06 20:55:31 WARN DAGScheduler: Broadcasting large task binary with size 3.9 MiB\n",
      "22/12/06 20:55:32 WARN DAGScheduler: Broadcasting large task binary with size 3.9 MiB\n"
     ]
    },
    {
     "name": "stderr",
     "output_type": "stream",
     "text": [
      "\r",
      "[Stage 5989:>                                                       (0 + 8) / 8]\r"
     ]
    },
    {
     "name": "stdout",
     "output_type": "stream",
     "text": [
      "22/12/06 20:55:32 WARN DAGScheduler: Broadcasting large task binary with size 3.9 MiB\n"
     ]
    },
    {
     "name": "stderr",
     "output_type": "stream",
     "text": [
      "                                                                                \r"
     ]
    },
    {
     "name": "stdout",
     "output_type": "stream",
     "text": [
      "22/12/06 20:55:33 WARN DAGScheduler: Broadcasting large task binary with size 3.9 MiB\n",
      "22/12/06 20:55:33 WARN DAGScheduler: Broadcasting large task binary with size 3.9 MiB\n",
      "22/12/06 20:55:33 WARN DAGScheduler: Broadcasting large task binary with size 3.9 MiB\n",
      "22/12/06 20:55:34 WARN DAGScheduler: Broadcasting large task binary with size 3.9 MiB\n",
      "22/12/06 20:55:34 WARN DAGScheduler: Broadcasting large task binary with size 3.9 MiB\n"
     ]
    },
    {
     "name": "stderr",
     "output_type": "stream",
     "text": [
      "                                                                                \r"
     ]
    },
    {
     "name": "stdout",
     "output_type": "stream",
     "text": [
      "22/12/06 20:55:35 WARN DAGScheduler: Broadcasting large task binary with size 3.9 MiB\n",
      "22/12/06 20:55:35 WARN DAGScheduler: Broadcasting large task binary with size 3.9 MiB\n",
      "22/12/06 20:55:35 WARN DAGScheduler: Broadcasting large task binary with size 3.9 MiB\n",
      "22/12/06 20:55:36 WARN DAGScheduler: Broadcasting large task binary with size 3.9 MiB\n",
      "22/12/06 20:55:36 WARN DAGScheduler: Broadcasting large task binary with size 3.9 MiB\n"
     ]
    },
    {
     "name": "stderr",
     "output_type": "stream",
     "text": [
      "                                                                                \r"
     ]
    },
    {
     "name": "stdout",
     "output_type": "stream",
     "text": [
      "22/12/06 20:55:37 WARN DAGScheduler: Broadcasting large task binary with size 3.9 MiB\n",
      "22/12/06 20:55:37 WARN StopWordsRemover: Default locale set was [en_RU]; however, it was not found in available locales in JVM, falling back to en_US locale. Set param `locale` in order to respect another locale.\n",
      "22/12/06 20:55:37 WARN DAGScheduler: Broadcasting large task binary with size 3.9 MiB\n",
      "22/12/06 20:55:37 WARN DAGScheduler: Broadcasting large task binary with size 3.9 MiB\n",
      "22/12/06 20:55:38 WARN DAGScheduler: Broadcasting large task binary with size 3.9 MiB\n",
      "22/12/06 20:55:38 WARN DAGScheduler: Broadcasting large task binary with size 3.9 MiB\n",
      "22/12/06 20:55:38 WARN DAGScheduler: Broadcasting large task binary with size 3.9 MiB\n",
      "22/12/06 20:55:39 WARN DAGScheduler: Broadcasting large task binary with size 3.9 MiB\n",
      "22/12/06 20:55:39 WARN StopWordsRemover: Default locale set was [en_RU]; however, it was not found in available locales in JVM, falling back to en_US locale. Set param `locale` in order to respect another locale.\n",
      "22/12/06 20:55:39 WARN DAGScheduler: Broadcasting large task binary with size 3.9 MiB\n",
      "22/12/06 20:55:39 WARN DAGScheduler: Broadcasting large task binary with size 3.9 MiB\n"
     ]
    },
    {
     "name": "stderr",
     "output_type": "stream",
     "text": [
      "                                                                                \r"
     ]
    },
    {
     "name": "stdout",
     "output_type": "stream",
     "text": [
      "22/12/06 20:55:40 WARN DAGScheduler: Broadcasting large task binary with size 3.9 MiB\n",
      "22/12/06 20:55:41 WARN DAGScheduler: Broadcasting large task binary with size 3.9 MiB\n",
      "22/12/06 20:55:41 WARN DAGScheduler: Broadcasting large task binary with size 3.9 MiB\n",
      "22/12/06 20:55:41 WARN DAGScheduler: Broadcasting large task binary with size 3.9 MiB\n"
     ]
    },
    {
     "name": "stderr",
     "output_type": "stream",
     "text": [
      "                                                                                \r"
     ]
    },
    {
     "name": "stdout",
     "output_type": "stream",
     "text": [
      "22/12/06 20:55:42 WARN DAGScheduler: Broadcasting large task binary with size 3.9 MiB\n",
      "22/12/06 20:55:43 WARN DAGScheduler: Broadcasting large task binary with size 3.9 MiB\n",
      "22/12/06 20:55:43 WARN DAGScheduler: Broadcasting large task binary with size 3.9 MiB\n",
      "22/12/06 20:55:43 WARN StopWordsRemover: Default locale set was [en_RU]; however, it was not found in available locales in JVM, falling back to en_US locale. Set param `locale` in order to respect another locale.\n",
      "22/12/06 20:55:43 WARN DAGScheduler: Broadcasting large task binary with size 3.9 MiB\n"
     ]
    },
    {
     "name": "stderr",
     "output_type": "stream",
     "text": [
      "[Stage 6066:> (1 + 7) / 8][Stage 6068:=>(4 + 1) / 8][Stage 6070:> (0 + 0) / 8]8]\r"
     ]
    },
    {
     "name": "stdout",
     "output_type": "stream",
     "text": [
      "22/12/06 20:55:44 WARN DAGScheduler: Broadcasting large task binary with size 3.9 MiB\n"
     ]
    },
    {
     "name": "stderr",
     "output_type": "stream",
     "text": [
      "\r",
      "                                                                                \r"
     ]
    },
    {
     "name": "stdout",
     "output_type": "stream",
     "text": [
      "22/12/06 20:55:44 WARN DAGScheduler: Broadcasting large task binary with size 3.9 MiB\n",
      "22/12/06 20:55:45 WARN DAGScheduler: Broadcasting large task binary with size 3.9 MiB\n",
      "22/12/06 20:55:45 WARN DAGScheduler: Broadcasting large task binary with size 3.9 MiB\n",
      "22/12/06 20:55:45 WARN DAGScheduler: Broadcasting large task binary with size 3.9 MiB\n",
      "22/12/06 20:55:46 WARN DAGScheduler: Broadcasting large task binary with size 3.9 MiB\n",
      "22/12/06 20:55:46 WARN StopWordsRemover: Default locale set was [en_RU]; however, it was not found in available locales in JVM, falling back to en_US locale. Set param `locale` in order to respect another locale.\n",
      "22/12/06 20:55:46 WARN DAGScheduler: Broadcasting large task binary with size 3.9 MiB\n",
      "22/12/06 20:55:46 WARN DAGScheduler: Broadcasting large task binary with size 3.9 MiB\n",
      "22/12/06 20:55:46 WARN DAGScheduler: Broadcasting large task binary with size 3.9 MiB\n"
     ]
    },
    {
     "name": "stderr",
     "output_type": "stream",
     "text": [
      "\r",
      "[Stage 6105:> (0 + 8) / 8][Stage 6107:> (0 + 0) / 8][Stage 6109:> (0 + 0) / 8]\r"
     ]
    },
    {
     "name": "stdout",
     "output_type": "stream",
     "text": [
      "22/12/06 20:55:47 WARN StopWordsRemover: Default locale set was [en_RU]; however, it was not found in available locales in JVM, falling back to en_US locale. Set param `locale` in order to respect another locale.\n",
      "22/12/06 20:55:47 WARN DAGScheduler: Broadcasting large task binary with size 4.0 MiB\n"
     ]
    },
    {
     "name": "stderr",
     "output_type": "stream",
     "text": [
      "\r",
      "[Stage 6105:> (1 + 7) / 8][Stage 6107:=>(4 + 1) / 8][Stage 6109:> (0 + 0) / 8]\r",
      "\r",
      "                                                                                \r"
     ]
    },
    {
     "name": "stdout",
     "output_type": "stream",
     "text": [
      "22/12/06 20:55:48 WARN DAGScheduler: Broadcasting large task binary with size 3.9 MiB\n"
     ]
    },
    {
     "name": "stderr",
     "output_type": "stream",
     "text": [
      "                                                                                \r"
     ]
    },
    {
     "name": "stdout",
     "output_type": "stream",
     "text": [
      "22/12/06 20:55:49 WARN DAGScheduler: Broadcasting large task binary with size 3.9 MiB\n",
      "22/12/06 20:55:49 WARN DAGScheduler: Broadcasting large task binary with size 3.9 MiB\n",
      "22/12/06 20:55:49 WARN DAGScheduler: Broadcasting large task binary with size 3.9 MiB\n"
     ]
    },
    {
     "name": "stderr",
     "output_type": "stream",
     "text": [
      "\r",
      "[Stage 6117:>               (0 + 8) / 8][Stage 6119:>               (0 + 0) / 8]\r",
      "\r",
      "[Stage 6112:> (0 + 0) / 8][Stage 6117:> (0 + 8) / 8][Stage 6119:> (0 + 0) / 8]\r"
     ]
    },
    {
     "name": "stdout",
     "output_type": "stream",
     "text": [
      "22/12/06 20:55:50 WARN DAGScheduler: Broadcasting large task binary with size 3.9 MiB\n"
     ]
    },
    {
     "name": "stderr",
     "output_type": "stream",
     "text": [
      "\r",
      "[Stage 6112:=>(4 + 1) / 8][Stage 6117:> (1 + 7) / 8][Stage 6119:> (0 + 0) / 8]\r",
      "\r",
      "                                                                                \r"
     ]
    },
    {
     "name": "stdout",
     "output_type": "stream",
     "text": [
      "22/12/06 20:55:51 WARN DAGScheduler: Broadcasting large task binary with size 3.9 MiB\n",
      "22/12/06 20:55:51 WARN DAGScheduler: Broadcasting large task binary with size 3.9 MiB\n",
      "22/12/06 20:55:51 WARN DAGScheduler: Broadcasting large task binary with size 3.9 MiB\n",
      "22/12/06 20:55:51 WARN StopWordsRemover: Default locale set was [en_RU]; however, it was not found in available locales in JVM, falling back to en_US locale. Set param `locale` in order to respect another locale.\n",
      "22/12/06 20:55:51 WARN DAGScheduler: Broadcasting large task binary with size 3.9 MiB\n"
     ]
    },
    {
     "name": "stderr",
     "output_type": "stream",
     "text": [
      "[Stage 6140:> (0 + 8) / 8][Stage 6142:> (0 + 0) / 8][Stage 6144:> (0 + 0) / 8]  \r"
     ]
    },
    {
     "name": "stdout",
     "output_type": "stream",
     "text": [
      "22/12/06 20:55:53 WARN DAGScheduler: Broadcasting large task binary with size 3.9 MiB\n"
     ]
    },
    {
     "name": "stderr",
     "output_type": "stream",
     "text": [
      "\r",
      "[Stage 6139:> (0 + 0) / 2][Stage 6140:> (0 + 8) / 8][Stage 6142:> (0 + 0) / 8]\r",
      "\r",
      "                                                                                \r"
     ]
    },
    {
     "name": "stdout",
     "output_type": "stream",
     "text": [
      "22/12/06 20:55:54 WARN DAGScheduler: Broadcasting large task binary with size 3.9 MiB\n",
      "22/12/06 20:55:54 WARN DAGScheduler: Broadcasting large task binary with size 3.9 MiB\n",
      "22/12/06 20:55:55 WARN DAGScheduler: Broadcasting large task binary with size 3.9 MiB\n",
      "22/12/06 20:55:55 WARN DAGScheduler: Broadcasting large task binary with size 3.9 MiB\n",
      "22/12/06 20:55:55 WARN DAGScheduler: Broadcasting large task binary with size 3.9 MiB\n",
      "22/12/06 20:55:55 WARN DAGScheduler: Broadcasting large task binary with size 3.9 MiB\n",
      "22/12/06 20:55:55 WARN DAGScheduler: Broadcasting large task binary with size 3.9 MiB\n",
      "22/12/06 20:55:55 WARN DAGScheduler: Broadcasting large task binary with size 3.9 MiB\n",
      "22/12/06 20:55:55 WARN DAGScheduler: Broadcasting large task binary with size 3.9 MiB\n",
      "22/12/06 20:55:55 WARN DAGScheduler: Broadcasting large task binary with size 3.9 MiB\n",
      "22/12/06 20:55:55 WARN DAGScheduler: Broadcasting large task binary with size 3.9 MiB\n",
      "22/12/06 20:55:55 WARN DAGScheduler: Broadcasting large task binary with size 3.9 MiB\n",
      "22/12/06 20:55:55 WARN DAGScheduler: Broadcasting large task binary with size 3.9 MiB\n",
      "22/12/06 20:55:55 WARN StopWordsRemover: Default locale set was [en_RU]; however, it was not found in available locales in JVM, falling back to en_US locale. Set param `locale` in order to respect another locale.\n",
      "22/12/06 20:55:56 WARN DAGScheduler: Broadcasting large task binary with size 3.9 MiB\n"
     ]
    },
    {
     "name": "stderr",
     "output_type": "stream",
     "text": [
      "                                                                                \r"
     ]
    },
    {
     "name": "stdout",
     "output_type": "stream",
     "text": [
      "22/12/06 20:55:56 WARN DAGScheduler: Broadcasting large task binary with size 3.9 MiB\n"
     ]
    },
    {
     "name": "stderr",
     "output_type": "stream",
     "text": [
      "                                                                                \r"
     ]
    },
    {
     "name": "stdout",
     "output_type": "stream",
     "text": [
      "22/12/06 20:55:58 WARN DAGScheduler: Broadcasting large task binary with size 3.9 MiB\n",
      "22/12/06 20:55:58 WARN DAGScheduler: Broadcasting large task binary with size 3.9 MiB\n",
      "22/12/06 20:55:58 WARN DAGScheduler: Broadcasting large task binary with size 3.9 MiB\n",
      "22/12/06 20:55:58 WARN DAGScheduler: Broadcasting large task binary with size 3.9 MiB\n"
     ]
    },
    {
     "name": "stderr",
     "output_type": "stream",
     "text": [
      "                                                                                \r"
     ]
    },
    {
     "name": "stdout",
     "output_type": "stream",
     "text": [
      "22/12/06 20:55:59 WARN DAGScheduler: Broadcasting large task binary with size 3.9 MiB\n",
      "22/12/06 20:56:00 WARN DAGScheduler: Broadcasting large task binary with size 3.9 MiB\n",
      "22/12/06 20:56:00 WARN DAGScheduler: Broadcasting large task binary with size 3.9 MiB\n",
      "22/12/06 20:56:00 WARN DAGScheduler: Broadcasting large task binary with size 3.9 MiB\n",
      "22/12/06 20:56:00 WARN StopWordsRemover: Default locale set was [en_RU]; however, it was not found in available locales in JVM, falling back to en_US locale. Set param `locale` in order to respect another locale.\n",
      "22/12/06 20:56:00 WARN DAGScheduler: Broadcasting large task binary with size 3.9 MiB\n",
      "22/12/06 20:56:00 WARN StopWordsRemover: Default locale set was [en_RU]; however, it was not found in available locales in JVM, falling back to en_US locale. Set param `locale` in order to respect another locale.\n",
      "22/12/06 20:56:00 WARN DAGScheduler: Broadcasting large task binary with size 3.9 MiB\n",
      "22/12/06 20:56:00 WARN DAGScheduler: Broadcasting large task binary with size 3.9 MiB\n",
      "22/12/06 20:56:00 WARN DAGScheduler: Broadcasting large task binary with size 3.9 MiB\n",
      "22/12/06 20:56:00 WARN DAGScheduler: Broadcasting large task binary with size 3.9 MiB\n",
      "22/12/06 20:56:00 WARN DAGScheduler: Broadcasting large task binary with size 3.9 MiB\n"
     ]
    },
    {
     "name": "stderr",
     "output_type": "stream",
     "text": [
      "                                                                                \r"
     ]
    },
    {
     "name": "stdout",
     "output_type": "stream",
     "text": [
      "22/12/06 20:56:02 WARN DAGScheduler: Broadcasting large task binary with size 3.9 MiB\n",
      "22/12/06 20:56:02 WARN DAGScheduler: Broadcasting large task binary with size 3.9 MiB\n",
      "22/12/06 20:56:03 WARN StopWordsRemover: Default locale set was [en_RU]; however, it was not found in available locales in JVM, falling back to en_US locale. Set param `locale` in order to respect another locale.\n",
      "22/12/06 20:56:03 WARN DAGScheduler: Broadcasting large task binary with size 3.9 MiB\n",
      "22/12/06 20:56:03 WARN DAGScheduler: Broadcasting large task binary with size 3.9 MiB\n",
      "22/12/06 20:56:03 WARN DAGScheduler: Broadcasting large task binary with size 3.9 MiB\n",
      "22/12/06 20:56:03 WARN DAGScheduler: Broadcasting large task binary with size 3.9 MiB\n"
     ]
    },
    {
     "name": "stderr",
     "output_type": "stream",
     "text": [
      "                                                                                \r"
     ]
    },
    {
     "name": "stdout",
     "output_type": "stream",
     "text": [
      "22/12/06 20:56:04 WARN DAGScheduler: Broadcasting large task binary with size 3.9 MiB\n",
      "22/12/06 20:56:04 WARN DAGScheduler: Broadcasting large task binary with size 3.9 MiB\n",
      "22/12/06 20:56:04 WARN DAGScheduler: Broadcasting large task binary with size 3.9 MiB\n",
      "22/12/06 20:56:05 WARN DAGScheduler: Broadcasting large task binary with size 3.9 MiB\n"
     ]
    },
    {
     "name": "stderr",
     "output_type": "stream",
     "text": [
      "                                                                                \r"
     ]
    },
    {
     "name": "stdout",
     "output_type": "stream",
     "text": [
      "22/12/06 20:56:06 WARN DAGScheduler: Broadcasting large task binary with size 3.9 MiB\n",
      "22/12/06 20:56:06 WARN DAGScheduler: Broadcasting large task binary with size 3.9 MiB\n",
      "22/12/06 20:56:06 WARN DAGScheduler: Broadcasting large task binary with size 3.9 MiB\n",
      "22/12/06 20:56:06 WARN DAGScheduler: Broadcasting large task binary with size 3.9 MiB\n"
     ]
    },
    {
     "name": "stderr",
     "output_type": "stream",
     "text": [
      "\r",
      "[Stage 6230:>               (0 + 8) / 8][Stage 6232:>               (0 + 0) / 8]\r",
      "\r",
      "[Stage 6225:> (0 + 0) / 2][Stage 6230:> (0 + 8) / 8][Stage 6232:> (0 + 0) / 8]\r"
     ]
    },
    {
     "name": "stdout",
     "output_type": "stream",
     "text": [
      "22/12/06 20:56:07 WARN StopWordsRemover: Default locale set was [en_RU]; however, it was not found in available locales in JVM, falling back to en_US locale. Set param `locale` in order to respect another locale.\n",
      "22/12/06 20:56:07 WARN DAGScheduler: Broadcasting large task binary with size 3.9 MiB\n"
     ]
    },
    {
     "name": "stderr",
     "output_type": "stream",
     "text": [
      "\r",
      "                                                                                \r"
     ]
    },
    {
     "name": "stdout",
     "output_type": "stream",
     "text": [
      "22/12/06 20:56:08 WARN DAGScheduler: Broadcasting large task binary with size 3.9 MiB\n"
     ]
    },
    {
     "name": "stderr",
     "output_type": "stream",
     "text": [
      "                                                                                \r"
     ]
    },
    {
     "name": "stdout",
     "output_type": "stream",
     "text": [
      "22/12/06 20:56:08 WARN DAGScheduler: Broadcasting large task binary with size 3.9 MiB\n",
      "22/12/06 20:56:08 WARN DAGScheduler: Broadcasting large task binary with size 3.9 MiB\n"
     ]
    },
    {
     "name": "stderr",
     "output_type": "stream",
     "text": [
      "\r",
      "[Stage 6234:> (1 + 7) / 8][Stage 6236:> (0 + 0) / 8][Stage 6238:> (0 + 0) / 8]\r",
      "\r",
      "                                                                                \r"
     ]
    },
    {
     "name": "stdout",
     "output_type": "stream",
     "text": [
      "22/12/06 20:56:09 WARN DAGScheduler: Broadcasting large task binary with size 3.9 MiB\n"
     ]
    },
    {
     "name": "stderr",
     "output_type": "stream",
     "text": [
      "                                                                                \r"
     ]
    },
    {
     "name": "stdout",
     "output_type": "stream",
     "text": [
      "22/12/06 20:56:11 WARN DAGScheduler: Broadcasting large task binary with size 3.9 MiB\n",
      "22/12/06 20:56:11 WARN DAGScheduler: Broadcasting large task binary with size 3.9 MiB\n"
     ]
    },
    {
     "name": "stderr",
     "output_type": "stream",
     "text": [
      "                                                                                \r"
     ]
    },
    {
     "name": "stdout",
     "output_type": "stream",
     "text": [
      "22/12/06 20:56:12 WARN StopWordsRemover: Default locale set was [en_RU]; however, it was not found in available locales in JVM, falling back to en_US locale. Set param `locale` in order to respect another locale.\n",
      "22/12/06 20:56:12 WARN DAGScheduler: Broadcasting large task binary with size 3.9 MiB\n",
      "22/12/06 20:56:13 WARN DAGScheduler: Broadcasting large task binary with size 3.9 MiB\n",
      "22/12/06 20:56:13 WARN DAGScheduler: Broadcasting large task binary with size 3.9 MiB\n"
     ]
    },
    {
     "name": "stderr",
     "output_type": "stream",
     "text": [
      "\r",
      "[Stage 6247:> (0 + 8) / 8][Stage 6251:> (0 + 0) / 8][Stage 6252:> (0 + 0) / 8]\r",
      "\r",
      "                                                                                \r"
     ]
    },
    {
     "name": "stdout",
     "output_type": "stream",
     "text": [
      "22/12/06 20:56:13 WARN DAGScheduler: Broadcasting large task binary with size 3.9 MiB\n",
      "22/12/06 20:56:14 WARN StopWordsRemover: Default locale set was [en_RU]; however, it was not found in available locales in JVM, falling back to en_US locale. Set param `locale` in order to respect another locale.\n",
      "22/12/06 20:56:14 WARN DAGScheduler: Broadcasting large task binary with size 3.9 MiB\n",
      "22/12/06 20:56:14 WARN DAGScheduler: Broadcasting large task binary with size 3.9 MiB\n",
      "22/12/06 20:56:14 WARN StopWordsRemover: Default locale set was [en_RU]; however, it was not found in available locales in JVM, falling back to en_US locale. Set param `locale` in order to respect another locale.\n",
      "22/12/06 20:56:14 WARN DAGScheduler: Broadcasting large task binary with size 3.9 MiB\n",
      "22/12/06 20:56:14 WARN DAGScheduler: Broadcasting large task binary with size 3.9 MiB\n",
      "22/12/06 20:56:14 WARN DAGScheduler: Broadcasting large task binary with size 3.9 MiB\n",
      "22/12/06 20:56:14 WARN DAGScheduler: Broadcasting large task binary with size 3.9 MiB\n"
     ]
    },
    {
     "name": "stderr",
     "output_type": "stream",
     "text": [
      "                                                                                \r"
     ]
    },
    {
     "name": "stdout",
     "output_type": "stream",
     "text": [
      "22/12/06 20:56:15 WARN DAGScheduler: Broadcasting large task binary with size 3.9 MiB\n"
     ]
    },
    {
     "name": "stderr",
     "output_type": "stream",
     "text": [
      "\r",
      "[Stage 6261:=>(6 + 2) / 8][Stage 6268:> (0 + 6) / 8][Stage 6272:> (0 + 0) / 1]\r",
      "\r",
      "                                                                                \r"
     ]
    },
    {
     "name": "stdout",
     "output_type": "stream",
     "text": [
      "22/12/06 20:56:16 WARN DAGScheduler: Broadcasting large task binary with size 3.9 MiB\n",
      "22/12/06 20:56:16 WARN StopWordsRemover: Default locale set was [en_RU]; however, it was not found in available locales in JVM, falling back to en_US locale. Set param `locale` in order to respect another locale.\n",
      "22/12/06 20:56:16 WARN DAGScheduler: Broadcasting large task binary with size 3.9 MiB\n",
      "22/12/06 20:56:16 WARN DAGScheduler: Broadcasting large task binary with size 3.9 MiB\n"
     ]
    },
    {
     "name": "stderr",
     "output_type": "stream",
     "text": [
      "                                                                                \r"
     ]
    },
    {
     "name": "stdout",
     "output_type": "stream",
     "text": [
      "22/12/06 20:56:19 WARN DAGScheduler: Broadcasting large task binary with size 3.9 MiB\n",
      "22/12/06 20:56:19 WARN DAGScheduler: Broadcasting large task binary with size 3.9 MiB\n"
     ]
    },
    {
     "name": "stderr",
     "output_type": "stream",
     "text": [
      "                                                                                \r"
     ]
    },
    {
     "name": "stdout",
     "output_type": "stream",
     "text": [
      "22/12/06 20:56:21 WARN StopWordsRemover: Default locale set was [en_RU]; however, it was not found in available locales in JVM, falling back to en_US locale. Set param `locale` in order to respect another locale.\n",
      "22/12/06 20:56:21 WARN DAGScheduler: Broadcasting large task binary with size 3.9 MiB\n",
      "22/12/06 20:56:21 WARN DAGScheduler: Broadcasting large task binary with size 3.9 MiB\n"
     ]
    },
    {
     "name": "stderr",
     "output_type": "stream",
     "text": [
      "                                                                                \r"
     ]
    },
    {
     "name": "stdout",
     "output_type": "stream",
     "text": [
      "22/12/06 20:56:22 WARN StopWordsRemover: Default locale set was [en_RU]; however, it was not found in available locales in JVM, falling back to en_US locale. Set param `locale` in order to respect another locale.\n"
     ]
    },
    {
     "name": "stderr",
     "output_type": "stream",
     "text": [
      "                                                                                \r"
     ]
    },
    {
     "name": "stdout",
     "output_type": "stream",
     "text": [
      "22/12/06 20:56:24 WARN DAGScheduler: Broadcasting large task binary with size 3.9 MiB\n",
      "22/12/06 20:56:24 WARN DAGScheduler: Broadcasting large task binary with size 3.9 MiB\n"
     ]
    },
    {
     "name": "stderr",
     "output_type": "stream",
     "text": [
      "                                                                                \r"
     ]
    },
    {
     "name": "stdout",
     "output_type": "stream",
     "text": [
      "22/12/06 20:56:25 WARN DAGScheduler: Broadcasting large task binary with size 3.9 MiB\n"
     ]
    },
    {
     "name": "stderr",
     "output_type": "stream",
     "text": [
      "                                                                                \r"
     ]
    },
    {
     "name": "stdout",
     "output_type": "stream",
     "text": [
      "22/12/06 20:56:27 WARN DAGScheduler: Broadcasting large task binary with size 3.9 MiB\n",
      "22/12/06 20:56:27 WARN DAGScheduler: Broadcasting large task binary with size 3.9 MiB\n"
     ]
    },
    {
     "name": "stderr",
     "output_type": "stream",
     "text": [
      "                                                                                \r"
     ]
    },
    {
     "name": "stdout",
     "output_type": "stream",
     "text": [
      "22/12/06 20:56:28 WARN StopWordsRemover: Default locale set was [en_RU]; however, it was not found in available locales in JVM, falling back to en_US locale. Set param `locale` in order to respect another locale.\n",
      "22/12/06 20:56:29 WARN DAGScheduler: Broadcasting large task binary with size 3.9 MiB\n",
      "22/12/06 20:56:29 WARN DAGScheduler: Broadcasting large task binary with size 3.9 MiB\n",
      "22/12/06 20:56:29 WARN DAGScheduler: Broadcasting large task binary with size 3.9 MiB\n"
     ]
    },
    {
     "name": "stderr",
     "output_type": "stream",
     "text": [
      "\r",
      "[Stage 6319:> (1 + 7) / 8][Stage 6323:> (0 + 0) / 1][Stage 6324:> (0 + 0) / 8]\r",
      "\r",
      "                                                                                \r"
     ]
    },
    {
     "name": "stdout",
     "output_type": "stream",
     "text": [
      "22/12/06 20:56:30 WARN DAGScheduler: Broadcasting large task binary with size 3.9 MiB\n",
      "22/12/06 20:56:30 WARN DAGScheduler: Broadcasting large task binary with size 3.9 MiB\n",
      "22/12/06 20:56:30 WARN DAGScheduler: Broadcasting large task binary with size 3.9 MiB\n"
     ]
    },
    {
     "name": "stderr",
     "output_type": "stream",
     "text": [
      "                                                                                \r"
     ]
    },
    {
     "name": "stdout",
     "output_type": "stream",
     "text": [
      "22/12/06 20:56:31 WARN DAGScheduler: Broadcasting large task binary with size 3.9 MiB\n",
      "22/12/06 20:56:32 WARN DAGScheduler: Broadcasting large task binary with size 3.9 MiB\n",
      "22/12/06 20:56:32 WARN DAGScheduler: Broadcasting large task binary with size 3.9 MiB\n",
      "22/12/06 20:56:32 WARN DAGScheduler: Broadcasting large task binary with size 3.9 MiB\n",
      "22/12/06 20:56:32 WARN DAGScheduler: Broadcasting large task binary with size 3.9 MiB\n",
      "22/12/06 20:56:32 WARN DAGScheduler: Broadcasting large task binary with size 3.9 MiB\n",
      "22/12/06 20:56:32 WARN DAGScheduler: Broadcasting large task binary with size 3.9 MiB\n",
      "22/12/06 20:56:32 WARN DAGScheduler: Broadcasting large task binary with size 3.9 MiB\n",
      "22/12/06 20:56:32 WARN DAGScheduler: Broadcasting large task binary with size 3.9 MiB\n",
      "22/12/06 20:56:32 WARN DAGScheduler: Broadcasting large task binary with size 3.9 MiB\n",
      "22/12/06 20:56:32 WARN StopWordsRemover: Default locale set was [en_RU]; however, it was not found in available locales in JVM, falling back to en_US locale. Set param `locale` in order to respect another locale.\n",
      "22/12/06 20:56:32 WARN DAGScheduler: Broadcasting large task binary with size 3.9 MiB\n",
      "22/12/06 20:56:32 WARN DAGScheduler: Broadcasting large task binary with size 3.9 MiB\n",
      "22/12/06 20:56:32 WARN DAGScheduler: Broadcasting large task binary with size 3.9 MiB\n",
      "22/12/06 20:56:32 WARN DAGScheduler: Broadcasting large task binary with size 3.9 MiB\n",
      "22/12/06 20:56:32 WARN DAGScheduler: Broadcasting large task binary with size 3.9 MiB\n",
      "22/12/06 20:56:33 WARN DAGScheduler: Broadcasting large task binary with size 3.9 MiB\n"
     ]
    },
    {
     "name": "stderr",
     "output_type": "stream",
     "text": [
      "\r",
      "[Stage 6351:==>             (1 + 7) / 8][Stage 6353:==============> (7 + 1) / 8]\r",
      "\r",
      "                                                                                \r"
     ]
    },
    {
     "name": "stdout",
     "output_type": "stream",
     "text": [
      "22/12/06 20:56:33 WARN DAGScheduler: Broadcasting large task binary with size 3.9 MiB\n",
      "22/12/06 20:56:33 WARN DAGScheduler: Broadcasting large task binary with size 3.9 MiB\n",
      "22/12/06 20:56:33 WARN DAGScheduler: Broadcasting large task binary with size 3.9 MiB\n",
      "22/12/06 20:56:33 WARN DAGScheduler: Broadcasting large task binary with size 3.9 MiB\n",
      "22/12/06 20:56:33 WARN DAGScheduler: Broadcasting large task binary with size 3.9 MiB\n",
      "22/12/06 20:56:34 WARN DAGScheduler: Broadcasting large task binary with size 3.9 MiB\n",
      "22/12/06 20:56:34 WARN DAGScheduler: Broadcasting large task binary with size 3.9 MiB\n",
      "22/12/06 20:56:34 WARN DAGScheduler: Broadcasting large task binary with size 3.9 MiB\n",
      "22/12/06 20:56:34 WARN DAGScheduler: Broadcasting large task binary with size 3.9 MiB\n",
      "22/12/06 20:56:34 WARN StopWordsRemover: Default locale set was [en_RU]; however, it was not found in available locales in JVM, falling back to en_US locale. Set param `locale` in order to respect another locale.\n",
      "22/12/06 20:56:34 WARN DAGScheduler: Broadcasting large task binary with size 5.8 MiB\n"
     ]
    },
    {
     "name": "stderr",
     "output_type": "stream",
     "text": [
      "                                                                                \r"
     ]
    },
    {
     "name": "stdout",
     "output_type": "stream",
     "text": [
      "22/12/06 20:56:35 WARN StopWordsRemover: Default locale set was [en_RU]; however, it was not found in available locales in JVM, falling back to en_US locale. Set param `locale` in order to respect another locale.\n"
     ]
    },
    {
     "name": "stderr",
     "output_type": "stream",
     "text": [
      "                                                                                \r"
     ]
    },
    {
     "name": "stdout",
     "output_type": "stream",
     "text": [
      "22/12/06 20:56:38 WARN DAGScheduler: Broadcasting large task binary with size 3.9 MiB\n"
     ]
    },
    {
     "name": "stderr",
     "output_type": "stream",
     "text": [
      "[Stage 6385:=======>                                                (1 + 7) / 8]\r"
     ]
    },
    {
     "name": "stdout",
     "output_type": "stream",
     "text": [
      "22/12/06 20:56:41 WARN DAGScheduler: Broadcasting large task binary with size 3.9 MiB\n",
      "22/12/06 20:56:41 WARN DAGScheduler: Broadcasting large task binary with size 3.9 MiB\n"
     ]
    },
    {
     "name": "stderr",
     "output_type": "stream",
     "text": [
      "[Stage 6387:=======>                                                (1 + 7) / 8]\r"
     ]
    },
    {
     "name": "stdout",
     "output_type": "stream",
     "text": [
      "22/12/06 20:56:44 WARN DAGScheduler: Broadcasting large task binary with size 3.9 MiB\n"
     ]
    },
    {
     "name": "stderr",
     "output_type": "stream",
     "text": [
      "\r",
      "                                                                                \r"
     ]
    },
    {
     "name": "stdout",
     "output_type": "stream",
     "text": [
      "22/12/06 20:56:44 WARN DAGScheduler: Broadcasting large task binary with size 3.9 MiB\n",
      "22/12/06 20:56:44 WARN DAGScheduler: Broadcasting large task binary with size 3.9 MiB\n",
      "22/12/06 20:56:44 WARN DAGScheduler: Broadcasting large task binary with size 3.9 MiB\n",
      "22/12/06 20:56:44 WARN DAGScheduler: Broadcasting large task binary with size 3.9 MiB\n",
      "22/12/06 20:56:44 WARN DAGScheduler: Broadcasting large task binary with size 3.9 MiB\n",
      "22/12/06 20:56:44 WARN DAGScheduler: Broadcasting large task binary with size 3.9 MiB\n",
      "22/12/06 20:56:45 WARN DAGScheduler: Broadcasting large task binary with size 3.9 MiB\n",
      "22/12/06 20:56:45 WARN DAGScheduler: Broadcasting large task binary with size 3.9 MiB\n",
      "22/12/06 20:56:45 WARN DAGScheduler: Broadcasting large task binary with size 3.9 MiB\n",
      "22/12/06 20:56:45 WARN DAGScheduler: Broadcasting large task binary with size 3.9 MiB\n",
      "22/12/06 20:56:46 WARN DAGScheduler: Broadcasting large task binary with size 3.9 MiB\n",
      "22/12/06 20:56:46 WARN DAGScheduler: Broadcasting large task binary with size 3.9 MiB\n",
      "22/12/06 20:56:46 WARN DAGScheduler: Broadcasting large task binary with size 3.9 MiB\n",
      "22/12/06 20:56:46 WARN DAGScheduler: Broadcasting large task binary with size 3.9 MiB\n",
      "22/12/06 20:56:46 WARN DAGScheduler: Broadcasting large task binary with size 3.9 MiB\n",
      "22/12/06 20:56:46 WARN DAGScheduler: Broadcasting large task binary with size 3.9 MiB\n",
      "22/12/06 20:56:47 WARN DAGScheduler: Broadcasting large task binary with size 3.9 MiB\n",
      "22/12/06 20:56:47 WARN DAGScheduler: Broadcasting large task binary with size 3.9 MiB\n",
      "22/12/06 20:56:47 WARN DAGScheduler: Broadcasting large task binary with size 3.9 MiB\n",
      "22/12/06 20:56:47 WARN DAGScheduler: Broadcasting large task binary with size 3.9 MiB\n",
      "22/12/06 20:56:47 WARN DAGScheduler: Broadcasting large task binary with size 3.9 MiB\n",
      "22/12/06 20:56:47 WARN DAGScheduler: Broadcasting large task binary with size 3.9 MiB\n",
      "22/12/06 20:56:48 WARN DAGScheduler: Broadcasting large task binary with size 3.9 MiB\n",
      "22/12/06 20:56:48 WARN DAGScheduler: Broadcasting large task binary with size 3.9 MiB\n",
      "22/12/06 20:56:48 WARN DAGScheduler: Broadcasting large task binary with size 3.9 MiB\n",
      "22/12/06 20:56:48 WARN DAGScheduler: Broadcasting large task binary with size 3.9 MiB\n",
      "22/12/06 20:56:49 WARN DAGScheduler: Broadcasting large task binary with size 3.9 MiB\n",
      "22/12/06 20:56:49 WARN DAGScheduler: Broadcasting large task binary with size 3.9 MiB\n",
      "22/12/06 20:56:49 WARN DAGScheduler: Broadcasting large task binary with size 3.9 MiB\n",
      "22/12/06 20:56:49 WARN DAGScheduler: Broadcasting large task binary with size 3.9 MiB\n",
      "22/12/06 20:56:49 WARN DAGScheduler: Broadcasting large task binary with size 3.9 MiB\n",
      "22/12/06 20:56:49 WARN DAGScheduler: Broadcasting large task binary with size 3.9 MiB\n",
      "22/12/06 20:56:49 WARN BlockManager: Asked to remove block broadcast_8786, which does not exist\n",
      "22/12/06 20:56:50 WARN DAGScheduler: Broadcasting large task binary with size 3.9 MiB\n",
      "22/12/06 20:56:50 WARN DAGScheduler: Broadcasting large task binary with size 3.9 MiB\n",
      "22/12/06 20:56:50 WARN DAGScheduler: Broadcasting large task binary with size 3.9 MiB\n",
      "22/12/06 20:56:50 WARN DAGScheduler: Broadcasting large task binary with size 3.9 MiB\n",
      "22/12/06 20:56:50 WARN DAGScheduler: Broadcasting large task binary with size 3.9 MiB\n",
      "22/12/06 20:56:50 WARN DAGScheduler: Broadcasting large task binary with size 3.9 MiB\n",
      "22/12/06 20:56:51 WARN DAGScheduler: Broadcasting large task binary with size 3.9 MiB\n",
      "22/12/06 20:56:51 WARN DAGScheduler: Broadcasting large task binary with size 3.9 MiB\n",
      "22/12/06 20:56:51 WARN DAGScheduler: Broadcasting large task binary with size 3.9 MiB\n",
      "22/12/06 20:56:51 WARN DAGScheduler: Broadcasting large task binary with size 3.9 MiB\n",
      "22/12/06 20:56:51 WARN DAGScheduler: Broadcasting large task binary with size 3.9 MiB\n",
      "22/12/06 20:56:52 WARN DAGScheduler: Broadcasting large task binary with size 3.9 MiB\n",
      "22/12/06 20:56:52 WARN DAGScheduler: Broadcasting large task binary with size 3.9 MiB\n",
      "22/12/06 20:56:52 WARN DAGScheduler: Broadcasting large task binary with size 3.9 MiB\n",
      "22/12/06 20:56:52 WARN DAGScheduler: Broadcasting large task binary with size 3.9 MiB\n",
      "22/12/06 20:56:52 WARN DAGScheduler: Broadcasting large task binary with size 3.9 MiB\n",
      "22/12/06 20:56:53 WARN DAGScheduler: Broadcasting large task binary with size 3.9 MiB\n",
      "22/12/06 20:56:53 WARN DAGScheduler: Broadcasting large task binary with size 3.9 MiB\n",
      "22/12/06 20:56:53 WARN DAGScheduler: Broadcasting large task binary with size 3.9 MiB\n",
      "22/12/06 20:56:53 WARN DAGScheduler: Broadcasting large task binary with size 3.9 MiB\n",
      "22/12/06 20:56:53 WARN DAGScheduler: Broadcasting large task binary with size 3.9 MiB\n",
      "22/12/06 20:56:53 WARN DAGScheduler: Broadcasting large task binary with size 3.9 MiB\n",
      "22/12/06 20:56:54 WARN DAGScheduler: Broadcasting large task binary with size 3.9 MiB\n",
      "22/12/06 20:56:54 WARN DAGScheduler: Broadcasting large task binary with size 3.9 MiB\n",
      "22/12/06 20:56:54 WARN DAGScheduler: Broadcasting large task binary with size 3.9 MiB\n",
      "22/12/06 20:56:54 WARN DAGScheduler: Broadcasting large task binary with size 3.9 MiB\n",
      "22/12/06 20:56:54 WARN DAGScheduler: Broadcasting large task binary with size 3.9 MiB\n",
      "22/12/06 20:56:55 WARN DAGScheduler: Broadcasting large task binary with size 3.9 MiB\n",
      "22/12/06 20:56:55 WARN DAGScheduler: Broadcasting large task binary with size 3.9 MiB\n",
      "22/12/06 20:56:55 WARN DAGScheduler: Broadcasting large task binary with size 3.9 MiB\n",
      "22/12/06 20:56:55 WARN DAGScheduler: Broadcasting large task binary with size 3.9 MiB\n",
      "22/12/06 20:56:55 WARN DAGScheduler: Broadcasting large task binary with size 3.9 MiB\n",
      "22/12/06 20:56:56 WARN DAGScheduler: Broadcasting large task binary with size 3.9 MiB\n",
      "22/12/06 20:56:56 WARN DAGScheduler: Broadcasting large task binary with size 3.9 MiB\n",
      "22/12/06 20:56:56 WARN DAGScheduler: Broadcasting large task binary with size 3.9 MiB\n",
      "22/12/06 20:56:56 WARN DAGScheduler: Broadcasting large task binary with size 3.9 MiB\n",
      "22/12/06 20:56:56 WARN DAGScheduler: Broadcasting large task binary with size 3.9 MiB\n",
      "22/12/06 20:56:56 WARN DAGScheduler: Broadcasting large task binary with size 3.9 MiB\n",
      "22/12/06 20:56:57 WARN DAGScheduler: Broadcasting large task binary with size 3.9 MiB\n",
      "22/12/06 20:56:57 WARN DAGScheduler: Broadcasting large task binary with size 3.9 MiB\n",
      "22/12/06 20:56:57 WARN DAGScheduler: Broadcasting large task binary with size 3.9 MiB\n",
      "22/12/06 20:56:57 WARN DAGScheduler: Broadcasting large task binary with size 3.9 MiB\n",
      "22/12/06 20:56:57 WARN DAGScheduler: Broadcasting large task binary with size 3.9 MiB\n",
      "22/12/06 20:56:57 WARN DAGScheduler: Broadcasting large task binary with size 3.9 MiB\n",
      "22/12/06 20:56:58 WARN DAGScheduler: Broadcasting large task binary with size 3.9 MiB\n",
      "22/12/06 20:56:58 WARN DAGScheduler: Broadcasting large task binary with size 3.9 MiB\n",
      "22/12/06 20:56:58 WARN DAGScheduler: Broadcasting large task binary with size 3.9 MiB\n",
      "22/12/06 20:56:58 WARN DAGScheduler: Broadcasting large task binary with size 3.9 MiB\n",
      "22/12/06 20:56:59 WARN DAGScheduler: Broadcasting large task binary with size 3.9 MiB\n",
      "22/12/06 20:56:59 WARN DAGScheduler: Broadcasting large task binary with size 3.9 MiB\n",
      "22/12/06 20:56:59 WARN DAGScheduler: Broadcasting large task binary with size 3.9 MiB\n",
      "22/12/06 20:56:59 WARN DAGScheduler: Broadcasting large task binary with size 3.9 MiB\n",
      "22/12/06 20:56:59 WARN DAGScheduler: Broadcasting large task binary with size 3.9 MiB\n",
      "22/12/06 20:56:59 WARN DAGScheduler: Broadcasting large task binary with size 3.9 MiB\n",
      "22/12/06 20:56:59 WARN DAGScheduler: Broadcasting large task binary with size 3.9 MiB\n",
      "22/12/06 20:57:00 WARN DAGScheduler: Broadcasting large task binary with size 3.9 MiB\n",
      "22/12/06 20:57:00 WARN DAGScheduler: Broadcasting large task binary with size 3.9 MiB\n",
      "22/12/06 20:57:00 WARN DAGScheduler: Broadcasting large task binary with size 3.9 MiB\n",
      "22/12/06 20:57:00 WARN DAGScheduler: Broadcasting large task binary with size 3.9 MiB\n",
      "22/12/06 20:57:00 WARN DAGScheduler: Broadcasting large task binary with size 3.9 MiB\n",
      "22/12/06 20:57:00 WARN DAGScheduler: Broadcasting large task binary with size 3.9 MiB\n",
      "22/12/06 20:57:00 WARN DAGScheduler: Broadcasting large task binary with size 3.9 MiB\n",
      "22/12/06 20:57:01 WARN DAGScheduler: Broadcasting large task binary with size 3.9 MiB\n",
      "22/12/06 20:57:01 WARN DAGScheduler: Broadcasting large task binary with size 3.9 MiB\n"
     ]
    },
    {
     "name": "stdout",
     "output_type": "stream",
     "text": [
      "22/12/06 20:57:01 WARN DAGScheduler: Broadcasting large task binary with size 3.9 MiB\n",
      "22/12/06 20:57:01 WARN DAGScheduler: Broadcasting large task binary with size 3.9 MiB\n",
      "22/12/06 20:57:02 WARN DAGScheduler: Broadcasting large task binary with size 3.9 MiB\n",
      "22/12/06 20:57:02 WARN DAGScheduler: Broadcasting large task binary with size 3.9 MiB\n",
      "22/12/06 20:57:02 WARN DAGScheduler: Broadcasting large task binary with size 3.9 MiB\n",
      "22/12/06 20:57:02 WARN DAGScheduler: Broadcasting large task binary with size 3.9 MiB\n",
      "22/12/06 20:57:02 WARN DAGScheduler: Broadcasting large task binary with size 3.9 MiB\n",
      "22/12/06 20:57:02 WARN DAGScheduler: Broadcasting large task binary with size 3.9 MiB\n",
      "22/12/06 20:57:03 WARN DAGScheduler: Broadcasting large task binary with size 3.9 MiB\n",
      "22/12/06 20:57:03 WARN DAGScheduler: Broadcasting large task binary with size 3.9 MiB\n",
      "22/12/06 20:57:03 WARN DAGScheduler: Broadcasting large task binary with size 3.9 MiB\n",
      "22/12/06 20:57:03 WARN DAGScheduler: Broadcasting large task binary with size 3.9 MiB\n",
      "22/12/06 20:57:03 WARN DAGScheduler: Broadcasting large task binary with size 3.9 MiB\n",
      "22/12/06 20:57:03 WARN DAGScheduler: Broadcasting large task binary with size 3.9 MiB\n",
      "22/12/06 20:57:03 WARN DAGScheduler: Broadcasting large task binary with size 3.9 MiB\n",
      "22/12/06 20:57:03 WARN DAGScheduler: Broadcasting large task binary with size 3.9 MiB\n",
      "22/12/06 20:57:04 WARN DAGScheduler: Broadcasting large task binary with size 3.9 MiB\n",
      "22/12/06 20:57:04 WARN DAGScheduler: Broadcasting large task binary with size 3.9 MiB\n",
      "22/12/06 20:57:04 WARN DAGScheduler: Broadcasting large task binary with size 3.9 MiB\n",
      "22/12/06 20:57:04 WARN DAGScheduler: Broadcasting large task binary with size 3.9 MiB\n",
      "22/12/06 20:57:04 WARN DAGScheduler: Broadcasting large task binary with size 3.9 MiB\n",
      "22/12/06 20:57:04 WARN DAGScheduler: Broadcasting large task binary with size 3.9 MiB\n",
      "22/12/06 20:57:05 WARN DAGScheduler: Broadcasting large task binary with size 3.9 MiB\n",
      "22/12/06 20:57:05 WARN DAGScheduler: Broadcasting large task binary with size 3.9 MiB\n",
      "22/12/06 20:57:05 WARN DAGScheduler: Broadcasting large task binary with size 3.9 MiB\n",
      "22/12/06 20:57:05 WARN DAGScheduler: Broadcasting large task binary with size 3.9 MiB\n",
      "22/12/06 20:57:05 WARN DAGScheduler: Broadcasting large task binary with size 3.9 MiB\n",
      "22/12/06 20:57:05 WARN DAGScheduler: Broadcasting large task binary with size 3.9 MiB\n",
      "22/12/06 20:57:05 WARN DAGScheduler: Broadcasting large task binary with size 3.9 MiB\n",
      "22/12/06 20:57:06 WARN DAGScheduler: Broadcasting large task binary with size 3.9 MiB\n",
      "22/12/06 20:57:06 WARN DAGScheduler: Broadcasting large task binary with size 3.9 MiB\n",
      "22/12/06 20:57:06 WARN DAGScheduler: Broadcasting large task binary with size 3.9 MiB\n",
      "22/12/06 20:57:06 WARN DAGScheduler: Broadcasting large task binary with size 3.9 MiB\n",
      "22/12/06 20:57:06 WARN DAGScheduler: Broadcasting large task binary with size 3.9 MiB\n",
      "22/12/06 20:57:07 WARN DAGScheduler: Broadcasting large task binary with size 3.9 MiB\n",
      "22/12/06 20:57:07 WARN DAGScheduler: Broadcasting large task binary with size 3.9 MiB\n",
      "22/12/06 20:57:07 WARN DAGScheduler: Broadcasting large task binary with size 3.9 MiB\n",
      "22/12/06 20:57:07 WARN DAGScheduler: Broadcasting large task binary with size 3.9 MiB\n",
      "22/12/06 20:57:07 WARN DAGScheduler: Broadcasting large task binary with size 3.9 MiB\n",
      "22/12/06 20:57:07 WARN DAGScheduler: Broadcasting large task binary with size 3.9 MiB\n",
      "22/12/06 20:57:07 WARN DAGScheduler: Broadcasting large task binary with size 3.9 MiB\n",
      "22/12/06 20:57:07 WARN DAGScheduler: Broadcasting large task binary with size 3.9 MiB\n",
      "22/12/06 20:57:08 WARN DAGScheduler: Broadcasting large task binary with size 3.9 MiB\n",
      "22/12/06 20:57:08 WARN DAGScheduler: Broadcasting large task binary with size 3.9 MiB\n",
      "22/12/06 20:57:08 WARN DAGScheduler: Broadcasting large task binary with size 3.9 MiB\n",
      "22/12/06 20:57:08 WARN DAGScheduler: Broadcasting large task binary with size 3.9 MiB\n",
      "22/12/06 20:57:08 WARN DAGScheduler: Broadcasting large task binary with size 3.9 MiB\n",
      "22/12/06 20:57:08 WARN DAGScheduler: Broadcasting large task binary with size 3.9 MiB\n",
      "22/12/06 20:57:09 WARN DAGScheduler: Broadcasting large task binary with size 3.9 MiB\n",
      "22/12/06 20:57:09 WARN DAGScheduler: Broadcasting large task binary with size 3.9 MiB\n",
      "22/12/06 20:57:09 WARN DAGScheduler: Broadcasting large task binary with size 3.9 MiB\n",
      "22/12/06 20:57:09 WARN DAGScheduler: Broadcasting large task binary with size 3.9 MiB\n",
      "22/12/06 20:57:10 WARN DAGScheduler: Broadcasting large task binary with size 3.9 MiB\n",
      "22/12/06 20:57:10 WARN DAGScheduler: Broadcasting large task binary with size 3.9 MiB\n",
      "22/12/06 20:57:10 WARN DAGScheduler: Broadcasting large task binary with size 3.9 MiB\n",
      "22/12/06 20:57:10 WARN DAGScheduler: Broadcasting large task binary with size 3.9 MiB\n",
      "22/12/06 20:57:10 WARN DAGScheduler: Broadcasting large task binary with size 3.9 MiB\n",
      "22/12/06 20:57:10 WARN DAGScheduler: Broadcasting large task binary with size 3.9 MiB\n",
      "22/12/06 20:57:11 WARN DAGScheduler: Broadcasting large task binary with size 3.9 MiB\n",
      "22/12/06 20:57:11 WARN DAGScheduler: Broadcasting large task binary with size 3.9 MiB\n",
      "22/12/06 20:57:11 WARN DAGScheduler: Broadcasting large task binary with size 3.9 MiB\n",
      "22/12/06 20:57:11 WARN DAGScheduler: Broadcasting large task binary with size 3.9 MiB\n",
      "22/12/06 20:57:12 WARN DAGScheduler: Broadcasting large task binary with size 3.9 MiB\n",
      "22/12/06 20:57:12 WARN DAGScheduler: Broadcasting large task binary with size 3.9 MiB\n",
      "22/12/06 20:57:12 WARN DAGScheduler: Broadcasting large task binary with size 3.9 MiB\n",
      "22/12/06 20:57:12 WARN DAGScheduler: Broadcasting large task binary with size 3.9 MiB\n",
      "22/12/06 20:57:12 WARN DAGScheduler: Broadcasting large task binary with size 3.9 MiB\n",
      "22/12/06 20:57:12 WARN DAGScheduler: Broadcasting large task binary with size 3.9 MiB\n",
      "CPU times: user 16.2 s, sys: 4.3 s, total: 20.5 s\n",
      "Wall time: 10min 25s\n"
     ]
    }
   ],
   "source": [
    "%%time\n",
    "\n",
    "ev_tox, pipe_tox, cvModel_tox = create_pipe(labelCol=\"toxic\")"
   ]
  },
  {
   "cell_type": "markdown",
   "id": "1e7748b2",
   "metadata": {},
   "source": [
    "Лучшая метрика (ROC-AUC):"
   ]
  },
  {
   "cell_type": "code",
   "execution_count": 31,
   "id": "fb1abbc9",
   "metadata": {},
   "outputs": [
    {
     "data": {
      "text/plain": [
       "0.9095645382544455"
      ]
     },
     "execution_count": 31,
     "metadata": {},
     "output_type": "execute_result"
    }
   ],
   "source": [
    "max(cvModel_tox.avgMetrics)"
   ]
  },
  {
   "cell_type": "code",
   "execution_count": 29,
   "id": "4d8b82ed",
   "metadata": {},
   "outputs": [
    {
     "data": {
      "text/plain": [
       "{Param(parent='LogisticRegression_098d47a4f621', name='maxIter', doc='max number of iterations (>= 0).'): 100,\n",
       " Param(parent='LogisticRegression_098d47a4f621', name='regParam', doc='regularization parameter (>= 0).'): 0.01,\n",
       " Param(parent='LogisticRegression_098d47a4f621', name='elasticNetParam', doc='the ElasticNet mixing parameter, in range [0, 1]. For alpha = 0, the penalty is an L2 penalty. For alpha = 1, it is an L1 penalty.'): 0.1,\n",
       " Param(parent='HashingTF_b785aa439b6e', name='numFeatures', doc='Number of features. Should be greater than 0.'): 250000}"
      ]
     },
     "execution_count": 29,
     "metadata": {},
     "output_type": "execute_result"
    }
   ],
   "source": [
    "cvModel_tox.getEstimatorParamMaps()[ np.argmax(cvModel_tox.avgMetrics) ]"
   ]
  },
  {
   "cell_type": "markdown",
   "id": "c523a6e4",
   "metadata": {},
   "source": [
    "# 3.2. Other targets"
   ]
  },
  {
   "cell_type": "code",
   "execution_count": 12,
   "id": "ad80f754",
   "metadata": {},
   "outputs": [],
   "source": [
    "spark.sparkContext.setLogLevel('ERROR')"
   ]
  },
  {
   "cell_type": "code",
   "execution_count": 13,
   "id": "b081aca4",
   "metadata": {},
   "outputs": [
    {
     "name": "stderr",
     "output_type": "stream",
     "text": [
      "                                                                                \r"
     ]
    },
    {
     "name": "stdout",
     "output_type": "stream",
     "text": [
      "Качество severe_toxic: 0.9302449048818756\n",
      "Лучшие параметры:\n",
      "{Param(parent='LogisticRegression_a8346dea75d5', name='maxIter', doc='max number of iterations (>= 0).'): 100, Param(parent='LogisticRegression_a8346dea75d5', name='regParam', doc='regularization parameter (>= 0).'): 0.01, Param(parent='LogisticRegression_a8346dea75d5', name='elasticNetParam', doc='the ElasticNet mixing parameter, in range [0, 1]. For alpha = 0, the penalty is an L2 penalty. For alpha = 1, it is an L1 penalty.'): 0.1, Param(parent='HashingTF_1f033b2dfd7f', name='numFeatures', doc='Number of features. Should be greater than 0.'): 100000}\n",
      "----------\n"
     ]
    },
    {
     "name": "stderr",
     "output_type": "stream",
     "text": [
      "                                                                                \r"
     ]
    },
    {
     "name": "stdout",
     "output_type": "stream",
     "text": [
      "Качество obscene: 0.9210393555069746\n",
      "Лучшие параметры:\n",
      "{Param(parent='LogisticRegression_34c559666e86', name='maxIter', doc='max number of iterations (>= 0).'): 100, Param(parent='LogisticRegression_34c559666e86', name='regParam', doc='regularization parameter (>= 0).'): 0.01, Param(parent='LogisticRegression_34c559666e86', name='elasticNetParam', doc='the ElasticNet mixing parameter, in range [0, 1]. For alpha = 0, the penalty is an L2 penalty. For alpha = 1, it is an L1 penalty.'): 0.1, Param(parent='HashingTF_ba9337a2ee03', name='numFeatures', doc='Number of features. Should be greater than 0.'): 100000}\n",
      "----------\n"
     ]
    },
    {
     "name": "stderr",
     "output_type": "stream",
     "text": [
      "                                                                                \r"
     ]
    },
    {
     "name": "stdout",
     "output_type": "stream",
     "text": [
      "Качество threat: 0.9255329092266793\n",
      "Лучшие параметры:\n",
      "{Param(parent='LogisticRegression_d82f26c927cd', name='maxIter', doc='max number of iterations (>= 0).'): 100, Param(parent='LogisticRegression_d82f26c927cd', name='regParam', doc='regularization parameter (>= 0).'): 1.0, Param(parent='LogisticRegression_d82f26c927cd', name='elasticNetParam', doc='the ElasticNet mixing parameter, in range [0, 1]. For alpha = 0, the penalty is an L2 penalty. For alpha = 1, it is an L1 penalty.'): 0.0, Param(parent='HashingTF_c54a8ce4898f', name='numFeatures', doc='Number of features. Should be greater than 0.'): 100000}\n",
      "----------\n"
     ]
    },
    {
     "name": "stderr",
     "output_type": "stream",
     "text": [
      "                                                                                \r"
     ]
    },
    {
     "name": "stdout",
     "output_type": "stream",
     "text": [
      "Качество insult: 0.9222137760698069\n",
      "Лучшие параметры:\n",
      "{Param(parent='LogisticRegression_7882cbb530a8', name='maxIter', doc='max number of iterations (>= 0).'): 100, Param(parent='LogisticRegression_7882cbb530a8', name='regParam', doc='regularization parameter (>= 0).'): 0.01, Param(parent='LogisticRegression_7882cbb530a8', name='elasticNetParam', doc='the ElasticNet mixing parameter, in range [0, 1]. For alpha = 0, the penalty is an L2 penalty. For alpha = 1, it is an L1 penalty.'): 0.1, Param(parent='HashingTF_3a8e25e77b30', name='numFeatures', doc='Number of features. Should be greater than 0.'): 100000}\n",
      "----------\n"
     ]
    },
    {
     "name": "stderr",
     "output_type": "stream",
     "text": [
      "                                                                                \r"
     ]
    },
    {
     "name": "stdout",
     "output_type": "stream",
     "text": [
      "Качество identity_hate: 0.8957673607978274\n",
      "Лучшие параметры:\n",
      "{Param(parent='LogisticRegression_0c580653454a', name='maxIter', doc='max number of iterations (>= 0).'): 100, Param(parent='LogisticRegression_0c580653454a', name='regParam', doc='regularization parameter (>= 0).'): 1.0, Param(parent='LogisticRegression_0c580653454a', name='elasticNetParam', doc='the ElasticNet mixing parameter, in range [0, 1]. For alpha = 0, the penalty is an L2 penalty. For alpha = 1, it is an L1 penalty.'): 0.0, Param(parent='HashingTF_bafec11773d3', name='numFeatures', doc='Number of features. Should be greater than 0.'): 30000}\n",
      "----------\n"
     ]
    }
   ],
   "source": [
    "label_columns = [\"severe_toxic\", \"obscene\", \"threat\", \"insult\", \"identity_hate\"]\n",
    "results = {}\n",
    "\n",
    "for labelCol in label_columns:\n",
    "    ev, pipe, cvModel = create_pipe(labelCol=labelCol)\n",
    "    results[labelCol] = cvModel\n",
    "    print(f\"Качество {labelCol}: {max(cvModel.avgMetrics)}\")\n",
    "    print(f\"Лучшие параметры:\")\n",
    "    print(cvModel.getEstimatorParamMaps()[ np.argmax(cvModel.avgMetrics) ])\n",
    "    print(\"----------\")"
   ]
  },
  {
   "cell_type": "markdown",
   "id": "5941b0bf",
   "metadata": {},
   "source": [
    "**Выводы:** one-vs-all бинарная классификация оказалась достаточно легкой задачей, качество везде почти 0.9 AUC. В HashingTF чем больше numParameters, тем лучше (больше оставляем слов)."
   ]
  },
  {
   "cell_type": "markdown",
   "id": "8d1540df",
   "metadata": {},
   "source": [
    "# 4. Word2Vec"
   ]
  },
  {
   "cell_type": "code",
   "execution_count": 13,
   "id": "afba133f",
   "metadata": {},
   "outputs": [],
   "source": [
    "def create_pipe_w2v(labelCol=\"toxic\"):\n",
    "    tokenizer = Tokenizer(inputCol=\"comment_text\", outputCol=\"tokenized\")\n",
    "    stopwords = StopWordsRemover.loadDefaultStopWords(\"english\")\n",
    "    remover = StopWordsRemover(stopWords=stopwords).setInputCol(\"tokenized\").setOutputCol(\"tok_rem\")\n",
    "    w2v = Word2Vec(inputCol=\"tok_rem\", outputCol=\"w2v\")\n",
    "    lr = LogisticRegression(featuresCol=\"w2v\", labelCol=labelCol, regParam=0.01, maxIter=100)\n",
    "    pipe = Pipeline(stages=[tokenizer, remover, w2v, lr])\n",
    "    grid = ParamGridBuilder().addGrid(w2v.windowSize, [3, 5, 7])\\\n",
    "                            .addGrid(lr.elasticNetParam, [0, 0.1])\\\n",
    "                            .addGrid(w2v.vectorSize, [50, 100])\\\n",
    "                            .build()\n",
    "    evaluator = BinaryClassificationEvaluator(labelCol=labelCol)\n",
    "    cv = CrossValidator(estimator=pipe, estimatorParamMaps=grid, evaluator=evaluator, parallelism=4)\n",
    "    cvModel = cv.fit(df_train)\n",
    "    return evaluator, pipe, cvModel"
   ]
  },
  {
   "cell_type": "markdown",
   "id": "d454781e",
   "metadata": {},
   "source": [
    "**IMPORTANT:** так как часто падало из-за memory heap overflow, то приходилось распечатывать результаты и перезапускать для оставшихся моделей."
   ]
  },
  {
   "cell_type": "code",
   "execution_count": 14,
   "id": "42aba270",
   "metadata": {},
   "outputs": [
    {
     "name": "stderr",
     "output_type": "stream",
     "text": [
      "100%|█████████████████████████████████████████████████████████████████████████████████| 1/1 [13:51<00:00, 831.19s/it]"
     ]
    },
    {
     "name": "stdout",
     "output_type": "stream",
     "text": [
      "Качество identity_hate: 0.9445430153867115\n",
      "Лучшие параметры:\n",
      "{Param(parent='Word2Vec_4515953a1fd6', name='windowSize', doc='the window size (context words from [-window, window]). Default value is 5'): 7, Param(parent='LogisticRegression_e220752812bd', name='elasticNetParam', doc='the ElasticNet mixing parameter, in range [0, 1]. For alpha = 0, the penalty is an L2 penalty. For alpha = 1, it is an L1 penalty.'): 0.1, Param(parent='Word2Vec_4515953a1fd6', name='vectorSize', doc='the dimension of codes after transforming from words'): 100}\n",
      "----------\n"
     ]
    },
    {
     "name": "stderr",
     "output_type": "stream",
     "text": [
      "\n"
     ]
    }
   ],
   "source": [
    "label_columns = [\"toxic\", \"severe_toxic\", \"obscene\", \"threat\", \"insult\", \"identity_hate\"]\n",
    "results_w2v = {}\n",
    "\n",
    "for labelCol in tqdm(label_columns[:]):\n",
    "    ev, pipe, cvModel = create_pipe_w2v(labelCol=labelCol)\n",
    "    results_w2v[labelCol] = cvModel\n",
    "    print(f\"Качество {labelCol}: {max(cvModel.avgMetrics)}\")\n",
    "    print(f\"Лучшие параметры:\")\n",
    "    print(cvModel.getEstimatorParamMaps()[ np.argmax(cvModel.avgMetrics) ])\n",
    "    print(\"----------\")"
   ]
  },
  {
   "cell_type": "code",
   "execution_count": 19,
   "id": "a1e0f0ae",
   "metadata": {},
   "outputs": [
    {
     "name": "stdout",
     "output_type": "stream",
     "text": [
      "Качество severe_toxic: 0.9763800151854604\n",
      "Лучшие параметры:\n",
      "{Param(parent='Word2Vec_b54812016af2', name='windowSize', doc='the window size (context words from [-window, window]). Default value is 5'): 7, Param(parent='LogisticRegression_b7ef6b6c3ae0', name='elasticNetParam', doc='the ElasticNet mixing parameter, in range [0, 1]. For alpha = 0, the penalty is an L2 penalty. For alpha = 1, it is an L1 penalty.'): 0.1, Param(parent='Word2Vec_b54812016af2', name='vectorSize', doc='the dimension of codes after transforming from words'): 100}\n",
      "----------\n"
     ]
    }
   ],
   "source": [
    "for labelCol, cvModel in results_w2v.items():\n",
    "    cvModel = results_w2v[labelCol]\n",
    "    print(f\"Качество {labelCol}: {max(cvModel.avgMetrics)}\")\n",
    "    print(f\"Лучшие параметры:\")\n",
    "    print(cvModel.getEstimatorParamMaps()[ np.argmax(cvModel.avgMetrics) ])\n",
    "    print(\"----------\")"
   ]
  },
  {
   "cell_type": "code",
   "execution_count": 15,
   "id": "422b0bbf",
   "metadata": {},
   "outputs": [
    {
     "name": "stdout",
     "output_type": "stream",
     "text": [
      "Качество obscene: 0.9567709461331929\n",
      "Лучшие параметры:\n",
      "{Param(parent='Word2Vec_12e3b7ea6682', name='windowSize', doc='the window size (context words from [-window, window]). Default value is 5'): 7, Param(parent='LogisticRegression_ef6c6dd7061f', name='elasticNetParam', doc='the ElasticNet mixing parameter, in range [0, 1]. For alpha = 0, the penalty is an L2 penalty. For alpha = 1, it is an L1 penalty.'): 0.0, Param(parent='Word2Vec_12e3b7ea6682', name='vectorSize', doc='the dimension of codes after transforming from words'): 100}\n",
      "----------\n",
      "Качество threat: 0.9485366784161625\n",
      "Лучшие параметры:\n",
      "{Param(parent='Word2Vec_d380a2c66d4c', name='windowSize', doc='the window size (context words from [-window, window]). Default value is 5'): 7, Param(parent='LogisticRegression_090ce9813e78', name='elasticNetParam', doc='the ElasticNet mixing parameter, in range [0, 1]. For alpha = 0, the penalty is an L2 penalty. For alpha = 1, it is an L1 penalty.'): 0.0, Param(parent='Word2Vec_d380a2c66d4c', name='vectorSize', doc='the dimension of codes after transforming from words'): 100}\n",
      "----------\n",
      "Качество insult: 0.946104721944112\n",
      "Лучшие параметры:\n",
      "{Param(parent='Word2Vec_4a492014122d', name='windowSize', doc='the window size (context words from [-window, window]). Default value is 5'): 7, Param(parent='LogisticRegression_b046a8b695fd', name='elasticNetParam', doc='the ElasticNet mixing parameter, in range [0, 1]. For alpha = 0, the penalty is an L2 penalty. For alpha = 1, it is an L1 penalty.'): 0.1, Param(parent='Word2Vec_4a492014122d', name='vectorSize', doc='the dimension of codes after transforming from words'): 100}\n",
      "----------\n"
     ]
    }
   ],
   "source": [
    "for labelCol, cvModel in results_w2v.items():\n",
    "    cvModel = results_w2v[labelCol]\n",
    "    print(f\"Качество {labelCol}: {max(cvModel.avgMetrics)}\")\n",
    "    print(f\"Лучшие параметры:\")\n",
    "    print(cvModel.getEstimatorParamMaps()[ np.argmax(cvModel.avgMetrics) ])\n",
    "    print(\"----------\")"
   ]
  },
  {
   "cell_type": "markdown",
   "id": "5f4ea3fd",
   "metadata": {},
   "source": [
    "**Вывод:** кажется, что результаты еще выросли ~3-5% в зависимости от случая. В целом оказалось, что окно лучше брать достаточно большое (5), размер вектора - побольше (с 300 пробовал, но тоже по памяти плохо было при CV)."
   ]
  }
 ],
 "metadata": {
  "kernelspec": {
   "display_name": "Python 3 (ipykernel)",
   "language": "python",
   "name": "python3"
  },
  "language_info": {
   "codemirror_mode": {
    "name": "ipython",
    "version": 3
   },
   "file_extension": ".py",
   "mimetype": "text/x-python",
   "name": "python",
   "nbconvert_exporter": "python",
   "pygments_lexer": "ipython3",
   "version": "3.8.12"
  }
 },
 "nbformat": 4,
 "nbformat_minor": 5
}
